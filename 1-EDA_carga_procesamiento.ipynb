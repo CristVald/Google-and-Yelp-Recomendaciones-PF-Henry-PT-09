{
 "cells": [
  {
   "cell_type": "markdown",
   "metadata": {},
   "source": [
    "# **Introducción al Análisis Exploratorio de Datos (EDA) del Proyecto \"China Garden\"**\n",
    "\n",
    "En un entorno competitivo y dinámico como el mercado de restaurantes en Estados Unidos, el análisis de datos se ha convertido en una herramienta esencial para entender la posición de una marca, anticipar tendencias y tomar decisiones estratégicas fundamentadas. En este proyecto, nuestro objetivo es realizar un análisis exploratorio de datos (EDA) para una reconocida cadena de restaurantes chinos, **China Garden**, con el fin de apoyar su estrategia de expansión en la costa este del país.\n",
    "\n",
    "El EDA proporcionará una base sólida para identificar oportunidades de crecimiento y optimización operativa, analizando tanto datos de desempeño actual como información sobre la competencia. Este análisis también permitirá evaluar factores clave como la satisfacción del cliente, la presencia de mercado, y las ubicaciones óptimas para nuevos restaurantes. \n",
    "\n",
    "#### **Objetivos del Análisis Exploratorio de Datos**\n",
    "\n",
    "Para lograr los objetivos generales del proyecto, nuestro EDA se centrará en los siguientes puntos:\n",
    "\n",
    "1. **Revisión de Tipos de Datos y Descripción de Datasets:**\n",
    "   - Examinar los tipos de datos por columna en cada dataset disponible para asegurar su adecuación al análisis posterior. Se incluirá una descripción detallada de cada dataset, abordando su propósito y relevancia en el contexto del proyecto.\n",
    "\n",
    "2. **Justificación de la Eliminación de Columnas:**\n",
    "   - Analizar y explicar la eliminación de columnas que no aportan valor al análisis o que presentan datos inconsistentes. Esta etapa es fundamental para mejorar la eficiencia del procesamiento de datos y mantener la integridad del análisis.\n",
    "\n",
    "3. **Identificación y Manejo de Valores Nulos:**\n",
    "   - Detectar los valores nulos en los datasets y proponer estrategias adecuadas de manejo, como la imputación de valores basados en la media, mediana o la eliminación de registros, dependiendo de la relevancia y el impacto de los datos faltantes.\n",
    "\n",
    "4. **Detección y Tratamiento de Registros Duplicados:**\n",
    "   - Identificar registros duplicados que puedan sesgar el análisis. Proponer métodos para su tratamiento, como la eliminación de duplicados exactos o el análisis de duplicados parciales para decidir la mejor acción.\n",
    "\n",
    "5. **Análisis Gráfico y Visualización de Datos:**\n",
    "   - Utilizar herramientas como **Matplotlib** y **Seaborn** para realizar análisis gráficos que permitan entender el comportamiento de los datos. Este enfoque incluirá, pero no se limitará a:\n",
    "     - Visualización de la distribución de restaurantes y hoteles en la costa este.\n",
    "     - Cálculo del porcentaje de mercado capturado por los restaurantes de comida china en comparación con otros tipos de restaurantes.\n",
    "     - Identificación de los 10 principales restaurantes de comida china en términos de cantidad, promedio de calificaciones y presencia de mercado.\n",
    "     - Análisis geográfico para entender la ubicación de los restaurantes de \"China Garden\" y su competencia directa.\n",
    "     - Análisis de las zonas con mayor concentración de hoteles para identificar las áreas de mayor interés turístico.\n",
    "     - Cualquier otro análisis pertinente que pueda ofrecer insights sobre el comportamiento del mercado y las oportunidades de expansión.\n",
    "\n",
    "6. **Exportacion a Parquet**\n",
    "\n",
    "Este EDA servirá como el cimiento sobre el cual se basarán todos los análisis futuros, ayudando a identificar patrones y tendencias que orientarán las decisiones estratégicas de \"China Garden\". A través de un enfoque minucioso y detallado, buscaremos proporcionar un conocimiento profundo y detallado del mercado, permitiendo a la marca mejorar su posicionamiento y maximizar su potencial de crecimiento en la costa este de Estados Unidos.\n",
    "\n",
    "### **Empecemos**"
   ]
  },
  {
   "cell_type": "markdown",
   "metadata": {},
   "source": [
    "## **1. Carga de datos Google maps**"
   ]
  },
  {
   "cell_type": "markdown",
   "metadata": {},
   "source": [
    "**Descripción de los Datos de Google Maps**\n",
    "\n",
    "Para este proyecto, se han recopilado datos provenientes de Google Maps, una de las plataformas más utilizadas por los consumidores para compartir opiniones sobre sus experiencias en restaurantes. Estos datos se encuentran organizados en dos carpetas principales, cada una con una estructura específica que facilita el análisis detallado de la información.\n",
    "\n",
    "**1. Carpeta: Metadata Sitios**\n",
    "\n",
    "La carpeta Metadata Sitios contiene información relevante sobre los establecimientos de interés, en este caso, los restaurantes de comida china en la costa este de Estados Unidos. Esta carpeta incluye un total de 11 archivos JSON que deberán ser unificados en un solo archivo consolidado para facilitar su análisis. Cada archivo JSON en esta carpeta proporciona datos específicos sobre las características de los restaurantes, como su nombre, ubicación geográfica, tipo de cocina, horarios de atención, y otros detalles relevantes que permiten identificar y comparar a cada establecimiento dentro del mercado.\n",
    "\n",
    "**2. Carpeta: Review-Estados**\n",
    "\n",
    "La carpeta Review-Estados contiene una colección organizada de reseñas de clientes, separadas por estado, en formato JSON. Dentro de esta carpeta, cada subcarpeta representa un estado de la costa este de Estados Unidos, y a su vez, cada subcarpeta contiene múltiples archivos JSON que recogen las opiniones y calificaciones de los usuarios sobre los restaurantes. Estos archivos de reseñas capturan datos cruciales como la fecha de la reseña, la calificación otorgada, los comentarios detallados de los clientes, y otros atributos relevantes como el número de \"me gusta\" que ha recibido cada reseña."
   ]
  },
  {
   "cell_type": "markdown",
   "metadata": {},
   "source": [
    "**BIBLIOTECAS UTILIZADAS**"
   ]
  },
  {
   "cell_type": "code",
   "execution_count": 2,
   "metadata": {},
   "outputs": [],
   "source": [
    "import pandas as pd\n",
    "import re\n",
    "import glob\n",
    "import os\n",
    "import pyarrow as pa\n",
    "import pyarrow.parquet as pq\n",
    "import json\n",
    "import matplotlib.pyplot as plt\n",
    "import seaborn as sns\n",
    "import numpy as np\n",
    "from collections import Counter\n",
    "import nltk\n",
    "from nltk.corpus import stopwords"
   ]
  },
  {
   "cell_type": "markdown",
   "metadata": {},
   "source": [
    "### **1.1 Metadata-Sitios**\n",
    "\n",
    "Se cargan los archivos .json y se concatenan en un mismo Dataframe"
   ]
  },
  {
   "cell_type": "code",
   "execution_count": 2,
   "metadata": {},
   "outputs": [
    {
     "name": "stdout",
     "output_type": "stream",
     "text": [
      "Tamaño del DataFrame Metadata-Sitios combinado: (3025011, 15)\n"
     ]
    }
   ],
   "source": [
    "# Ruta del directorio que contiene los archivos JSON\n",
    "ruta_directorio = './Datasets/Google/metadata-sitios/'\n",
    "\n",
    "# Usamos glob para encontrar todos los archivos .json en el directorio\n",
    "archivos_json = glob.glob(os.path.join(ruta_directorio, '*.json'))\n",
    "\n",
    "# Lista para almacenar los DataFrames de cada archivo\n",
    "dfs = []\n",
    "\n",
    "# Iteramos sobre cada archivo JSON encontrado\n",
    "for archivo in archivos_json:\n",
    "    # Cargamos el archivo JSON en un DataFrame\n",
    "    df_temp = pd.read_json(archivo, lines=True)\n",
    "    \n",
    "    # Agregamos el DataFrame a la lista\n",
    "    dfs.append(df_temp)\n",
    "\n",
    "# Combinamos todos los DataFrames en uno solo\n",
    "df_final = pd.concat(dfs, ignore_index=True)\n",
    "\n",
    "# Mostramos el tamaño del DataFrame combinado\n",
    "print(f\"Tamaño del DataFrame Metadata-Sitios combinado: {df_final.shape}\")"
   ]
  },
  {
   "cell_type": "markdown",
   "metadata": {},
   "source": [
    "#### **Eliminar columnas**"
   ]
  },
  {
   "cell_type": "markdown",
   "metadata": {},
   "source": [
    "Debido a que estos tipos de datos no son necesarios para nuestro análisis, se eliminarán las siguientes columnas: 'description', 'MISC', 'state', 'relative_results', 'url'."
   ]
  },
  {
   "cell_type": "code",
   "execution_count": 3,
   "metadata": {},
   "outputs": [],
   "source": [
    "# Eliminamos las columnas especificadas del DataFrame\n",
    "columnas_a_eliminar = ['description', 'MISC', 'state', 'relative_results', 'url']\n",
    "df_final = df_final.drop(columns=columnas_a_eliminar)"
   ]
  },
  {
   "cell_type": "code",
   "execution_count": 4,
   "metadata": {},
   "outputs": [
    {
     "data": {
      "text/html": [
       "<div>\n",
       "<style scoped>\n",
       "    .dataframe tbody tr th:only-of-type {\n",
       "        vertical-align: middle;\n",
       "    }\n",
       "\n",
       "    .dataframe tbody tr th {\n",
       "        vertical-align: top;\n",
       "    }\n",
       "\n",
       "    .dataframe thead th {\n",
       "        text-align: right;\n",
       "    }\n",
       "</style>\n",
       "<table border=\"1\" class=\"dataframe\">\n",
       "  <thead>\n",
       "    <tr style=\"text-align: right;\">\n",
       "      <th></th>\n",
       "      <th>name</th>\n",
       "      <th>address</th>\n",
       "      <th>gmap_id</th>\n",
       "      <th>latitude</th>\n",
       "      <th>longitude</th>\n",
       "      <th>category</th>\n",
       "      <th>avg_rating</th>\n",
       "      <th>num_of_reviews</th>\n",
       "      <th>price</th>\n",
       "      <th>hours</th>\n",
       "    </tr>\n",
       "  </thead>\n",
       "  <tbody>\n",
       "    <tr>\n",
       "      <th>0</th>\n",
       "      <td>Porter Pharmacy</td>\n",
       "      <td>Porter Pharmacy, 129 N Second St, Cochran, GA ...</td>\n",
       "      <td>0x88f16e41928ff687:0x883dad4fd048e8f8</td>\n",
       "      <td>32.388300</td>\n",
       "      <td>-83.35710</td>\n",
       "      <td>[Pharmacy]</td>\n",
       "      <td>4.9</td>\n",
       "      <td>16</td>\n",
       "      <td>None</td>\n",
       "      <td>[[Friday, 8AM–6PM], [Saturday, 8AM–12PM], [Sun...</td>\n",
       "    </tr>\n",
       "    <tr>\n",
       "      <th>1</th>\n",
       "      <td>City Textile</td>\n",
       "      <td>City Textile, 3001 E Pico Blvd, Los Angeles, C...</td>\n",
       "      <td>0x80c2c98c0e3c16fd:0x29ec8a728764fdf9</td>\n",
       "      <td>34.018891</td>\n",
       "      <td>-118.21529</td>\n",
       "      <td>[Textile exporter]</td>\n",
       "      <td>4.5</td>\n",
       "      <td>6</td>\n",
       "      <td>None</td>\n",
       "      <td>None</td>\n",
       "    </tr>\n",
       "    <tr>\n",
       "      <th>2</th>\n",
       "      <td>San Soo Dang</td>\n",
       "      <td>San Soo Dang, 761 S Vermont Ave, Los Angeles, ...</td>\n",
       "      <td>0x80c2c778e3b73d33:0xbdc58662a4a97d49</td>\n",
       "      <td>34.058092</td>\n",
       "      <td>-118.29213</td>\n",
       "      <td>[Korean restaurant]</td>\n",
       "      <td>4.4</td>\n",
       "      <td>18</td>\n",
       "      <td>None</td>\n",
       "      <td>[[Thursday, 6:30AM–6PM], [Friday, 6:30AM–6PM],...</td>\n",
       "    </tr>\n",
       "  </tbody>\n",
       "</table>\n",
       "</div>"
      ],
      "text/plain": [
       "              name                                            address  \\\n",
       "0  Porter Pharmacy  Porter Pharmacy, 129 N Second St, Cochran, GA ...   \n",
       "1     City Textile  City Textile, 3001 E Pico Blvd, Los Angeles, C...   \n",
       "2     San Soo Dang  San Soo Dang, 761 S Vermont Ave, Los Angeles, ...   \n",
       "\n",
       "                                 gmap_id   latitude  longitude  \\\n",
       "0  0x88f16e41928ff687:0x883dad4fd048e8f8  32.388300  -83.35710   \n",
       "1  0x80c2c98c0e3c16fd:0x29ec8a728764fdf9  34.018891 -118.21529   \n",
       "2  0x80c2c778e3b73d33:0xbdc58662a4a97d49  34.058092 -118.29213   \n",
       "\n",
       "              category  avg_rating  num_of_reviews price  \\\n",
       "0           [Pharmacy]         4.9              16  None   \n",
       "1   [Textile exporter]         4.5               6  None   \n",
       "2  [Korean restaurant]         4.4              18  None   \n",
       "\n",
       "                                               hours  \n",
       "0  [[Friday, 8AM–6PM], [Saturday, 8AM–12PM], [Sun...  \n",
       "1                                               None  \n",
       "2  [[Thursday, 6:30AM–6PM], [Friday, 6:30AM–6PM],...  "
      ]
     },
     "execution_count": 4,
     "metadata": {},
     "output_type": "execute_result"
    }
   ],
   "source": [
    "# Verificamos el resultado mostrando las primeras filas\n",
    "df_final.head(3)"
   ]
  },
  {
   "cell_type": "markdown",
   "metadata": {},
   "source": [
    "De acuerdo a la dirección en la columna \"address\", se crea la Columna \"estado\", que nos da el estado del local comercial. Se hace porque nuestro dataset contiene todos los comercios del país, y el análisis será solo sobre la costa Este del mismo. "
   ]
  },
  {
   "cell_type": "code",
   "execution_count": 5,
   "metadata": {},
   "outputs": [
    {
     "data": {
      "text/html": [
       "<div>\n",
       "<style scoped>\n",
       "    .dataframe tbody tr th:only-of-type {\n",
       "        vertical-align: middle;\n",
       "    }\n",
       "\n",
       "    .dataframe tbody tr th {\n",
       "        vertical-align: top;\n",
       "    }\n",
       "\n",
       "    .dataframe thead th {\n",
       "        text-align: right;\n",
       "    }\n",
       "</style>\n",
       "<table border=\"1\" class=\"dataframe\">\n",
       "  <thead>\n",
       "    <tr style=\"text-align: right;\">\n",
       "      <th></th>\n",
       "      <th>address</th>\n",
       "      <th>estado</th>\n",
       "    </tr>\n",
       "  </thead>\n",
       "  <tbody>\n",
       "    <tr>\n",
       "      <th>0</th>\n",
       "      <td>Porter Pharmacy, 129 N Second St, Cochran, GA ...</td>\n",
       "      <td>GA</td>\n",
       "    </tr>\n",
       "    <tr>\n",
       "      <th>1</th>\n",
       "      <td>City Textile, 3001 E Pico Blvd, Los Angeles, C...</td>\n",
       "      <td>CA</td>\n",
       "    </tr>\n",
       "    <tr>\n",
       "      <th>2</th>\n",
       "      <td>San Soo Dang, 761 S Vermont Ave, Los Angeles, ...</td>\n",
       "      <td>CA</td>\n",
       "    </tr>\n",
       "    <tr>\n",
       "      <th>3</th>\n",
       "      <td>Nova Fabrics, 2200 E 11th St, Los Angeles, CA ...</td>\n",
       "      <td>CA</td>\n",
       "    </tr>\n",
       "    <tr>\n",
       "      <th>4</th>\n",
       "      <td>Nobel Textile Co, 719 E 9th St, Los Angeles, C...</td>\n",
       "      <td>CA</td>\n",
       "    </tr>\n",
       "  </tbody>\n",
       "</table>\n",
       "</div>"
      ],
      "text/plain": [
       "                                             address estado\n",
       "0  Porter Pharmacy, 129 N Second St, Cochran, GA ...     GA\n",
       "1  City Textile, 3001 E Pico Blvd, Los Angeles, C...     CA\n",
       "2  San Soo Dang, 761 S Vermont Ave, Los Angeles, ...     CA\n",
       "3  Nova Fabrics, 2200 E 11th St, Los Angeles, CA ...     CA\n",
       "4  Nobel Textile Co, 719 E 9th St, Los Angeles, C...     CA"
      ]
     },
     "execution_count": 5,
     "metadata": {},
     "output_type": "execute_result"
    }
   ],
   "source": [
    "\n",
    "# Usamos una expresión regular para extraer el estado (dos letras antes del código postal)\n",
    "df_final['estado'] = df_final['address'].str.extract(r',\\s*([A-Z]{2})\\s*\\d{5}')\n",
    "\n",
    "# Verificamos que la nueva columna 'estado' se ha creado correctamente\n",
    "df_final[['address', 'estado']].head()"
   ]
  },
  {
   "cell_type": "markdown",
   "metadata": {},
   "source": [
    "Se eliminan las filas de los comercios que no están en la costa este del país."
   ]
  },
  {
   "cell_type": "code",
   "execution_count": 6,
   "metadata": {},
   "outputs": [],
   "source": [
    "# Lista de los estados que queremos conservar de la costa este\n",
    "estados_deseados = [\n",
    "    'ME',  # Maine\n",
    "    'NH',  # New Hampshire\n",
    "    'MA',  # Massachusetts\n",
    "    'RI',  # Rhode Island\n",
    "    'CT',  # Connecticut\n",
    "    'NY',  # New York\n",
    "    'NJ',  # New Jersey\n",
    "    'DE',  # Delaware\n",
    "    'MD',  # Maryland\n",
    "    'VA',  # Virginia\n",
    "    'NC',  # North Carolina\n",
    "    'SC',  # South Carolina\n",
    "    'GA',  # Georgia\n",
    "    'FL'   # Florida\n",
    "]"
   ]
  },
  {
   "cell_type": "code",
   "execution_count": 7,
   "metadata": {},
   "outputs": [
    {
     "name": "stdout",
     "output_type": "stream",
     "text": [
      "                                              address estado\n",
      "0   Porter Pharmacy, 129 N Second St, Cochran, GA ...     GA\n",
      "14  NTK OUTDOOR, 2315 NW 107th Ave #1B18, Miami, F...     FL\n",
      "45  Cruises Inc. - Connie Stewart, 6602 52nd Ln, P...     FL\n",
      "56  Seminole Family Restaurant, 6864 Seminole Blvd...     FL\n",
      "58  A-Top Insurance, 1009 Brighton Beach Ave, Broo...     NY\n",
      "Tamaño del DataFrame después del filtrado: (946582, 11)\n"
     ]
    }
   ],
   "source": [
    "\n",
    "# Filtramos el DataFrame para que solo queden las filas con los estados deseados\n",
    "df_metadata_ce = df_final[df_final['estado'].isin(estados_deseados)]\n",
    "\n",
    "# Verificamos que el filtrado se haya realizado correctamente\n",
    "print(df_metadata_ce[['address', 'estado']].head())\n",
    "print(f\"Tamaño del DataFrame después del filtrado: {df_metadata_ce.shape}\")"
   ]
  },
  {
   "cell_type": "code",
   "execution_count": 8,
   "metadata": {},
   "outputs": [
    {
     "data": {
      "text/html": [
       "<div>\n",
       "<style scoped>\n",
       "    .dataframe tbody tr th:only-of-type {\n",
       "        vertical-align: middle;\n",
       "    }\n",
       "\n",
       "    .dataframe tbody tr th {\n",
       "        vertical-align: top;\n",
       "    }\n",
       "\n",
       "    .dataframe thead th {\n",
       "        text-align: right;\n",
       "    }\n",
       "</style>\n",
       "<table border=\"1\" class=\"dataframe\">\n",
       "  <thead>\n",
       "    <tr style=\"text-align: right;\">\n",
       "      <th></th>\n",
       "      <th>name</th>\n",
       "      <th>address</th>\n",
       "      <th>gmap_id</th>\n",
       "      <th>latitude</th>\n",
       "      <th>longitude</th>\n",
       "      <th>category</th>\n",
       "      <th>avg_rating</th>\n",
       "      <th>num_of_reviews</th>\n",
       "      <th>price</th>\n",
       "      <th>hours</th>\n",
       "      <th>estado</th>\n",
       "    </tr>\n",
       "  </thead>\n",
       "  <tbody>\n",
       "    <tr>\n",
       "      <th>0</th>\n",
       "      <td>Porter Pharmacy</td>\n",
       "      <td>Porter Pharmacy, 129 N Second St, Cochran, GA ...</td>\n",
       "      <td>0x88f16e41928ff687:0x883dad4fd048e8f8</td>\n",
       "      <td>32.388300</td>\n",
       "      <td>-83.357100</td>\n",
       "      <td>[Pharmacy]</td>\n",
       "      <td>4.9</td>\n",
       "      <td>16</td>\n",
       "      <td>None</td>\n",
       "      <td>[[Friday, 8AM–6PM], [Saturday, 8AM–12PM], [Sun...</td>\n",
       "      <td>GA</td>\n",
       "    </tr>\n",
       "    <tr>\n",
       "      <th>14</th>\n",
       "      <td>NTK OUTDOOR</td>\n",
       "      <td>NTK OUTDOOR, 2315 NW 107th Ave #1B18, Miami, F...</td>\n",
       "      <td>0x88d9beb4fe0532c1:0xef0555c169299d6</td>\n",
       "      <td>25.795204</td>\n",
       "      <td>-80.366038</td>\n",
       "      <td>[Corporate office]</td>\n",
       "      <td>5.0</td>\n",
       "      <td>35</td>\n",
       "      <td>None</td>\n",
       "      <td>[[Thursday, 9AM–6PM], [Friday, 9AM–6PM], [Satu...</td>\n",
       "      <td>FL</td>\n",
       "    </tr>\n",
       "    <tr>\n",
       "      <th>45</th>\n",
       "      <td>Cruises Inc. - Connie Stewart</td>\n",
       "      <td>Cruises Inc. - Connie Stewart, 6602 52nd Ln, P...</td>\n",
       "      <td>0x88c2e49b79f06c31:0x4ed8c8ce27e926e0</td>\n",
       "      <td>27.832187</td>\n",
       "      <td>-82.704805</td>\n",
       "      <td>[Cruise agency]</td>\n",
       "      <td>5.0</td>\n",
       "      <td>2</td>\n",
       "      <td>None</td>\n",
       "      <td>[[Thursday, 9AM–5PM], [Friday, 9AM–5PM], [Satu...</td>\n",
       "      <td>FL</td>\n",
       "    </tr>\n",
       "  </tbody>\n",
       "</table>\n",
       "</div>"
      ],
      "text/plain": [
       "                             name  \\\n",
       "0                 Porter Pharmacy   \n",
       "14                    NTK OUTDOOR   \n",
       "45  Cruises Inc. - Connie Stewart   \n",
       "\n",
       "                                              address  \\\n",
       "0   Porter Pharmacy, 129 N Second St, Cochran, GA ...   \n",
       "14  NTK OUTDOOR, 2315 NW 107th Ave #1B18, Miami, F...   \n",
       "45  Cruises Inc. - Connie Stewart, 6602 52nd Ln, P...   \n",
       "\n",
       "                                  gmap_id   latitude  longitude  \\\n",
       "0   0x88f16e41928ff687:0x883dad4fd048e8f8  32.388300 -83.357100   \n",
       "14   0x88d9beb4fe0532c1:0xef0555c169299d6  25.795204 -80.366038   \n",
       "45  0x88c2e49b79f06c31:0x4ed8c8ce27e926e0  27.832187 -82.704805   \n",
       "\n",
       "              category  avg_rating  num_of_reviews price  \\\n",
       "0           [Pharmacy]         4.9              16  None   \n",
       "14  [Corporate office]         5.0              35  None   \n",
       "45     [Cruise agency]         5.0               2  None   \n",
       "\n",
       "                                                hours estado  \n",
       "0   [[Friday, 8AM–6PM], [Saturday, 8AM–12PM], [Sun...     GA  \n",
       "14  [[Thursday, 9AM–6PM], [Friday, 9AM–6PM], [Satu...     FL  \n",
       "45  [[Thursday, 9AM–5PM], [Friday, 9AM–5PM], [Satu...     FL  "
      ]
     },
     "execution_count": 8,
     "metadata": {},
     "output_type": "execute_result"
    }
   ],
   "source": [
    "df_metadata_ce.head(3)"
   ]
  },
  {
   "cell_type": "markdown",
   "metadata": {},
   "source": [
    "Se agrega una nueva columna con el nombre completo del estado"
   ]
  },
  {
   "cell_type": "code",
   "execution_count": 9,
   "metadata": {},
   "outputs": [
    {
     "name": "stdout",
     "output_type": "stream",
     "text": [
      "   estado nombre_estado\n",
      "0      GA       Georgia\n",
      "14     FL       Florida\n",
      "45     FL       Florida\n",
      "56     FL       Florida\n",
      "58     NY      New York\n"
     ]
    },
    {
     "name": "stderr",
     "output_type": "stream",
     "text": [
      "C:\\Users\\54370\\AppData\\Local\\Temp\\ipykernel_10024\\2111716646.py:20: SettingWithCopyWarning: \n",
      "A value is trying to be set on a copy of a slice from a DataFrame.\n",
      "Try using .loc[row_indexer,col_indexer] = value instead\n",
      "\n",
      "See the caveats in the documentation: https://pandas.pydata.org/pandas-docs/stable/user_guide/indexing.html#returning-a-view-versus-a-copy\n",
      "  df_metadata_ce['nombre_estado'] = df_metadata_ce['estado'].map(mapa_estados)\n"
     ]
    }
   ],
   "source": [
    "# Diccionario de mapeo de abreviaturas a nombres completos de estados\n",
    "mapa_estados = {\n",
    "    'ME': 'Maine',\n",
    "    'NH': 'New Hampshire',\n",
    "    'MA': 'Massachusetts',\n",
    "    'RI': 'Rhode Island',\n",
    "    'CT': 'Connecticut',\n",
    "    'NY': 'New York',\n",
    "    'NJ': 'New Jersey',\n",
    "    'DE': 'Delaware',\n",
    "    'MD': 'Maryland',\n",
    "    'VA': 'Virginia',\n",
    "    'NC': 'North Carolina',\n",
    "    'SC': 'South Carolina',\n",
    "    'GA': 'Georgia',\n",
    "    'FL': 'Florida'\n",
    "}\n",
    "\n",
    "# Creamos la nueva columna 'nombre_estado' usando el mapeo\n",
    "df_metadata_ce['nombre_estado'] = df_metadata_ce['estado'].map(mapa_estados)\n",
    "\n",
    "# Verificamos que la nueva columna se haya creado correctamente\n",
    "print(df_metadata_ce[['estado', 'nombre_estado']].head())\n"
   ]
  },
  {
   "cell_type": "code",
   "execution_count": 10,
   "metadata": {},
   "outputs": [
    {
     "name": "stdout",
     "output_type": "stream",
     "text": [
      "Tamaño del DataFrame combinado: (946582, 12)\n"
     ]
    }
   ],
   "source": [
    "# Mostramos el tamaño del DataFrame combinado\n",
    "print(f\"Tamaño del DataFrame combinado: {df_metadata_ce.shape}\")"
   ]
  },
  {
   "cell_type": "markdown",
   "metadata": {},
   "source": [
    "Se exporta el dataframe a parquet para que su tamaño sea menor y su  velocidad de procesamiento sea mayor. "
   ]
  },
  {
   "cell_type": "code",
   "execution_count": 11,
   "metadata": {},
   "outputs": [],
   "source": [
    "# Guardamos el DataFrame con la nueva columna en un archivo Parquet\n",
    "df_metadata_ce.to_parquet('Datasets/Google/metadata-sitios/metadata-sitios-costaeste.parquet')\n"
   ]
  },
  {
   "cell_type": "code",
   "execution_count": 12,
   "metadata": {},
   "outputs": [
    {
     "data": {
      "text/html": [
       "<div>\n",
       "<style scoped>\n",
       "    .dataframe tbody tr th:only-of-type {\n",
       "        vertical-align: middle;\n",
       "    }\n",
       "\n",
       "    .dataframe tbody tr th {\n",
       "        vertical-align: top;\n",
       "    }\n",
       "\n",
       "    .dataframe thead th {\n",
       "        text-align: right;\n",
       "    }\n",
       "</style>\n",
       "<table border=\"1\" class=\"dataframe\">\n",
       "  <thead>\n",
       "    <tr style=\"text-align: right;\">\n",
       "      <th></th>\n",
       "      <th>name</th>\n",
       "      <th>address</th>\n",
       "      <th>gmap_id</th>\n",
       "      <th>latitude</th>\n",
       "      <th>longitude</th>\n",
       "      <th>category</th>\n",
       "      <th>avg_rating</th>\n",
       "      <th>num_of_reviews</th>\n",
       "      <th>price</th>\n",
       "      <th>hours</th>\n",
       "      <th>estado</th>\n",
       "      <th>nombre_estado</th>\n",
       "    </tr>\n",
       "  </thead>\n",
       "  <tbody>\n",
       "    <tr>\n",
       "      <th>0</th>\n",
       "      <td>Porter Pharmacy</td>\n",
       "      <td>Porter Pharmacy, 129 N Second St, Cochran, GA ...</td>\n",
       "      <td>0x88f16e41928ff687:0x883dad4fd048e8f8</td>\n",
       "      <td>32.388300</td>\n",
       "      <td>-83.357100</td>\n",
       "      <td>[Pharmacy]</td>\n",
       "      <td>4.9</td>\n",
       "      <td>16</td>\n",
       "      <td>None</td>\n",
       "      <td>[[Friday, 8AM–6PM], [Saturday, 8AM–12PM], [Sun...</td>\n",
       "      <td>GA</td>\n",
       "      <td>Georgia</td>\n",
       "    </tr>\n",
       "    <tr>\n",
       "      <th>14</th>\n",
       "      <td>NTK OUTDOOR</td>\n",
       "      <td>NTK OUTDOOR, 2315 NW 107th Ave #1B18, Miami, F...</td>\n",
       "      <td>0x88d9beb4fe0532c1:0xef0555c169299d6</td>\n",
       "      <td>25.795204</td>\n",
       "      <td>-80.366038</td>\n",
       "      <td>[Corporate office]</td>\n",
       "      <td>5.0</td>\n",
       "      <td>35</td>\n",
       "      <td>None</td>\n",
       "      <td>[[Thursday, 9AM–6PM], [Friday, 9AM–6PM], [Satu...</td>\n",
       "      <td>FL</td>\n",
       "      <td>Florida</td>\n",
       "    </tr>\n",
       "    <tr>\n",
       "      <th>45</th>\n",
       "      <td>Cruises Inc. - Connie Stewart</td>\n",
       "      <td>Cruises Inc. - Connie Stewart, 6602 52nd Ln, P...</td>\n",
       "      <td>0x88c2e49b79f06c31:0x4ed8c8ce27e926e0</td>\n",
       "      <td>27.832187</td>\n",
       "      <td>-82.704805</td>\n",
       "      <td>[Cruise agency]</td>\n",
       "      <td>5.0</td>\n",
       "      <td>2</td>\n",
       "      <td>None</td>\n",
       "      <td>[[Thursday, 9AM–5PM], [Friday, 9AM–5PM], [Satu...</td>\n",
       "      <td>FL</td>\n",
       "      <td>Florida</td>\n",
       "    </tr>\n",
       "  </tbody>\n",
       "</table>\n",
       "</div>"
      ],
      "text/plain": [
       "                             name  \\\n",
       "0                 Porter Pharmacy   \n",
       "14                    NTK OUTDOOR   \n",
       "45  Cruises Inc. - Connie Stewart   \n",
       "\n",
       "                                              address  \\\n",
       "0   Porter Pharmacy, 129 N Second St, Cochran, GA ...   \n",
       "14  NTK OUTDOOR, 2315 NW 107th Ave #1B18, Miami, F...   \n",
       "45  Cruises Inc. - Connie Stewart, 6602 52nd Ln, P...   \n",
       "\n",
       "                                  gmap_id   latitude  longitude  \\\n",
       "0   0x88f16e41928ff687:0x883dad4fd048e8f8  32.388300 -83.357100   \n",
       "14   0x88d9beb4fe0532c1:0xef0555c169299d6  25.795204 -80.366038   \n",
       "45  0x88c2e49b79f06c31:0x4ed8c8ce27e926e0  27.832187 -82.704805   \n",
       "\n",
       "              category  avg_rating  num_of_reviews price  \\\n",
       "0           [Pharmacy]         4.9              16  None   \n",
       "14  [Corporate office]         5.0              35  None   \n",
       "45     [Cruise agency]         5.0               2  None   \n",
       "\n",
       "                                                hours estado nombre_estado  \n",
       "0   [[Friday, 8AM–6PM], [Saturday, 8AM–12PM], [Sun...     GA       Georgia  \n",
       "14  [[Thursday, 9AM–6PM], [Friday, 9AM–6PM], [Satu...     FL       Florida  \n",
       "45  [[Thursday, 9AM–5PM], [Friday, 9AM–5PM], [Satu...     FL       Florida  "
      ]
     },
     "execution_count": 12,
     "metadata": {},
     "output_type": "execute_result"
    }
   ],
   "source": [
    "df_metadata_ce.head(3)"
   ]
  },
  {
   "cell_type": "markdown",
   "metadata": {},
   "source": [
    "Se carga el parquet porque la velocidad de procesamiento aumentará de manera significativa y para posteriormente realizar la limpieza de datos que serán utlizados.\n"
   ]
  },
  {
   "cell_type": "code",
   "execution_count": 13,
   "metadata": {},
   "outputs": [
    {
     "data": {
      "text/html": [
       "<div>\n",
       "<style scoped>\n",
       "    .dataframe tbody tr th:only-of-type {\n",
       "        vertical-align: middle;\n",
       "    }\n",
       "\n",
       "    .dataframe tbody tr th {\n",
       "        vertical-align: top;\n",
       "    }\n",
       "\n",
       "    .dataframe thead th {\n",
       "        text-align: right;\n",
       "    }\n",
       "</style>\n",
       "<table border=\"1\" class=\"dataframe\">\n",
       "  <thead>\n",
       "    <tr style=\"text-align: right;\">\n",
       "      <th></th>\n",
       "      <th>name</th>\n",
       "      <th>address</th>\n",
       "      <th>gmap_id</th>\n",
       "      <th>latitude</th>\n",
       "      <th>longitude</th>\n",
       "      <th>category</th>\n",
       "      <th>avg_rating</th>\n",
       "      <th>num_of_reviews</th>\n",
       "      <th>price</th>\n",
       "      <th>hours</th>\n",
       "      <th>estado</th>\n",
       "      <th>nombre_estado</th>\n",
       "    </tr>\n",
       "  </thead>\n",
       "  <tbody>\n",
       "    <tr>\n",
       "      <th>0</th>\n",
       "      <td>Porter Pharmacy</td>\n",
       "      <td>Porter Pharmacy, 129 N Second St, Cochran, GA ...</td>\n",
       "      <td>0x88f16e41928ff687:0x883dad4fd048e8f8</td>\n",
       "      <td>32.388300</td>\n",
       "      <td>-83.357100</td>\n",
       "      <td>[Pharmacy]</td>\n",
       "      <td>4.9</td>\n",
       "      <td>16</td>\n",
       "      <td>None</td>\n",
       "      <td>[[Friday, 8AM–6PM], [Saturday, 8AM–12PM], [Sun...</td>\n",
       "      <td>GA</td>\n",
       "      <td>Georgia</td>\n",
       "    </tr>\n",
       "    <tr>\n",
       "      <th>14</th>\n",
       "      <td>NTK OUTDOOR</td>\n",
       "      <td>NTK OUTDOOR, 2315 NW 107th Ave #1B18, Miami, F...</td>\n",
       "      <td>0x88d9beb4fe0532c1:0xef0555c169299d6</td>\n",
       "      <td>25.795204</td>\n",
       "      <td>-80.366038</td>\n",
       "      <td>[Corporate office]</td>\n",
       "      <td>5.0</td>\n",
       "      <td>35</td>\n",
       "      <td>None</td>\n",
       "      <td>[[Thursday, 9AM–6PM], [Friday, 9AM–6PM], [Satu...</td>\n",
       "      <td>FL</td>\n",
       "      <td>Florida</td>\n",
       "    </tr>\n",
       "    <tr>\n",
       "      <th>45</th>\n",
       "      <td>Cruises Inc. - Connie Stewart</td>\n",
       "      <td>Cruises Inc. - Connie Stewart, 6602 52nd Ln, P...</td>\n",
       "      <td>0x88c2e49b79f06c31:0x4ed8c8ce27e926e0</td>\n",
       "      <td>27.832187</td>\n",
       "      <td>-82.704805</td>\n",
       "      <td>[Cruise agency]</td>\n",
       "      <td>5.0</td>\n",
       "      <td>2</td>\n",
       "      <td>None</td>\n",
       "      <td>[[Thursday, 9AM–5PM], [Friday, 9AM–5PM], [Satu...</td>\n",
       "      <td>FL</td>\n",
       "      <td>Florida</td>\n",
       "    </tr>\n",
       "  </tbody>\n",
       "</table>\n",
       "</div>"
      ],
      "text/plain": [
       "                             name  \\\n",
       "0                 Porter Pharmacy   \n",
       "14                    NTK OUTDOOR   \n",
       "45  Cruises Inc. - Connie Stewart   \n",
       "\n",
       "                                              address  \\\n",
       "0   Porter Pharmacy, 129 N Second St, Cochran, GA ...   \n",
       "14  NTK OUTDOOR, 2315 NW 107th Ave #1B18, Miami, F...   \n",
       "45  Cruises Inc. - Connie Stewart, 6602 52nd Ln, P...   \n",
       "\n",
       "                                  gmap_id   latitude  longitude  \\\n",
       "0   0x88f16e41928ff687:0x883dad4fd048e8f8  32.388300 -83.357100   \n",
       "14   0x88d9beb4fe0532c1:0xef0555c169299d6  25.795204 -80.366038   \n",
       "45  0x88c2e49b79f06c31:0x4ed8c8ce27e926e0  27.832187 -82.704805   \n",
       "\n",
       "              category  avg_rating  num_of_reviews price  \\\n",
       "0           [Pharmacy]         4.9              16  None   \n",
       "14  [Corporate office]         5.0              35  None   \n",
       "45     [Cruise agency]         5.0               2  None   \n",
       "\n",
       "                                                hours estado nombre_estado  \n",
       "0   [[Friday, 8AM–6PM], [Saturday, 8AM–12PM], [Sun...     GA       Georgia  \n",
       "14  [[Thursday, 9AM–6PM], [Friday, 9AM–6PM], [Satu...     FL       Florida  \n",
       "45  [[Thursday, 9AM–5PM], [Friday, 9AM–5PM], [Satu...     FL       Florida  "
      ]
     },
     "execution_count": 13,
     "metadata": {},
     "output_type": "execute_result"
    }
   ],
   "source": [
    "# Especificamos la ruta de tu archivo Parquet\n",
    "ruta_archivo = 'Datasets/Google/metadata-sitios/metadata-sitios-costaeste.parquet'\n",
    "\n",
    "# Cargamos el archivo Parquet en un DataFrame\n",
    "df = pd.read_parquet(ruta_archivo)\n",
    "\n",
    "# Mostramos las primeras filas del DataFrame\n",
    "df.head(3)\n"
   ]
  },
  {
   "cell_type": "code",
   "execution_count": 14,
   "metadata": {},
   "outputs": [
    {
     "data": {
      "text/html": [
       "<div>\n",
       "<style scoped>\n",
       "    .dataframe tbody tr th:only-of-type {\n",
       "        vertical-align: middle;\n",
       "    }\n",
       "\n",
       "    .dataframe tbody tr th {\n",
       "        vertical-align: top;\n",
       "    }\n",
       "\n",
       "    .dataframe thead th {\n",
       "        text-align: right;\n",
       "    }\n",
       "</style>\n",
       "<table border=\"1\" class=\"dataframe\">\n",
       "  <thead>\n",
       "    <tr style=\"text-align: right;\">\n",
       "      <th></th>\n",
       "      <th>name</th>\n",
       "      <th>address</th>\n",
       "      <th>gmap_id</th>\n",
       "      <th>latitude</th>\n",
       "      <th>longitude</th>\n",
       "      <th>category</th>\n",
       "      <th>avg_rating</th>\n",
       "      <th>num_of_reviews</th>\n",
       "      <th>price</th>\n",
       "      <th>hours</th>\n",
       "      <th>estado</th>\n",
       "      <th>nombre_estado</th>\n",
       "    </tr>\n",
       "  </thead>\n",
       "  <tbody>\n",
       "    <tr>\n",
       "      <th>0</th>\n",
       "      <td>Porter Pharmacy</td>\n",
       "      <td>Porter Pharmacy, 129 N Second St, Cochran, GA ...</td>\n",
       "      <td>0x88f16e41928ff687:0x883dad4fd048e8f8</td>\n",
       "      <td>32.388300</td>\n",
       "      <td>-83.357100</td>\n",
       "      <td>[Pharmacy]</td>\n",
       "      <td>4.9</td>\n",
       "      <td>16</td>\n",
       "      <td>None</td>\n",
       "      <td>[[Friday, 8AM–6PM], [Saturday, 8AM–12PM], [Sun...</td>\n",
       "      <td>GA</td>\n",
       "      <td>Georgia</td>\n",
       "    </tr>\n",
       "    <tr>\n",
       "      <th>14</th>\n",
       "      <td>NTK OUTDOOR</td>\n",
       "      <td>NTK OUTDOOR, 2315 NW 107th Ave #1B18, Miami, F...</td>\n",
       "      <td>0x88d9beb4fe0532c1:0xef0555c169299d6</td>\n",
       "      <td>25.795204</td>\n",
       "      <td>-80.366038</td>\n",
       "      <td>[Corporate office]</td>\n",
       "      <td>5.0</td>\n",
       "      <td>35</td>\n",
       "      <td>None</td>\n",
       "      <td>[[Thursday, 9AM–6PM], [Friday, 9AM–6PM], [Satu...</td>\n",
       "      <td>FL</td>\n",
       "      <td>Florida</td>\n",
       "    </tr>\n",
       "    <tr>\n",
       "      <th>45</th>\n",
       "      <td>Cruises Inc. - Connie Stewart</td>\n",
       "      <td>Cruises Inc. - Connie Stewart, 6602 52nd Ln, P...</td>\n",
       "      <td>0x88c2e49b79f06c31:0x4ed8c8ce27e926e0</td>\n",
       "      <td>27.832187</td>\n",
       "      <td>-82.704805</td>\n",
       "      <td>[Cruise agency]</td>\n",
       "      <td>5.0</td>\n",
       "      <td>2</td>\n",
       "      <td>None</td>\n",
       "      <td>[[Thursday, 9AM–5PM], [Friday, 9AM–5PM], [Satu...</td>\n",
       "      <td>FL</td>\n",
       "      <td>Florida</td>\n",
       "    </tr>\n",
       "    <tr>\n",
       "      <th>56</th>\n",
       "      <td>Seminole Family Restaurant</td>\n",
       "      <td>Seminole Family Restaurant, 6864 Seminole Blvd...</td>\n",
       "      <td>0x88c2fb8614e57ce9:0x40b51628875ad6e9</td>\n",
       "      <td>27.834885</td>\n",
       "      <td>-82.787419</td>\n",
       "      <td>None</td>\n",
       "      <td>3.6</td>\n",
       "      <td>8</td>\n",
       "      <td>$$</td>\n",
       "      <td>None</td>\n",
       "      <td>FL</td>\n",
       "      <td>Florida</td>\n",
       "    </tr>\n",
       "    <tr>\n",
       "      <th>58</th>\n",
       "      <td>A-Top Insurance</td>\n",
       "      <td>A-Top Insurance, 1009 Brighton Beach Ave, Broo...</td>\n",
       "      <td>0x89c24469c758686b:0x641f5b84cb9bedfa</td>\n",
       "      <td>40.578254</td>\n",
       "      <td>-73.959127</td>\n",
       "      <td>[Insurance broker, Insurance agency]</td>\n",
       "      <td>2.0</td>\n",
       "      <td>4</td>\n",
       "      <td>None</td>\n",
       "      <td>[[Thursday, 10AM–6PM], [Friday, 10AM–6PM], [Sa...</td>\n",
       "      <td>NY</td>\n",
       "      <td>New York</td>\n",
       "    </tr>\n",
       "    <tr>\n",
       "      <th>...</th>\n",
       "      <td>...</td>\n",
       "      <td>...</td>\n",
       "      <td>...</td>\n",
       "      <td>...</td>\n",
       "      <td>...</td>\n",
       "      <td>...</td>\n",
       "      <td>...</td>\n",
       "      <td>...</td>\n",
       "      <td>...</td>\n",
       "      <td>...</td>\n",
       "      <td>...</td>\n",
       "      <td>...</td>\n",
       "    </tr>\n",
       "    <tr>\n",
       "      <th>3024967</th>\n",
       "      <td>SVS Vision Optical Centers</td>\n",
       "      <td>SVS Vision Optical Centers, 1551 Niagara Falls...</td>\n",
       "      <td>0x89d3721399f576df:0xe572aaa0d5ae28fc</td>\n",
       "      <td>42.997026</td>\n",
       "      <td>-78.821580</td>\n",
       "      <td>[Eye care center, Contact lenses supplier, Opt...</td>\n",
       "      <td>4.7</td>\n",
       "      <td>68</td>\n",
       "      <td>None</td>\n",
       "      <td>[[Saturday, 9AM–1PM], [Sunday, Closed], [Monda...</td>\n",
       "      <td>NY</td>\n",
       "      <td>New York</td>\n",
       "    </tr>\n",
       "    <tr>\n",
       "      <th>3024968</th>\n",
       "      <td>Express Liquor</td>\n",
       "      <td>Express Liquor, 6589 Thompson Rd suite b, Syra...</td>\n",
       "      <td>0x89d9f2a96ec09509:0xc8d86190079d033</td>\n",
       "      <td>43.088776</td>\n",
       "      <td>-76.092804</td>\n",
       "      <td>[Liquor store]</td>\n",
       "      <td>3.5</td>\n",
       "      <td>8</td>\n",
       "      <td>None</td>\n",
       "      <td>[[Saturday, 10AM–10PM], [Sunday, 12–6PM], [Mon...</td>\n",
       "      <td>NY</td>\n",
       "      <td>New York</td>\n",
       "    </tr>\n",
       "    <tr>\n",
       "      <th>3024969</th>\n",
       "      <td>Allstar Collision and Paint</td>\n",
       "      <td>Allstar Collision and Paint, 6050 Sheridan Dr,...</td>\n",
       "      <td>0x89d3744be13dc5f5:0x22f97178c788cb06</td>\n",
       "      <td>42.978248</td>\n",
       "      <td>-78.707804</td>\n",
       "      <td>[Auto body shop, Auto dent removal service, Ca...</td>\n",
       "      <td>5.0</td>\n",
       "      <td>48</td>\n",
       "      <td>None</td>\n",
       "      <td>[[Saturday, Closed], [Sunday, Closed], [Monday...</td>\n",
       "      <td>NY</td>\n",
       "      <td>New York</td>\n",
       "    </tr>\n",
       "    <tr>\n",
       "      <th>3024976</th>\n",
       "      <td>House of Gourmet -- 食全食美</td>\n",
       "      <td>House of Gourmet -- 食全食美, 2865 Sheridan Dr Sui...</td>\n",
       "      <td>0x89d373386b718fff:0xf82c90ef48e7b23</td>\n",
       "      <td>42.980251</td>\n",
       "      <td>-78.827337</td>\n",
       "      <td>[Chinese restaurant, Sichuan restaurant]</td>\n",
       "      <td>4.3</td>\n",
       "      <td>58</td>\n",
       "      <td>None</td>\n",
       "      <td>[[Saturday, 11:15AM–9:45PM], [Sunday, 11:15AM–...</td>\n",
       "      <td>NY</td>\n",
       "      <td>New York</td>\n",
       "    </tr>\n",
       "    <tr>\n",
       "      <th>3024991</th>\n",
       "      <td>Fedex Ground</td>\n",
       "      <td>Fedex Ground, Fedex Dr, Middletown, CT 06457</td>\n",
       "      <td>0x89e7b5d5a1f83707:0xf3856c7e5901d16d</td>\n",
       "      <td>41.598762</td>\n",
       "      <td>-72.716026</td>\n",
       "      <td>[Corporate office]</td>\n",
       "      <td>4.3</td>\n",
       "      <td>8</td>\n",
       "      <td>None</td>\n",
       "      <td>[[Saturday, Open 24 hours], [Sunday, Open 24 h...</td>\n",
       "      <td>CT</td>\n",
       "      <td>Connecticut</td>\n",
       "    </tr>\n",
       "  </tbody>\n",
       "</table>\n",
       "<p>946582 rows × 12 columns</p>\n",
       "</div>"
      ],
      "text/plain": [
       "                                  name  \\\n",
       "0                      Porter Pharmacy   \n",
       "14                         NTK OUTDOOR   \n",
       "45       Cruises Inc. - Connie Stewart   \n",
       "56          Seminole Family Restaurant   \n",
       "58                     A-Top Insurance   \n",
       "...                                ...   \n",
       "3024967     SVS Vision Optical Centers   \n",
       "3024968                 Express Liquor   \n",
       "3024969    Allstar Collision and Paint   \n",
       "3024976       House of Gourmet -- 食全食美   \n",
       "3024991                   Fedex Ground   \n",
       "\n",
       "                                                   address  \\\n",
       "0        Porter Pharmacy, 129 N Second St, Cochran, GA ...   \n",
       "14       NTK OUTDOOR, 2315 NW 107th Ave #1B18, Miami, F...   \n",
       "45       Cruises Inc. - Connie Stewart, 6602 52nd Ln, P...   \n",
       "56       Seminole Family Restaurant, 6864 Seminole Blvd...   \n",
       "58       A-Top Insurance, 1009 Brighton Beach Ave, Broo...   \n",
       "...                                                    ...   \n",
       "3024967  SVS Vision Optical Centers, 1551 Niagara Falls...   \n",
       "3024968  Express Liquor, 6589 Thompson Rd suite b, Syra...   \n",
       "3024969  Allstar Collision and Paint, 6050 Sheridan Dr,...   \n",
       "3024976  House of Gourmet -- 食全食美, 2865 Sheridan Dr Sui...   \n",
       "3024991       Fedex Ground, Fedex Dr, Middletown, CT 06457   \n",
       "\n",
       "                                       gmap_id   latitude  longitude  \\\n",
       "0        0x88f16e41928ff687:0x883dad4fd048e8f8  32.388300 -83.357100   \n",
       "14        0x88d9beb4fe0532c1:0xef0555c169299d6  25.795204 -80.366038   \n",
       "45       0x88c2e49b79f06c31:0x4ed8c8ce27e926e0  27.832187 -82.704805   \n",
       "56       0x88c2fb8614e57ce9:0x40b51628875ad6e9  27.834885 -82.787419   \n",
       "58       0x89c24469c758686b:0x641f5b84cb9bedfa  40.578254 -73.959127   \n",
       "...                                        ...        ...        ...   \n",
       "3024967  0x89d3721399f576df:0xe572aaa0d5ae28fc  42.997026 -78.821580   \n",
       "3024968   0x89d9f2a96ec09509:0xc8d86190079d033  43.088776 -76.092804   \n",
       "3024969  0x89d3744be13dc5f5:0x22f97178c788cb06  42.978248 -78.707804   \n",
       "3024976   0x89d373386b718fff:0xf82c90ef48e7b23  42.980251 -78.827337   \n",
       "3024991  0x89e7b5d5a1f83707:0xf3856c7e5901d16d  41.598762 -72.716026   \n",
       "\n",
       "                                                  category  avg_rating  \\\n",
       "0                                               [Pharmacy]         4.9   \n",
       "14                                      [Corporate office]         5.0   \n",
       "45                                         [Cruise agency]         5.0   \n",
       "56                                                    None         3.6   \n",
       "58                    [Insurance broker, Insurance agency]         2.0   \n",
       "...                                                    ...         ...   \n",
       "3024967  [Eye care center, Contact lenses supplier, Opt...         4.7   \n",
       "3024968                                     [Liquor store]         3.5   \n",
       "3024969  [Auto body shop, Auto dent removal service, Ca...         5.0   \n",
       "3024976           [Chinese restaurant, Sichuan restaurant]         4.3   \n",
       "3024991                                 [Corporate office]         4.3   \n",
       "\n",
       "         num_of_reviews price  \\\n",
       "0                    16  None   \n",
       "14                   35  None   \n",
       "45                    2  None   \n",
       "56                    8    $$   \n",
       "58                    4  None   \n",
       "...                 ...   ...   \n",
       "3024967              68  None   \n",
       "3024968               8  None   \n",
       "3024969              48  None   \n",
       "3024976              58  None   \n",
       "3024991               8  None   \n",
       "\n",
       "                                                     hours estado  \\\n",
       "0        [[Friday, 8AM–6PM], [Saturday, 8AM–12PM], [Sun...     GA   \n",
       "14       [[Thursday, 9AM–6PM], [Friday, 9AM–6PM], [Satu...     FL   \n",
       "45       [[Thursday, 9AM–5PM], [Friday, 9AM–5PM], [Satu...     FL   \n",
       "56                                                    None     FL   \n",
       "58       [[Thursday, 10AM–6PM], [Friday, 10AM–6PM], [Sa...     NY   \n",
       "...                                                    ...    ...   \n",
       "3024967  [[Saturday, 9AM–1PM], [Sunday, Closed], [Monda...     NY   \n",
       "3024968  [[Saturday, 10AM–10PM], [Sunday, 12–6PM], [Mon...     NY   \n",
       "3024969  [[Saturday, Closed], [Sunday, Closed], [Monday...     NY   \n",
       "3024976  [[Saturday, 11:15AM–9:45PM], [Sunday, 11:15AM–...     NY   \n",
       "3024991  [[Saturday, Open 24 hours], [Sunday, Open 24 h...     CT   \n",
       "\n",
       "        nombre_estado  \n",
       "0             Georgia  \n",
       "14            Florida  \n",
       "45            Florida  \n",
       "56            Florida  \n",
       "58           New York  \n",
       "...               ...  \n",
       "3024967      New York  \n",
       "3024968      New York  \n",
       "3024969      New York  \n",
       "3024976      New York  \n",
       "3024991   Connecticut  \n",
       "\n",
       "[946582 rows x 12 columns]"
      ]
     },
     "execution_count": 14,
     "metadata": {},
     "output_type": "execute_result"
    }
   ],
   "source": [
    "df"
   ]
  },
  {
   "cell_type": "markdown",
   "metadata": {},
   "source": [
    "Se crea la columna ciudad de acuerdo a la columna \"address\" para ser utlizada posteriormente en el análisis de datos."
   ]
  },
  {
   "cell_type": "code",
   "execution_count": 15,
   "metadata": {},
   "outputs": [
    {
     "data": {
      "text/html": [
       "<div>\n",
       "<style scoped>\n",
       "    .dataframe tbody tr th:only-of-type {\n",
       "        vertical-align: middle;\n",
       "    }\n",
       "\n",
       "    .dataframe tbody tr th {\n",
       "        vertical-align: top;\n",
       "    }\n",
       "\n",
       "    .dataframe thead th {\n",
       "        text-align: right;\n",
       "    }\n",
       "</style>\n",
       "<table border=\"1\" class=\"dataframe\">\n",
       "  <thead>\n",
       "    <tr style=\"text-align: right;\">\n",
       "      <th></th>\n",
       "      <th>address</th>\n",
       "      <th>city</th>\n",
       "    </tr>\n",
       "  </thead>\n",
       "  <tbody>\n",
       "    <tr>\n",
       "      <th>0</th>\n",
       "      <td>Porter Pharmacy, 129 N Second St, Cochran, GA ...</td>\n",
       "      <td>Cochran</td>\n",
       "    </tr>\n",
       "    <tr>\n",
       "      <th>14</th>\n",
       "      <td>NTK OUTDOOR, 2315 NW 107th Ave #1B18, Miami, F...</td>\n",
       "      <td>Miami</td>\n",
       "    </tr>\n",
       "    <tr>\n",
       "      <th>45</th>\n",
       "      <td>Cruises Inc. - Connie Stewart, 6602 52nd Ln, P...</td>\n",
       "      <td>Pinellas Park</td>\n",
       "    </tr>\n",
       "    <tr>\n",
       "      <th>56</th>\n",
       "      <td>Seminole Family Restaurant, 6864 Seminole Blvd...</td>\n",
       "      <td>Seminole</td>\n",
       "    </tr>\n",
       "    <tr>\n",
       "      <th>58</th>\n",
       "      <td>A-Top Insurance, 1009 Brighton Beach Ave, Broo...</td>\n",
       "      <td>Brooklyn</td>\n",
       "    </tr>\n",
       "  </tbody>\n",
       "</table>\n",
       "</div>"
      ],
      "text/plain": [
       "                                              address           city\n",
       "0   Porter Pharmacy, 129 N Second St, Cochran, GA ...        Cochran\n",
       "14  NTK OUTDOOR, 2315 NW 107th Ave #1B18, Miami, F...          Miami\n",
       "45  Cruises Inc. - Connie Stewart, 6602 52nd Ln, P...  Pinellas Park\n",
       "56  Seminole Family Restaurant, 6864 Seminole Blvd...       Seminole\n",
       "58  A-Top Insurance, 1009 Brighton Beach Ave, Broo...       Brooklyn"
      ]
     },
     "execution_count": 15,
     "metadata": {},
     "output_type": "execute_result"
    }
   ],
   "source": [
    "\n",
    "# Utilizamos una expresión regular para extraer la ciudad, que se encuentra entre la dirección y el estado\n",
    "df['city'] = df['address'].str.extract(r',\\s*([^,]+),\\s*[A-Z]{2}\\s*\\d{5}')\n",
    "\n",
    "# Mostramos las primeras filas para verificar\n",
    "df[['address', 'city']].head()"
   ]
  },
  {
   "cell_type": "code",
   "execution_count": 16,
   "metadata": {},
   "outputs": [
    {
     "data": {
      "text/html": [
       "<div>\n",
       "<style scoped>\n",
       "    .dataframe tbody tr th:only-of-type {\n",
       "        vertical-align: middle;\n",
       "    }\n",
       "\n",
       "    .dataframe tbody tr th {\n",
       "        vertical-align: top;\n",
       "    }\n",
       "\n",
       "    .dataframe thead th {\n",
       "        text-align: right;\n",
       "    }\n",
       "</style>\n",
       "<table border=\"1\" class=\"dataframe\">\n",
       "  <thead>\n",
       "    <tr style=\"text-align: right;\">\n",
       "      <th></th>\n",
       "      <th>name</th>\n",
       "      <th>address</th>\n",
       "      <th>gmap_id</th>\n",
       "      <th>latitude</th>\n",
       "      <th>longitude</th>\n",
       "      <th>category</th>\n",
       "      <th>avg_rating</th>\n",
       "      <th>num_of_reviews</th>\n",
       "      <th>price</th>\n",
       "      <th>hours</th>\n",
       "      <th>estado</th>\n",
       "      <th>nombre_estado</th>\n",
       "      <th>city</th>\n",
       "    </tr>\n",
       "  </thead>\n",
       "  <tbody>\n",
       "    <tr>\n",
       "      <th>0</th>\n",
       "      <td>Porter Pharmacy</td>\n",
       "      <td>Porter Pharmacy, 129 N Second St, Cochran, GA ...</td>\n",
       "      <td>0x88f16e41928ff687:0x883dad4fd048e8f8</td>\n",
       "      <td>32.388300</td>\n",
       "      <td>-83.357100</td>\n",
       "      <td>[Pharmacy]</td>\n",
       "      <td>4.9</td>\n",
       "      <td>16</td>\n",
       "      <td>None</td>\n",
       "      <td>[[Friday, 8AM–6PM], [Saturday, 8AM–12PM], [Sun...</td>\n",
       "      <td>GA</td>\n",
       "      <td>Georgia</td>\n",
       "      <td>Cochran</td>\n",
       "    </tr>\n",
       "    <tr>\n",
       "      <th>14</th>\n",
       "      <td>NTK OUTDOOR</td>\n",
       "      <td>NTK OUTDOOR, 2315 NW 107th Ave #1B18, Miami, F...</td>\n",
       "      <td>0x88d9beb4fe0532c1:0xef0555c169299d6</td>\n",
       "      <td>25.795204</td>\n",
       "      <td>-80.366038</td>\n",
       "      <td>[Corporate office]</td>\n",
       "      <td>5.0</td>\n",
       "      <td>35</td>\n",
       "      <td>None</td>\n",
       "      <td>[[Thursday, 9AM–6PM], [Friday, 9AM–6PM], [Satu...</td>\n",
       "      <td>FL</td>\n",
       "      <td>Florida</td>\n",
       "      <td>Miami</td>\n",
       "    </tr>\n",
       "    <tr>\n",
       "      <th>45</th>\n",
       "      <td>Cruises Inc. - Connie Stewart</td>\n",
       "      <td>Cruises Inc. - Connie Stewart, 6602 52nd Ln, P...</td>\n",
       "      <td>0x88c2e49b79f06c31:0x4ed8c8ce27e926e0</td>\n",
       "      <td>27.832187</td>\n",
       "      <td>-82.704805</td>\n",
       "      <td>[Cruise agency]</td>\n",
       "      <td>5.0</td>\n",
       "      <td>2</td>\n",
       "      <td>None</td>\n",
       "      <td>[[Thursday, 9AM–5PM], [Friday, 9AM–5PM], [Satu...</td>\n",
       "      <td>FL</td>\n",
       "      <td>Florida</td>\n",
       "      <td>Pinellas Park</td>\n",
       "    </tr>\n",
       "    <tr>\n",
       "      <th>56</th>\n",
       "      <td>Seminole Family Restaurant</td>\n",
       "      <td>Seminole Family Restaurant, 6864 Seminole Blvd...</td>\n",
       "      <td>0x88c2fb8614e57ce9:0x40b51628875ad6e9</td>\n",
       "      <td>27.834885</td>\n",
       "      <td>-82.787419</td>\n",
       "      <td>None</td>\n",
       "      <td>3.6</td>\n",
       "      <td>8</td>\n",
       "      <td>$$</td>\n",
       "      <td>None</td>\n",
       "      <td>FL</td>\n",
       "      <td>Florida</td>\n",
       "      <td>Seminole</td>\n",
       "    </tr>\n",
       "    <tr>\n",
       "      <th>58</th>\n",
       "      <td>A-Top Insurance</td>\n",
       "      <td>A-Top Insurance, 1009 Brighton Beach Ave, Broo...</td>\n",
       "      <td>0x89c24469c758686b:0x641f5b84cb9bedfa</td>\n",
       "      <td>40.578254</td>\n",
       "      <td>-73.959127</td>\n",
       "      <td>[Insurance broker, Insurance agency]</td>\n",
       "      <td>2.0</td>\n",
       "      <td>4</td>\n",
       "      <td>None</td>\n",
       "      <td>[[Thursday, 10AM–6PM], [Friday, 10AM–6PM], [Sa...</td>\n",
       "      <td>NY</td>\n",
       "      <td>New York</td>\n",
       "      <td>Brooklyn</td>\n",
       "    </tr>\n",
       "    <tr>\n",
       "      <th>...</th>\n",
       "      <td>...</td>\n",
       "      <td>...</td>\n",
       "      <td>...</td>\n",
       "      <td>...</td>\n",
       "      <td>...</td>\n",
       "      <td>...</td>\n",
       "      <td>...</td>\n",
       "      <td>...</td>\n",
       "      <td>...</td>\n",
       "      <td>...</td>\n",
       "      <td>...</td>\n",
       "      <td>...</td>\n",
       "      <td>...</td>\n",
       "    </tr>\n",
       "    <tr>\n",
       "      <th>3024967</th>\n",
       "      <td>SVS Vision Optical Centers</td>\n",
       "      <td>SVS Vision Optical Centers, 1551 Niagara Falls...</td>\n",
       "      <td>0x89d3721399f576df:0xe572aaa0d5ae28fc</td>\n",
       "      <td>42.997026</td>\n",
       "      <td>-78.821580</td>\n",
       "      <td>[Eye care center, Contact lenses supplier, Opt...</td>\n",
       "      <td>4.7</td>\n",
       "      <td>68</td>\n",
       "      <td>None</td>\n",
       "      <td>[[Saturday, 9AM–1PM], [Sunday, Closed], [Monda...</td>\n",
       "      <td>NY</td>\n",
       "      <td>New York</td>\n",
       "      <td>Buffalo</td>\n",
       "    </tr>\n",
       "    <tr>\n",
       "      <th>3024968</th>\n",
       "      <td>Express Liquor</td>\n",
       "      <td>Express Liquor, 6589 Thompson Rd suite b, Syra...</td>\n",
       "      <td>0x89d9f2a96ec09509:0xc8d86190079d033</td>\n",
       "      <td>43.088776</td>\n",
       "      <td>-76.092804</td>\n",
       "      <td>[Liquor store]</td>\n",
       "      <td>3.5</td>\n",
       "      <td>8</td>\n",
       "      <td>None</td>\n",
       "      <td>[[Saturday, 10AM–10PM], [Sunday, 12–6PM], [Mon...</td>\n",
       "      <td>NY</td>\n",
       "      <td>New York</td>\n",
       "      <td>Syracuse</td>\n",
       "    </tr>\n",
       "    <tr>\n",
       "      <th>3024969</th>\n",
       "      <td>Allstar Collision and Paint</td>\n",
       "      <td>Allstar Collision and Paint, 6050 Sheridan Dr,...</td>\n",
       "      <td>0x89d3744be13dc5f5:0x22f97178c788cb06</td>\n",
       "      <td>42.978248</td>\n",
       "      <td>-78.707804</td>\n",
       "      <td>[Auto body shop, Auto dent removal service, Ca...</td>\n",
       "      <td>5.0</td>\n",
       "      <td>48</td>\n",
       "      <td>None</td>\n",
       "      <td>[[Saturday, Closed], [Sunday, Closed], [Monday...</td>\n",
       "      <td>NY</td>\n",
       "      <td>New York</td>\n",
       "      <td>Buffalo</td>\n",
       "    </tr>\n",
       "    <tr>\n",
       "      <th>3024976</th>\n",
       "      <td>House of Gourmet -- 食全食美</td>\n",
       "      <td>House of Gourmet -- 食全食美, 2865 Sheridan Dr Sui...</td>\n",
       "      <td>0x89d373386b718fff:0xf82c90ef48e7b23</td>\n",
       "      <td>42.980251</td>\n",
       "      <td>-78.827337</td>\n",
       "      <td>[Chinese restaurant, Sichuan restaurant]</td>\n",
       "      <td>4.3</td>\n",
       "      <td>58</td>\n",
       "      <td>None</td>\n",
       "      <td>[[Saturday, 11:15AM–9:45PM], [Sunday, 11:15AM–...</td>\n",
       "      <td>NY</td>\n",
       "      <td>New York</td>\n",
       "      <td>Tonawanda</td>\n",
       "    </tr>\n",
       "    <tr>\n",
       "      <th>3024991</th>\n",
       "      <td>Fedex Ground</td>\n",
       "      <td>Fedex Ground, Fedex Dr, Middletown, CT 06457</td>\n",
       "      <td>0x89e7b5d5a1f83707:0xf3856c7e5901d16d</td>\n",
       "      <td>41.598762</td>\n",
       "      <td>-72.716026</td>\n",
       "      <td>[Corporate office]</td>\n",
       "      <td>4.3</td>\n",
       "      <td>8</td>\n",
       "      <td>None</td>\n",
       "      <td>[[Saturday, Open 24 hours], [Sunday, Open 24 h...</td>\n",
       "      <td>CT</td>\n",
       "      <td>Connecticut</td>\n",
       "      <td>Middletown</td>\n",
       "    </tr>\n",
       "  </tbody>\n",
       "</table>\n",
       "<p>946582 rows × 13 columns</p>\n",
       "</div>"
      ],
      "text/plain": [
       "                                  name  \\\n",
       "0                      Porter Pharmacy   \n",
       "14                         NTK OUTDOOR   \n",
       "45       Cruises Inc. - Connie Stewart   \n",
       "56          Seminole Family Restaurant   \n",
       "58                     A-Top Insurance   \n",
       "...                                ...   \n",
       "3024967     SVS Vision Optical Centers   \n",
       "3024968                 Express Liquor   \n",
       "3024969    Allstar Collision and Paint   \n",
       "3024976       House of Gourmet -- 食全食美   \n",
       "3024991                   Fedex Ground   \n",
       "\n",
       "                                                   address  \\\n",
       "0        Porter Pharmacy, 129 N Second St, Cochran, GA ...   \n",
       "14       NTK OUTDOOR, 2315 NW 107th Ave #1B18, Miami, F...   \n",
       "45       Cruises Inc. - Connie Stewart, 6602 52nd Ln, P...   \n",
       "56       Seminole Family Restaurant, 6864 Seminole Blvd...   \n",
       "58       A-Top Insurance, 1009 Brighton Beach Ave, Broo...   \n",
       "...                                                    ...   \n",
       "3024967  SVS Vision Optical Centers, 1551 Niagara Falls...   \n",
       "3024968  Express Liquor, 6589 Thompson Rd suite b, Syra...   \n",
       "3024969  Allstar Collision and Paint, 6050 Sheridan Dr,...   \n",
       "3024976  House of Gourmet -- 食全食美, 2865 Sheridan Dr Sui...   \n",
       "3024991       Fedex Ground, Fedex Dr, Middletown, CT 06457   \n",
       "\n",
       "                                       gmap_id   latitude  longitude  \\\n",
       "0        0x88f16e41928ff687:0x883dad4fd048e8f8  32.388300 -83.357100   \n",
       "14        0x88d9beb4fe0532c1:0xef0555c169299d6  25.795204 -80.366038   \n",
       "45       0x88c2e49b79f06c31:0x4ed8c8ce27e926e0  27.832187 -82.704805   \n",
       "56       0x88c2fb8614e57ce9:0x40b51628875ad6e9  27.834885 -82.787419   \n",
       "58       0x89c24469c758686b:0x641f5b84cb9bedfa  40.578254 -73.959127   \n",
       "...                                        ...        ...        ...   \n",
       "3024967  0x89d3721399f576df:0xe572aaa0d5ae28fc  42.997026 -78.821580   \n",
       "3024968   0x89d9f2a96ec09509:0xc8d86190079d033  43.088776 -76.092804   \n",
       "3024969  0x89d3744be13dc5f5:0x22f97178c788cb06  42.978248 -78.707804   \n",
       "3024976   0x89d373386b718fff:0xf82c90ef48e7b23  42.980251 -78.827337   \n",
       "3024991  0x89e7b5d5a1f83707:0xf3856c7e5901d16d  41.598762 -72.716026   \n",
       "\n",
       "                                                  category  avg_rating  \\\n",
       "0                                               [Pharmacy]         4.9   \n",
       "14                                      [Corporate office]         5.0   \n",
       "45                                         [Cruise agency]         5.0   \n",
       "56                                                    None         3.6   \n",
       "58                    [Insurance broker, Insurance agency]         2.0   \n",
       "...                                                    ...         ...   \n",
       "3024967  [Eye care center, Contact lenses supplier, Opt...         4.7   \n",
       "3024968                                     [Liquor store]         3.5   \n",
       "3024969  [Auto body shop, Auto dent removal service, Ca...         5.0   \n",
       "3024976           [Chinese restaurant, Sichuan restaurant]         4.3   \n",
       "3024991                                 [Corporate office]         4.3   \n",
       "\n",
       "         num_of_reviews price  \\\n",
       "0                    16  None   \n",
       "14                   35  None   \n",
       "45                    2  None   \n",
       "56                    8    $$   \n",
       "58                    4  None   \n",
       "...                 ...   ...   \n",
       "3024967              68  None   \n",
       "3024968               8  None   \n",
       "3024969              48  None   \n",
       "3024976              58  None   \n",
       "3024991               8  None   \n",
       "\n",
       "                                                     hours estado  \\\n",
       "0        [[Friday, 8AM–6PM], [Saturday, 8AM–12PM], [Sun...     GA   \n",
       "14       [[Thursday, 9AM–6PM], [Friday, 9AM–6PM], [Satu...     FL   \n",
       "45       [[Thursday, 9AM–5PM], [Friday, 9AM–5PM], [Satu...     FL   \n",
       "56                                                    None     FL   \n",
       "58       [[Thursday, 10AM–6PM], [Friday, 10AM–6PM], [Sa...     NY   \n",
       "...                                                    ...    ...   \n",
       "3024967  [[Saturday, 9AM–1PM], [Sunday, Closed], [Monda...     NY   \n",
       "3024968  [[Saturday, 10AM–10PM], [Sunday, 12–6PM], [Mon...     NY   \n",
       "3024969  [[Saturday, Closed], [Sunday, Closed], [Monday...     NY   \n",
       "3024976  [[Saturday, 11:15AM–9:45PM], [Sunday, 11:15AM–...     NY   \n",
       "3024991  [[Saturday, Open 24 hours], [Sunday, Open 24 h...     CT   \n",
       "\n",
       "        nombre_estado           city  \n",
       "0             Georgia        Cochran  \n",
       "14            Florida          Miami  \n",
       "45            Florida  Pinellas Park  \n",
       "56            Florida       Seminole  \n",
       "58           New York       Brooklyn  \n",
       "...               ...            ...  \n",
       "3024967      New York        Buffalo  \n",
       "3024968      New York       Syracuse  \n",
       "3024969      New York        Buffalo  \n",
       "3024976      New York      Tonawanda  \n",
       "3024991   Connecticut     Middletown  \n",
       "\n",
       "[946582 rows x 13 columns]"
      ]
     },
     "execution_count": 16,
     "metadata": {},
     "output_type": "execute_result"
    }
   ],
   "source": [
    "df"
   ]
  },
  {
   "cell_type": "code",
   "execution_count": 17,
   "metadata": {},
   "outputs": [],
   "source": [
    "# Guardamos el DataFrame con la nueva columna en un archivo Parquet\n",
    "df.to_parquet('Datasets/Google/metadata-sitios/metadata-sitios-costaeste-estado-ciudad.parquet')"
   ]
  },
  {
   "cell_type": "markdown",
   "metadata": {},
   "source": [
    "### **Creación de los archivos parquet de Reviews-Estados de Google maps**"
   ]
  },
  {
   "cell_type": "code",
   "execution_count": 18,
   "metadata": {},
   "outputs": [],
   "source": [
    "# Función para procesar la carga de datos\n",
    "def procesar_archivos_json(ruta_directorio, nombre_estado, columnas_a_eliminar=['pics', 'resp']):\n",
    "    # Usamos glob para encontrar todos los archivos .json en el directorio\n",
    "    archivos_json = glob.glob(os.path.join(ruta_directorio, '*.json'))\n",
    "    \n",
    "    # Lista para almacenar los DataFrames de cada archivo\n",
    "    dfs = []\n",
    "\n",
    "    # Iteramos sobre cada archivo JSON encontrado\n",
    "    for archivo in archivos_json:\n",
    "        # Cargamos el archivo JSON en un DataFrame\n",
    "        df_temp = pd.read_json(archivo, lines=True)\n",
    "        \n",
    "        # Agregamos el DataFrame a la lista\n",
    "        dfs.append(df_temp)\n",
    "\n",
    "    # Combinamos todos los DataFrames en uno solo\n",
    "    df_combinado = pd.concat(dfs, ignore_index=True)\n",
    "\n",
    "    # Mostramos el tamaño del DataFrame combinado\n",
    "    print(f\"Tamaño del DataFrame combinado para {nombre_estado}: {df_combinado.shape}\")\n",
    "\n",
    "    # Eliminamos las columnas especificadas del DataFrame\n",
    "    df_combinado = df_combinado.drop(columns=columnas_a_eliminar)\n",
    "\n",
    "    # Guardamos el DataFrame en un archivo Parquet\n",
    "    ruta_salida = f'Datasets/Google/review-estados/review-estados-parquet/review-{nombre_estado.lower()}.parquet'\n",
    "    df_combinado.to_parquet(ruta_salida)\n",
    "    \n",
    "    print(f\"Archivo Parquet guardado en: {ruta_salida}\")\n",
    "    \n",
    "    return df_combinado"
   ]
  },
  {
   "cell_type": "markdown",
   "metadata": {},
   "source": [
    "**01. Estado de la Florida**"
   ]
  },
  {
   "cell_type": "code",
   "execution_count": 19,
   "metadata": {},
   "outputs": [
    {
     "name": "stdout",
     "output_type": "stream",
     "text": [
      "Tamaño del DataFrame combinado para Florida: (2850000, 8)\n",
      "Archivo Parquet guardado en: Datasets/Google/review-estados/review-estados-parquet/review-florida.parquet\n"
     ]
    }
   ],
   "source": [
    "df_florida = procesar_archivos_json('./Datasets/Google/review-estados/review-Florida', 'Florida')\n"
   ]
  },
  {
   "cell_type": "markdown",
   "metadata": {},
   "source": [
    "**02. Estado de Georgia**"
   ]
  },
  {
   "cell_type": "code",
   "execution_count": 20,
   "metadata": {},
   "outputs": [
    {
     "name": "stdout",
     "output_type": "stream",
     "text": [
      "Tamaño del DataFrame combinado para Georgia: (1950000, 8)\n",
      "Archivo Parquet guardado en: Datasets/Google/review-estados/review-estados-parquet/review-georgia.parquet\n"
     ]
    }
   ],
   "source": [
    "df_georgia = procesar_archivos_json('./Datasets/Google/review-estados/review-Georgia', 'Georgia')"
   ]
  },
  {
   "cell_type": "markdown",
   "metadata": {},
   "source": [
    "**03. Estado de North Carolina**"
   ]
  },
  {
   "cell_type": "code",
   "execution_count": 21,
   "metadata": {},
   "outputs": [
    {
     "name": "stdout",
     "output_type": "stream",
     "text": [
      "Tamaño del DataFrame combinado para North_Carolina: (2250000, 8)\n",
      "Archivo Parquet guardado en: Datasets/Google/review-estados/review-estados-parquet/review-north_carolina.parquet\n"
     ]
    }
   ],
   "source": [
    "df_north_carolina = procesar_archivos_json('./Datasets/Google/review-estados/review-North_Carolina', 'North_Carolina')"
   ]
  },
  {
   "cell_type": "markdown",
   "metadata": {},
   "source": [
    "**04. Estado de South Carolina**"
   ]
  },
  {
   "cell_type": "code",
   "execution_count": 22,
   "metadata": {},
   "outputs": [
    {
     "name": "stdout",
     "output_type": "stream",
     "text": [
      "Tamaño del DataFrame combinado para South_Carolina: (2100000, 8)\n",
      "Archivo Parquet guardado en: Datasets/Google/review-estados/review-estados-parquet/review-south_carolina.parquet\n"
     ]
    }
   ],
   "source": [
    "df_south_carolina = procesar_archivos_json('./Datasets/Google/review-estados/review-South_Carolina', 'South_Carolina')"
   ]
  },
  {
   "cell_type": "markdown",
   "metadata": {},
   "source": [
    "**05. Estado de Maine**"
   ]
  },
  {
   "cell_type": "code",
   "execution_count": 23,
   "metadata": {},
   "outputs": [
    {
     "name": "stdout",
     "output_type": "stream",
     "text": [
      "Tamaño del DataFrame combinado para Maine: (1123881, 8)\n",
      "Archivo Parquet guardado en: Datasets/Google/review-estados/review-estados-parquet/review-maine.parquet\n"
     ]
    }
   ],
   "source": [
    "df_maine = procesar_archivos_json('./Datasets/Google/review-estados/review-Maine', 'Maine')"
   ]
  },
  {
   "cell_type": "markdown",
   "metadata": {},
   "source": [
    "**06. Estado de Massachusetts**"
   ]
  },
  {
   "cell_type": "code",
   "execution_count": 24,
   "metadata": {},
   "outputs": [
    {
     "name": "stdout",
     "output_type": "stream",
     "text": [
      "Tamaño del DataFrame combinado para Massachusetts: (2400000, 8)\n",
      "Archivo Parquet guardado en: Datasets/Google/review-estados/review-estados-parquet/review-massachusetts.parquet\n"
     ]
    }
   ],
   "source": [
    "df_maine = procesar_archivos_json('./Datasets/Google/review-estados/review-Massachusetts', 'Massachusetts')"
   ]
  },
  {
   "cell_type": "markdown",
   "metadata": {},
   "source": [
    "**07. Estado de New Hampshire**"
   ]
  },
  {
   "cell_type": "code",
   "execution_count": 25,
   "metadata": {},
   "outputs": [
    {
     "name": "stdout",
     "output_type": "stream",
     "text": [
      "Tamaño del DataFrame combinado para New_Hampshire: (1296603, 8)\n",
      "Archivo Parquet guardado en: Datasets/Google/review-estados/review-estados-parquet/review-new_hampshire.parquet\n"
     ]
    }
   ],
   "source": [
    "df_new_hampshire = procesar_archivos_json('./Datasets/Google/review-estados/review-New_Hampshire', 'New_Hampshire')"
   ]
  },
  {
   "cell_type": "markdown",
   "metadata": {},
   "source": [
    "**08.Estado de Rhode Island**"
   ]
  },
  {
   "cell_type": "code",
   "execution_count": 26,
   "metadata": {},
   "outputs": [
    {
     "name": "stdout",
     "output_type": "stream",
     "text": [
      "Tamaño del DataFrame combinado para Rhode_Island: (890006, 8)\n",
      "Archivo Parquet guardado en: Datasets/Google/review-estados/review-estados-parquet/review-rhode_island.parquet\n"
     ]
    }
   ],
   "source": [
    "df_rhode_island = procesar_archivos_json('./Datasets/Google/review-estados/review-Rhode_Island', 'Rhode_Island')"
   ]
  },
  {
   "cell_type": "markdown",
   "metadata": {},
   "source": [
    "**09. Estado de New York**"
   ]
  },
  {
   "cell_type": "code",
   "execution_count": 27,
   "metadata": {},
   "outputs": [
    {
     "name": "stdout",
     "output_type": "stream",
     "text": [
      "Tamaño del DataFrame combinado para New_York: (2700000, 8)\n",
      "Archivo Parquet guardado en: Datasets/Google/review-estados/review-estados-parquet/review-new_york.parquet\n"
     ]
    }
   ],
   "source": [
    "df_new_york = procesar_archivos_json('./Datasets/Google/review-estados/review-New_York', 'New_York')"
   ]
  },
  {
   "cell_type": "markdown",
   "metadata": {},
   "source": [
    "**10. Estado de Connecticut**"
   ]
  },
  {
   "cell_type": "code",
   "execution_count": 28,
   "metadata": {},
   "outputs": [
    {
     "name": "stdout",
     "output_type": "stream",
     "text": [
      "Tamaño del DataFrame combinado para Connecticut: (2680107, 8)\n",
      "Archivo Parquet guardado en: Datasets/Google/review-estados/review-estados-parquet/review-connecticut.parquet\n"
     ]
    }
   ],
   "source": [
    "df_connecticut = procesar_archivos_json('./Datasets/Google/review-estados/review-Connecticut', 'Connecticut')"
   ]
  },
  {
   "cell_type": "markdown",
   "metadata": {},
   "source": [
    "**11. Estado de Delaware**\n"
   ]
  },
  {
   "cell_type": "code",
   "execution_count": 29,
   "metadata": {},
   "outputs": [
    {
     "name": "stdout",
     "output_type": "stream",
     "text": [
      "Tamaño del DataFrame combinado para Delaware: (905537, 8)\n",
      "Archivo Parquet guardado en: Datasets/Google/review-estados/review-estados-parquet/review-delaware.parquet\n"
     ]
    }
   ],
   "source": [
    "df_delaware = procesar_archivos_json('./Datasets/Google/review-estados/review-Delaware', 'Delaware')"
   ]
  },
  {
   "cell_type": "markdown",
   "metadata": {},
   "source": [
    "**12. Estado de New Jersey**"
   ]
  },
  {
   "cell_type": "code",
   "execution_count": 30,
   "metadata": {},
   "outputs": [
    {
     "name": "stdout",
     "output_type": "stream",
     "text": [
      "Tamaño del DataFrame combinado para New_Jersey: (1950000, 8)\n",
      "Archivo Parquet guardado en: Datasets/Google/review-estados/review-estados-parquet/review-new_jersey.parquet\n"
     ]
    }
   ],
   "source": [
    "df_new_jersey = procesar_archivos_json('./Datasets/Google/review-estados/review-New_Jersey', 'New_Jersey')"
   ]
  },
  {
   "cell_type": "markdown",
   "metadata": {},
   "source": [
    "**13. Estado de Maryland**"
   ]
  },
  {
   "cell_type": "code",
   "execution_count": 31,
   "metadata": {},
   "outputs": [
    {
     "name": "stdout",
     "output_type": "stream",
     "text": [
      "Tamaño del DataFrame combinado para Maryland: (2400000, 8)\n",
      "Archivo Parquet guardado en: Datasets/Google/review-estados/review-estados-parquet/review-maryland.parquet\n"
     ]
    }
   ],
   "source": [
    "df_maryland = procesar_archivos_json('./Datasets/Google/review-estados/review-Maryland', 'Maryland')"
   ]
  },
  {
   "cell_type": "markdown",
   "metadata": {},
   "source": [
    "**14. Estado de Virginia**"
   ]
  },
  {
   "cell_type": "code",
   "execution_count": 32,
   "metadata": {},
   "outputs": [
    {
     "name": "stdout",
     "output_type": "stream",
     "text": [
      "Tamaño del DataFrame combinado para Virginia: (1662059, 8)\n",
      "Archivo Parquet guardado en: Datasets/Google/review-estados/review-estados-parquet/review-virginia.parquet\n"
     ]
    }
   ],
   "source": [
    "df_virginia = procesar_archivos_json('./Datasets/Google/review-estados/review-Virginia', 'Virginia')"
   ]
  },
  {
   "cell_type": "markdown",
   "metadata": {},
   "source": [
    "### **2. Carga de datos Yelp**\n",
    "\n",
    "**Descripción de los Datos de Yelp**\n",
    "\n",
    "Para el análisis de la cadena de restaurantes China Garden en la costa este de Estados Unidos, se han recopilado datos detallados de Yelp, una de las plataformas de reseñas de restaurantes más importantes. Estos datos se encuentran distribuidos en cinco archivos distintos, cada uno de los cuales proporciona información relevante para entender el comportamiento del mercado y la percepción de los consumidores.\n",
    "\n",
    "**1. Archivo: business.pkl**\n",
    "\n",
    "El archivo business.pkl contiene información esencial sobre los negocios listados en Yelp, específicamente sobre los restaurantes de interés. Este archivo proporciona datos detallados de cada establecimiento, incluyendo su nombre, dirección, categoría, atributos adicionales (como si ofrece opciones vegetarianas o si tiene estacionamiento), y su ubicación geográfica exacta. Estos datos son fundamentales para realizar un análisis geoespacial, identificar patrones en las ubicaciones de los restaurantes, y comparar características de los competidores dentro del mismo mercado.\n",
    "\n",
    "**2. Archivo: Checkin.json**\n",
    "\n",
    "El archivo Checkin.json proporciona los datos de horarios de reservas y registros de visitas de los usuarios a los restaurantes. Este archivo permite analizar las horas pico de actividad, la popularidad de los restaurantes en diferentes días de la semana, y la frecuencia de visitas de los clientes. Este análisis es crucial para entender los patrones de tráfico y comportamiento de los consumidores, lo que puede ayudar a optimizar los horarios de operación y estrategias de marketing.\n",
    "\n",
    "**3. Archivo: Review.json**\n",
    "\n",
    "El archivo Review.json contiene las reseñas de los clientes que han visitado los restaurantes de interés. Cada reseña incluye información valiosa como la calificación otorgada (de 1 a 5 estrellas), el texto de la reseña, la fecha en que se escribió, y otros atributos que reflejan la experiencia del cliente. Este archivo es fundamental para realizar un análisis de sentimientos y evaluar las opiniones de los consumidores sobre China Garden y sus competidores. Además, permite identificar temas recurrentes en los comentarios de los clientes, puntos fuertes, áreas de mejora, y tendencias emergentes en la percepción del mercado.\n",
    "\n",
    "**4. Archivo: Tip**\n",
    "\n",
    "El archivo Tip contiene una recopilación de recomendaciones o consejos breves que los usuarios han dejado sobre los restaurantes en Yelp. Aunque estos \"tips\" son más cortos que las reseñas tradicionales, a menudo proporcionan insights rápidos y directos sobre lo que los clientes consideran relevante o digno de destacar. Este archivo permite complementar el análisis de reseñas con datos adicionales que pueden ayudar a identificar las expectativas y preferencias de los clientes.\n",
    "\n",
    "**5. Archivo: User**\n",
    "\n",
    "El archivo User proporciona información sobre los usuarios de Yelp que han interactuado con los restaurantes de la cadena y sus competidores. Incluye detalles como el número total de reseñas realizadas por cada usuario, su ubicación, el promedio de calificaciones otorgadas, y otros comportamientos del usuario en la plataforma. Este archivo es clave para identificar clientes leales, entender los perfiles demográficos y de comportamiento de los clientes, y determinar cómo interactúan diferentes grupos de consumidores con los restaurantes de interés.\n",
    "\n",
    "**Proceso de Preparación de los Dato**s\n",
    "Para realizar un análisis integral, se procederá con la limpieza y unificación de los datos de cada archivo:\n",
    "\n",
    "Integración de la información de negocios del archivo business.pkl con los datos de los archivos de reseñas, tips, check-ins y usuarios.\n",
    "Procesamiento de los archivos JSON para extraer insights relevantes sobre la actividad de los clientes, patrones de reserva, y calificaciones.\n",
    "Análisis combinado de los datos de Yelp para identificar oportunidades de mejora y estrategias de crecimiento para \"China Garden\" en la costa este de Estados Unidos.\n",
    "Esta estructura de datos permitirá llevar a cabo un análisis exhaustivo que considere no solo la competencia y el posicionamiento actual de \"China Garden\", sino también las expectativas y percepciones de los clientes en tiempo real."
   ]
  },
  {
   "cell_type": "markdown",
   "metadata": {},
   "source": [
    "### **01. Carga y exportación a parquet del archivo Bussiness.pkl**"
   ]
  },
  {
   "cell_type": "code",
   "execution_count": 33,
   "metadata": {},
   "outputs": [
    {
     "data": {
      "text/html": [
       "<div>\n",
       "<style scoped>\n",
       "    .dataframe tbody tr th:only-of-type {\n",
       "        vertical-align: middle;\n",
       "    }\n",
       "\n",
       "    .dataframe tbody tr th {\n",
       "        vertical-align: top;\n",
       "    }\n",
       "\n",
       "    .dataframe thead th {\n",
       "        text-align: right;\n",
       "    }\n",
       "</style>\n",
       "<table border=\"1\" class=\"dataframe\">\n",
       "  <thead>\n",
       "    <tr style=\"text-align: right;\">\n",
       "      <th></th>\n",
       "      <th>business_id</th>\n",
       "      <th>name</th>\n",
       "      <th>address</th>\n",
       "      <th>city</th>\n",
       "      <th>state</th>\n",
       "      <th>postal_code</th>\n",
       "      <th>latitude</th>\n",
       "      <th>longitude</th>\n",
       "      <th>stars</th>\n",
       "      <th>review_count</th>\n",
       "      <th>...</th>\n",
       "      <th>state</th>\n",
       "      <th>postal_code</th>\n",
       "      <th>latitude</th>\n",
       "      <th>longitude</th>\n",
       "      <th>stars</th>\n",
       "      <th>review_count</th>\n",
       "      <th>is_open</th>\n",
       "      <th>attributes</th>\n",
       "      <th>categories</th>\n",
       "      <th>hours</th>\n",
       "    </tr>\n",
       "  </thead>\n",
       "  <tbody>\n",
       "    <tr>\n",
       "      <th>0</th>\n",
       "      <td>Pns2l4eNsfO8kk83dixA6A</td>\n",
       "      <td>Abby Rappoport, LAC, CMQ</td>\n",
       "      <td>1616 Chapala St, Ste 2</td>\n",
       "      <td>Santa Barbara</td>\n",
       "      <td>NaN</td>\n",
       "      <td>93101</td>\n",
       "      <td>34.426679</td>\n",
       "      <td>-119.711197</td>\n",
       "      <td>5.0</td>\n",
       "      <td>7</td>\n",
       "      <td>...</td>\n",
       "      <td>NaN</td>\n",
       "      <td>NaN</td>\n",
       "      <td>NaN</td>\n",
       "      <td>NaN</td>\n",
       "      <td>NaN</td>\n",
       "      <td>NaN</td>\n",
       "      <td>NaN</td>\n",
       "      <td>NaN</td>\n",
       "      <td>NaN</td>\n",
       "      <td>NaN</td>\n",
       "    </tr>\n",
       "    <tr>\n",
       "      <th>1</th>\n",
       "      <td>mpf3x-BjTdTEA3yCZrAYPw</td>\n",
       "      <td>The UPS Store</td>\n",
       "      <td>87 Grasso Plaza Shopping Center</td>\n",
       "      <td>Affton</td>\n",
       "      <td>NaN</td>\n",
       "      <td>63123</td>\n",
       "      <td>38.551126</td>\n",
       "      <td>-90.335695</td>\n",
       "      <td>3.0</td>\n",
       "      <td>15</td>\n",
       "      <td>...</td>\n",
       "      <td>NaN</td>\n",
       "      <td>NaN</td>\n",
       "      <td>NaN</td>\n",
       "      <td>NaN</td>\n",
       "      <td>NaN</td>\n",
       "      <td>NaN</td>\n",
       "      <td>NaN</td>\n",
       "      <td>NaN</td>\n",
       "      <td>NaN</td>\n",
       "      <td>NaN</td>\n",
       "    </tr>\n",
       "    <tr>\n",
       "      <th>2</th>\n",
       "      <td>tUFrWirKiKi_TAnsVWINQQ</td>\n",
       "      <td>Target</td>\n",
       "      <td>5255 E Broadway Blvd</td>\n",
       "      <td>Tucson</td>\n",
       "      <td>NaN</td>\n",
       "      <td>85711</td>\n",
       "      <td>32.223236</td>\n",
       "      <td>-110.880452</td>\n",
       "      <td>3.5</td>\n",
       "      <td>22</td>\n",
       "      <td>...</td>\n",
       "      <td>NaN</td>\n",
       "      <td>NaN</td>\n",
       "      <td>NaN</td>\n",
       "      <td>NaN</td>\n",
       "      <td>NaN</td>\n",
       "      <td>NaN</td>\n",
       "      <td>NaN</td>\n",
       "      <td>NaN</td>\n",
       "      <td>NaN</td>\n",
       "      <td>NaN</td>\n",
       "    </tr>\n",
       "  </tbody>\n",
       "</table>\n",
       "<p>3 rows × 28 columns</p>\n",
       "</div>"
      ],
      "text/plain": [
       "              business_id                      name  \\\n",
       "0  Pns2l4eNsfO8kk83dixA6A  Abby Rappoport, LAC, CMQ   \n",
       "1  mpf3x-BjTdTEA3yCZrAYPw             The UPS Store   \n",
       "2  tUFrWirKiKi_TAnsVWINQQ                    Target   \n",
       "\n",
       "                           address           city state postal_code  \\\n",
       "0           1616 Chapala St, Ste 2  Santa Barbara   NaN       93101   \n",
       "1  87 Grasso Plaza Shopping Center         Affton   NaN       63123   \n",
       "2             5255 E Broadway Blvd         Tucson   NaN       85711   \n",
       "\n",
       "    latitude   longitude stars review_count  ... state postal_code latitude  \\\n",
       "0  34.426679 -119.711197   5.0            7  ...   NaN         NaN      NaN   \n",
       "1  38.551126  -90.335695   3.0           15  ...   NaN         NaN      NaN   \n",
       "2  32.223236 -110.880452   3.5           22  ...   NaN         NaN      NaN   \n",
       "\n",
       "  longitude stars review_count is_open attributes categories hours  \n",
       "0       NaN   NaN          NaN     NaN        NaN        NaN   NaN  \n",
       "1       NaN   NaN          NaN     NaN        NaN        NaN   NaN  \n",
       "2       NaN   NaN          NaN     NaN        NaN        NaN   NaN  \n",
       "\n",
       "[3 rows x 28 columns]"
      ]
     },
     "execution_count": 33,
     "metadata": {},
     "output_type": "execute_result"
    }
   ],
   "source": [
    "# Ruta al archivo .pkl\n",
    "ruta_archivo = 'Datasets/Yelp/business.pkl'\n",
    "\n",
    "# Cargamos el archivo .pkl en un DataFrame\n",
    "df = pd.read_pickle(ruta_archivo)\n",
    "\n",
    "# Mostramos las primeras filas del DataFrame para verificar que se haya cargado correctamente\n",
    "df.head(3)"
   ]
  },
  {
   "cell_type": "code",
   "execution_count": 34,
   "metadata": {},
   "outputs": [
    {
     "data": {
      "text/plain": [
       "Index(['business_id', 'name', 'address', 'city', 'state', 'postal_code',\n",
       "       'latitude', 'longitude', 'stars', 'review_count', 'is_open',\n",
       "       'attributes', 'categories', 'hours', 'business_id', 'name', 'address',\n",
       "       'city', 'state', 'postal_code', 'latitude', 'longitude', 'stars',\n",
       "       'review_count', 'is_open', 'attributes', 'categories', 'hours'],\n",
       "      dtype='object')"
      ]
     },
     "execution_count": 34,
     "metadata": {},
     "output_type": "execute_result"
    }
   ],
   "source": [
    "# Exploración de columnas\n",
    "df.columns"
   ]
  },
  {
   "cell_type": "code",
   "execution_count": 35,
   "metadata": {},
   "outputs": [
    {
     "data": {
      "text/plain": [
       "array([False, False, False, False, False, False, False, False, False,\n",
       "       False, False, False, False, False,  True,  True,  True,  True,\n",
       "        True,  True,  True,  True,  True,  True,  True,  True,  True,\n",
       "        True])"
      ]
     },
     "execution_count": 35,
     "metadata": {},
     "output_type": "execute_result"
    }
   ],
   "source": [
    "df.columns.duplicated()"
   ]
  },
  {
   "cell_type": "markdown",
   "metadata": {},
   "source": [
    "Se encontraron varias columnas duplicadas"
   ]
  },
  {
   "cell_type": "code",
   "execution_count": 36,
   "metadata": {},
   "outputs": [
    {
     "data": {
      "text/plain": [
       "Index(['business_id', 'name', 'address', 'city', 'state', 'postal_code',\n",
       "       'latitude', 'longitude', 'stars', 'review_count', 'is_open',\n",
       "       'attributes', 'categories', 'hours'],\n",
       "      dtype='object')"
      ]
     },
     "execution_count": 36,
     "metadata": {},
     "output_type": "execute_result"
    }
   ],
   "source": [
    "# Eliminamos columnas duplicadas\n",
    "df = df.loc[:, ~df.columns.duplicated()]\n",
    "\n",
    "# Mostramos las columnas después de eliminar duplicados\n",
    "df.columns"
   ]
  },
  {
   "cell_type": "code",
   "execution_count": 37,
   "metadata": {},
   "outputs": [
    {
     "data": {
      "text/plain": [
       "(150346, 14)"
      ]
     },
     "execution_count": 37,
     "metadata": {},
     "output_type": "execute_result"
    }
   ],
   "source": [
    "df.shape"
   ]
  },
  {
   "cell_type": "code",
   "execution_count": 38,
   "metadata": {},
   "outputs": [
    {
     "data": {
      "text/plain": [
       "(150346, 10)"
      ]
     },
     "execution_count": 38,
     "metadata": {},
     "output_type": "execute_result"
    }
   ],
   "source": [
    "# Eliminamos las columnas especificadas del DataFrame\n",
    "columnas_a_eliminar = ['address', 'is_open', 'attributes', 'hours']\n",
    "df = df.drop(columns=columnas_a_eliminar)\n",
    "\n",
    "df.shape"
   ]
  },
  {
   "cell_type": "markdown",
   "metadata": {},
   "source": [
    "**Se filtra el DataFrame por estados de la costa este**"
   ]
  },
  {
   "cell_type": "code",
   "execution_count": 39,
   "metadata": {},
   "outputs": [
    {
     "data": {
      "text/html": [
       "<div>\n",
       "<style scoped>\n",
       "    .dataframe tbody tr th:only-of-type {\n",
       "        vertical-align: middle;\n",
       "    }\n",
       "\n",
       "    .dataframe tbody tr th {\n",
       "        vertical-align: top;\n",
       "    }\n",
       "\n",
       "    .dataframe thead th {\n",
       "        text-align: right;\n",
       "    }\n",
       "</style>\n",
       "<table border=\"1\" class=\"dataframe\">\n",
       "  <thead>\n",
       "    <tr style=\"text-align: right;\">\n",
       "      <th></th>\n",
       "      <th>business_id</th>\n",
       "      <th>name</th>\n",
       "      <th>city</th>\n",
       "      <th>state</th>\n",
       "      <th>postal_code</th>\n",
       "      <th>latitude</th>\n",
       "      <th>longitude</th>\n",
       "      <th>stars</th>\n",
       "      <th>review_count</th>\n",
       "      <th>categories</th>\n",
       "    </tr>\n",
       "  </thead>\n",
       "  <tbody>\n",
       "    <tr>\n",
       "      <th>10</th>\n",
       "      <td>UJsufbvfyfONHeWdvAHKjA</td>\n",
       "      <td>Marshalls</td>\n",
       "      <td>Land O' Lakes</td>\n",
       "      <td>FL</td>\n",
       "      <td>34639</td>\n",
       "      <td>28.190459</td>\n",
       "      <td>-82.45738</td>\n",
       "      <td>3.5</td>\n",
       "      <td>6</td>\n",
       "      <td>Department Stores, Shopping, Fashion</td>\n",
       "    </tr>\n",
       "    <tr>\n",
       "      <th>13</th>\n",
       "      <td>jaxMSoInw8Poo3XeMJt8lQ</td>\n",
       "      <td>Adams Dental</td>\n",
       "      <td>Clearwater</td>\n",
       "      <td>FL</td>\n",
       "      <td>33755</td>\n",
       "      <td>27.966235</td>\n",
       "      <td>-82.787412</td>\n",
       "      <td>5.0</td>\n",
       "      <td>10</td>\n",
       "      <td>General Dentistry, Dentists, Health &amp; Medical,...</td>\n",
       "    </tr>\n",
       "    <tr>\n",
       "      <th>14</th>\n",
       "      <td>0bPLkL0QhhPO5kt1_EXmNQ</td>\n",
       "      <td>Zio's Italian Market</td>\n",
       "      <td>Largo</td>\n",
       "      <td>FL</td>\n",
       "      <td>33771</td>\n",
       "      <td>27.916116</td>\n",
       "      <td>-82.760461</td>\n",
       "      <td>4.5</td>\n",
       "      <td>100</td>\n",
       "      <td>Food, Delis, Italian, Bakeries, Restaurants</td>\n",
       "    </tr>\n",
       "  </tbody>\n",
       "</table>\n",
       "</div>"
      ],
      "text/plain": [
       "               business_id                  name           city state  \\\n",
       "10  UJsufbvfyfONHeWdvAHKjA             Marshalls  Land O' Lakes    FL   \n",
       "13  jaxMSoInw8Poo3XeMJt8lQ          Adams Dental     Clearwater    FL   \n",
       "14  0bPLkL0QhhPO5kt1_EXmNQ  Zio's Italian Market          Largo    FL   \n",
       "\n",
       "   postal_code   latitude  longitude stars review_count  \\\n",
       "10       34639  28.190459  -82.45738   3.5            6   \n",
       "13       33755  27.966235 -82.787412   5.0           10   \n",
       "14       33771  27.916116 -82.760461   4.5          100   \n",
       "\n",
       "                                           categories  \n",
       "10               Department Stores, Shopping, Fashion  \n",
       "13  General Dentistry, Dentists, Health & Medical,...  \n",
       "14        Food, Delis, Italian, Bakeries, Restaurants  "
      ]
     },
     "execution_count": 39,
     "metadata": {},
     "output_type": "execute_result"
    }
   ],
   "source": [
    "# Lista de estados de la costa este que queremos mantener\n",
    "east_coast_states = ['ME', 'NH', 'MA', 'RI', 'CT', 'NY', 'NJ', 'DE', 'MD', 'VA', 'NC', 'SC', 'GA', 'FL']\n",
    "\n",
    "# Filtramos el DataFrame para eliminar los valores nulos en la columna 'state' \n",
    "# y mantenemos solo los estados de la costa este\n",
    "df_filtrado = df[df['state'].isin(east_coast_states) & df['state'].notna()]\n",
    "\n",
    "# Mostramos el DataFrame filtrado\n",
    "df_filtrado.head(3)\n"
   ]
  },
  {
   "cell_type": "code",
   "execution_count": 40,
   "metadata": {},
   "outputs": [
    {
     "data": {
      "text/plain": [
       "(37133, 10)"
      ]
     },
     "execution_count": 40,
     "metadata": {},
     "output_type": "execute_result"
    }
   ],
   "source": [
    "df_filtrado.shape"
   ]
  },
  {
   "cell_type": "markdown",
   "metadata": {},
   "source": [
    "**Se agrega una columna con el nombre de estado completo**"
   ]
  },
  {
   "cell_type": "code",
   "execution_count": 41,
   "metadata": {},
   "outputs": [
    {
     "name": "stderr",
     "output_type": "stream",
     "text": [
      "C:\\Users\\54370\\AppData\\Local\\Temp\\ipykernel_10024\\2195659317.py:20: SettingWithCopyWarning: \n",
      "A value is trying to be set on a copy of a slice from a DataFrame.\n",
      "Try using .loc[row_indexer,col_indexer] = value instead\n",
      "\n",
      "See the caveats in the documentation: https://pandas.pydata.org/pandas-docs/stable/user_guide/indexing.html#returning-a-view-versus-a-copy\n",
      "  df_filtrado['nombre_estado'] = df_filtrado['state'].map(state_names)\n"
     ]
    },
    {
     "data": {
      "text/html": [
       "<div>\n",
       "<style scoped>\n",
       "    .dataframe tbody tr th:only-of-type {\n",
       "        vertical-align: middle;\n",
       "    }\n",
       "\n",
       "    .dataframe tbody tr th {\n",
       "        vertical-align: top;\n",
       "    }\n",
       "\n",
       "    .dataframe thead th {\n",
       "        text-align: right;\n",
       "    }\n",
       "</style>\n",
       "<table border=\"1\" class=\"dataframe\">\n",
       "  <thead>\n",
       "    <tr style=\"text-align: right;\">\n",
       "      <th></th>\n",
       "      <th>business_id</th>\n",
       "      <th>name</th>\n",
       "      <th>city</th>\n",
       "      <th>state</th>\n",
       "      <th>postal_code</th>\n",
       "      <th>latitude</th>\n",
       "      <th>longitude</th>\n",
       "      <th>stars</th>\n",
       "      <th>review_count</th>\n",
       "      <th>categories</th>\n",
       "      <th>nombre_estado</th>\n",
       "    </tr>\n",
       "  </thead>\n",
       "  <tbody>\n",
       "    <tr>\n",
       "      <th>10</th>\n",
       "      <td>UJsufbvfyfONHeWdvAHKjA</td>\n",
       "      <td>Marshalls</td>\n",
       "      <td>Land O' Lakes</td>\n",
       "      <td>FL</td>\n",
       "      <td>34639</td>\n",
       "      <td>28.190459</td>\n",
       "      <td>-82.45738</td>\n",
       "      <td>3.5</td>\n",
       "      <td>6</td>\n",
       "      <td>Department Stores, Shopping, Fashion</td>\n",
       "      <td>Florida</td>\n",
       "    </tr>\n",
       "    <tr>\n",
       "      <th>13</th>\n",
       "      <td>jaxMSoInw8Poo3XeMJt8lQ</td>\n",
       "      <td>Adams Dental</td>\n",
       "      <td>Clearwater</td>\n",
       "      <td>FL</td>\n",
       "      <td>33755</td>\n",
       "      <td>27.966235</td>\n",
       "      <td>-82.787412</td>\n",
       "      <td>5.0</td>\n",
       "      <td>10</td>\n",
       "      <td>General Dentistry, Dentists, Health &amp; Medical,...</td>\n",
       "      <td>Florida</td>\n",
       "    </tr>\n",
       "    <tr>\n",
       "      <th>14</th>\n",
       "      <td>0bPLkL0QhhPO5kt1_EXmNQ</td>\n",
       "      <td>Zio's Italian Market</td>\n",
       "      <td>Largo</td>\n",
       "      <td>FL</td>\n",
       "      <td>33771</td>\n",
       "      <td>27.916116</td>\n",
       "      <td>-82.760461</td>\n",
       "      <td>4.5</td>\n",
       "      <td>100</td>\n",
       "      <td>Food, Delis, Italian, Bakeries, Restaurants</td>\n",
       "      <td>Florida</td>\n",
       "    </tr>\n",
       "  </tbody>\n",
       "</table>\n",
       "</div>"
      ],
      "text/plain": [
       "               business_id                  name           city state  \\\n",
       "10  UJsufbvfyfONHeWdvAHKjA             Marshalls  Land O' Lakes    FL   \n",
       "13  jaxMSoInw8Poo3XeMJt8lQ          Adams Dental     Clearwater    FL   \n",
       "14  0bPLkL0QhhPO5kt1_EXmNQ  Zio's Italian Market          Largo    FL   \n",
       "\n",
       "   postal_code   latitude  longitude stars review_count  \\\n",
       "10       34639  28.190459  -82.45738   3.5            6   \n",
       "13       33755  27.966235 -82.787412   5.0           10   \n",
       "14       33771  27.916116 -82.760461   4.5          100   \n",
       "\n",
       "                                           categories nombre_estado  \n",
       "10               Department Stores, Shopping, Fashion       Florida  \n",
       "13  General Dentistry, Dentists, Health & Medical,...       Florida  \n",
       "14        Food, Delis, Italian, Bakeries, Restaurants       Florida  "
      ]
     },
     "execution_count": 41,
     "metadata": {},
     "output_type": "execute_result"
    }
   ],
   "source": [
    "# Diccionario de códigos de estado a nombres completos\n",
    "state_names = {\n",
    "    'ME': 'Maine',\n",
    "    'NH': 'New Hampshire',\n",
    "    'MA': 'Massachusetts',\n",
    "    'RI': 'Rhode Island',\n",
    "    'CT': 'Connecticut',\n",
    "    'NY': 'New York',\n",
    "    'NJ': 'New Jersey',\n",
    "    'DE': 'Delaware',\n",
    "    'MD': 'Maryland',\n",
    "    'VA': 'Virginia',\n",
    "    'NC': 'North Carolina',\n",
    "    'SC': 'South Carolina',\n",
    "    'GA': 'Georgia',\n",
    "    'FL': 'Florida'\n",
    "}\n",
    "\n",
    "# Creamos la nueva columna 'nombre_estado' utilizando el diccionario y el método .map()\n",
    "df_filtrado['nombre_estado'] = df_filtrado['state'].map(state_names)\n",
    "\n",
    "# Mostramos el DataFrame con la nueva columna\n",
    "df_filtrado.head(3)\n"
   ]
  },
  {
   "cell_type": "code",
   "execution_count": 42,
   "metadata": {},
   "outputs": [],
   "source": [
    "# Guardamos el DataFrame en un archivo Parquet\n",
    "df_filtrado.to_parquet('Datasets/Yelp/parquet_files/Business.parquet')"
   ]
  },
  {
   "cell_type": "markdown",
   "metadata": {},
   "source": [
    "### **02. Carga y exportación a parquet del archivo Checkin.json**"
   ]
  },
  {
   "cell_type": "code",
   "execution_count": 43,
   "metadata": {},
   "outputs": [
    {
     "data": {
      "text/html": [
       "<div>\n",
       "<style scoped>\n",
       "    .dataframe tbody tr th:only-of-type {\n",
       "        vertical-align: middle;\n",
       "    }\n",
       "\n",
       "    .dataframe tbody tr th {\n",
       "        vertical-align: top;\n",
       "    }\n",
       "\n",
       "    .dataframe thead th {\n",
       "        text-align: right;\n",
       "    }\n",
       "</style>\n",
       "<table border=\"1\" class=\"dataframe\">\n",
       "  <thead>\n",
       "    <tr style=\"text-align: right;\">\n",
       "      <th></th>\n",
       "      <th>business_id</th>\n",
       "      <th>date</th>\n",
       "    </tr>\n",
       "  </thead>\n",
       "  <tbody>\n",
       "    <tr>\n",
       "      <th>0</th>\n",
       "      <td>---kPU91CF4Lq2-WlRu9Lw</td>\n",
       "      <td>2020-03-13 21:10:56, 2020-06-02 22:18:06, 2020...</td>\n",
       "    </tr>\n",
       "    <tr>\n",
       "      <th>1</th>\n",
       "      <td>--0iUa4sNDFiZFrAdIWhZQ</td>\n",
       "      <td>2010-09-13 21:43:09, 2011-05-04 23:08:15, 2011...</td>\n",
       "    </tr>\n",
       "    <tr>\n",
       "      <th>2</th>\n",
       "      <td>--30_8IhuyMHbSOcNWd6DQ</td>\n",
       "      <td>2013-06-14 23:29:17, 2014-08-13 23:20:22</td>\n",
       "    </tr>\n",
       "  </tbody>\n",
       "</table>\n",
       "</div>"
      ],
      "text/plain": [
       "              business_id                                               date\n",
       "0  ---kPU91CF4Lq2-WlRu9Lw  2020-03-13 21:10:56, 2020-06-02 22:18:06, 2020...\n",
       "1  --0iUa4sNDFiZFrAdIWhZQ  2010-09-13 21:43:09, 2011-05-04 23:08:15, 2011...\n",
       "2  --30_8IhuyMHbSOcNWd6DQ           2013-06-14 23:29:17, 2014-08-13 23:20:22"
      ]
     },
     "execution_count": 43,
     "metadata": {},
     "output_type": "execute_result"
    }
   ],
   "source": [
    "#Ruta de tu archivo JSON 1\n",
    "ruta_archivo = 'Datasets\\Yelp\\checkin.json'\n",
    "\n",
    "# Cargamos el archivo JSON en un DataFrame de pandas usando lines=True\n",
    "df = pd.read_json(ruta_archivo, lines=True)\n",
    "\n",
    "# Mostramos el DataFrame\n",
    "df.head(3)"
   ]
  },
  {
   "cell_type": "code",
   "execution_count": 44,
   "metadata": {},
   "outputs": [],
   "source": [
    "# Guardamos el DataFrame en un archivo Parquet\n",
    "df.to_parquet('Datasets/Yelp/parquet_files/Checkin.parquet')"
   ]
  },
  {
   "cell_type": "markdown",
   "metadata": {},
   "source": [
    "### **03. Carga y exportación a parquet del archivo review.json**"
   ]
  },
  {
   "cell_type": "code",
   "execution_count": 45,
   "metadata": {},
   "outputs": [],
   "source": [
    "# Carga review.json\n",
    "# Intentamos con utf-8\n",
    "try:\n",
    "    with open('Datasets/Yelp/review.json', 'r', encoding='utf-8') as f:\n",
    "        df_review = pd.DataFrame([json.loads(line) for line in f])\n",
    "except UnicodeDecodeError:\n",
    "    # Si utf-8 falla, intentamos con utf-8-sig\n",
    "    with open('Datasets/Yelp/review.json', 'r', encoding='utf-8-sig') as f:\n",
    "        df_review = pd.DataFrame([json.loads(line) for line in f])"
   ]
  },
  {
   "cell_type": "code",
   "execution_count": 46,
   "metadata": {},
   "outputs": [
    {
     "data": {
      "text/html": [
       "<div>\n",
       "<style scoped>\n",
       "    .dataframe tbody tr th:only-of-type {\n",
       "        vertical-align: middle;\n",
       "    }\n",
       "\n",
       "    .dataframe tbody tr th {\n",
       "        vertical-align: top;\n",
       "    }\n",
       "\n",
       "    .dataframe thead th {\n",
       "        text-align: right;\n",
       "    }\n",
       "</style>\n",
       "<table border=\"1\" class=\"dataframe\">\n",
       "  <thead>\n",
       "    <tr style=\"text-align: right;\">\n",
       "      <th></th>\n",
       "      <th>review_id</th>\n",
       "      <th>user_id</th>\n",
       "      <th>business_id</th>\n",
       "      <th>stars</th>\n",
       "      <th>useful</th>\n",
       "      <th>funny</th>\n",
       "      <th>cool</th>\n",
       "      <th>text</th>\n",
       "      <th>date</th>\n",
       "    </tr>\n",
       "  </thead>\n",
       "  <tbody>\n",
       "    <tr>\n",
       "      <th>0</th>\n",
       "      <td>KU_O5udG6zpxOg-VcAEodg</td>\n",
       "      <td>mh_-eMZ6K5RLWhZyISBhwA</td>\n",
       "      <td>XQfwVwDr-v0ZS3_CbbE5Xw</td>\n",
       "      <td>3.0</td>\n",
       "      <td>0</td>\n",
       "      <td>0</td>\n",
       "      <td>0</td>\n",
       "      <td>If you decide to eat here, just be aware it is...</td>\n",
       "      <td>2018-07-07 22:09:11</td>\n",
       "    </tr>\n",
       "    <tr>\n",
       "      <th>1</th>\n",
       "      <td>BiTunyQ73aT9WBnpR9DZGw</td>\n",
       "      <td>OyoGAe7OKpv6SyGZT5g77Q</td>\n",
       "      <td>7ATYjTIgM3jUlt4UM3IypQ</td>\n",
       "      <td>5.0</td>\n",
       "      <td>1</td>\n",
       "      <td>0</td>\n",
       "      <td>1</td>\n",
       "      <td>I've taken a lot of spin classes over the year...</td>\n",
       "      <td>2012-01-03 15:28:18</td>\n",
       "    </tr>\n",
       "    <tr>\n",
       "      <th>2</th>\n",
       "      <td>saUsX_uimxRlCVr67Z4Jig</td>\n",
       "      <td>8g_iMtfSiwikVnbP2etR0A</td>\n",
       "      <td>YjUWPpI6HXG530lwP-fb2A</td>\n",
       "      <td>3.0</td>\n",
       "      <td>0</td>\n",
       "      <td>0</td>\n",
       "      <td>0</td>\n",
       "      <td>Family diner. Had the buffet. Eclectic assortm...</td>\n",
       "      <td>2014-02-05 20:30:30</td>\n",
       "    </tr>\n",
       "  </tbody>\n",
       "</table>\n",
       "</div>"
      ],
      "text/plain": [
       "                review_id                 user_id             business_id  \\\n",
       "0  KU_O5udG6zpxOg-VcAEodg  mh_-eMZ6K5RLWhZyISBhwA  XQfwVwDr-v0ZS3_CbbE5Xw   \n",
       "1  BiTunyQ73aT9WBnpR9DZGw  OyoGAe7OKpv6SyGZT5g77Q  7ATYjTIgM3jUlt4UM3IypQ   \n",
       "2  saUsX_uimxRlCVr67Z4Jig  8g_iMtfSiwikVnbP2etR0A  YjUWPpI6HXG530lwP-fb2A   \n",
       "\n",
       "   stars  useful  funny  cool  \\\n",
       "0    3.0       0      0     0   \n",
       "1    5.0       1      0     1   \n",
       "2    3.0       0      0     0   \n",
       "\n",
       "                                                text                 date  \n",
       "0  If you decide to eat here, just be aware it is...  2018-07-07 22:09:11  \n",
       "1  I've taken a lot of spin classes over the year...  2012-01-03 15:28:18  \n",
       "2  Family diner. Had the buffet. Eclectic assortm...  2014-02-05 20:30:30  "
      ]
     },
     "execution_count": 46,
     "metadata": {},
     "output_type": "execute_result"
    }
   ],
   "source": [
    "df_review.head(3)"
   ]
  },
  {
   "cell_type": "code",
   "execution_count": 47,
   "metadata": {},
   "outputs": [
    {
     "name": "stdout",
     "output_type": "stream",
     "text": [
      "<class 'pandas.core.frame.DataFrame'>\n",
      "RangeIndex: 6990280 entries, 0 to 6990279\n",
      "Data columns (total 9 columns):\n",
      " #   Column       Dtype  \n",
      "---  ------       -----  \n",
      " 0   review_id    object \n",
      " 1   user_id      object \n",
      " 2   business_id  object \n",
      " 3   stars        float64\n",
      " 4   useful       int64  \n",
      " 5   funny        int64  \n",
      " 6   cool         int64  \n",
      " 7   text         object \n",
      " 8   date         object \n",
      "dtypes: float64(1), int64(3), object(5)\n",
      "memory usage: 480.0+ MB\n"
     ]
    }
   ],
   "source": [
    "df_review.info()"
   ]
  },
  {
   "cell_type": "code",
   "execution_count": 48,
   "metadata": {},
   "outputs": [],
   "source": [
    "# Eliminamos columnas innecesarias\n",
    "df_review.drop(['useful', 'funny', 'cool'], axis=1, inplace=True)"
   ]
  },
  {
   "cell_type": "code",
   "execution_count": 49,
   "metadata": {},
   "outputs": [
    {
     "ename": "ArrowMemoryError",
     "evalue": "realloc of size 704643072 failed",
     "output_type": "error",
     "traceback": [
      "\u001b[1;31m---------------------------------------------------------------------------\u001b[0m",
      "\u001b[1;31mArrowMemoryError\u001b[0m                          Traceback (most recent call last)",
      "Cell \u001b[1;32mIn[49], line 2\u001b[0m\n\u001b[0;32m      1\u001b[0m \u001b[38;5;66;03m# Exportar a parquet\u001b[39;00m\n\u001b[1;32m----> 2\u001b[0m \u001b[43mdf_review\u001b[49m\u001b[38;5;241;43m.\u001b[39;49m\u001b[43mto_parquet\u001b[49m\u001b[43m(\u001b[49m\u001b[38;5;124;43m'\u001b[39;49m\u001b[38;5;124;43mDatasets/Yelp/parquet_files/review-yelp.parquet\u001b[39;49m\u001b[38;5;124;43m'\u001b[39;49m\u001b[43m,\u001b[49m\u001b[43m \u001b[49m\u001b[43mindex\u001b[49m\u001b[38;5;241;43m=\u001b[39;49m\u001b[38;5;28;43;01mFalse\u001b[39;49;00m\u001b[43m)\u001b[49m\n",
      "File \u001b[1;32md:\\PROYECTO FINAL\\venv\\Lib\\site-packages\\pandas\\util\\_decorators.py:333\u001b[0m, in \u001b[0;36mdeprecate_nonkeyword_arguments.<locals>.decorate.<locals>.wrapper\u001b[1;34m(*args, **kwargs)\u001b[0m\n\u001b[0;32m    327\u001b[0m \u001b[38;5;28;01mif\u001b[39;00m \u001b[38;5;28mlen\u001b[39m(args) \u001b[38;5;241m>\u001b[39m num_allow_args:\n\u001b[0;32m    328\u001b[0m     warnings\u001b[38;5;241m.\u001b[39mwarn(\n\u001b[0;32m    329\u001b[0m         msg\u001b[38;5;241m.\u001b[39mformat(arguments\u001b[38;5;241m=\u001b[39m_format_argument_list(allow_args)),\n\u001b[0;32m    330\u001b[0m         \u001b[38;5;167;01mFutureWarning\u001b[39;00m,\n\u001b[0;32m    331\u001b[0m         stacklevel\u001b[38;5;241m=\u001b[39mfind_stack_level(),\n\u001b[0;32m    332\u001b[0m     )\n\u001b[1;32m--> 333\u001b[0m \u001b[38;5;28;01mreturn\u001b[39;00m \u001b[43mfunc\u001b[49m\u001b[43m(\u001b[49m\u001b[38;5;241;43m*\u001b[39;49m\u001b[43margs\u001b[49m\u001b[43m,\u001b[49m\u001b[43m \u001b[49m\u001b[38;5;241;43m*\u001b[39;49m\u001b[38;5;241;43m*\u001b[39;49m\u001b[43mkwargs\u001b[49m\u001b[43m)\u001b[49m\n",
      "File \u001b[1;32md:\\PROYECTO FINAL\\venv\\Lib\\site-packages\\pandas\\core\\frame.py:3113\u001b[0m, in \u001b[0;36mDataFrame.to_parquet\u001b[1;34m(self, path, engine, compression, index, partition_cols, storage_options, **kwargs)\u001b[0m\n\u001b[0;32m   3032\u001b[0m \u001b[38;5;250m\u001b[39m\u001b[38;5;124;03m\"\"\"\u001b[39;00m\n\u001b[0;32m   3033\u001b[0m \u001b[38;5;124;03mWrite a DataFrame to the binary parquet format.\u001b[39;00m\n\u001b[0;32m   3034\u001b[0m \n\u001b[1;32m   (...)\u001b[0m\n\u001b[0;32m   3109\u001b[0m \u001b[38;5;124;03m>>> content = f.read()\u001b[39;00m\n\u001b[0;32m   3110\u001b[0m \u001b[38;5;124;03m\"\"\"\u001b[39;00m\n\u001b[0;32m   3111\u001b[0m \u001b[38;5;28;01mfrom\u001b[39;00m \u001b[38;5;21;01mpandas\u001b[39;00m\u001b[38;5;21;01m.\u001b[39;00m\u001b[38;5;21;01mio\u001b[39;00m\u001b[38;5;21;01m.\u001b[39;00m\u001b[38;5;21;01mparquet\u001b[39;00m \u001b[38;5;28;01mimport\u001b[39;00m to_parquet\n\u001b[1;32m-> 3113\u001b[0m \u001b[38;5;28;01mreturn\u001b[39;00m \u001b[43mto_parquet\u001b[49m\u001b[43m(\u001b[49m\n\u001b[0;32m   3114\u001b[0m \u001b[43m    \u001b[49m\u001b[38;5;28;43mself\u001b[39;49m\u001b[43m,\u001b[49m\n\u001b[0;32m   3115\u001b[0m \u001b[43m    \u001b[49m\u001b[43mpath\u001b[49m\u001b[43m,\u001b[49m\n\u001b[0;32m   3116\u001b[0m \u001b[43m    \u001b[49m\u001b[43mengine\u001b[49m\u001b[43m,\u001b[49m\n\u001b[0;32m   3117\u001b[0m \u001b[43m    \u001b[49m\u001b[43mcompression\u001b[49m\u001b[38;5;241;43m=\u001b[39;49m\u001b[43mcompression\u001b[49m\u001b[43m,\u001b[49m\n\u001b[0;32m   3118\u001b[0m \u001b[43m    \u001b[49m\u001b[43mindex\u001b[49m\u001b[38;5;241;43m=\u001b[39;49m\u001b[43mindex\u001b[49m\u001b[43m,\u001b[49m\n\u001b[0;32m   3119\u001b[0m \u001b[43m    \u001b[49m\u001b[43mpartition_cols\u001b[49m\u001b[38;5;241;43m=\u001b[39;49m\u001b[43mpartition_cols\u001b[49m\u001b[43m,\u001b[49m\n\u001b[0;32m   3120\u001b[0m \u001b[43m    \u001b[49m\u001b[43mstorage_options\u001b[49m\u001b[38;5;241;43m=\u001b[39;49m\u001b[43mstorage_options\u001b[49m\u001b[43m,\u001b[49m\n\u001b[0;32m   3121\u001b[0m \u001b[43m    \u001b[49m\u001b[38;5;241;43m*\u001b[39;49m\u001b[38;5;241;43m*\u001b[39;49m\u001b[43mkwargs\u001b[49m\u001b[43m,\u001b[49m\n\u001b[0;32m   3122\u001b[0m \u001b[43m\u001b[49m\u001b[43m)\u001b[49m\n",
      "File \u001b[1;32md:\\PROYECTO FINAL\\venv\\Lib\\site-packages\\pandas\\io\\parquet.py:480\u001b[0m, in \u001b[0;36mto_parquet\u001b[1;34m(df, path, engine, compression, index, storage_options, partition_cols, filesystem, **kwargs)\u001b[0m\n\u001b[0;32m    476\u001b[0m impl \u001b[38;5;241m=\u001b[39m get_engine(engine)\n\u001b[0;32m    478\u001b[0m path_or_buf: FilePath \u001b[38;5;241m|\u001b[39m WriteBuffer[\u001b[38;5;28mbytes\u001b[39m] \u001b[38;5;241m=\u001b[39m io\u001b[38;5;241m.\u001b[39mBytesIO() \u001b[38;5;28;01mif\u001b[39;00m path \u001b[38;5;129;01mis\u001b[39;00m \u001b[38;5;28;01mNone\u001b[39;00m \u001b[38;5;28;01melse\u001b[39;00m path\n\u001b[1;32m--> 480\u001b[0m \u001b[43mimpl\u001b[49m\u001b[38;5;241;43m.\u001b[39;49m\u001b[43mwrite\u001b[49m\u001b[43m(\u001b[49m\n\u001b[0;32m    481\u001b[0m \u001b[43m    \u001b[49m\u001b[43mdf\u001b[49m\u001b[43m,\u001b[49m\n\u001b[0;32m    482\u001b[0m \u001b[43m    \u001b[49m\u001b[43mpath_or_buf\u001b[49m\u001b[43m,\u001b[49m\n\u001b[0;32m    483\u001b[0m \u001b[43m    \u001b[49m\u001b[43mcompression\u001b[49m\u001b[38;5;241;43m=\u001b[39;49m\u001b[43mcompression\u001b[49m\u001b[43m,\u001b[49m\n\u001b[0;32m    484\u001b[0m \u001b[43m    \u001b[49m\u001b[43mindex\u001b[49m\u001b[38;5;241;43m=\u001b[39;49m\u001b[43mindex\u001b[49m\u001b[43m,\u001b[49m\n\u001b[0;32m    485\u001b[0m \u001b[43m    \u001b[49m\u001b[43mpartition_cols\u001b[49m\u001b[38;5;241;43m=\u001b[39;49m\u001b[43mpartition_cols\u001b[49m\u001b[43m,\u001b[49m\n\u001b[0;32m    486\u001b[0m \u001b[43m    \u001b[49m\u001b[43mstorage_options\u001b[49m\u001b[38;5;241;43m=\u001b[39;49m\u001b[43mstorage_options\u001b[49m\u001b[43m,\u001b[49m\n\u001b[0;32m    487\u001b[0m \u001b[43m    \u001b[49m\u001b[43mfilesystem\u001b[49m\u001b[38;5;241;43m=\u001b[39;49m\u001b[43mfilesystem\u001b[49m\u001b[43m,\u001b[49m\n\u001b[0;32m    488\u001b[0m \u001b[43m    \u001b[49m\u001b[38;5;241;43m*\u001b[39;49m\u001b[38;5;241;43m*\u001b[39;49m\u001b[43mkwargs\u001b[49m\u001b[43m,\u001b[49m\n\u001b[0;32m    489\u001b[0m \u001b[43m\u001b[49m\u001b[43m)\u001b[49m\n\u001b[0;32m    491\u001b[0m \u001b[38;5;28;01mif\u001b[39;00m path \u001b[38;5;129;01mis\u001b[39;00m \u001b[38;5;28;01mNone\u001b[39;00m:\n\u001b[0;32m    492\u001b[0m     \u001b[38;5;28;01massert\u001b[39;00m \u001b[38;5;28misinstance\u001b[39m(path_or_buf, io\u001b[38;5;241m.\u001b[39mBytesIO)\n",
      "File \u001b[1;32md:\\PROYECTO FINAL\\venv\\Lib\\site-packages\\pandas\\io\\parquet.py:190\u001b[0m, in \u001b[0;36mPyArrowImpl.write\u001b[1;34m(self, df, path, compression, index, storage_options, partition_cols, filesystem, **kwargs)\u001b[0m\n\u001b[0;32m    187\u001b[0m \u001b[38;5;28;01mif\u001b[39;00m index \u001b[38;5;129;01mis\u001b[39;00m \u001b[38;5;129;01mnot\u001b[39;00m \u001b[38;5;28;01mNone\u001b[39;00m:\n\u001b[0;32m    188\u001b[0m     from_pandas_kwargs[\u001b[38;5;124m\"\u001b[39m\u001b[38;5;124mpreserve_index\u001b[39m\u001b[38;5;124m\"\u001b[39m] \u001b[38;5;241m=\u001b[39m index\n\u001b[1;32m--> 190\u001b[0m table \u001b[38;5;241m=\u001b[39m \u001b[38;5;28;43mself\u001b[39;49m\u001b[38;5;241;43m.\u001b[39;49m\u001b[43mapi\u001b[49m\u001b[38;5;241;43m.\u001b[39;49m\u001b[43mTable\u001b[49m\u001b[38;5;241;43m.\u001b[39;49m\u001b[43mfrom_pandas\u001b[49m\u001b[43m(\u001b[49m\u001b[43mdf\u001b[49m\u001b[43m,\u001b[49m\u001b[43m \u001b[49m\u001b[38;5;241;43m*\u001b[39;49m\u001b[38;5;241;43m*\u001b[39;49m\u001b[43mfrom_pandas_kwargs\u001b[49m\u001b[43m)\u001b[49m\n\u001b[0;32m    192\u001b[0m \u001b[38;5;28;01mif\u001b[39;00m df\u001b[38;5;241m.\u001b[39mattrs:\n\u001b[0;32m    193\u001b[0m     df_metadata \u001b[38;5;241m=\u001b[39m {\u001b[38;5;124m\"\u001b[39m\u001b[38;5;124mPANDAS_ATTRS\u001b[39m\u001b[38;5;124m\"\u001b[39m: json\u001b[38;5;241m.\u001b[39mdumps(df\u001b[38;5;241m.\u001b[39mattrs)}\n",
      "File \u001b[1;32md:\\PROYECTO FINAL\\venv\\Lib\\site-packages\\pyarrow\\table.pxi:4623\u001b[0m, in \u001b[0;36mpyarrow.lib.Table.from_pandas\u001b[1;34m()\u001b[0m\n",
      "File \u001b[1;32md:\\PROYECTO FINAL\\venv\\Lib\\site-packages\\pyarrow\\pandas_compat.py:629\u001b[0m, in \u001b[0;36mdataframe_to_arrays\u001b[1;34m(df, schema, preserve_index, nthreads, columns, safe)\u001b[0m\n\u001b[0;32m    627\u001b[0m     \u001b[38;5;28;01mfor\u001b[39;00m i, maybe_fut \u001b[38;5;129;01min\u001b[39;00m \u001b[38;5;28menumerate\u001b[39m(arrays):\n\u001b[0;32m    628\u001b[0m         \u001b[38;5;28;01mif\u001b[39;00m \u001b[38;5;28misinstance\u001b[39m(maybe_fut, futures\u001b[38;5;241m.\u001b[39mFuture):\n\u001b[1;32m--> 629\u001b[0m             arrays[i] \u001b[38;5;241m=\u001b[39m \u001b[43mmaybe_fut\u001b[49m\u001b[38;5;241;43m.\u001b[39;49m\u001b[43mresult\u001b[49m\u001b[43m(\u001b[49m\u001b[43m)\u001b[49m\n\u001b[0;32m    631\u001b[0m types \u001b[38;5;241m=\u001b[39m [x\u001b[38;5;241m.\u001b[39mtype \u001b[38;5;28;01mfor\u001b[39;00m x \u001b[38;5;129;01min\u001b[39;00m arrays]\n\u001b[0;32m    633\u001b[0m \u001b[38;5;28;01mif\u001b[39;00m schema \u001b[38;5;129;01mis\u001b[39;00m \u001b[38;5;28;01mNone\u001b[39;00m:\n",
      "File \u001b[1;32m~\\AppData\\Local\\Programs\\Python\\Python311\\Lib\\concurrent\\futures\\_base.py:449\u001b[0m, in \u001b[0;36mFuture.result\u001b[1;34m(self, timeout)\u001b[0m\n\u001b[0;32m    447\u001b[0m     \u001b[38;5;28;01mraise\u001b[39;00m CancelledError()\n\u001b[0;32m    448\u001b[0m \u001b[38;5;28;01melif\u001b[39;00m \u001b[38;5;28mself\u001b[39m\u001b[38;5;241m.\u001b[39m_state \u001b[38;5;241m==\u001b[39m FINISHED:\n\u001b[1;32m--> 449\u001b[0m     \u001b[38;5;28;01mreturn\u001b[39;00m \u001b[38;5;28;43mself\u001b[39;49m\u001b[38;5;241;43m.\u001b[39;49m\u001b[43m__get_result\u001b[49m\u001b[43m(\u001b[49m\u001b[43m)\u001b[49m\n\u001b[0;32m    451\u001b[0m \u001b[38;5;28mself\u001b[39m\u001b[38;5;241m.\u001b[39m_condition\u001b[38;5;241m.\u001b[39mwait(timeout)\n\u001b[0;32m    453\u001b[0m \u001b[38;5;28;01mif\u001b[39;00m \u001b[38;5;28mself\u001b[39m\u001b[38;5;241m.\u001b[39m_state \u001b[38;5;129;01min\u001b[39;00m [CANCELLED, CANCELLED_AND_NOTIFIED]:\n",
      "File \u001b[1;32m~\\AppData\\Local\\Programs\\Python\\Python311\\Lib\\concurrent\\futures\\_base.py:401\u001b[0m, in \u001b[0;36mFuture.__get_result\u001b[1;34m(self)\u001b[0m\n\u001b[0;32m    399\u001b[0m \u001b[38;5;28;01mif\u001b[39;00m \u001b[38;5;28mself\u001b[39m\u001b[38;5;241m.\u001b[39m_exception:\n\u001b[0;32m    400\u001b[0m     \u001b[38;5;28;01mtry\u001b[39;00m:\n\u001b[1;32m--> 401\u001b[0m         \u001b[38;5;28;01mraise\u001b[39;00m \u001b[38;5;28mself\u001b[39m\u001b[38;5;241m.\u001b[39m_exception\n\u001b[0;32m    402\u001b[0m     \u001b[38;5;28;01mfinally\u001b[39;00m:\n\u001b[0;32m    403\u001b[0m         \u001b[38;5;66;03m# Break a reference cycle with the exception in self._exception\u001b[39;00m\n\u001b[0;32m    404\u001b[0m         \u001b[38;5;28mself\u001b[39m \u001b[38;5;241m=\u001b[39m \u001b[38;5;28;01mNone\u001b[39;00m\n",
      "File \u001b[1;32m~\\AppData\\Local\\Programs\\Python\\Python311\\Lib\\concurrent\\futures\\thread.py:58\u001b[0m, in \u001b[0;36m_WorkItem.run\u001b[1;34m(self)\u001b[0m\n\u001b[0;32m     55\u001b[0m     \u001b[38;5;28;01mreturn\u001b[39;00m\n\u001b[0;32m     57\u001b[0m \u001b[38;5;28;01mtry\u001b[39;00m:\n\u001b[1;32m---> 58\u001b[0m     result \u001b[38;5;241m=\u001b[39m \u001b[38;5;28;43mself\u001b[39;49m\u001b[38;5;241;43m.\u001b[39;49m\u001b[43mfn\u001b[49m\u001b[43m(\u001b[49m\u001b[38;5;241;43m*\u001b[39;49m\u001b[38;5;28;43mself\u001b[39;49m\u001b[38;5;241;43m.\u001b[39;49m\u001b[43margs\u001b[49m\u001b[43m,\u001b[49m\u001b[43m \u001b[49m\u001b[38;5;241;43m*\u001b[39;49m\u001b[38;5;241;43m*\u001b[39;49m\u001b[38;5;28;43mself\u001b[39;49m\u001b[38;5;241;43m.\u001b[39;49m\u001b[43mkwargs\u001b[49m\u001b[43m)\u001b[49m\n\u001b[0;32m     59\u001b[0m \u001b[38;5;28;01mexcept\u001b[39;00m \u001b[38;5;167;01mBaseException\u001b[39;00m \u001b[38;5;28;01mas\u001b[39;00m exc:\n\u001b[0;32m     60\u001b[0m     \u001b[38;5;28mself\u001b[39m\u001b[38;5;241m.\u001b[39mfuture\u001b[38;5;241m.\u001b[39mset_exception(exc)\n",
      "File \u001b[1;32md:\\PROYECTO FINAL\\venv\\Lib\\site-packages\\pyarrow\\pandas_compat.py:597\u001b[0m, in \u001b[0;36mdataframe_to_arrays.<locals>.convert_column\u001b[1;34m(col, field)\u001b[0m\n\u001b[0;32m    594\u001b[0m     type_ \u001b[38;5;241m=\u001b[39m field\u001b[38;5;241m.\u001b[39mtype\n\u001b[0;32m    596\u001b[0m \u001b[38;5;28;01mtry\u001b[39;00m:\n\u001b[1;32m--> 597\u001b[0m     result \u001b[38;5;241m=\u001b[39m \u001b[43mpa\u001b[49m\u001b[38;5;241;43m.\u001b[39;49m\u001b[43marray\u001b[49m\u001b[43m(\u001b[49m\u001b[43mcol\u001b[49m\u001b[43m,\u001b[49m\u001b[43m \u001b[49m\u001b[38;5;28;43mtype\u001b[39;49m\u001b[38;5;241;43m=\u001b[39;49m\u001b[43mtype_\u001b[49m\u001b[43m,\u001b[49m\u001b[43m \u001b[49m\u001b[43mfrom_pandas\u001b[49m\u001b[38;5;241;43m=\u001b[39;49m\u001b[38;5;28;43;01mTrue\u001b[39;49;00m\u001b[43m,\u001b[49m\u001b[43m \u001b[49m\u001b[43msafe\u001b[49m\u001b[38;5;241;43m=\u001b[39;49m\u001b[43msafe\u001b[49m\u001b[43m)\u001b[49m\n\u001b[0;32m    598\u001b[0m \u001b[38;5;28;01mexcept\u001b[39;00m (pa\u001b[38;5;241m.\u001b[39mArrowInvalid,\n\u001b[0;32m    599\u001b[0m         pa\u001b[38;5;241m.\u001b[39mArrowNotImplementedError,\n\u001b[0;32m    600\u001b[0m         pa\u001b[38;5;241m.\u001b[39mArrowTypeError) \u001b[38;5;28;01mas\u001b[39;00m e:\n\u001b[0;32m    601\u001b[0m     e\u001b[38;5;241m.\u001b[39margs \u001b[38;5;241m+\u001b[39m\u001b[38;5;241m=\u001b[39m (\u001b[38;5;124m\"\u001b[39m\u001b[38;5;124mConversion failed for column \u001b[39m\u001b[38;5;132;01m{!s}\u001b[39;00m\u001b[38;5;124m with type \u001b[39m\u001b[38;5;132;01m{!s}\u001b[39;00m\u001b[38;5;124m\"\u001b[39m\n\u001b[0;32m    602\u001b[0m                \u001b[38;5;241m.\u001b[39mformat(col\u001b[38;5;241m.\u001b[39mname, col\u001b[38;5;241m.\u001b[39mdtype),)\n",
      "File \u001b[1;32md:\\PROYECTO FINAL\\venv\\Lib\\site-packages\\pyarrow\\array.pxi:358\u001b[0m, in \u001b[0;36mpyarrow.lib.array\u001b[1;34m()\u001b[0m\n",
      "File \u001b[1;32md:\\PROYECTO FINAL\\venv\\Lib\\site-packages\\pyarrow\\array.pxi:85\u001b[0m, in \u001b[0;36mpyarrow.lib._ndarray_to_array\u001b[1;34m()\u001b[0m\n",
      "File \u001b[1;32md:\\PROYECTO FINAL\\venv\\Lib\\site-packages\\pyarrow\\error.pxi:92\u001b[0m, in \u001b[0;36mpyarrow.lib.check_status\u001b[1;34m()\u001b[0m\n",
      "\u001b[1;31mArrowMemoryError\u001b[0m: realloc of size 704643072 failed"
     ]
    }
   ],
   "source": [
    "# Exportamos a parquet\n",
    "df_review.to_parquet('Datasets/Yelp/parquet_files/review-yelp.parquet', index=False)"
   ]
  },
  {
   "cell_type": "markdown",
   "metadata": {},
   "source": [
    "#### **Se abre nuevamente business.parquet para mergear los 14 estados en el DataFrame \"review\"**"
   ]
  },
  {
   "cell_type": "code",
   "execution_count": 27,
   "metadata": {},
   "outputs": [],
   "source": [
    "business = pd.read_parquet(\"Datasets/Yelp/parquet_files/Business.parquet\")\n",
    "review = pd.read_parquet('Datasets/Yelp/parquet_files/review-yelp.parquet')"
   ]
  },
  {
   "cell_type": "code",
   "execution_count": 28,
   "metadata": {},
   "outputs": [],
   "source": [
    "merged_df = pd.merge(business, review, on='business_id', how='inner')"
   ]
  },
  {
   "cell_type": "code",
   "execution_count": 29,
   "metadata": {},
   "outputs": [
    {
     "data": {
      "text/plain": [
       "(1734757, 16)"
      ]
     },
     "execution_count": 29,
     "metadata": {},
     "output_type": "execute_result"
    }
   ],
   "source": [
    "merged_df.shape"
   ]
  },
  {
   "cell_type": "code",
   "execution_count": 30,
   "metadata": {},
   "outputs": [
    {
     "data": {
      "text/html": [
       "<div>\n",
       "<style scoped>\n",
       "    .dataframe tbody tr th:only-of-type {\n",
       "        vertical-align: middle;\n",
       "    }\n",
       "\n",
       "    .dataframe tbody tr th {\n",
       "        vertical-align: top;\n",
       "    }\n",
       "\n",
       "    .dataframe thead th {\n",
       "        text-align: right;\n",
       "    }\n",
       "</style>\n",
       "<table border=\"1\" class=\"dataframe\">\n",
       "  <thead>\n",
       "    <tr style=\"text-align: right;\">\n",
       "      <th></th>\n",
       "      <th>business_id</th>\n",
       "      <th>name</th>\n",
       "      <th>city</th>\n",
       "      <th>state</th>\n",
       "      <th>postal_code</th>\n",
       "      <th>latitude</th>\n",
       "      <th>longitude</th>\n",
       "      <th>stars_x</th>\n",
       "      <th>review_count</th>\n",
       "      <th>categories</th>\n",
       "      <th>nombre_estado</th>\n",
       "      <th>review_id</th>\n",
       "      <th>user_id</th>\n",
       "      <th>stars_y</th>\n",
       "      <th>text</th>\n",
       "      <th>date</th>\n",
       "    </tr>\n",
       "  </thead>\n",
       "  <tbody>\n",
       "    <tr>\n",
       "      <th>0</th>\n",
       "      <td>UJsufbvfyfONHeWdvAHKjA</td>\n",
       "      <td>Marshalls</td>\n",
       "      <td>Land O' Lakes</td>\n",
       "      <td>FL</td>\n",
       "      <td>34639</td>\n",
       "      <td>28.190459</td>\n",
       "      <td>-82.45738</td>\n",
       "      <td>3.5</td>\n",
       "      <td>6</td>\n",
       "      <td>Department Stores, Shopping, Fashion</td>\n",
       "      <td>Florida</td>\n",
       "      <td>MKf1btP1IWejTptigCLrSw</td>\n",
       "      <td>u4Dzi_282Zw6hKqZJOhsSw</td>\n",
       "      <td>5.0</td>\n",
       "      <td>What's not to love about Marshalls?! I absolut...</td>\n",
       "      <td>2020-11-20 19:02:54</td>\n",
       "    </tr>\n",
       "    <tr>\n",
       "      <th>1</th>\n",
       "      <td>UJsufbvfyfONHeWdvAHKjA</td>\n",
       "      <td>Marshalls</td>\n",
       "      <td>Land O' Lakes</td>\n",
       "      <td>FL</td>\n",
       "      <td>34639</td>\n",
       "      <td>28.190459</td>\n",
       "      <td>-82.45738</td>\n",
       "      <td>3.5</td>\n",
       "      <td>6</td>\n",
       "      <td>Department Stores, Shopping, Fashion</td>\n",
       "      <td>Florida</td>\n",
       "      <td>MxpvjOXWjyp3xPA6qJenKw</td>\n",
       "      <td>qjfMBIZpQT9DDtw_BWCopQ</td>\n",
       "      <td>4.0</td>\n",
       "      <td>This is a nice Marshalls, and it is pretty new...</td>\n",
       "      <td>2015-07-24 00:31:29</td>\n",
       "    </tr>\n",
       "    <tr>\n",
       "      <th>2</th>\n",
       "      <td>UJsufbvfyfONHeWdvAHKjA</td>\n",
       "      <td>Marshalls</td>\n",
       "      <td>Land O' Lakes</td>\n",
       "      <td>FL</td>\n",
       "      <td>34639</td>\n",
       "      <td>28.190459</td>\n",
       "      <td>-82.45738</td>\n",
       "      <td>3.5</td>\n",
       "      <td>6</td>\n",
       "      <td>Department Stores, Shopping, Fashion</td>\n",
       "      <td>Florida</td>\n",
       "      <td>6dy2iBob-3lNlGVfdzXH_Q</td>\n",
       "      <td>F-OwSluUWMn0vMp3bPWMnQ</td>\n",
       "      <td>3.0</td>\n",
       "      <td>I Have not been here in so many years that I f...</td>\n",
       "      <td>2019-10-18 17:43:01</td>\n",
       "    </tr>\n",
       "  </tbody>\n",
       "</table>\n",
       "</div>"
      ],
      "text/plain": [
       "              business_id       name           city state postal_code  \\\n",
       "0  UJsufbvfyfONHeWdvAHKjA  Marshalls  Land O' Lakes    FL       34639   \n",
       "1  UJsufbvfyfONHeWdvAHKjA  Marshalls  Land O' Lakes    FL       34639   \n",
       "2  UJsufbvfyfONHeWdvAHKjA  Marshalls  Land O' Lakes    FL       34639   \n",
       "\n",
       "    latitude  longitude  stars_x  review_count  \\\n",
       "0  28.190459  -82.45738      3.5             6   \n",
       "1  28.190459  -82.45738      3.5             6   \n",
       "2  28.190459  -82.45738      3.5             6   \n",
       "\n",
       "                             categories nombre_estado               review_id  \\\n",
       "0  Department Stores, Shopping, Fashion       Florida  MKf1btP1IWejTptigCLrSw   \n",
       "1  Department Stores, Shopping, Fashion       Florida  MxpvjOXWjyp3xPA6qJenKw   \n",
       "2  Department Stores, Shopping, Fashion       Florida  6dy2iBob-3lNlGVfdzXH_Q   \n",
       "\n",
       "                  user_id  stars_y  \\\n",
       "0  u4Dzi_282Zw6hKqZJOhsSw      5.0   \n",
       "1  qjfMBIZpQT9DDtw_BWCopQ      4.0   \n",
       "2  F-OwSluUWMn0vMp3bPWMnQ      3.0   \n",
       "\n",
       "                                                text                 date  \n",
       "0  What's not to love about Marshalls?! I absolut...  2020-11-20 19:02:54  \n",
       "1  This is a nice Marshalls, and it is pretty new...  2015-07-24 00:31:29  \n",
       "2  I Have not been here in so many years that I f...  2019-10-18 17:43:01  "
      ]
     },
     "execution_count": 30,
     "metadata": {},
     "output_type": "execute_result"
    }
   ],
   "source": [
    "merged_df.head(3)"
   ]
  },
  {
   "cell_type": "markdown",
   "metadata": {},
   "source": [
    "#### **Se exporta a parquet reviews-yelp**"
   ]
  },
  {
   "cell_type": "code",
   "execution_count": 32,
   "metadata": {},
   "outputs": [],
   "source": [
    "merged_df.to_parquet(\"Datasets/Yelp/parquet_files/review-yelp.parquet\")"
   ]
  },
  {
   "cell_type": "markdown",
   "metadata": {},
   "source": [
    "### **Limpieza metadata_google**"
   ]
  },
  {
   "cell_type": "code",
   "execution_count": 3,
   "metadata": {},
   "outputs": [
    {
     "data": {
      "text/html": [
       "<div>\n",
       "<style scoped>\n",
       "    .dataframe tbody tr th:only-of-type {\n",
       "        vertical-align: middle;\n",
       "    }\n",
       "\n",
       "    .dataframe tbody tr th {\n",
       "        vertical-align: top;\n",
       "    }\n",
       "\n",
       "    .dataframe thead th {\n",
       "        text-align: right;\n",
       "    }\n",
       "</style>\n",
       "<table border=\"1\" class=\"dataframe\">\n",
       "  <thead>\n",
       "    <tr style=\"text-align: right;\">\n",
       "      <th></th>\n",
       "      <th>name</th>\n",
       "      <th>address</th>\n",
       "      <th>gmap_id</th>\n",
       "      <th>latitude</th>\n",
       "      <th>longitude</th>\n",
       "      <th>category</th>\n",
       "      <th>avg_rating</th>\n",
       "      <th>num_of_reviews</th>\n",
       "      <th>price</th>\n",
       "      <th>hours</th>\n",
       "      <th>estado</th>\n",
       "      <th>nombre_estado</th>\n",
       "      <th>city</th>\n",
       "    </tr>\n",
       "  </thead>\n",
       "  <tbody>\n",
       "    <tr>\n",
       "      <th>0</th>\n",
       "      <td>Porter Pharmacy</td>\n",
       "      <td>Porter Pharmacy, 129 N Second St, Cochran, GA ...</td>\n",
       "      <td>0x88f16e41928ff687:0x883dad4fd048e8f8</td>\n",
       "      <td>32.388300</td>\n",
       "      <td>-83.357100</td>\n",
       "      <td>[Pharmacy]</td>\n",
       "      <td>4.9</td>\n",
       "      <td>16</td>\n",
       "      <td>None</td>\n",
       "      <td>[[Friday, 8AM–6PM], [Saturday, 8AM–12PM], [Sun...</td>\n",
       "      <td>GA</td>\n",
       "      <td>Georgia</td>\n",
       "      <td>Cochran</td>\n",
       "    </tr>\n",
       "    <tr>\n",
       "      <th>14</th>\n",
       "      <td>NTK OUTDOOR</td>\n",
       "      <td>NTK OUTDOOR, 2315 NW 107th Ave #1B18, Miami, F...</td>\n",
       "      <td>0x88d9beb4fe0532c1:0xef0555c169299d6</td>\n",
       "      <td>25.795204</td>\n",
       "      <td>-80.366038</td>\n",
       "      <td>[Corporate office]</td>\n",
       "      <td>5.0</td>\n",
       "      <td>35</td>\n",
       "      <td>None</td>\n",
       "      <td>[[Thursday, 9AM–6PM], [Friday, 9AM–6PM], [Satu...</td>\n",
       "      <td>FL</td>\n",
       "      <td>Florida</td>\n",
       "      <td>Miami</td>\n",
       "    </tr>\n",
       "    <tr>\n",
       "      <th>45</th>\n",
       "      <td>Cruises Inc. - Connie Stewart</td>\n",
       "      <td>Cruises Inc. - Connie Stewart, 6602 52nd Ln, P...</td>\n",
       "      <td>0x88c2e49b79f06c31:0x4ed8c8ce27e926e0</td>\n",
       "      <td>27.832187</td>\n",
       "      <td>-82.704805</td>\n",
       "      <td>[Cruise agency]</td>\n",
       "      <td>5.0</td>\n",
       "      <td>2</td>\n",
       "      <td>None</td>\n",
       "      <td>[[Thursday, 9AM–5PM], [Friday, 9AM–5PM], [Satu...</td>\n",
       "      <td>FL</td>\n",
       "      <td>Florida</td>\n",
       "      <td>Pinellas Park</td>\n",
       "    </tr>\n",
       "  </tbody>\n",
       "</table>\n",
       "</div>"
      ],
      "text/plain": [
       "                             name  \\\n",
       "0                 Porter Pharmacy   \n",
       "14                    NTK OUTDOOR   \n",
       "45  Cruises Inc. - Connie Stewart   \n",
       "\n",
       "                                              address  \\\n",
       "0   Porter Pharmacy, 129 N Second St, Cochran, GA ...   \n",
       "14  NTK OUTDOOR, 2315 NW 107th Ave #1B18, Miami, F...   \n",
       "45  Cruises Inc. - Connie Stewart, 6602 52nd Ln, P...   \n",
       "\n",
       "                                  gmap_id   latitude  longitude  \\\n",
       "0   0x88f16e41928ff687:0x883dad4fd048e8f8  32.388300 -83.357100   \n",
       "14   0x88d9beb4fe0532c1:0xef0555c169299d6  25.795204 -80.366038   \n",
       "45  0x88c2e49b79f06c31:0x4ed8c8ce27e926e0  27.832187 -82.704805   \n",
       "\n",
       "              category  avg_rating  num_of_reviews price  \\\n",
       "0           [Pharmacy]         4.9              16  None   \n",
       "14  [Corporate office]         5.0              35  None   \n",
       "45     [Cruise agency]         5.0               2  None   \n",
       "\n",
       "                                                hours estado nombre_estado  \\\n",
       "0   [[Friday, 8AM–6PM], [Saturday, 8AM–12PM], [Sun...     GA       Georgia   \n",
       "14  [[Thursday, 9AM–6PM], [Friday, 9AM–6PM], [Satu...     FL       Florida   \n",
       "45  [[Thursday, 9AM–5PM], [Friday, 9AM–5PM], [Satu...     FL       Florida   \n",
       "\n",
       "             city  \n",
       "0         Cochran  \n",
       "14          Miami  \n",
       "45  Pinellas Park  "
      ]
     },
     "execution_count": 3,
     "metadata": {},
     "output_type": "execute_result"
    }
   ],
   "source": [
    "df_metadata_google = pd.read_parquet('Datasets/Google/metadata-sitios/metadata-sitios-costaeste-estado-ciudad.parquet')\n",
    "df_metadata_google.head(3)"
   ]
  },
  {
   "cell_type": "code",
   "execution_count": 4,
   "metadata": {},
   "outputs": [
    {
     "name": "stdout",
     "output_type": "stream",
     "text": [
      "<class 'pandas.core.frame.DataFrame'>\n",
      "Index: 946582 entries, 0 to 3024991\n",
      "Data columns (total 13 columns):\n",
      " #   Column          Non-Null Count   Dtype  \n",
      "---  ------          --------------   -----  \n",
      " 0   name            946582 non-null  object \n",
      " 1   address         946582 non-null  object \n",
      " 2   gmap_id         946582 non-null  object \n",
      " 3   latitude        946582 non-null  float64\n",
      " 4   longitude       946582 non-null  float64\n",
      " 5   category        941305 non-null  object \n",
      " 6   avg_rating      946582 non-null  float64\n",
      " 7   num_of_reviews  946582 non-null  int64  \n",
      " 8   price           91985 non-null   object \n",
      " 9   hours           710387 non-null  object \n",
      " 10  estado          946582 non-null  object \n",
      " 11  nombre_estado   946582 non-null  object \n",
      " 12  city            945910 non-null  object \n",
      "dtypes: float64(3), int64(1), object(9)\n",
      "memory usage: 101.1+ MB\n"
     ]
    }
   ],
   "source": [
    "df_metadata_google.info()"
   ]
  },
  {
   "cell_type": "code",
   "execution_count": 5,
   "metadata": {},
   "outputs": [
    {
     "data": {
      "text/plain": [
       "np.int64(8345)"
      ]
     },
     "execution_count": 5,
     "metadata": {},
     "output_type": "execute_result"
    }
   ],
   "source": [
    "# Chequeo de duplicados en gmap_id\n",
    "df_metadata_google.duplicated('gmap_id').sum()"
   ]
  },
  {
   "cell_type": "code",
   "execution_count": 6,
   "metadata": {},
   "outputs": [
    {
     "name": "stdout",
     "output_type": "stream",
     "text": [
      "gmap_id\n",
      "0x88f16e41928ff687:0x883dad4fd048e8f8    12\n",
      "0x884d0db9065bd815:0xae8443b860eebe8e     2\n",
      "0x89e841975461fb8f:0x16df15574a663326     2\n",
      "0x88f5993c9c7382fd:0xfd57cf3b5826d3b9     2\n",
      "0x88d9beb4fe0532c1:0xef0555c169299d6      2\n",
      "                                         ..\n",
      "0x88d9a4e66e40edf1:0xebbab577da8076fe     2\n",
      "0x88d9aa92d831c45b:0x9b14ae9ded185345     2\n",
      "0x88d9a67325994b17:0xdac6d8d4600fc268     2\n",
      "0x88d9b937c540e7d7:0xc36f9d9593ca9008     2\n",
      "0x4cb29c6a0460a84b:0x243771cbbefd58d9     2\n",
      "Name: count, Length: 8335, dtype: int64\n"
     ]
    }
   ],
   "source": [
    "duplicados = df_metadata_google[df_metadata_google.duplicated(subset='gmap_id', keep=False)]\n",
    "conteo = df_metadata_google['gmap_id'].value_counts()\n",
    "repetidos = conteo[conteo > 1]\n",
    "\n",
    "print(repetidos)\n"
   ]
  },
  {
   "cell_type": "code",
   "execution_count": 7,
   "metadata": {},
   "outputs": [],
   "source": [
    "# Eliminamos duplicados del DF columna gmap_id\n",
    "df_metadata_google = df_metadata_google.drop_duplicates(subset=['gmap_id'])"
   ]
  },
  {
   "cell_type": "code",
   "execution_count": 8,
   "metadata": {},
   "outputs": [
    {
     "data": {
      "text/plain": [
       "np.int64(0)"
      ]
     },
     "execution_count": 8,
     "metadata": {},
     "output_type": "execute_result"
    }
   ],
   "source": [
    "# Chequeo de duplicados en gmap_id\n",
    "df_metadata_google.duplicated('gmap_id').sum()"
   ]
  },
  {
   "cell_type": "code",
   "execution_count": 9,
   "metadata": {},
   "outputs": [
    {
     "data": {
      "text/plain": [
       "name                   0\n",
       "address                0\n",
       "gmap_id                0\n",
       "latitude               0\n",
       "longitude              0\n",
       "category            5212\n",
       "avg_rating             0\n",
       "num_of_reviews         0\n",
       "price             846698\n",
       "hours             233791\n",
       "estado                 0\n",
       "nombre_estado          0\n",
       "city                 668\n",
       "dtype: int64"
      ]
     },
     "execution_count": 9,
     "metadata": {},
     "output_type": "execute_result"
    }
   ],
   "source": [
    "# Chequeo de datos nulos en el DF\n",
    "df_metadata_google.isnull().sum()"
   ]
  },
  {
   "cell_type": "markdown",
   "metadata": {},
   "source": [
    "#### **Se borran las columnas \"price\" y \"hours\"**"
   ]
  },
  {
   "cell_type": "code",
   "execution_count": 10,
   "metadata": {},
   "outputs": [],
   "source": [
    "# Eliminamos las columnas especificadas del DataFrame\n",
    "columnas_a_eliminar = ['price', 'hours']\n",
    "df_metadata_google = df_metadata_google.drop(columns=columnas_a_eliminar)"
   ]
  },
  {
   "cell_type": "markdown",
   "metadata": {},
   "source": [
    "#### **Se eliminan filas con categorías nulas**"
   ]
  },
  {
   "cell_type": "code",
   "execution_count": 11,
   "metadata": {},
   "outputs": [],
   "source": [
    "df_metadata_google= df_metadata_google.dropna(subset=['category'])"
   ]
  },
  {
   "cell_type": "markdown",
   "metadata": {},
   "source": [
    "Columna city contiene 667 nulos... ubicar por latitud y longitud ???"
   ]
  },
  {
   "cell_type": "code",
   "execution_count": 52,
   "metadata": {},
   "outputs": [
    {
     "name": "stdout",
     "output_type": "stream",
     "text": [
      "Categorías de las filas con valores nulos en 'city':\n",
      "Categoría: ['Lake'], Cantidad de nulos: 276\n",
      "Categoría: ['Wetland'], Cantidad de nulos: 197\n",
      "Categoría: ['Train station'], Cantidad de nulos: 67\n",
      "Categoría: ['River'], Cantidad de nulos: 37\n",
      "Categoría: ['Canal'], Cantidad de nulos: 12\n",
      "Categoría: ['Bus stop'], Cantidad de nulos: 10\n",
      "Categoría: ['Beach'], Cantidad de nulos: 10\n",
      "Categoría: ['Pond'], Cantidad de nulos: 8\n",
      "Categoría: ['Island'], Cantidad de nulos: 8\n",
      "Categoría: ['Reservoir'], Cantidad de nulos: 6\n",
      "Categoría: ['Ferry terminal'], Cantidad de nulos: 5\n",
      "Categoría: ['Peninsula'], Cantidad de nulos: 3\n",
      "Categoría: ['Lodging'], Cantidad de nulos: 3\n",
      "Categoría: ['Park'], Cantidad de nulos: 2\n",
      "Categoría: ['Bus station'], Cantidad de nulos: 2\n",
      "Categoría: ['Spring'], Cantidad de nulos: 2\n",
      "Categoría: ['Water'], Cantidad de nulos: 2\n",
      "Categoría: ['Beach pavillion'], Cantidad de nulos: 2\n",
      "Categoría: ['Beach volleyball court'], Cantidad de nulos: 1\n",
      "Categoría: ['Light rail station'], Cantidad de nulos: 1\n",
      "Categoría: ['Tourist attraction'], Cantidad de nulos: 1\n",
      "Categoría: ['Halfway house'], Cantidad de nulos: 1\n",
      "Categoría: ['Harbor'], Cantidad de nulos: 1\n",
      "Categoría: ['Ocean'], Cantidad de nulos: 1\n",
      "Categoría: ['Transit station'], Cantidad de nulos: 1\n",
      "Categoría: ['Historical landmark'], Cantidad de nulos: 1\n",
      "Categoría: ['Rapids'], Cantidad de nulos: 1\n",
      "Categoría: ['Hiking area'], Cantidad de nulos: 1\n",
      "Categoría: ['Restaurant'], Cantidad de nulos: 1\n",
      "Categoría: ['Weather forecast service'], Cantidad de nulos: 1\n",
      "Categoría: ['Housing cooperative'], Cantidad de nulos: 1\n",
      "Categoría: ['Shopping mall'], Cantidad de nulos: 1\n",
      "Categoría: ['Community garden'], Cantidad de nulos: 1\n",
      "\n",
      "Total de filas con 'city' nulo: 667\n"
     ]
    }
   ],
   "source": [
    "# Filtrar las filas con valores nulos en la columna 'city'\n",
    "filas_con_city_nulo = df_metadata_google[df_metadata_google['city'].isnull()]\n",
    "\n",
    "# Contar las ocurrencias de cada categoría para estas filas\n",
    "categorias_con_city_nulo = filas_con_city_nulo['category'].value_counts()\n",
    "\n",
    "# Imprimir los resultados\n",
    "print(\"Categorías de las filas con valores nulos en 'city':\")\n",
    "for categoria, cantidad in categorias_con_city_nulo.items():\n",
    "    print(f\"Categoría: {categoria}, Cantidad de nulos: {cantidad}\")\n",
    "\n",
    "# Imprimir el total de filas con 'city' nulo\n",
    "print(f\"\\nTotal de filas con 'city' nulo: {len(filas_con_city_nulo)}\")"
   ]
  },
  {
   "cell_type": "code",
   "execution_count": 12,
   "metadata": {},
   "outputs": [],
   "source": [
    "# Exportamos metadata-sitios limpio a parquet\n",
    "df_metadata_google.to_parquet(\"Datasets/Google/metadata-sitios/metadata-limpio.parquet\")"
   ]
  },
  {
   "cell_type": "code",
   "execution_count": 13,
   "metadata": {},
   "outputs": [
    {
     "data": {
      "text/plain": [
       "(933025, 11)"
      ]
     },
     "execution_count": 13,
     "metadata": {},
     "output_type": "execute_result"
    }
   ],
   "source": [
    "df_metadata_google.shape"
   ]
  },
  {
   "cell_type": "markdown",
   "metadata": {},
   "source": [
    "### **Se unifica \"review-estados\" en un solo Dataframe**"
   ]
  },
  {
   "cell_type": "code",
   "execution_count": 14,
   "metadata": {},
   "outputs": [],
   "source": [
    "# Directorio donde se encuentran tus archivos .parquet\n",
    "directorio = \"Datasets/Google/review-estados/review-estados-parquet\"\n",
    "\n",
    "# Listamos todos los archivos .parquet en el directorio\n",
    "archivos_parquet = glob.glob(os.path.join(directorio, \"*.parquet\"))\n",
    "\n",
    "# Leemos y concatenamos los archivos\n",
    "df_review_estados = pd.concat([pd.read_parquet(archivo) for archivo in archivos_parquet], ignore_index=True)"
   ]
  },
  {
   "cell_type": "code",
   "execution_count": 15,
   "metadata": {},
   "outputs": [
    {
     "data": {
      "text/html": [
       "<div>\n",
       "<style scoped>\n",
       "    .dataframe tbody tr th:only-of-type {\n",
       "        vertical-align: middle;\n",
       "    }\n",
       "\n",
       "    .dataframe tbody tr th {\n",
       "        vertical-align: top;\n",
       "    }\n",
       "\n",
       "    .dataframe thead th {\n",
       "        text-align: right;\n",
       "    }\n",
       "</style>\n",
       "<table border=\"1\" class=\"dataframe\">\n",
       "  <thead>\n",
       "    <tr style=\"text-align: right;\">\n",
       "      <th></th>\n",
       "      <th>user_id</th>\n",
       "      <th>name</th>\n",
       "      <th>time</th>\n",
       "      <th>rating</th>\n",
       "      <th>text</th>\n",
       "      <th>gmap_id</th>\n",
       "    </tr>\n",
       "  </thead>\n",
       "  <tbody>\n",
       "    <tr>\n",
       "      <th>0</th>\n",
       "      <td>1.140765e+20</td>\n",
       "      <td>Jeff Mccomish</td>\n",
       "      <td>1612059976820</td>\n",
       "      <td>5</td>\n",
       "      <td>Great friendly independent packie</td>\n",
       "      <td>0x89e64b04d274c9d9:0x84d833dcc10ae21d</td>\n",
       "    </tr>\n",
       "    <tr>\n",
       "      <th>1</th>\n",
       "      <td>1.015203e+20</td>\n",
       "      <td>Outlaw PiRu</td>\n",
       "      <td>1544752859553</td>\n",
       "      <td>5</td>\n",
       "      <td>Great Atmosphere and Great Service. Fantastic ...</td>\n",
       "      <td>0x89e64b04d274c9d9:0x84d833dcc10ae21d</td>\n",
       "    </tr>\n",
       "    <tr>\n",
       "      <th>2</th>\n",
       "      <td>1.118002e+20</td>\n",
       "      <td>Hector Acevedo</td>\n",
       "      <td>1564367962353</td>\n",
       "      <td>5</td>\n",
       "      <td>Nice neighborhood store with great sandwiches ...</td>\n",
       "      <td>0x89e64b04d274c9d9:0x84d833dcc10ae21d</td>\n",
       "    </tr>\n",
       "  </tbody>\n",
       "</table>\n",
       "</div>"
      ],
      "text/plain": [
       "        user_id            name           time  rating  \\\n",
       "0  1.140765e+20   Jeff Mccomish  1612059976820       5   \n",
       "1  1.015203e+20     Outlaw PiRu  1544752859553       5   \n",
       "2  1.118002e+20  Hector Acevedo  1564367962353       5   \n",
       "\n",
       "                                                text  \\\n",
       "0                  Great friendly independent packie   \n",
       "1  Great Atmosphere and Great Service. Fantastic ...   \n",
       "2  Nice neighborhood store with great sandwiches ...   \n",
       "\n",
       "                                 gmap_id  \n",
       "0  0x89e64b04d274c9d9:0x84d833dcc10ae21d  \n",
       "1  0x89e64b04d274c9d9:0x84d833dcc10ae21d  \n",
       "2  0x89e64b04d274c9d9:0x84d833dcc10ae21d  "
      ]
     },
     "execution_count": 15,
     "metadata": {},
     "output_type": "execute_result"
    }
   ],
   "source": [
    "df_review_estados.head(3)"
   ]
  },
  {
   "cell_type": "code",
   "execution_count": 16,
   "metadata": {},
   "outputs": [
    {
     "name": "stdout",
     "output_type": "stream",
     "text": [
      "<class 'pandas.core.frame.DataFrame'>\n",
      "RangeIndex: 27158193 entries, 0 to 27158192\n",
      "Data columns (total 6 columns):\n",
      " #   Column   Dtype  \n",
      "---  ------   -----  \n",
      " 0   user_id  float64\n",
      " 1   name     object \n",
      " 2   time     int64  \n",
      " 3   rating   int64  \n",
      " 4   text     object \n",
      " 5   gmap_id  object \n",
      "dtypes: float64(1), int64(2), object(3)\n",
      "memory usage: 1.2+ GB\n"
     ]
    }
   ],
   "source": [
    "df_review_estados.info()"
   ]
  },
  {
   "cell_type": "markdown",
   "metadata": {},
   "source": [
    "### **Chequeo Duplicados**"
   ]
  },
  {
   "cell_type": "code",
   "execution_count": 17,
   "metadata": {},
   "outputs": [
    {
     "name": "stdout",
     "output_type": "stream",
     "text": [
      "Número de duplicados eliminados: 491681\n",
      "Tamaño original del DataFrame: 27158193 filas\n",
      "Tamaño del DataFrame sin duplicados: 26666512 filas\n",
      "Porcentaje de reducción: 1.81%\n"
     ]
    }
   ],
   "source": [
    "# Contar el número de duplicados\n",
    "num_duplicados = df_review_estados.duplicated().sum()\n",
    "\n",
    "# Guardar el número original de filas\n",
    "num_filas_original = len(df_review_estados)\n",
    "\n",
    "# Eliminar duplicados\n",
    "df_review_estados_sin_duplicados = df_review_estados.drop_duplicates()\n",
    "\n",
    "# Calcular el número de filas después de eliminar duplicados\n",
    "num_filas_final = len(df_review_estados_sin_duplicados)\n",
    "\n",
    "# Calcular el porcentaje de reducción\n",
    "porcentaje_reduccion = ((num_filas_original - num_filas_final) / num_filas_original) * 100\n",
    "\n",
    "# Imprimir resultados\n",
    "print(f\"Número de duplicados eliminados: {num_duplicados}\")\n",
    "print(f\"Tamaño original del DataFrame: {num_filas_original} filas\")\n",
    "print(f\"Tamaño del DataFrame sin duplicados: {num_filas_final} filas\")\n",
    "print(f\"Porcentaje de reducción: {porcentaje_reduccion:.2f}%\")\n",
    "\n",
    "# Actualizar el DataFrame original sin duplicados\n",
    "df_review_estados = df_review_estados_sin_duplicados.reset_index(drop=True)"
   ]
  }
 ],
 "metadata": {
  "kernelspec": {
   "display_name": "Python 3",
   "language": "python",
   "name": "python3"
  },
  "language_info": {
   "codemirror_mode": {
    "name": "ipython",
    "version": 3
   },
   "file_extension": ".py",
   "mimetype": "text/x-python",
   "name": "python",
   "nbconvert_exporter": "python",
   "pygments_lexer": "ipython3",
   "version": "3.11.7"
  }
 },
 "nbformat": 4,
 "nbformat_minor": 2
}
