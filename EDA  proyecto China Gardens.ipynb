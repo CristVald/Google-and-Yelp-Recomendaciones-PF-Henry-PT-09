{
 "cells": [
  {
   "cell_type": "markdown",
   "metadata": {},
   "source": [
    "# **Introducción al Análisis Exploratorio de Datos (EDA) del Proyecto \"China Garden\"**\n",
    "\n",
    "En un entorno competitivo y dinámico como el mercado de restaurantes en Estados Unidos, el análisis de datos se ha convertido en una herramienta esencial para entender la posición de una marca, anticipar tendencias y tomar decisiones estratégicas fundamentadas. En este proyecto, nuestro objetivo es realizar un análisis exploratorio de datos (EDA) para una reconocida cadena de restaurantes chinos, **China Garden**, con el fin de apoyar su estrategia de expansión en la costa este del país.\n",
    "\n",
    "El EDA proporcionará una base sólida para identificar oportunidades de crecimiento y optimización operativa, analizando tanto datos de desempeño actual como información sobre la competencia. Este análisis también permitirá evaluar factores clave como la satisfacción del cliente, la presencia de mercado, y las ubicaciones óptimas para nuevos restaurantes. \n",
    "\n",
    "#### **Objetivos del Análisis Exploratorio de Datos**\n",
    "\n",
    "Para lograr los objetivos generales del proyecto, nuestro EDA se centrará en los siguientes puntos:\n",
    "\n",
    "1. **Revisión de Tipos de Datos y Descripción de Datasets:**\n",
    "   - Examinar los tipos de datos por columna en cada dataset disponible para asegurar su adecuación al análisis posterior. Se incluirá una descripción detallada de cada dataset, abordando su propósito y relevancia en el contexto del proyecto.\n",
    "\n",
    "2. **Justificación de la Eliminación de Columnas:**\n",
    "   - Analizar y explicar la eliminación de columnas que no aportan valor al análisis o que presentan datos inconsistentes. Esta etapa es fundamental para mejorar la eficiencia del procesamiento de datos y mantener la integridad del análisis.\n",
    "\n",
    "3. **Identificación y Manejo de Valores Nulos:**\n",
    "   - Detectar los valores nulos en los datasets y proponer estrategias adecuadas de manejo, como la imputación de valores basados en la media, mediana o la eliminación de registros, dependiendo de la relevancia y el impacto de los datos faltantes.\n",
    "\n",
    "4. **Detección y Tratamiento de Registros Duplicados:**\n",
    "   - Identificar registros duplicados que puedan sesgar el análisis. Proponer métodos para su tratamiento, como la eliminación de duplicados exactos o el análisis de duplicados parciales para decidir la mejor acción.\n",
    "\n",
    "5. **Análisis Gráfico y Visualización de Datos:**\n",
    "   - Utilizar herramientas como **Matplotlib** y **Seaborn** para realizar análisis gráficos que permitan entender el comportamiento de los datos. Este enfoque incluirá, pero no se limitará a:\n",
    "     - Visualización de la distribución de restaurantes y hoteles en la costa este.\n",
    "     - Cálculo del porcentaje de mercado capturado por los restaurantes de comida china en comparación con otros tipos de restaurantes.\n",
    "     - Identificación de los 10 principales restaurantes de comida china en términos de cantidad, promedio de calificaciones y presencia de mercado.\n",
    "     - Análisis geográfico para entender la ubicación de los restaurantes de \"China Garden\" y su competencia directa.\n",
    "     - Análisis de las zonas con mayor concentración de hoteles para identificar las áreas de mayor interés turístico.\n",
    "     - Cualquier otro análisis pertinente que pueda ofrecer insights sobre el comportamiento del mercado y las oportunidades de expansión.\n",
    "\n",
    "6. **Exportacion a Parquet**\n",
    "\n",
    "Este EDA servirá como el cimiento sobre el cual se basarán todos los análisis futuros, ayudando a identificar patrones y tendencias que orientarán las decisiones estratégicas de \"China Garden\". A través de un enfoque minucioso y detallado, buscaremos proporcionar un conocimiento profundo y detallado del mercado, permitiendo a la marca mejorar su posicionamiento y maximizar su potencial de crecimiento en la costa este de Estados Unidos.\n",
    "\n",
    "### **Empezemos**"
   ]
  },
  {
   "cell_type": "markdown",
   "metadata": {},
   "source": [
    "## **1. Carga de datos Google maps**"
   ]
  },
  {
   "cell_type": "markdown",
   "metadata": {},
   "source": [
    "**Descripción de los Datos de Google Maps**\n",
    "\n",
    "Para este proyecto, se han recopilado datos provenientes de Google Maps, una de las plataformas más utilizadas por los consumidores para compartir opiniones sobre sus experiencias en restaurantes. Estos datos se encuentran organizados en dos carpetas principales, cada una con una estructura específica que facilita el análisis detallado de la información.\n",
    "\n",
    "**1. Carpeta: Metadata Sitios**\n",
    "\n",
    "La carpeta Metadata Sitios contiene información relevante sobre los establecimientos de interés, en este caso, los restaurantes de comida china en la costa este de Estados Unidos. Esta carpeta incluye un total de 11 archivos JSON que deberán ser unificados en un solo archivo consolidado para facilitar su análisis. Cada archivo JSON en esta carpeta proporciona datos específicos sobre las características de los restaurantes, como su nombre, ubicación geográfica, tipo de cocina, horarios de atención, y otros detalles relevantes que permiten identificar y comparar a cada establecimiento dentro del mercado.\n",
    "\n",
    "**2. Carpeta: Review-Estados**\n",
    "\n",
    "La carpeta Review-Estados contiene una colección organizada de reseñas de clientes, separadas por estado, en formato JSON. Dentro de esta carpeta, cada subcarpeta representa un estado de la costa este de Estados Unidos, y a su vez, cada subcarpeta contiene múltiples archivos JSON que recogen las opiniones y calificaciones de los usuarios sobre los restaurantes. Estos archivos de reseñas capturan datos cruciales como la fecha de la reseña, la calificación otorgada, los comentarios detallados de los clientes, y otros atributos relevantes como el número de \"me gusta\" que ha recibido cada reseña."
   ]
  },
  {
   "cell_type": "markdown",
   "metadata": {},
   "source": [
    "**BIBLIOTECAS UTILIZADAS**"
   ]
  },
  {
   "cell_type": "code",
   "execution_count": 1,
   "metadata": {},
   "outputs": [],
   "source": [
    "import pandas as pd\n",
    "import re"
   ]
  },
  {
   "cell_type": "markdown",
   "metadata": {},
   "source": [
    "### **1.1 Metadata-Sitios**"
   ]
  },
  {
   "cell_type": "markdown",
   "metadata": {},
   "source": [
    "1. CARGA DEL JSON 1"
   ]
  },
  {
   "cell_type": "code",
   "execution_count": null,
   "metadata": {},
   "outputs": [],
   "source": [
    "#Ruta de tu archivo JSON1\n",
    "ruta_archivo = '/Users/felipeamezquita/Library/Mobile Documents/com~apple~CloudDocs/Documents/HENRY/PROYECTO FINAL/DATA/GOOGLE MAPS/metadata-sitios/1.json'\n",
    "\n",
    "# Carga el archivo JSON en un DataFrame de pandas usando lines=True\n",
    "df = pd.read_json(ruta_archivo, lines=True)\n",
    "\n",
    "# Muestra el DataFrame\n",
    "df"
   ]
  },
  {
   "cell_type": "markdown",
   "metadata": {},
   "source": [
    "2. CARGA DEL JSON 2"
   ]
  },
  {
   "cell_type": "code",
   "execution_count": null,
   "metadata": {},
   "outputs": [],
   "source": [
    "\n",
    "\n",
    "#Ruta de tu archivo JSON 2\n",
    "ruta_archivo = '/Users/felipeamezquita/Library/Mobile Documents/com~apple~CloudDocs/Documents/HENRY/PROYECTO FINAL/DATA/GOOGLE MAPS/metadata-sitios/2.json'\n",
    "\n",
    "# Carga el archivo JSON en un DataFrame de pandas usando lines=True\n",
    "df1 = pd.read_json(ruta_archivo, lines=True)\n",
    "\n",
    "# Muestra el DataFrame\n",
    "df1"
   ]
  },
  {
   "cell_type": "markdown",
   "metadata": {},
   "source": [
    "3. CARGA DEL JSON 3"
   ]
  },
  {
   "cell_type": "code",
   "execution_count": null,
   "metadata": {},
   "outputs": [],
   "source": [
    "\n",
    "\n",
    "#Ruta de tu archivo JSON3\n",
    "ruta_archivo = '/Users/felipeamezquita/Library/Mobile Documents/com~apple~CloudDocs/Documents/HENRY/PROYECTO FINAL/DATA/GOOGLE MAPS/metadata-sitios/3.json'\n",
    "\n",
    "# Carga el archivo JSON en un DataFrame de pandas usando lines=True\n",
    "df2 = pd.read_json(ruta_archivo, lines=True)\n",
    "\n",
    "# Muestra el DataFrame\n",
    "df2"
   ]
  },
  {
   "cell_type": "markdown",
   "metadata": {},
   "source": [
    "4. CARGA DEL JSON 4"
   ]
  },
  {
   "cell_type": "code",
   "execution_count": null,
   "metadata": {},
   "outputs": [],
   "source": [
    "\n",
    "\n",
    "#Ruta de tu archivo JSON 4\n",
    "ruta_archivo = '/Users/felipeamezquita/Library/Mobile Documents/com~apple~CloudDocs/Documents/HENRY/PROYECTO FINAL/DATA/GOOGLE MAPS/metadata-sitios/4.json'\n",
    "\n",
    "# Carga el archivo JSON en un DataFrame de pandas usando lines=True\n",
    "df3 = pd.read_json(ruta_archivo, lines=True)\n",
    "\n",
    "# Muestra el DataFrame\n",
    "df3"
   ]
  },
  {
   "cell_type": "markdown",
   "metadata": {},
   "source": [
    "5. CARGA DEL JSON 5"
   ]
  },
  {
   "cell_type": "code",
   "execution_count": null,
   "metadata": {},
   "outputs": [],
   "source": [
    "\n",
    "\n",
    "#Ruta de tu archivo JSON 5\n",
    "ruta_archivo = '/Users/felipeamezquita/Library/Mobile Documents/com~apple~CloudDocs/Documents/HENRY/PROYECTO FINAL/DATA/GOOGLE MAPS/metadata-sitios/5.json'\n",
    "\n",
    "# Carga el archivo JSON en un DataFrame de pandas usando lines=True\n",
    "df4 = pd.read_json(ruta_archivo, lines=True)\n",
    "\n",
    "# Muestra el DataFrame\n",
    "df4"
   ]
  },
  {
   "cell_type": "markdown",
   "metadata": {},
   "source": [
    "6. CARGA DEL JSON 6"
   ]
  },
  {
   "cell_type": "code",
   "execution_count": null,
   "metadata": {},
   "outputs": [],
   "source": [
    "\n",
    "\n",
    "#Ruta de tu archivo JSON 6\n",
    "ruta_archivo = '/Users/felipeamezquita/Library/Mobile Documents/com~apple~CloudDocs/Documents/HENRY/PROYECTO FINAL/DATA/GOOGLE MAPS/metadata-sitios/6.json'\n",
    "\n",
    "# Carga el archivo JSON en un DataFrame de pandas usando lines=True\n",
    "df5 = pd.read_json(ruta_archivo, lines=True)\n",
    "\n",
    "# Muestra el DataFrame\n",
    "df5"
   ]
  },
  {
   "cell_type": "markdown",
   "metadata": {},
   "source": [
    "7. CARGA DEL JSON 7"
   ]
  },
  {
   "cell_type": "code",
   "execution_count": null,
   "metadata": {},
   "outputs": [],
   "source": [
    "\n",
    "\n",
    "#Ruta de tu archivo JSON 7\n",
    "ruta_archivo = '/Users/felipeamezquita/Library/Mobile Documents/com~apple~CloudDocs/Documents/HENRY/PROYECTO FINAL/DATA/GOOGLE MAPS/metadata-sitios/7.json'\n",
    "\n",
    "# Carga el archivo JSON en un DataFrame de pandas usando lines=True\n",
    "df6 = pd.read_json(ruta_archivo, lines=True)\n",
    "\n",
    "# Muestra el DataFrame\n",
    "df6"
   ]
  },
  {
   "cell_type": "markdown",
   "metadata": {},
   "source": [
    "8. CARGA DEL JSON 8"
   ]
  },
  {
   "cell_type": "code",
   "execution_count": null,
   "metadata": {},
   "outputs": [],
   "source": [
    "\n",
    "\n",
    "#Ruta de tu archivo JSON 8\n",
    "ruta_archivo = '/Users/felipeamezquita/Library/Mobile Documents/com~apple~CloudDocs/Documents/HENRY/PROYECTO FINAL/DATA/GOOGLE MAPS/metadata-sitios/8.json'\n",
    "\n",
    "# Carga el archivo JSON en un DataFrame de pandas usando lines=True\n",
    "df7 = pd.read_json(ruta_archivo, lines=True)\n",
    "\n",
    "# Muestra el DataFrame\n",
    "df7"
   ]
  },
  {
   "cell_type": "markdown",
   "metadata": {},
   "source": [
    "9. CARGA DEL JSON 9"
   ]
  },
  {
   "cell_type": "code",
   "execution_count": null,
   "metadata": {},
   "outputs": [],
   "source": [
    "\n",
    "\n",
    "#Ruta de tu archivo JSON 9\n",
    "ruta_archivo = '/Users/felipeamezquita/Library/Mobile Documents/com~apple~CloudDocs/Documents/HENRY/PROYECTO FINAL/DATA/GOOGLE MAPS/metadata-sitios/9.json'\n",
    "\n",
    "# Carga el archivo JSON en un DataFrame de pandas usando lines=True\n",
    "df8 = pd.read_json(ruta_archivo, lines=True)\n",
    "\n",
    "# Muestra el DataFrame\n",
    "df8"
   ]
  },
  {
   "cell_type": "markdown",
   "metadata": {},
   "source": [
    "10. CARGA DEL JSON 10"
   ]
  },
  {
   "cell_type": "code",
   "execution_count": null,
   "metadata": {},
   "outputs": [],
   "source": [
    "\n",
    "\n",
    "#Ruta de tu archivo JSON 10\n",
    "ruta_archivo = '/Users/felipeamezquita/Library/Mobile Documents/com~apple~CloudDocs/Documents/HENRY/PROYECTO FINAL/DATA/GOOGLE MAPS/metadata-sitios/10.json'\n",
    "\n",
    "# Carga el archivo JSON en un DataFrame de pandas usando lines=True\n",
    "df9 = pd.read_json(ruta_archivo, lines=True)\n",
    "\n",
    "# Muestra el DataFrame\n",
    "df9"
   ]
  },
  {
   "cell_type": "markdown",
   "metadata": {},
   "source": [
    "11. CARGA DEL JSON 11"
   ]
  },
  {
   "cell_type": "code",
   "execution_count": null,
   "metadata": {},
   "outputs": [],
   "source": [
    "\n",
    "\n",
    "#Ruta de tu archivo JSON 11\n",
    "ruta_archivo = '/Users/felipeamezquita/Library/Mobile Documents/com~apple~CloudDocs/Documents/HENRY/PROYECTO FINAL/DATA/GOOGLE MAPS/metadata-sitios/11.json'\n",
    "\n",
    "# Carga el archivo JSON en un DataFrame de pandas usando lines=True\n",
    "df10 = pd.read_json(ruta_archivo, lines=True)\n",
    "\n",
    "# Muestra el DataFrame\n",
    "df10"
   ]
  },
  {
   "cell_type": "markdown",
   "metadata": {},
   "source": [
    "### **Concatenacion de los json en un solo df**"
   ]
  },
  {
   "cell_type": "markdown",
   "metadata": {},
   "source": [
    "Una vez cargados los json concatenamos el total en un solo dataframe para facilitar su manejo."
   ]
  },
  {
   "cell_type": "code",
   "execution_count": null,
   "metadata": {},
   "outputs": [],
   "source": [
    "# Lista de todos tus DataFrames\n",
    "dataframes = [df, df1, df2, df3, df4, df5, df6, df7, df8, df9, df10]\n",
    "\n",
    "\n"
   ]
  },
  {
   "cell_type": "code",
   "execution_count": null,
   "metadata": {},
   "outputs": [],
   "source": [
    "# Combina todos los DataFrames en uno solo\n",
    "df_final = pd.concat(dataframes, ignore_index=True)\n",
    "\n",
    "# Muestra el tamaño del DataFrame combinado\n",
    "print(f\"Tamaño del DataFrame combinado: {df_final.shape}\")"
   ]
  },
  {
   "cell_type": "markdown",
   "metadata": {},
   "source": [
    "### **Eliminar columnas**"
   ]
  },
  {
   "cell_type": "markdown",
   "metadata": {},
   "source": [
    " Se eliminaran las columnas por que sus tipos de datos no son necesarios en nuestri analisis de datos. 'description', 'MISC', 'state', 'relative_results', 'url'"
   ]
  },
  {
   "cell_type": "code",
   "execution_count": null,
   "metadata": {},
   "outputs": [],
   "source": [
    "# Eliminar las columnas especificadas del DataFrame\n",
    "columnas_a_eliminar = ['description', 'MISC', 'state', 'relative_results', 'url']\n",
    "df_final = df_final.drop(columns=columnas_a_eliminar)\n",
    "\n",
    "# Verifica el resultado mostrando las primeras filas\n",
    "print(df_final.head())\n"
   ]
  },
  {
   "cell_type": "markdown",
   "metadata": {},
   "source": [
    "De acuerdo a la direccion en la columna Address se crea la Columna estado, que nos da el estado del local comercial, se hace por que nuestro dataset contiene todos los comercios del pais, y el analisis sera solo sobre la costa Este del pais. "
   ]
  },
  {
   "cell_type": "code",
   "execution_count": null,
   "metadata": {},
   "outputs": [],
   "source": [
    "\n",
    "# Usamos una expresión regular para extraer el estado (dos letras antes del código postal)\n",
    "df_final['estado'] = df_final['address'].str.extract(r',\\s*([A-Z]{2})\\s*\\d{5}')\n",
    "\n",
    "# Verifica que la nueva columna 'estado' se ha creado correctamente\n",
    "print(df_final[['address', 'estado']].head())"
   ]
  },
  {
   "cell_type": "markdown",
   "metadata": {},
   "source": [
    "Se eliminan las filas de los comercios que no estan en la costa este del pais."
   ]
  },
  {
   "cell_type": "code",
   "execution_count": null,
   "metadata": {},
   "outputs": [],
   "source": [
    "# Lista de los estados que quieres conservar de la costa este\n",
    "estados_deseados = [\n",
    "    'ME',  # Maine\n",
    "    'NH',  # New Hampshire\n",
    "    'MA',  # Massachusetts\n",
    "    'RI',  # Rhode Island\n",
    "    'CT',  # Connecticut\n",
    "    'NY',  # New York\n",
    "    'NJ',  # New Jersey\n",
    "    'DE',  # Delaware\n",
    "    'MD',  # Maryland\n",
    "    'VA',  # Virginia\n",
    "    'NC',  # North Carolina\n",
    "    'SC',  # South Carolina\n",
    "    'GA',  # Georgia\n",
    "    'FL'   # Florida\n",
    "]"
   ]
  },
  {
   "cell_type": "code",
   "execution_count": null,
   "metadata": {},
   "outputs": [],
   "source": [
    "\n",
    "# Filtrar el DataFrame para que solo queden las filas con los estados deseados\n",
    "df_final_filtrado = df_final[df_final['estado'].isin(estados_deseados)]\n",
    "\n",
    "# Verifica que el filtrado se haya realizado correctamente\n",
    "print(df_final_filtrado[['address', 'estado']].head())\n",
    "print(f\"Tamaño del DataFrame después del filtrado: {df_final_filtrado.shape}\")"
   ]
  },
  {
   "cell_type": "code",
   "execution_count": null,
   "metadata": {},
   "outputs": [],
   "source": [
    "df_final_filtrado"
   ]
  },
  {
   "cell_type": "markdown",
   "metadata": {},
   "source": [
    "Se agraga una nueva columna con el nombre completo del estado"
   ]
  },
  {
   "cell_type": "code",
   "execution_count": null,
   "metadata": {},
   "outputs": [],
   "source": [
    "# Diccionario de mapeo de abreviaturas a nombres completos de estados\n",
    "mapa_estados = {\n",
    "    'ME': 'Maine',\n",
    "    'NH': 'New Hampshire',\n",
    "    'MA': 'Massachusetts',\n",
    "    'RI': 'Rhode Island',\n",
    "    'CT': 'Connecticut',\n",
    "    'NY': 'New York',\n",
    "    'NJ': 'New Jersey',\n",
    "    'DE': 'Delaware',\n",
    "    'MD': 'Maryland',\n",
    "    'VA': 'Virginia',\n",
    "    'NC': 'North Carolina',\n",
    "    'SC': 'South Carolina',\n",
    "    'GA': 'Georgia',\n",
    "    'FL': 'Florida'\n",
    "}\n",
    "\n",
    "# Crear la nueva columna 'nombre_estado' usando el mapeo\n",
    "df_final_filtrado['nombre_estado'] = df_final_filtrado['estado'].map(mapa_estados)\n",
    "\n",
    "# Verifica que la nueva columna se haya creado correctamente\n",
    "print(df_final_filtrado[['estado', 'nombre_estado']].head())\n"
   ]
  },
  {
   "cell_type": "code",
   "execution_count": null,
   "metadata": {},
   "outputs": [],
   "source": [
    "# Muestra el tamaño del DataFrame combinado\n",
    "print(f\"Tamaño del DataFrame combinado: {df_final_filtrado.shape}\")"
   ]
  },
  {
   "cell_type": "markdown",
   "metadata": {},
   "source": [
    "Se exporta el dataframe a parquet para que su tamaño sea menor y su  velocidad de procesamiento sea mayor. "
   ]
  },
  {
   "cell_type": "code",
   "execution_count": null,
   "metadata": {},
   "outputs": [],
   "source": [
    "# Guarda el DataFrame con la nueva columna en un archivo Parquet\n",
    "df_final_filtrado.to_parquet('metadata-sitios-costaeste.parquet')\n"
   ]
  },
  {
   "cell_type": "code",
   "execution_count": null,
   "metadata": {},
   "outputs": [],
   "source": [
    "df_final_filtrado"
   ]
  },
  {
   "cell_type": "markdown",
   "metadata": {},
   "source": [
    "Cargo el parquet por que la velocidad de procesamiento aumentara de manera significativa y hacer asi la limpiezza de datos de los datos que seran utlizados"
   ]
  },
  {
   "cell_type": "code",
   "execution_count": null,
   "metadata": {},
   "outputs": [],
   "source": [
    "# Especifica la ruta de tu archivo Parquet\n",
    "ruta_archivo = '/Users/felipeamezquita/Library/Mobile Documents/com~apple~CloudDocs/Documents/HENRY/PROYECTO FINAL/metadata-sitios-costaeste.parquet'\n",
    "\n",
    "# Cargar el archivo Parquet en un DataFrame\n",
    "df = pd.read_parquet(ruta_archivo)\n",
    "\n",
    "# Mostrar las primeras filas del DataFrame\n",
    "print(df.head())\n"
   ]
  },
  {
   "cell_type": "code",
   "execution_count": null,
   "metadata": {},
   "outputs": [],
   "source": [
    "df"
   ]
  },
  {
   "cell_type": "markdown",
   "metadata": {},
   "source": [
    "Se crea la columna ciudad de acuerdo a la columna addres para ser utlizada posteriormente en el analisis de datos"
   ]
  },
  {
   "cell_type": "code",
   "execution_count": null,
   "metadata": {},
   "outputs": [],
   "source": [
    "\n",
    "# Utilizamos una expresión regular para extraer la ciudad, que se encuentra entre la dirección y el estado\n",
    "df['city'] = df['address'].str.extract(r',\\s*([^,]+),\\s*[A-Z]{2}\\s*\\d{5}')\n",
    "\n",
    "# Mostrar las primeras filas para verificar\n",
    "print(df[['address', 'city']].head())"
   ]
  },
  {
   "cell_type": "code",
   "execution_count": null,
   "metadata": {},
   "outputs": [],
   "source": [
    "df"
   ]
  },
  {
   "cell_type": "code",
   "execution_count": null,
   "metadata": {},
   "outputs": [],
   "source": [
    "# Guarda el DataFrame con la nueva columna en un archivo Parquet\n",
    "df.to_parquet('metadata-sitios-costaeste-estado-ciudad.parquet')"
   ]
  },
  {
   "cell_type": "markdown",
   "metadata": {},
   "source": [
    "# **Creacion de los archivos parquet de Reviews-Estados de Google maps**"
   ]
  },
  {
   "cell_type": "markdown",
   "metadata": {},
   "source": [
    "### **01. Estado de la Florida**"
   ]
  },
  {
   "cell_type": "markdown",
   "metadata": {},
   "source": [
    "01. CARGA DEL JSON 01"
   ]
  },
  {
   "cell_type": "code",
   "execution_count": null,
   "metadata": {},
   "outputs": [],
   "source": [
    "\n",
    "#Ruta de tu archivo JSON 1\n",
    "ruta_archivo = '/Users/felipeamezquita/Library/Mobile Documents/com~apple~CloudDocs/Documents/HENRY/PROYECTO FINAL/DATA/GOOGLE MAPS/reviews-estados/review-Florida/1.json'\n",
    "\n",
    "# Carga el archivo JSON en un DataFrame de pandas usando lines=True\n",
    "df1 = pd.read_json(ruta_archivo, lines=True)\n",
    "\n",
    "# Muestra el DataFrame\n",
    "df1"
   ]
  },
  {
   "cell_type": "markdown",
   "metadata": {},
   "source": [
    "02 CARGA DEL JSON 2"
   ]
  },
  {
   "cell_type": "code",
   "execution_count": null,
   "metadata": {},
   "outputs": [],
   "source": [
    "\n",
    "#Ruta de tu archivo JSON 2\n",
    "ruta_archivo = '/Users/felipeamezquita/Library/Mobile Documents/com~apple~CloudDocs/Documents/HENRY/PROYECTO FINAL/DATA/GOOGLE MAPS/reviews-estados/review-Florida/2.json'\n",
    "\n",
    "# Carga el archivo JSON en un DataFrame de pandas usando lines=True\n",
    "df2 = pd.read_json(ruta_archivo, lines=True)\n",
    "\n",
    "# Muestra el DataFrame\n",
    "df2"
   ]
  },
  {
   "cell_type": "markdown",
   "metadata": {},
   "source": [
    "03. CARGA DEL JSON 03"
   ]
  },
  {
   "cell_type": "code",
   "execution_count": null,
   "metadata": {},
   "outputs": [],
   "source": [
    "\n",
    "#Ruta de tu archivo JSON 3\n",
    "ruta_archivo = '/Users/felipeamezquita/Library/Mobile Documents/com~apple~CloudDocs/Documents/HENRY/PROYECTO FINAL/DATA/GOOGLE MAPS/reviews-estados/review-Florida/3.json'\n",
    "\n",
    "# Carga el archivo JSON en un DataFrame de pandas usando lines=True\n",
    "df3 = pd.read_json(ruta_archivo, lines=True)\n",
    "\n",
    "# Muestra el DataFrame\n",
    "df3"
   ]
  },
  {
   "cell_type": "markdown",
   "metadata": {},
   "source": [
    "04. CARGA DEL JSON 4"
   ]
  },
  {
   "cell_type": "code",
   "execution_count": null,
   "metadata": {},
   "outputs": [],
   "source": [
    "\n",
    "#Ruta de tu archivo JSON 4\n",
    "ruta_archivo = '/Users/felipeamezquita/Library/Mobile Documents/com~apple~CloudDocs/Documents/HENRY/PROYECTO FINAL/DATA/GOOGLE MAPS/reviews-estados/review-Florida/4.json'\n",
    "\n",
    "# Carga el archivo JSON en un DataFrame de pandas usando lines=True\n",
    "df4 = pd.read_json(ruta_archivo, lines=True)\n",
    "\n",
    "# Muestra el DataFrame\n",
    "df4"
   ]
  },
  {
   "cell_type": "markdown",
   "metadata": {},
   "source": [
    "5. CARGA DEL JSON 5"
   ]
  },
  {
   "cell_type": "code",
   "execution_count": null,
   "metadata": {},
   "outputs": [],
   "source": [
    "\n",
    "#Ruta de tu archivo JSON 5\n",
    "ruta_archivo = '/Users/felipeamezquita/Library/Mobile Documents/com~apple~CloudDocs/Documents/HENRY/PROYECTO FINAL/DATA/GOOGLE MAPS/reviews-estados/review-Florida/5.json'\n",
    "\n",
    "# Carga el archivo JSON en un DataFrame de pandas usando lines=True\n",
    "df5 = pd.read_json(ruta_archivo, lines=True)\n",
    "\n",
    "# Muestra el DataFrame\n",
    "df5"
   ]
  },
  {
   "cell_type": "markdown",
   "metadata": {},
   "source": [
    "6. CARGA DEL JSON 6"
   ]
  },
  {
   "cell_type": "code",
   "execution_count": null,
   "metadata": {},
   "outputs": [],
   "source": [
    "\n",
    "#Ruta de tu archivo JSON 6\n",
    "ruta_archivo = '/Users/felipeamezquita/Library/Mobile Documents/com~apple~CloudDocs/Documents/HENRY/PROYECTO FINAL/DATA/GOOGLE MAPS/reviews-estados/review-Florida/6.json'\n",
    "\n",
    "# Carga el archivo JSON en un DataFrame de pandas usando lines=True\n",
    "df6 = pd.read_json(ruta_archivo, lines=True)\n",
    "\n",
    "# Muestra el DataFrame\n",
    "df6"
   ]
  },
  {
   "cell_type": "markdown",
   "metadata": {},
   "source": [
    "7. CARGA DEL JSON 7"
   ]
  },
  {
   "cell_type": "code",
   "execution_count": null,
   "metadata": {},
   "outputs": [],
   "source": [
    "\n",
    "#Ruta de tu archivo JSON 7\n",
    "ruta_archivo = '/Users/felipeamezquita/Library/Mobile Documents/com~apple~CloudDocs/Documents/HENRY/PROYECTO FINAL/DATA/GOOGLE MAPS/reviews-estados/review-Florida/7.json'\n",
    "\n",
    "# Carga el archivo JSON en un DataFrame de pandas usando lines=True\n",
    "df7 = pd.read_json(ruta_archivo, lines=True)\n",
    "\n",
    "# Muestra el DataFrame\n",
    "df7"
   ]
  },
  {
   "cell_type": "markdown",
   "metadata": {},
   "source": [
    "8. CARGA DEL JSON 8"
   ]
  },
  {
   "cell_type": "code",
   "execution_count": null,
   "metadata": {},
   "outputs": [],
   "source": [
    "\n",
    "#Ruta de tu archivo JSON 8\n",
    "ruta_archivo = '/Users/felipeamezquita/Library/Mobile Documents/com~apple~CloudDocs/Documents/HENRY/PROYECTO FINAL/DATA/GOOGLE MAPS/reviews-estados/review-Florida/8.json'\n",
    "\n",
    "# Carga el archivo JSON en un DataFrame de pandas usando lines=True\n",
    "df8 = pd.read_json(ruta_archivo, lines=True)\n",
    "\n",
    "# Muestra el DataFrame\n",
    "df8"
   ]
  },
  {
   "cell_type": "markdown",
   "metadata": {},
   "source": [
    "9. CARGA DEL JSON 9"
   ]
  },
  {
   "cell_type": "code",
   "execution_count": null,
   "metadata": {},
   "outputs": [],
   "source": [
    "\n",
    "#Ruta de tu archivo JSON 9\n",
    "ruta_archivo = '/Users/felipeamezquita/Library/Mobile Documents/com~apple~CloudDocs/Documents/HENRY/PROYECTO FINAL/DATA/GOOGLE MAPS/reviews-estados/review-Florida/9.json'\n",
    "\n",
    "# Carga el archivo JSON en un DataFrame de pandas usando lines=True\n",
    "df9 = pd.read_json(ruta_archivo, lines=True)\n",
    "\n",
    "# Muestra el DataFrame\n",
    "df9"
   ]
  },
  {
   "cell_type": "markdown",
   "metadata": {},
   "source": [
    "10. CARGA DEL JSON 10"
   ]
  },
  {
   "cell_type": "code",
   "execution_count": null,
   "metadata": {},
   "outputs": [],
   "source": [
    "\n",
    "#Ruta de tu archivo JSON 10\n",
    "ruta_archivo = '/Users/felipeamezquita/Library/Mobile Documents/com~apple~CloudDocs/Documents/HENRY/PROYECTO FINAL/DATA/GOOGLE MAPS/reviews-estados/review-Florida/10.json'\n",
    "\n",
    "# Carga el archivo JSON en un DataFrame de pandas usando lines=True\n",
    "df10 = pd.read_json(ruta_archivo, lines=True)\n",
    "\n",
    "# Muestra el DataFrame\n",
    "df10"
   ]
  },
  {
   "cell_type": "markdown",
   "metadata": {},
   "source": [
    "11. CARGA DEL JSON 11"
   ]
  },
  {
   "cell_type": "code",
   "execution_count": null,
   "metadata": {},
   "outputs": [],
   "source": [
    "\n",
    "#Ruta de tu archivo JSON 11\n",
    "ruta_archivo = '/Users/felipeamezquita/Library/Mobile Documents/com~apple~CloudDocs/Documents/HENRY/PROYECTO FINAL/DATA/GOOGLE MAPS/reviews-estados/review-Florida/11.json'\n",
    "\n",
    "# Carga el archivo JSON en un DataFrame de pandas usando lines=True\n",
    "df11 = pd.read_json(ruta_archivo, lines=True)\n",
    "\n",
    "# Muestra el DataFrame\n",
    "df11"
   ]
  },
  {
   "cell_type": "markdown",
   "metadata": {},
   "source": [
    "12. CARGA DEL JSON 12"
   ]
  },
  {
   "cell_type": "code",
   "execution_count": null,
   "metadata": {},
   "outputs": [],
   "source": [
    "\n",
    "#Ruta de tu archivo JSON 12\n",
    "ruta_archivo = '/Users/felipeamezquita/Library/Mobile Documents/com~apple~CloudDocs/Documents/HENRY/PROYECTO FINAL/DATA/GOOGLE MAPS/reviews-estados/review-Florida/12.json'\n",
    "\n",
    "# Carga el archivo JSON en un DataFrame de pandas usando lines=True\n",
    "df12 = pd.read_json(ruta_archivo, lines=True)\n",
    "\n",
    "# Muestra el DataFrame\n",
    "df12"
   ]
  },
  {
   "cell_type": "markdown",
   "metadata": {},
   "source": [
    "13. CARGA DEL JSON 13"
   ]
  },
  {
   "cell_type": "code",
   "execution_count": null,
   "metadata": {},
   "outputs": [],
   "source": [
    "\n",
    "#Ruta de tu archivo JSON 13\n",
    "ruta_archivo = '/Users/felipeamezquita/Library/Mobile Documents/com~apple~CloudDocs/Documents/HENRY/PROYECTO FINAL/DATA/GOOGLE MAPS/reviews-estados/review-Florida/13.json'\n",
    "\n",
    "# Carga el archivo JSON en un DataFrame de pandas usando lines=True\n",
    "df13 = pd.read_json(ruta_archivo, lines=True)\n",
    "\n",
    "# Muestra el DataFrame\n",
    "df13"
   ]
  },
  {
   "cell_type": "markdown",
   "metadata": {},
   "source": [
    "14. CARGA DEL JSON 14"
   ]
  },
  {
   "cell_type": "code",
   "execution_count": null,
   "metadata": {},
   "outputs": [],
   "source": [
    "\n",
    "#Ruta de tu archivo JSON 14\n",
    "ruta_archivo = '/Users/felipeamezquita/Library/Mobile Documents/com~apple~CloudDocs/Documents/HENRY/PROYECTO FINAL/DATA/GOOGLE MAPS/reviews-estados/review-Florida/14.json'\n",
    "\n",
    "# Carga el archivo JSON en un DataFrame de pandas usando lines=True\n",
    "df14 = pd.read_json(ruta_archivo, lines=True)\n",
    "\n",
    "# Muestra el DataFrame\n",
    "df14"
   ]
  },
  {
   "cell_type": "markdown",
   "metadata": {},
   "source": [
    "15. CARGA DEL JSON 15"
   ]
  },
  {
   "cell_type": "code",
   "execution_count": null,
   "metadata": {},
   "outputs": [],
   "source": [
    "\n",
    "#Ruta de tu archivo JSON 15\n",
    "ruta_archivo = '/Users/felipeamezquita/Library/Mobile Documents/com~apple~CloudDocs/Documents/HENRY/PROYECTO FINAL/DATA/GOOGLE MAPS/reviews-estados/review-Florida/15.json'\n",
    "\n",
    "# Carga el archivo JSON en un DataFrame de pandas usando lines=True\n",
    "df15 = pd.read_json(ruta_archivo, lines=True)\n",
    "\n",
    "# Muestra el DataFrame\n",
    "df15"
   ]
  },
  {
   "cell_type": "markdown",
   "metadata": {},
   "source": [
    "16. CARGA DEL JSON 16"
   ]
  },
  {
   "cell_type": "code",
   "execution_count": null,
   "metadata": {},
   "outputs": [],
   "source": [
    "\n",
    "#Ruta de tu archivo JSON 16\n",
    "ruta_archivo = '/Users/felipeamezquita/Library/Mobile Documents/com~apple~CloudDocs/Documents/HENRY/PROYECTO FINAL/DATA/GOOGLE MAPS/reviews-estados/review-Florida/16.json'\n",
    "\n",
    "# Carga el archivo JSON en un DataFrame de pandas usando lines=True\n",
    "df16 = pd.read_json(ruta_archivo, lines=True)\n",
    "\n",
    "# Muestra el DataFrame\n",
    "df16"
   ]
  },
  {
   "cell_type": "markdown",
   "metadata": {},
   "source": [
    "17. CARGA DEL JSON 17"
   ]
  },
  {
   "cell_type": "code",
   "execution_count": null,
   "metadata": {},
   "outputs": [],
   "source": [
    "\n",
    "#Ruta de tu archivo JSON 17\n",
    "ruta_archivo = '/Users/felipeamezquita/Library/Mobile Documents/com~apple~CloudDocs/Documents/HENRY/PROYECTO FINAL/DATA/GOOGLE MAPS/reviews-estados/review-Florida/17.json'\n",
    "\n",
    "# Carga el archivo JSON en un DataFrame de pandas usando lines=True\n",
    "df17 = pd.read_json(ruta_archivo, lines=True)\n",
    "\n",
    "# Muestra el DataFrame\n",
    "df17"
   ]
  },
  {
   "cell_type": "markdown",
   "metadata": {},
   "source": [
    "18. CARGA DEL JSON 18"
   ]
  },
  {
   "cell_type": "code",
   "execution_count": null,
   "metadata": {},
   "outputs": [],
   "source": [
    "\n",
    "#Ruta de tu archivo JSON 18\n",
    "ruta_archivo = '/Users/felipeamezquita/Library/Mobile Documents/com~apple~CloudDocs/Documents/HENRY/PROYECTO FINAL/DATA/GOOGLE MAPS/reviews-estados/review-Florida/18.json'\n",
    "\n",
    "# Carga el archivo JSON en un DataFrame de pandas usando lines=True\n",
    "df18 = pd.read_json(ruta_archivo, lines=True)\n",
    "\n",
    "# Muestra el DataFrame\n",
    "df18"
   ]
  },
  {
   "cell_type": "markdown",
   "metadata": {},
   "source": [
    "19. CARGA DEL JSON 19"
   ]
  },
  {
   "cell_type": "code",
   "execution_count": null,
   "metadata": {},
   "outputs": [],
   "source": [
    "\n",
    "#Ruta de tu archivo JSON 19\n",
    "ruta_archivo = '/Users/felipeamezquita/Library/Mobile Documents/com~apple~CloudDocs/Documents/HENRY/PROYECTO FINAL/DATA/GOOGLE MAPS/reviews-estados/review-Florida/19.json'\n",
    "\n",
    "# Carga el archivo JSON en un DataFrame de pandas usando lines=True\n",
    "df19 = pd.read_json(ruta_archivo, lines=True)\n",
    "\n",
    "# Muestra el DataFrame\n",
    "df19"
   ]
  },
  {
   "cell_type": "markdown",
   "metadata": {},
   "source": [
    "**Guardar todos los df en un solo df**"
   ]
  },
  {
   "cell_type": "code",
   "execution_count": null,
   "metadata": {},
   "outputs": [],
   "source": [
    "# Lista de todos tus DataFrames\n",
    "dataframes = [df1, df2, df3, df4, df5, df6, df7, df8, df9, df10, df11, df12, df13, df14, df15, df16, df17, df18, df19]\n",
    "\n",
    "\n"
   ]
  },
  {
   "cell_type": "code",
   "execution_count": null,
   "metadata": {},
   "outputs": [],
   "source": [
    "# Combina todos los DataFrames en uno solo\n",
    "df_final = pd.concat(dataframes, ignore_index=True)\n",
    "\n",
    "# Muestra el tamaño del DataFrame combinado\n",
    "print(f\"Tamaño del DataFrame combinado: {df_final.shape}\")"
   ]
  },
  {
   "cell_type": "code",
   "execution_count": null,
   "metadata": {},
   "outputs": [],
   "source": [
    "# Eliminar las columnas especificadas del DataFrame\n",
    "columnas_a_eliminar = ['pics', 'resp']\n",
    "df_final = df_final.drop(columns=columnas_a_eliminar)\n",
    "\n",
    "# Verifica el resultado mostrando las primeras filas\n",
    "print(df_final.head())"
   ]
  },
  {
   "cell_type": "code",
   "execution_count": null,
   "metadata": {},
   "outputs": [],
   "source": [
    "# Guarda el DataFrame en un archivo Parquet\n",
    "df_final.to_parquet('Review-Florida.parquet')\n"
   ]
  },
  {
   "cell_type": "markdown",
   "metadata": {},
   "source": [
    "### **02. Estado de Georgia**"
   ]
  },
  {
   "cell_type": "markdown",
   "metadata": {},
   "source": [
    "01. CARGA DEL JSON 01"
   ]
  },
  {
   "cell_type": "code",
   "execution_count": null,
   "metadata": {},
   "outputs": [],
   "source": [
    "\n",
    "#Ruta de tu archivo JSON 1\n",
    "ruta_archivo = '/Users/felipeamezquita/Library/Mobile Documents/com~apple~CloudDocs/Documents/HENRY/PROYECTO FINAL/DATA/GOOGLE MAPS/reviews-estados/review-Georgia/1.json'\n",
    "\n",
    "# Carga el archivo JSON en un DataFrame de pandas usando lines=True\n",
    "df1 = pd.read_json(ruta_archivo, lines=True)\n",
    "\n",
    "# Muestra el DataFrame\n",
    "df1"
   ]
  },
  {
   "cell_type": "markdown",
   "metadata": {},
   "source": [
    "02 CARGA DEL JSON 2"
   ]
  },
  {
   "cell_type": "code",
   "execution_count": null,
   "metadata": {},
   "outputs": [],
   "source": [
    "\n",
    "#Ruta de tu archivo JSON 2\n",
    "ruta_archivo = '/Users/felipeamezquita/Library/Mobile Documents/com~apple~CloudDocs/Documents/HENRY/PROYECTO FINAL/DATA/GOOGLE MAPS/reviews-estados/review-Georgia/2.json'\n",
    "\n",
    "# Carga el archivo JSON en un DataFrame de pandas usando lines=True\n",
    "df2 = pd.read_json(ruta_archivo, lines=True)\n",
    "\n",
    "# Muestra el DataFrame\n",
    "df2"
   ]
  },
  {
   "cell_type": "markdown",
   "metadata": {},
   "source": [
    "03. CARGA DEL JSON 03"
   ]
  },
  {
   "cell_type": "code",
   "execution_count": null,
   "metadata": {},
   "outputs": [],
   "source": [
    "\n",
    "#Ruta de tu archivo JSON 3\n",
    "ruta_archivo = '/Users/felipeamezquita/Library/Mobile Documents/com~apple~CloudDocs/Documents/HENRY/PROYECTO FINAL/DATA/GOOGLE MAPS/reviews-estados/review-Georgia/3.json'\n",
    "\n",
    "# Carga el archivo JSON en un DataFrame de pandas usando lines=True\n",
    "df3 = pd.read_json(ruta_archivo, lines=True)\n",
    "\n",
    "# Muestra el DataFrame\n",
    "df3"
   ]
  },
  {
   "cell_type": "markdown",
   "metadata": {},
   "source": [
    "04. CARGA DEL JSON 4"
   ]
  },
  {
   "cell_type": "code",
   "execution_count": null,
   "metadata": {},
   "outputs": [],
   "source": [
    "\n",
    "#Ruta de tu archivo JSON 4\n",
    "ruta_archivo = '/Users/felipeamezquita/Library/Mobile Documents/com~apple~CloudDocs/Documents/HENRY/PROYECTO FINAL/DATA/GOOGLE MAPS/reviews-estados/review-Georgia/4.json'\n",
    "\n",
    "# Carga el archivo JSON en un DataFrame de pandas usando lines=True\n",
    "df4 = pd.read_json(ruta_archivo, lines=True)\n",
    "\n",
    "# Muestra el DataFrame\n",
    "df4"
   ]
  },
  {
   "cell_type": "markdown",
   "metadata": {},
   "source": [
    "5. CARGA DEL JSON 5"
   ]
  },
  {
   "cell_type": "code",
   "execution_count": null,
   "metadata": {},
   "outputs": [],
   "source": [
    "\n",
    "#Ruta de tu archivo JSON 5\n",
    "ruta_archivo = '/Users/felipeamezquita/Library/Mobile Documents/com~apple~CloudDocs/Documents/HENRY/PROYECTO FINAL/DATA/GOOGLE MAPS/reviews-estados/review-Georgia/5.json'\n",
    "\n",
    "# Carga el archivo JSON en un DataFrame de pandas usando lines=True\n",
    "df5 = pd.read_json(ruta_archivo, lines=True)\n",
    "\n",
    "# Muestra el DataFrame\n",
    "df5"
   ]
  },
  {
   "cell_type": "markdown",
   "metadata": {},
   "source": [
    "6. CARGA DEL JSON 6"
   ]
  },
  {
   "cell_type": "code",
   "execution_count": null,
   "metadata": {},
   "outputs": [],
   "source": [
    "\n",
    "#Ruta de tu archivo JSON 6\n",
    "ruta_archivo = '/Users/felipeamezquita/Library/Mobile Documents/com~apple~CloudDocs/Documents/HENRY/PROYECTO FINAL/DATA/GOOGLE MAPS/reviews-estados/review-Georgia/6.json'\n",
    "\n",
    "# Carga el archivo JSON en un DataFrame de pandas usando lines=True\n",
    "df6 = pd.read_json(ruta_archivo, lines=True)\n",
    "\n",
    "# Muestra el DataFrame\n",
    "df6"
   ]
  },
  {
   "cell_type": "markdown",
   "metadata": {},
   "source": [
    "7. CARGA DEL JSON 7"
   ]
  },
  {
   "cell_type": "code",
   "execution_count": null,
   "metadata": {},
   "outputs": [],
   "source": [
    "\n",
    "#Ruta de tu archivo JSON 7\n",
    "ruta_archivo = '/Users/felipeamezquita/Library/Mobile Documents/com~apple~CloudDocs/Documents/HENRY/PROYECTO FINAL/DATA/GOOGLE MAPS/reviews-estados/review-Georgia/7.json'\n",
    "\n",
    "# Carga el archivo JSON en un DataFrame de pandas usando lines=True\n",
    "df7 = pd.read_json(ruta_archivo, lines=True)\n",
    "\n",
    "# Muestra el DataFrame\n",
    "df7"
   ]
  },
  {
   "cell_type": "markdown",
   "metadata": {},
   "source": [
    "8. CARGA DEL JSON 8"
   ]
  },
  {
   "cell_type": "code",
   "execution_count": null,
   "metadata": {},
   "outputs": [],
   "source": [
    "\n",
    "#Ruta de tu archivo JSON 8\n",
    "ruta_archivo = '/Users/felipeamezquita/Library/Mobile Documents/com~apple~CloudDocs/Documents/HENRY/PROYECTO FINAL/DATA/GOOGLE MAPS/reviews-estados/review-Georgia/8.json'\n",
    "\n",
    "# Carga el archivo JSON en un DataFrame de pandas usando lines=True\n",
    "df8 = pd.read_json(ruta_archivo, lines=True)\n",
    "\n",
    "# Muestra el DataFrame\n",
    "df8"
   ]
  },
  {
   "cell_type": "markdown",
   "metadata": {},
   "source": [
    "9. CARGA DEL JSON 9"
   ]
  },
  {
   "cell_type": "code",
   "execution_count": null,
   "metadata": {},
   "outputs": [],
   "source": [
    "\n",
    "#Ruta de tu archivo JSON 9\n",
    "ruta_archivo = '/Users/felipeamezquita/Library/Mobile Documents/com~apple~CloudDocs/Documents/HENRY/PROYECTO FINAL/DATA/GOOGLE MAPS/reviews-estados/review-Georgia/9.json'\n",
    "\n",
    "# Carga el archivo JSON en un DataFrame de pandas usando lines=True\n",
    "df9 = pd.read_json(ruta_archivo, lines=True)\n",
    "\n",
    "# Muestra el DataFrame\n",
    "df9"
   ]
  },
  {
   "cell_type": "markdown",
   "metadata": {},
   "source": [
    "10. CARGA DEL JSON 10"
   ]
  },
  {
   "cell_type": "code",
   "execution_count": null,
   "metadata": {},
   "outputs": [],
   "source": [
    "\n",
    "#Ruta de tu archivo JSON 10\n",
    "ruta_archivo = '/Users/felipeamezquita/Library/Mobile Documents/com~apple~CloudDocs/Documents/HENRY/PROYECTO FINAL/DATA/GOOGLE MAPS/reviews-estados/review-Georgia/10.json'\n",
    "\n",
    "# Carga el archivo JSON en un DataFrame de pandas usando lines=True\n",
    "df10 = pd.read_json(ruta_archivo, lines=True)\n",
    "\n",
    "# Muestra el DataFrame\n",
    "df10"
   ]
  },
  {
   "cell_type": "markdown",
   "metadata": {},
   "source": [
    "11. CARGA DEL JSON 11"
   ]
  },
  {
   "cell_type": "code",
   "execution_count": null,
   "metadata": {},
   "outputs": [],
   "source": [
    "\n",
    "#Ruta de tu archivo JSON 11\n",
    "ruta_archivo = '/Users/felipeamezquita/Library/Mobile Documents/com~apple~CloudDocs/Documents/HENRY/PROYECTO FINAL/DATA/GOOGLE MAPS/reviews-estados/review-Georgia/11.json'\n",
    "\n",
    "# Carga el archivo JSON en un DataFrame de pandas usando lines=True\n",
    "df11 = pd.read_json(ruta_archivo, lines=True)\n",
    "\n",
    "# Muestra el DataFrame\n",
    "df11"
   ]
  },
  {
   "cell_type": "markdown",
   "metadata": {},
   "source": [
    "12. CARGA DEL JSON 12"
   ]
  },
  {
   "cell_type": "code",
   "execution_count": null,
   "metadata": {},
   "outputs": [],
   "source": [
    "\n",
    "#Ruta de tu archivo JSON 12\n",
    "ruta_archivo = '/Users/felipeamezquita/Library/Mobile Documents/com~apple~CloudDocs/Documents/HENRY/PROYECTO FINAL/DATA/GOOGLE MAPS/reviews-estados/review-Georgia/12.json'\n",
    "\n",
    "# Carga el archivo JSON en un DataFrame de pandas usando lines=True\n",
    "df12 = pd.read_json(ruta_archivo, lines=True)\n",
    "\n",
    "# Muestra el DataFrame\n",
    "df12"
   ]
  },
  {
   "cell_type": "markdown",
   "metadata": {},
   "source": [
    "13. CARGA DEL JSON 13"
   ]
  },
  {
   "cell_type": "code",
   "execution_count": null,
   "metadata": {},
   "outputs": [],
   "source": [
    "\n",
    "#Ruta de tu archivo JSON 13\n",
    "ruta_archivo = '/Users/felipeamezquita/Library/Mobile Documents/com~apple~CloudDocs/Documents/HENRY/PROYECTO FINAL/DATA/GOOGLE MAPS/reviews-estados/review-Georgia/13.json'\n",
    "\n",
    "# Carga el archivo JSON en un DataFrame de pandas usando lines=True\n",
    "df13 = pd.read_json(ruta_archivo, lines=True)\n",
    "\n",
    "# Muestra el DataFrame\n",
    "df13"
   ]
  },
  {
   "cell_type": "markdown",
   "metadata": {},
   "source": [
    "**Guardar todos los df en un solo df**"
   ]
  },
  {
   "cell_type": "code",
   "execution_count": null,
   "metadata": {},
   "outputs": [],
   "source": [
    "# Lista de todos tus DataFrames\n",
    "dataframes = [df1, df2, df3, df4, df5, df6, df7, df8, df9, df10, df11, df12, df13]\n",
    "\n",
    "\n"
   ]
  },
  {
   "cell_type": "code",
   "execution_count": null,
   "metadata": {},
   "outputs": [],
   "source": [
    "# Combina todos los DataFrames en uno solo\n",
    "df_final = pd.concat(dataframes, ignore_index=True)\n",
    "\n",
    "# Muestra el tamaño del DataFrame combinado\n",
    "print(f\"Tamaño del DataFrame combinado: {df_final.shape}\")"
   ]
  },
  {
   "cell_type": "code",
   "execution_count": null,
   "metadata": {},
   "outputs": [],
   "source": [
    "# Eliminar las columnas especificadas del DataFrame\n",
    "columnas_a_eliminar = ['pics', 'resp']\n",
    "df_final = df_final.drop(columns=columnas_a_eliminar)\n",
    "\n",
    "# Verifica el resultado mostrando las primeras filas\n",
    "print(df_final.head())"
   ]
  },
  {
   "cell_type": "code",
   "execution_count": null,
   "metadata": {},
   "outputs": [],
   "source": [
    "# Guarda el DataFrame en un archivo Parquet\n",
    "df_final.to_parquet('Review-Georgia.parquet')\n"
   ]
  },
  {
   "cell_type": "markdown",
   "metadata": {},
   "source": [
    "### **03. Estado de North Carolina**"
   ]
  },
  {
   "cell_type": "markdown",
   "metadata": {},
   "source": [
    "01. CARGA DEL JSON 01"
   ]
  },
  {
   "cell_type": "code",
   "execution_count": null,
   "metadata": {},
   "outputs": [],
   "source": [
    "\n",
    "#Ruta de tu archivo JSON 1\n",
    "ruta_archivo = '/Users/felipeamezquita/Library/Mobile Documents/com~apple~CloudDocs/Documents/HENRY/PROYECTO FINAL/DATA/GOOGLE MAPS/reviews-estados/review-North_Carolina/1.json'\n",
    "\n",
    "# Carga el archivo JSON en un DataFrame de pandas usando lines=True\n",
    "df1 = pd.read_json(ruta_archivo, lines=True)\n",
    "\n",
    "# Muestra el DataFrame\n",
    "df1"
   ]
  },
  {
   "cell_type": "markdown",
   "metadata": {},
   "source": [
    "02 CARGA DEL JSON 2"
   ]
  },
  {
   "cell_type": "code",
   "execution_count": null,
   "metadata": {},
   "outputs": [],
   "source": [
    "\n",
    "#Ruta de tu archivo JSON 2\n",
    "ruta_archivo = '/Users/felipeamezquita/Library/Mobile Documents/com~apple~CloudDocs/Documents/HENRY/PROYECTO FINAL/DATA/GOOGLE MAPS/reviews-estados/review-North_Carolina/2.json'\n",
    "\n",
    "# Carga el archivo JSON en un DataFrame de pandas usando lines=True\n",
    "df2 = pd.read_json(ruta_archivo, lines=True)\n",
    "\n",
    "# Muestra el DataFrame\n",
    "df2"
   ]
  },
  {
   "cell_type": "markdown",
   "metadata": {},
   "source": [
    "03. CARGA DEL JSON 03"
   ]
  },
  {
   "cell_type": "code",
   "execution_count": null,
   "metadata": {},
   "outputs": [],
   "source": [
    "\n",
    "#Ruta de tu archivo JSON 3\n",
    "ruta_archivo = '/Users/felipeamezquita/Library/Mobile Documents/com~apple~CloudDocs/Documents/HENRY/PROYECTO FINAL/DATA/GOOGLE MAPS/reviews-estados/review-North_Carolina/3.json'\n",
    "\n",
    "# Carga el archivo JSON en un DataFrame de pandas usando lines=True\n",
    "df3 = pd.read_json(ruta_archivo, lines=True)\n",
    "\n",
    "# Muestra el DataFrame\n",
    "df3"
   ]
  },
  {
   "cell_type": "markdown",
   "metadata": {},
   "source": [
    "04. CARGA DEL JSON 4"
   ]
  },
  {
   "cell_type": "code",
   "execution_count": null,
   "metadata": {},
   "outputs": [],
   "source": [
    "\n",
    "#Ruta de tu archivo JSON 4\n",
    "ruta_archivo = '/Users/felipeamezquita/Library/Mobile Documents/com~apple~CloudDocs/Documents/HENRY/PROYECTO FINAL/DATA/GOOGLE MAPS/reviews-estados/review-North_Carolina/4.json'\n",
    "\n",
    "# Carga el archivo JSON en un DataFrame de pandas usando lines=True\n",
    "df4 = pd.read_json(ruta_archivo, lines=True)\n",
    "\n",
    "# Muestra el DataFrame\n",
    "df4"
   ]
  },
  {
   "cell_type": "markdown",
   "metadata": {},
   "source": [
    "5. CARGA DEL JSON 5"
   ]
  },
  {
   "cell_type": "code",
   "execution_count": null,
   "metadata": {},
   "outputs": [],
   "source": [
    "\n",
    "#Ruta de tu archivo JSON 5\n",
    "ruta_archivo = '/Users/felipeamezquita/Library/Mobile Documents/com~apple~CloudDocs/Documents/HENRY/PROYECTO FINAL/DATA/GOOGLE MAPS/reviews-estados/review-North_Carolina/5.json'\n",
    "\n",
    "# Carga el archivo JSON en un DataFrame de pandas usando lines=True\n",
    "df5 = pd.read_json(ruta_archivo, lines=True)\n",
    "\n",
    "# Muestra el DataFrame\n",
    "df5"
   ]
  },
  {
   "cell_type": "markdown",
   "metadata": {},
   "source": [
    "6. CARGA DEL JSON 6"
   ]
  },
  {
   "cell_type": "code",
   "execution_count": null,
   "metadata": {},
   "outputs": [],
   "source": [
    "\n",
    "#Ruta de tu archivo JSON 6\n",
    "ruta_archivo = '/Users/felipeamezquita/Library/Mobile Documents/com~apple~CloudDocs/Documents/HENRY/PROYECTO FINAL/DATA/GOOGLE MAPS/reviews-estados/review-North_Carolina/6.json'\n",
    "\n",
    "# Carga el archivo JSON en un DataFrame de pandas usando lines=True\n",
    "df6 = pd.read_json(ruta_archivo, lines=True)\n",
    "\n",
    "# Muestra el DataFrame\n",
    "df6"
   ]
  },
  {
   "cell_type": "markdown",
   "metadata": {},
   "source": [
    "7. CARGA DEL JSON 7"
   ]
  },
  {
   "cell_type": "code",
   "execution_count": null,
   "metadata": {},
   "outputs": [],
   "source": [
    "\n",
    "#Ruta de tu archivo JSON 7\n",
    "ruta_archivo = '/Users/felipeamezquita/Library/Mobile Documents/com~apple~CloudDocs/Documents/HENRY/PROYECTO FINAL/DATA/GOOGLE MAPS/reviews-estados/review-North_Carolina/7.json'\n",
    "\n",
    "# Carga el archivo JSON en un DataFrame de pandas usando lines=True\n",
    "df7 = pd.read_json(ruta_archivo, lines=True)\n",
    "\n",
    "# Muestra el DataFrame\n",
    "df7"
   ]
  },
  {
   "cell_type": "markdown",
   "metadata": {},
   "source": [
    "8. CARGA DEL JSON 8"
   ]
  },
  {
   "cell_type": "code",
   "execution_count": null,
   "metadata": {},
   "outputs": [],
   "source": [
    "\n",
    "#Ruta de tu archivo JSON 8\n",
    "ruta_archivo = '/Users/felipeamezquita/Library/Mobile Documents/com~apple~CloudDocs/Documents/HENRY/PROYECTO FINAL/DATA/GOOGLE MAPS/reviews-estados/review-North_Carolina/8.json'\n",
    "\n",
    "# Carga el archivo JSON en un DataFrame de pandas usando lines=True\n",
    "df8 = pd.read_json(ruta_archivo, lines=True)\n",
    "\n",
    "# Muestra el DataFrame\n",
    "df8"
   ]
  },
  {
   "cell_type": "markdown",
   "metadata": {},
   "source": [
    "9. CARGA DEL JSON 9"
   ]
  },
  {
   "cell_type": "code",
   "execution_count": null,
   "metadata": {},
   "outputs": [],
   "source": [
    "\n",
    "#Ruta de tu archivo JSON 9\n",
    "ruta_archivo = '/Users/felipeamezquita/Library/Mobile Documents/com~apple~CloudDocs/Documents/HENRY/PROYECTO FINAL/DATA/GOOGLE MAPS/reviews-estados/review-North_Carolina/9.json'\n",
    "\n",
    "# Carga el archivo JSON en un DataFrame de pandas usando lines=True\n",
    "df9 = pd.read_json(ruta_archivo, lines=True)\n",
    "\n",
    "# Muestra el DataFrame\n",
    "df9"
   ]
  },
  {
   "cell_type": "markdown",
   "metadata": {},
   "source": [
    "10. CARGA DEL JSON 10"
   ]
  },
  {
   "cell_type": "code",
   "execution_count": null,
   "metadata": {},
   "outputs": [],
   "source": [
    "\n",
    "#Ruta de tu archivo JSON 10\n",
    "ruta_archivo = '/Users/felipeamezquita/Library/Mobile Documents/com~apple~CloudDocs/Documents/HENRY/PROYECTO FINAL/DATA/GOOGLE MAPS/reviews-estados/review-North_Carolina/10.json'\n",
    "\n",
    "# Carga el archivo JSON en un DataFrame de pandas usando lines=True\n",
    "df10 = pd.read_json(ruta_archivo, lines=True)\n",
    "\n",
    "# Muestra el DataFrame\n",
    "df10"
   ]
  },
  {
   "cell_type": "markdown",
   "metadata": {},
   "source": [
    "11. CARGA DEL JSON 11"
   ]
  },
  {
   "cell_type": "code",
   "execution_count": null,
   "metadata": {},
   "outputs": [],
   "source": [
    "\n",
    "#Ruta de tu archivo JSON 11\n",
    "ruta_archivo = '/Users/felipeamezquita/Library/Mobile Documents/com~apple~CloudDocs/Documents/HENRY/PROYECTO FINAL/DATA/GOOGLE MAPS/reviews-estados/review-North_Carolina/11.json'\n",
    "\n",
    "# Carga el archivo JSON en un DataFrame de pandas usando lines=True\n",
    "df11 = pd.read_json(ruta_archivo, lines=True)\n",
    "\n",
    "# Muestra el DataFrame\n",
    "df11"
   ]
  },
  {
   "cell_type": "markdown",
   "metadata": {},
   "source": [
    "12. CARGA DEL JSON 12"
   ]
  },
  {
   "cell_type": "code",
   "execution_count": null,
   "metadata": {},
   "outputs": [],
   "source": [
    "\n",
    "#Ruta de tu archivo JSON 12\n",
    "ruta_archivo = '/Users/felipeamezquita/Library/Mobile Documents/com~apple~CloudDocs/Documents/HENRY/PROYECTO FINAL/DATA/GOOGLE MAPS/reviews-estados/review-North_Carolina/12.json'\n",
    "\n",
    "# Carga el archivo JSON en un DataFrame de pandas usando lines=True\n",
    "df12 = pd.read_json(ruta_archivo, lines=True)\n",
    "\n",
    "# Muestra el DataFrame\n",
    "df12"
   ]
  },
  {
   "cell_type": "markdown",
   "metadata": {},
   "source": [
    "13. CARGA DEL JSON 13"
   ]
  },
  {
   "cell_type": "code",
   "execution_count": null,
   "metadata": {},
   "outputs": [],
   "source": [
    "\n",
    "#Ruta de tu archivo JSON 13\n",
    "ruta_archivo = '/Users/felipeamezquita/Library/Mobile Documents/com~apple~CloudDocs/Documents/HENRY/PROYECTO FINAL/DATA/GOOGLE MAPS/reviews-estados/review-North_Carolina/13.json'\n",
    "\n",
    "# Carga el archivo JSON en un DataFrame de pandas usando lines=True\n",
    "df13 = pd.read_json(ruta_archivo, lines=True)\n",
    "\n",
    "# Muestra el DataFrame\n",
    "df13"
   ]
  },
  {
   "cell_type": "markdown",
   "metadata": {},
   "source": [
    "14. CARGA DEL JSON 14"
   ]
  },
  {
   "cell_type": "code",
   "execution_count": null,
   "metadata": {},
   "outputs": [],
   "source": [
    "\n",
    "#Ruta de tu archivo JSON 14\n",
    "ruta_archivo = '/Users/felipeamezquita/Library/Mobile Documents/com~apple~CloudDocs/Documents/HENRY/PROYECTO FINAL/DATA/GOOGLE MAPS/reviews-estados/review-North_Carolina/14.json'\n",
    "\n",
    "# Carga el archivo JSON en un DataFrame de pandas usando lines=True\n",
    "df14 = pd.read_json(ruta_archivo, lines=True)\n",
    "\n",
    "# Muestra el DataFrame\n",
    "df14"
   ]
  },
  {
   "cell_type": "markdown",
   "metadata": {},
   "source": [
    "15. CARGA DEL JSON 15"
   ]
  },
  {
   "cell_type": "code",
   "execution_count": null,
   "metadata": {},
   "outputs": [],
   "source": [
    "\n",
    "#Ruta de tu archivo JSON 15\n",
    "ruta_archivo = '/Users/felipeamezquita/Library/Mobile Documents/com~apple~CloudDocs/Documents/HENRY/PROYECTO FINAL/DATA/GOOGLE MAPS/reviews-estados/review-North_Carolina/15.json'\n",
    "\n",
    "# Carga el archivo JSON en un DataFrame de pandas usando lines=True\n",
    "df15 = pd.read_json(ruta_archivo, lines=True)\n",
    "\n",
    "# Muestra el DataFrame\n",
    "df15"
   ]
  },
  {
   "cell_type": "code",
   "execution_count": null,
   "metadata": {},
   "outputs": [],
   "source": [
    "# Lista de todos tus DataFrames\n",
    "dataframes = [df1, df2, df3, df4, df5, df6, df7, df8, df9, df10, df11, df12, df13, df14, df15]\n",
    "\n",
    "\n"
   ]
  },
  {
   "cell_type": "code",
   "execution_count": null,
   "metadata": {},
   "outputs": [],
   "source": [
    "# Combina todos los DataFrames en uno solo\n",
    "df_final = pd.concat(dataframes, ignore_index=True)\n",
    "\n",
    "# Muestra el tamaño del DataFrame combinado\n",
    "print(f\"Tamaño del DataFrame combinado: {df_final.shape}\")"
   ]
  },
  {
   "cell_type": "code",
   "execution_count": null,
   "metadata": {},
   "outputs": [],
   "source": [
    "# Eliminar las columnas especificadas del DataFrame\n",
    "columnas_a_eliminar = ['pics', 'resp']\n",
    "df_final = df_final.drop(columns=columnas_a_eliminar)\n",
    "\n",
    "# Verifica el resultado mostrando las primeras filas\n",
    "print(df_final.head())"
   ]
  },
  {
   "cell_type": "code",
   "execution_count": null,
   "metadata": {},
   "outputs": [],
   "source": [
    "# Guarda el DataFrame en un archivo Parquet\n",
    "df_final.to_parquet('Review-North-Carolina.parquet')\n"
   ]
  },
  {
   "cell_type": "markdown",
   "metadata": {},
   "source": [
    "### **04. Estado de South Carolina**"
   ]
  },
  {
   "cell_type": "markdown",
   "metadata": {},
   "source": [
    "01. CARGA DEL JSON 01"
   ]
  },
  {
   "cell_type": "code",
   "execution_count": null,
   "metadata": {},
   "outputs": [],
   "source": [
    "\n",
    "#Ruta de tu archivo JSON 1\n",
    "ruta_archivo = '/Users/felipeamezquita/Library/Mobile Documents/com~apple~CloudDocs/Documents/HENRY/PROYECTO FINAL/DATA/GOOGLE MAPS/reviews-estados/review-South_Carolina/1.json'\n",
    "\n",
    "# Carga el archivo JSON en un DataFrame de pandas usando lines=True\n",
    "df1 = pd.read_json(ruta_archivo, lines=True)\n",
    "\n",
    "# Muestra el DataFrame\n",
    "df1"
   ]
  },
  {
   "cell_type": "markdown",
   "metadata": {},
   "source": [
    "02 CARGA DEL JSON 2"
   ]
  },
  {
   "cell_type": "code",
   "execution_count": null,
   "metadata": {},
   "outputs": [],
   "source": [
    "\n",
    "#Ruta de tu archivo JSON 2\n",
    "ruta_archivo = '/Users/felipeamezquita/Library/Mobile Documents/com~apple~CloudDocs/Documents/HENRY/PROYECTO FINAL/DATA/GOOGLE MAPS/reviews-estados/review-South_Carolina/2.json'\n",
    "\n",
    "# Carga el archivo JSON en un DataFrame de pandas usando lines=True\n",
    "df2 = pd.read_json(ruta_archivo, lines=True)\n",
    "\n",
    "# Muestra el DataFrame\n",
    "df2"
   ]
  },
  {
   "cell_type": "markdown",
   "metadata": {},
   "source": [
    "03. CARGA DEL JSON 03"
   ]
  },
  {
   "cell_type": "code",
   "execution_count": null,
   "metadata": {},
   "outputs": [],
   "source": [
    "\n",
    "#Ruta de tu archivo JSON 3\n",
    "ruta_archivo = '/Users/felipeamezquita/Library/Mobile Documents/com~apple~CloudDocs/Documents/HENRY/PROYECTO FINAL/DATA/GOOGLE MAPS/reviews-estados/review-South_Carolina/3.json'\n",
    "\n",
    "# Carga el archivo JSON en un DataFrame de pandas usando lines=True\n",
    "df3 = pd.read_json(ruta_archivo, lines=True)\n",
    "\n",
    "# Muestra el DataFrame\n",
    "df3"
   ]
  },
  {
   "cell_type": "markdown",
   "metadata": {},
   "source": [
    "04. CARGA DEL JSON 4"
   ]
  },
  {
   "cell_type": "code",
   "execution_count": null,
   "metadata": {},
   "outputs": [],
   "source": [
    "\n",
    "#Ruta de tu archivo JSON 4\n",
    "ruta_archivo = '/Users/felipeamezquita/Library/Mobile Documents/com~apple~CloudDocs/Documents/HENRY/PROYECTO FINAL/DATA/GOOGLE MAPS/reviews-estados/review-South_Carolina/4.json'\n",
    "\n",
    "# Carga el archivo JSON en un DataFrame de pandas usando lines=True\n",
    "df4 = pd.read_json(ruta_archivo, lines=True)\n",
    "\n",
    "# Muestra el DataFrame\n",
    "df4"
   ]
  },
  {
   "cell_type": "markdown",
   "metadata": {},
   "source": [
    "5. CARGA DEL JSON 5"
   ]
  },
  {
   "cell_type": "code",
   "execution_count": null,
   "metadata": {},
   "outputs": [],
   "source": [
    "\n",
    "#Ruta de tu archivo JSON 5\n",
    "ruta_archivo = '/Users/felipeamezquita/Library/Mobile Documents/com~apple~CloudDocs/Documents/HENRY/PROYECTO FINAL/DATA/GOOGLE MAPS/reviews-estados/review-South_Carolina/5.json'\n",
    "\n",
    "# Carga el archivo JSON en un DataFrame de pandas usando lines=True\n",
    "df5 = pd.read_json(ruta_archivo, lines=True)\n",
    "\n",
    "# Muestra el DataFrame\n",
    "df5"
   ]
  },
  {
   "cell_type": "markdown",
   "metadata": {},
   "source": [
    "6. CARGA DEL JSON 6"
   ]
  },
  {
   "cell_type": "code",
   "execution_count": null,
   "metadata": {},
   "outputs": [],
   "source": [
    "\n",
    "#Ruta de tu archivo JSON 6\n",
    "ruta_archivo = '/Users/felipeamezquita/Library/Mobile Documents/com~apple~CloudDocs/Documents/HENRY/PROYECTO FINAL/DATA/GOOGLE MAPS/reviews-estados/review-South_Carolina/6.json'\n",
    "\n",
    "# Carga el archivo JSON en un DataFrame de pandas usando lines=True\n",
    "df6 = pd.read_json(ruta_archivo, lines=True)\n",
    "\n",
    "# Muestra el DataFrame\n",
    "df6"
   ]
  },
  {
   "cell_type": "markdown",
   "metadata": {},
   "source": [
    "7. CARGA DEL JSON 7"
   ]
  },
  {
   "cell_type": "code",
   "execution_count": null,
   "metadata": {},
   "outputs": [],
   "source": [
    "\n",
    "#Ruta de tu archivo JSON 7\n",
    "ruta_archivo = '/Users/felipeamezquita/Library/Mobile Documents/com~apple~CloudDocs/Documents/HENRY/PROYECTO FINAL/DATA/GOOGLE MAPS/reviews-estados/review-South_Carolina/7.json'\n",
    "\n",
    "# Carga el archivo JSON en un DataFrame de pandas usando lines=True\n",
    "df7 = pd.read_json(ruta_archivo, lines=True)\n",
    "\n",
    "# Muestra el DataFrame\n",
    "df7"
   ]
  },
  {
   "cell_type": "markdown",
   "metadata": {},
   "source": [
    "8. CARGA DEL JSON 8"
   ]
  },
  {
   "cell_type": "code",
   "execution_count": null,
   "metadata": {},
   "outputs": [],
   "source": [
    "\n",
    "#Ruta de tu archivo JSON 8\n",
    "ruta_archivo = '/Users/felipeamezquita/Library/Mobile Documents/com~apple~CloudDocs/Documents/HENRY/PROYECTO FINAL/DATA/GOOGLE MAPS/reviews-estados/review-South_Carolina/8.json'\n",
    "\n",
    "# Carga el archivo JSON en un DataFrame de pandas usando lines=True\n",
    "df8 = pd.read_json(ruta_archivo, lines=True)\n",
    "\n",
    "# Muestra el DataFrame\n",
    "df8"
   ]
  },
  {
   "cell_type": "markdown",
   "metadata": {},
   "source": [
    "9. CARGA DEL JSON 9"
   ]
  },
  {
   "cell_type": "code",
   "execution_count": null,
   "metadata": {},
   "outputs": [],
   "source": [
    "\n",
    "#Ruta de tu archivo JSON 9\n",
    "ruta_archivo = '/Users/felipeamezquita/Library/Mobile Documents/com~apple~CloudDocs/Documents/HENRY/PROYECTO FINAL/DATA/GOOGLE MAPS/reviews-estados/review-South_Carolina/9.json'\n",
    "\n",
    "# Carga el archivo JSON en un DataFrame de pandas usando lines=True\n",
    "df9 = pd.read_json(ruta_archivo, lines=True)\n",
    "\n",
    "# Muestra el DataFrame\n",
    "df9"
   ]
  },
  {
   "cell_type": "markdown",
   "metadata": {},
   "source": [
    "10. CARGA DEL JSON 10"
   ]
  },
  {
   "cell_type": "code",
   "execution_count": null,
   "metadata": {},
   "outputs": [],
   "source": [
    "\n",
    "#Ruta de tu archivo JSON 10\n",
    "ruta_archivo = '/Users/felipeamezquita/Library/Mobile Documents/com~apple~CloudDocs/Documents/HENRY/PROYECTO FINAL/DATA/GOOGLE MAPS/reviews-estados/review-South_Carolina/10.json'\n",
    "\n",
    "# Carga el archivo JSON en un DataFrame de pandas usando lines=True\n",
    "df10 = pd.read_json(ruta_archivo, lines=True)\n",
    "\n",
    "# Muestra el DataFrame\n",
    "df10"
   ]
  },
  {
   "cell_type": "markdown",
   "metadata": {},
   "source": [
    "11. CARGA DEL JSON 11"
   ]
  },
  {
   "cell_type": "code",
   "execution_count": null,
   "metadata": {},
   "outputs": [],
   "source": [
    "\n",
    "#Ruta de tu archivo JSON 11\n",
    "ruta_archivo = '/Users/felipeamezquita/Library/Mobile Documents/com~apple~CloudDocs/Documents/HENRY/PROYECTO FINAL/DATA/GOOGLE MAPS/reviews-estados/review-South_Carolina/11.json'\n",
    "\n",
    "# Carga el archivo JSON en un DataFrame de pandas usando lines=True\n",
    "df11 = pd.read_json(ruta_archivo, lines=True)\n",
    "\n",
    "# Muestra el DataFrame\n",
    "df11"
   ]
  },
  {
   "cell_type": "markdown",
   "metadata": {},
   "source": [
    "12. CARGA DEL JSON 12"
   ]
  },
  {
   "cell_type": "code",
   "execution_count": null,
   "metadata": {},
   "outputs": [],
   "source": [
    "\n",
    "#Ruta de tu archivo JSON 12\n",
    "ruta_archivo = '/Users/felipeamezquita/Library/Mobile Documents/com~apple~CloudDocs/Documents/HENRY/PROYECTO FINAL/DATA/GOOGLE MAPS/reviews-estados/review-South_Carolina/12.json'\n",
    "\n",
    "# Carga el archivo JSON en un DataFrame de pandas usando lines=True\n",
    "df12 = pd.read_json(ruta_archivo, lines=True)\n",
    "\n",
    "# Muestra el DataFrame\n",
    "df12"
   ]
  },
  {
   "cell_type": "markdown",
   "metadata": {},
   "source": [
    "13. CARGA DEL JSON 13"
   ]
  },
  {
   "cell_type": "code",
   "execution_count": null,
   "metadata": {},
   "outputs": [],
   "source": [
    "\n",
    "#Ruta de tu archivo JSON 13\n",
    "ruta_archivo = '/Users/felipeamezquita/Library/Mobile Documents/com~apple~CloudDocs/Documents/HENRY/PROYECTO FINAL/DATA/GOOGLE MAPS/reviews-estados/review-South_Carolina/13.json'\n",
    "\n",
    "# Carga el archivo JSON en un DataFrame de pandas usando lines=True\n",
    "df13 = pd.read_json(ruta_archivo, lines=True)\n",
    "\n",
    "# Muestra el DataFrame\n",
    "df13"
   ]
  },
  {
   "cell_type": "markdown",
   "metadata": {},
   "source": [
    "14. CARGA DEL JSON 14"
   ]
  },
  {
   "cell_type": "code",
   "execution_count": null,
   "metadata": {},
   "outputs": [],
   "source": [
    "\n",
    "#Ruta de tu archivo JSON 14\n",
    "ruta_archivo = '/Users/felipeamezquita/Library/Mobile Documents/com~apple~CloudDocs/Documents/HENRY/PROYECTO FINAL/DATA/GOOGLE MAPS/reviews-estados/review-South_Carolina/14.json'\n",
    "\n",
    "# Carga el archivo JSON en un DataFrame de pandas usando lines=True\n",
    "df14 = pd.read_json(ruta_archivo, lines=True)\n",
    "\n",
    "# Muestra el DataFrame\n",
    "df14"
   ]
  },
  {
   "cell_type": "code",
   "execution_count": null,
   "metadata": {},
   "outputs": [],
   "source": [
    "# Lista de todos tus DataFrames\n",
    "dataframes = [df1, df2, df3, df4, df5, df6, df7, df8, df9, df10, df11, df12, df13, df14]\n",
    "\n",
    "\n"
   ]
  },
  {
   "cell_type": "code",
   "execution_count": null,
   "metadata": {},
   "outputs": [],
   "source": [
    "# Combina todos los DataFrames en uno solo\n",
    "df_final = pd.concat(dataframes, ignore_index=True)\n",
    "\n",
    "# Muestra el tamaño del DataFrame combinado\n",
    "print(f\"Tamaño del DataFrame combinado: {df_final.shape}\")"
   ]
  },
  {
   "cell_type": "code",
   "execution_count": null,
   "metadata": {},
   "outputs": [],
   "source": [
    "# Eliminar las columnas especificadas del DataFrame\n",
    "columnas_a_eliminar = ['pics', 'resp']\n",
    "df_final = df_final.drop(columns=columnas_a_eliminar)\n",
    "\n",
    "# Verifica el resultado mostrando las primeras filas\n",
    "print(df_final.head())"
   ]
  },
  {
   "cell_type": "code",
   "execution_count": null,
   "metadata": {},
   "outputs": [],
   "source": [
    "# Guarda el DataFrame en un archivo Parquet\n",
    "df_final.to_parquet('Review-South-Carolina.parquet')\n"
   ]
  },
  {
   "cell_type": "code",
   "execution_count": null,
   "metadata": {},
   "outputs": [],
   "source": [
    "\n",
    "#Ruta de tu archivo JSON 14\n",
    "ruta_archivo = '/Users/felipeamezquita/Library/Mobile Documents/com~apple~CloudDocs/Documents/HENRY/PROYECTO FINAL/DATA/GOOGLE MAPS/metadata-sitios/metadata-sitios-costaeste-estado-ciudad.parquet'\n",
    "\n",
    "# Carga el archivo JSON en un DataFrame de pandas usando lines=True\n",
    "df14 = pd.read_parquet(ruta_archivo)\n",
    "\n",
    "# Muestra el DataFrame\n",
    "df14"
   ]
  },
  {
   "cell_type": "markdown",
   "metadata": {},
   "source": [
    "### **05. Estado de Maine**"
   ]
  },
  {
   "cell_type": "markdown",
   "metadata": {},
   "source": [
    "1. CARGA DEL JSON 1"
   ]
  },
  {
   "cell_type": "code",
   "execution_count": null,
   "metadata": {},
   "outputs": [],
   "source": [
    "#Ruta de tu archivo JSON1\n",
    "ruta_archivo = '/Users/Intel/Desktop/data/Maine/1.json'\n",
    "\n",
    "# Carga el archivo JSON en un DataFrame de pandas usando lines=True\n",
    "df1 = pd.read_json(ruta_archivo, lines=True)\n",
    "\n",
    "# Muestra el DataFrame\n",
    "df1"
   ]
  },
  {
   "cell_type": "markdown",
   "metadata": {},
   "source": [
    "2. CARGA DEL JSON 2"
   ]
  },
  {
   "cell_type": "code",
   "execution_count": null,
   "metadata": {},
   "outputs": [],
   "source": [
    "#Ruta de tu archivo JSON 2\n",
    "ruta_archivo = '/Users/Intel/Desktop/data/Maine/2.json'\n",
    "\n",
    "# Carga el archivo JSON en un DataFrame de pandas usando lines=True\n",
    "df2 = pd.read_json(ruta_archivo, lines=True)\n",
    "\n",
    "# Muestra el DataFrame\n",
    "df2"
   ]
  },
  {
   "cell_type": "markdown",
   "metadata": {},
   "source": [
    "3. CARGA DEL JSON 3"
   ]
  },
  {
   "cell_type": "code",
   "execution_count": null,
   "metadata": {},
   "outputs": [],
   "source": [
    "\n",
    "\n",
    "#Ruta de tu archivo JSON3\n",
    "ruta_archivo = '/Users/Intel/Desktop/data/Maine/3.json'\n",
    "\n",
    "# Carga el archivo JSON en un DataFrame de pandas usando lines=True\n",
    "df3 = pd.read_json(ruta_archivo, lines=True)\n",
    "\n",
    "# Muestra el DataFrame\n",
    "df3"
   ]
  },
  {
   "cell_type": "markdown",
   "metadata": {},
   "source": [
    "4. CARGA DEL JSON 4"
   ]
  },
  {
   "cell_type": "code",
   "execution_count": null,
   "metadata": {},
   "outputs": [],
   "source": [
    "\n",
    "\n",
    "#Ruta de tu archivo JSON 4\n",
    "ruta_archivo = '/Users/Intel/Desktop/data/Maine/4.json'\n",
    "\n",
    "# Carga el archivo JSON en un DataFrame de pandas usando lines=True\n",
    "df4 = pd.read_json(ruta_archivo, lines=True)\n",
    "\n",
    "# Muestra el DataFrame\n",
    "df4"
   ]
  },
  {
   "cell_type": "markdown",
   "metadata": {},
   "source": [
    "5. CARGA DEL JSON 5"
   ]
  },
  {
   "cell_type": "code",
   "execution_count": null,
   "metadata": {},
   "outputs": [],
   "source": [
    "#Ruta de tu archivo JSON 5\n",
    "ruta_archivo = '/Users/Intel/Desktop/data/Maine/5.json'\n",
    "\n",
    "# Carga el archivo JSON en un DataFrame de pandas usando lines=True\n",
    "df5 = pd.read_json(ruta_archivo, lines=True)\n",
    "\n",
    "# Muestra el DataFrame\n",
    "df5"
   ]
  },
  {
   "cell_type": "markdown",
   "metadata": {},
   "source": [
    "6. CARGA DEL JSON 6"
   ]
  },
  {
   "cell_type": "code",
   "execution_count": null,
   "metadata": {},
   "outputs": [],
   "source": [
    "#Ruta de tu archivo JSON 6\n",
    "ruta_archivo = '/Users/Intel/Desktop/data/Maine/6.json'\n",
    "\n",
    "# Carga el archivo JSON en un DataFrame de pandas usando lines=True\n",
    "df6 = pd.read_json(ruta_archivo, lines=True)\n",
    "\n",
    "# Muestra el DataFrame\n",
    "df6"
   ]
  },
  {
   "cell_type": "markdown",
   "metadata": {},
   "source": [
    "7. CARGA DEL JSON 7"
   ]
  },
  {
   "cell_type": "code",
   "execution_count": null,
   "metadata": {},
   "outputs": [],
   "source": [
    "#Ruta de tu archivo JSON 7\n",
    "ruta_archivo = '/Users/Intel/Desktop/data/Maine/7.json'\n",
    "\n",
    "# Carga el archivo JSON en un DataFrame de pandas usando lines=True\n",
    "df7 = pd.read_json(ruta_archivo, lines=True)\n",
    "\n",
    "# Muestra el DataFrame\n",
    "df7"
   ]
  },
  {
   "cell_type": "markdown",
   "metadata": {},
   "source": [
    "8. CARGA DEL JSON 8"
   ]
  },
  {
   "cell_type": "code",
   "execution_count": null,
   "metadata": {},
   "outputs": [],
   "source": [
    "#Ruta de tu archivo JSON 8\n",
    "ruta_archivo = '/Users/Intel/Desktop/data/Maine/8.json'\n",
    "\n",
    "# Carga el archivo JSON en un DataFrame de pandas usando lines=True\n",
    "df8 = pd.read_json(ruta_archivo, lines=True)\n",
    "\n",
    "# Muestra el DataFrame\n",
    "df8"
   ]
  },
  {
   "cell_type": "markdown",
   "metadata": {},
   "source": [
    "### **06. Estado de Massachusetts**"
   ]
  },
  {
   "cell_type": "code",
   "execution_count": null,
   "metadata": {},
   "outputs": [],
   "source": [
    "#Ruta de tu archivo JSON\n",
    "ruta_archivo = '/Users/Intel/Desktop/data/Massachusetts/1.json'\n",
    "\n",
    "# Carga el archivo JSON en un DataFrame de pandas usando lines=True\n",
    "dfm1 = pd.read_json(ruta_archivo, lines=True)\n",
    "\n",
    "# Muestra el DataFrame\n",
    "dfm1"
   ]
  },
  {
   "cell_type": "code",
   "execution_count": null,
   "metadata": {},
   "outputs": [],
   "source": [
    "#Ruta de tu archivo JSON\n",
    "ruta_archivo = '/Users/Intel/Desktop/data/Massachusetts/2.json'\n",
    "\n",
    "# Carga el archivo JSON en un DataFrame de pandas usando lines=True\n",
    "dfm2 = pd.read_json(ruta_archivo, lines=True)\n",
    "\n",
    "# Muestra el DataFrame\n",
    "dfm2"
   ]
  },
  {
   "cell_type": "code",
   "execution_count": null,
   "metadata": {},
   "outputs": [],
   "source": [
    "#Ruta de tu archivo JSON\n",
    "ruta_archivo = '/Users/Intel/Desktop/data/Massachusetts/3.json'\n",
    "\n",
    "# Carga el archivo JSON en un DataFrame de pandas usando lines=True\n",
    "dfm3 = pd.read_json(ruta_archivo, lines=True)\n",
    "\n",
    "# Muestra el DataFrame\n",
    "dfm3"
   ]
  },
  {
   "cell_type": "code",
   "execution_count": null,
   "metadata": {},
   "outputs": [],
   "source": [
    "#Ruta de tu archivo JSON\n",
    "ruta_archivo = '/Users/Intel/Desktop/data/Massachusetts/4.json'\n",
    "\n",
    "# Carga el archivo JSON en un DataFrame de pandas usando lines=True\n",
    "dfm4 = pd.read_json(ruta_archivo, lines=True)\n",
    "\n",
    "# Muestra el DataFrame\n",
    "dfm4"
   ]
  },
  {
   "cell_type": "code",
   "execution_count": null,
   "metadata": {},
   "outputs": [],
   "source": [
    "#Ruta de tu archivo JSON\n",
    "ruta_archivo = '/Users/Intel/Desktop/data/Massachusetts/5.json'\n",
    "\n",
    "# Carga el archivo JSON en un DataFrame de pandas usando lines=True\n",
    "dfm5 = pd.read_json(ruta_archivo, lines=True)\n",
    "\n",
    "# Muestra el DataFrame\n",
    "dfm5"
   ]
  },
  {
   "cell_type": "code",
   "execution_count": null,
   "metadata": {},
   "outputs": [],
   "source": [
    "#Ruta de tu archivo JSON\n",
    "ruta_archivo = '/Users/Intel/Desktop/data/Massachusetts/6.json'\n",
    "\n",
    "# Carga el archivo JSON en un DataFrame de pandas usando lines=True\n",
    "dfm6 = pd.read_json(ruta_archivo, lines=True)\n",
    "\n",
    "# Muestra el DataFrame\n",
    "dfm6"
   ]
  },
  {
   "cell_type": "code",
   "execution_count": null,
   "metadata": {},
   "outputs": [],
   "source": [
    "#Ruta de tu archivo JSON\n",
    "ruta_archivo = '/Users/Intel/Desktop/data/Massachusetts/7.json'\n",
    "\n",
    "# Carga el archivo JSON en un DataFrame de pandas usando lines=True\n",
    "dfm7 = pd.read_json(ruta_archivo, lines=True)\n",
    "\n",
    "# Muestra el DataFrame\n",
    "dfm7"
   ]
  },
  {
   "cell_type": "code",
   "execution_count": null,
   "metadata": {},
   "outputs": [],
   "source": [
    "#Ruta de tu archivo JSON\n",
    "ruta_archivo = '/Users/Intel/Desktop/data/Massachusetts/8.json'\n",
    "\n",
    "# Carga el archivo JSON en un DataFrame de pandas usando lines=True\n",
    "dfm8 = pd.read_json(ruta_archivo, lines=True)\n",
    "\n",
    "# Muestra el DataFrame\n",
    "dfm8"
   ]
  },
  {
   "cell_type": "code",
   "execution_count": null,
   "metadata": {},
   "outputs": [],
   "source": [
    "#Ruta de tu archivo JSON\n",
    "ruta_archivo = '/Users/Intel/Desktop/data/Massachusetts/9.json'\n",
    "\n",
    "# Carga el archivo JSON en un DataFrame de pandas usando lines=True\n",
    "dfm9 = pd.read_json(ruta_archivo, lines=True)\n",
    "\n",
    "# Muestra el DataFrame\n",
    "dfm9"
   ]
  },
  {
   "cell_type": "code",
   "execution_count": null,
   "metadata": {},
   "outputs": [],
   "source": [
    "#Ruta de tu archivo JSON\n",
    "ruta_archivo = '/Users/Intel/Desktop/data/Massachusetts/10.json'\n",
    "\n",
    "# Carga el archivo JSON en un DataFrame de pandas usando lines=True\n",
    "dfm10 = pd.read_json(ruta_archivo, lines=True)\n",
    "\n",
    "# Muestra el DataFrame\n",
    "dfm10"
   ]
  },
  {
   "cell_type": "code",
   "execution_count": null,
   "metadata": {},
   "outputs": [],
   "source": [
    "#Ruta de tu archivo JSON\n",
    "ruta_archivo = '/Users/Intel/Desktop/data/Massachusetts/11.json'\n",
    "\n",
    "# Carga el archivo JSON en un DataFrame de pandas usando lines=True\n",
    "dfm11 = pd.read_json(ruta_archivo, lines=True)\n",
    "\n",
    "# Muestra el DataFrame\n",
    "dfm11"
   ]
  },
  {
   "cell_type": "markdown",
   "metadata": {},
   "source": [
    "### **07. Estado de New Hampshire**"
   ]
  },
  {
   "cell_type": "code",
   "execution_count": null,
   "metadata": {},
   "outputs": [],
   "source": [
    "#Ruta de tu archivo JSON\n",
    "ruta_archivo = '/Users/Intel/Desktop/data/NewHampshire/1.json'\n",
    "\n",
    "# Carga el archivo JSON en un DataFrame de pandas usando lines=True\n",
    "dfn1 = pd.read_json(ruta_archivo, lines=True)\n",
    "\n",
    "# Muestra el DataFrame\n",
    "dfn1"
   ]
  },
  {
   "cell_type": "code",
   "execution_count": null,
   "metadata": {},
   "outputs": [],
   "source": [
    "#Ruta de tu archivo JSON\n",
    "ruta_archivo = '/Users/Intel/Desktop/data/NewHampshire/2.json'\n",
    "\n",
    "# Carga el archivo JSON en un DataFrame de pandas usando lines=True\n",
    "dfn2 = pd.read_json(ruta_archivo, lines=True)\n",
    "\n",
    "# Muestra el DataFrame\n",
    "dfn2"
   ]
  },
  {
   "cell_type": "code",
   "execution_count": null,
   "metadata": {},
   "outputs": [],
   "source": [
    "#Ruta de tu archivo JSON\n",
    "ruta_archivo = '/Users/Intel/Desktop/data/NewHampshire/3.json'\n",
    "\n",
    "# Carga el archivo JSON en un DataFrame de pandas usando lines=True\n",
    "dfn3 = pd.read_json(ruta_archivo, lines=True)\n",
    "\n",
    "# Muestra el DataFrame\n",
    "dfn3"
   ]
  },
  {
   "cell_type": "code",
   "execution_count": null,
   "metadata": {},
   "outputs": [],
   "source": [
    "#Ruta de tu archivo JSON\n",
    "ruta_archivo = '/Users/Intel/Desktop/data/NewHampshire/4.json'\n",
    "\n",
    "# Carga el archivo JSON en un DataFrame de pandas usando lines=True\n",
    "dfn4 = pd.read_json(ruta_archivo, lines=True)\n",
    "\n",
    "# Muestra el DataFrame\n",
    "dfn4"
   ]
  },
  {
   "cell_type": "code",
   "execution_count": null,
   "metadata": {},
   "outputs": [],
   "source": [
    "#Ruta de tu archivo JSON\n",
    "ruta_archivo = '/Users/Intel/Desktop/data/NewHampshire/5.json'\n",
    "\n",
    "# Carga el archivo JSON en un DataFrame de pandas usando lines=True\n",
    "dfn5 = pd.read_json(ruta_archivo, lines=True)\n",
    "\n",
    "# Muestra el DataFrame\n",
    "dfn5"
   ]
  },
  {
   "cell_type": "code",
   "execution_count": null,
   "metadata": {},
   "outputs": [],
   "source": [
    "#Ruta de tu archivo JSON\n",
    "ruta_archivo = '/Users/Intel/Desktop/data/NewHampshire/6.json'\n",
    "\n",
    "# Carga el archivo JSON en un DataFrame de pandas usando lines=True\n",
    "dfn6 = pd.read_json(ruta_archivo, lines=True)\n",
    "\n",
    "# Muestra el DataFrame\n",
    "dfn6"
   ]
  },
  {
   "cell_type": "code",
   "execution_count": null,
   "metadata": {},
   "outputs": [],
   "source": [
    "#Ruta de tu archivo JSON\n",
    "ruta_archivo = '/Users/Intel/Desktop/data/NewHampshire/7.json'\n",
    "\n",
    "# Carga el archivo JSON en un DataFrame de pandas usando lines=True\n",
    "dfn7 = pd.read_json(ruta_archivo, lines=True)\n",
    "\n",
    "# Muestra el DataFrame\n",
    "dfn7"
   ]
  },
  {
   "cell_type": "code",
   "execution_count": null,
   "metadata": {},
   "outputs": [],
   "source": [
    "#Ruta de tu archivo JSON\n",
    "ruta_archivo = '/Users/Intel/Desktop/data/NewHampshire/8.json'\n",
    "\n",
    "# Carga el archivo JSON en un DataFrame de pandas usando lines=True\n",
    "dfn8 = pd.read_json(ruta_archivo, lines=True)\n",
    "\n",
    "# Muestra el DataFrame\n",
    "dfn8"
   ]
  },
  {
   "cell_type": "code",
   "execution_count": null,
   "metadata": {},
   "outputs": [],
   "source": [
    "#Ruta de tu archivo JSON\n",
    "ruta_archivo = '/Users/Intel/Desktop/data/NewHampshire/9.json'\n",
    "\n",
    "# Carga el archivo JSON en un DataFrame de pandas usando lines=True\n",
    "dfn9 = pd.read_json(ruta_archivo, lines=True)\n",
    "\n",
    "# Muestra el DataFrame\n",
    "dfn9"
   ]
  },
  {
   "cell_type": "markdown",
   "metadata": {},
   "source": [
    "### **Union de los DF de los estados de Maine, Massachusetts y New Hampshire independientes**"
   ]
  },
  {
   "cell_type": "code",
   "execution_count": null,
   "metadata": {},
   "outputs": [],
   "source": [
    "# Lista de todos tus DataFrames\n",
    "Maine = [df1, df2, df3, df4, df5, df6, df7, df8]\n",
    "Massachusetts = [dfm1, dfm2, dfm3, dfm4, dfm5, dfm6, dfm7, dfm8, dfm9, dfm10, dfm11]\n",
    "NewHampshire = [dfn1, dfn2, dfn3, dfn4, dfn5, dfn6, dfn7, dfn8, dfn9]\n",
    "\n"
   ]
  },
  {
   "cell_type": "code",
   "execution_count": null,
   "metadata": {},
   "outputs": [],
   "source": [
    "# Combina todos los DataFrames en uno solo\n",
    "df_Maine = pd.concat(Maine, ignore_index=True)\n",
    "print(f\"Tamaño del DataFrame combinado: {df_Maine.shape}\")\n",
    "\n",
    "df_Massachusetts = pd.concat(Massachusetts, ignore_index=True)\n",
    "print(f\"Tamaño del DataFrame combinado: {df_Massachusetts.shape}\")\n",
    "\n",
    "df_NewHampshire = pd.concat(NewHampshire, ignore_index=True)\n",
    "print(f\"Tamaño del DataFrame combinado: {df_NewHampshire.shape}\")"
   ]
  },
  {
   "cell_type": "code",
   "execution_count": null,
   "metadata": {},
   "outputs": [],
   "source": [
    "df_Maine"
   ]
  },
  {
   "cell_type": "markdown",
   "metadata": {},
   "source": [
    "### **Eliminar columnas**"
   ]
  },
  {
   "cell_type": "markdown",
   "metadata": {},
   "source": [
    "Se eliminan las columnas pics y resp por que no tiene información relevante para el analisis de datos que procede. "
   ]
  },
  {
   "cell_type": "code",
   "execution_count": null,
   "metadata": {},
   "outputs": [],
   "source": [
    "# Eliminar las columnas especificadas del DataFrame\n",
    "columnas_a_eliminar = ['pics', 'resp']\n",
    "df_Maine = df_Maine.drop(columns=columnas_a_eliminar)\n",
    "\n",
    "# Verifica el resultado mostrando las primeras filas\n",
    "print(df_Maine.head())\n",
    "\n",
    "\n",
    "columnas_a_eliminar = ['pics', 'resp']\n",
    "df_Massachusetts = df_Massachusetts.drop(columns=columnas_a_eliminar)\n",
    "\n",
    "print(df_Massachusetts.head())\n",
    "\n",
    "\n",
    "\n",
    "columnas_a_eliminar = ['pics', 'resp']\n",
    "df_NewHampshire = df_NewHampshire.drop(columns=columnas_a_eliminar)\n",
    "\n",
    "print(df_NewHampshire.head())\n"
   ]
  },
  {
   "cell_type": "code",
   "execution_count": null,
   "metadata": {},
   "outputs": [],
   "source": [
    "# Muestra el tamaño del DataFrame combinado\n",
    "print(f\"Tamaño del DataFrame combinado: {df_Maine.shape}\")\n",
    "print(f\"Tamaño del DataFrame combinado: {df_Massachusetts.shape}\")\n",
    "print(f\"Tamaño del DataFrame combinado: {df_NewHampshire.shape}\")"
   ]
  },
  {
   "cell_type": "markdown",
   "metadata": {},
   "source": [
    "### **Exportacion de los nuevos dataframes a parquet**"
   ]
  },
  {
   "cell_type": "code",
   "execution_count": null,
   "metadata": {},
   "outputs": [],
   "source": [
    "# Guarda el DataFrame con la nueva columna en un archivo Parquet\n",
    "df_Maine.to_parquet('reviews-maine.parquet')\n",
    "df_Massachusetts.to_parquet('reviews-massachusetts.parquet')\n",
    "df_NewHampshire.to_parquet('reviews-newhampshire.parquet')"
   ]
  },
  {
   "cell_type": "markdown",
   "metadata": {},
   "source": [
    "### **08.Estado de Rhode Island**"
   ]
  },
  {
   "cell_type": "markdown",
   "metadata": {},
   "source": [
    "1. Carga del Json 1 de Rhode Island"
   ]
  },
  {
   "cell_type": "code",
   "execution_count": null,
   "metadata": {},
   "outputs": [],
   "source": [
    "# Ruta del archivo JSON 1\n",
    "ruta_archivo = r\"C:\\Users\\ADMIN\\Desktop\\Practica PROYECTO FINAL\\review-Rhode_Island-20240828T034929Z-001\\review-Rhode_Island\\1.json\"\n",
    "\n",
    "# Carga del archivo JSON en un DataFrame de pandas usando lines=True\n",
    "df_RI_1 = pd.read_json(ruta_archivo, lines=True)\n",
    "\n",
    "# Muestra el DataFrame\n",
    "df_RI_1"
   ]
  },
  {
   "cell_type": "markdown",
   "metadata": {},
   "source": [
    "2. Carga del JSON 2 de Rhode Island"
   ]
  },
  {
   "cell_type": "code",
   "execution_count": null,
   "metadata": {},
   "outputs": [],
   "source": [
    "# Ruta del archivo JSON 2\n",
    "ruta_archivo = r\"C:\\Users\\ADMIN\\Desktop\\Practica PROYECTO FINAL\\review-Rhode_Island-20240828T034929Z-001\\review-Rhode_Island\\2.json\"\n",
    "\n",
    "# Carga del archivo JSON en un DataFrame de pandas usando lines=True\n",
    "df_RI_2 = pd.read_json(ruta_archivo, lines=True)\n",
    "\n",
    "# Muestra el DataFrame\n",
    "df_RI_2"
   ]
  },
  {
   "cell_type": "markdown",
   "metadata": {},
   "source": [
    "3. Carga del JSON 3 de Rhode Island"
   ]
  },
  {
   "cell_type": "code",
   "execution_count": null,
   "metadata": {},
   "outputs": [],
   "source": [
    "# Ruta del archivo JSON 3\n",
    "ruta_archivo = r\"C:\\Users\\ADMIN\\Desktop\\Practica PROYECTO FINAL\\review-Rhode_Island-20240828T034929Z-001\\review-Rhode_Island\\3.json\"\n",
    "\n",
    "# Carga del archivo JSON en un DataFrame de pandas usando lines=True\n",
    "df_RI_3 = pd.read_json(ruta_archivo, lines=True)\n",
    "\n",
    "# Muestra el DataFrame\n",
    "df_RI_3"
   ]
  },
  {
   "cell_type": "markdown",
   "metadata": {},
   "source": [
    "4. Carga del JSON 4 de Rhode Island"
   ]
  },
  {
   "cell_type": "code",
   "execution_count": null,
   "metadata": {},
   "outputs": [],
   "source": [
    "# Ruta del archivo JSON 4\n",
    "ruta_archivo = r\"C:\\Users\\ADMIN\\Desktop\\Practica PROYECTO FINAL\\review-Rhode_Island-20240828T034929Z-001\\review-Rhode_Island\\4.json\"\n",
    "\n",
    "# Carga del archivo JSON en un DataFrame de pandas usando lines=True\n",
    "df_RI_4 = pd.read_json(ruta_archivo, lines=True)\n",
    "\n",
    "# Muestra el DataFrame\n",
    "df_RI_4"
   ]
  },
  {
   "cell_type": "markdown",
   "metadata": {},
   "source": [
    "5. Carga del JSON 5 de Rhode Island"
   ]
  },
  {
   "cell_type": "code",
   "execution_count": null,
   "metadata": {},
   "outputs": [],
   "source": [
    "# Ruta del archivo JSON 4\n",
    "ruta_archivo = r\"C:\\Users\\ADMIN\\Desktop\\Practica PROYECTO FINAL\\review-Rhode_Island-20240828T034929Z-001\\review-Rhode_Island\\5.json\"\n",
    "\n",
    "# Carga del archivo JSON en un DataFrame de pandas usando lines=True\n",
    "df_RI_5 = pd.read_json(ruta_archivo, lines=True)\n",
    "\n",
    "# Muestra el DataFrame\n",
    "df_RI_5"
   ]
  },
  {
   "cell_type": "markdown",
   "metadata": {},
   "source": [
    "6. Carga del JSON 6 de Rhode Island"
   ]
  },
  {
   "cell_type": "code",
   "execution_count": null,
   "metadata": {},
   "outputs": [],
   "source": [
    "# Ruta del archivo JSON 4\n",
    "ruta_archivo = r\"C:\\Users\\ADMIN\\Desktop\\Practica PROYECTO FINAL\\review-Rhode_Island-20240828T034929Z-001\\review-Rhode_Island\\6.json\"\n",
    "\n",
    "# Carga del archivo JSON en un DataFrame de pandas usando lines=True\n",
    "df_RI_6 = pd.read_json(ruta_archivo, lines=True)\n",
    "\n",
    "# Muestra el DataFrame\n",
    "df_RI_6"
   ]
  },
  {
   "cell_type": "markdown",
   "metadata": {},
   "source": [
    "#### Guardamos todos los JSON de Rhode Island en un solo archivo"
   ]
  },
  {
   "cell_type": "code",
   "execution_count": null,
   "metadata": {},
   "outputs": [],
   "source": [
    "# Lista de todos los DataFrames\n",
    "dataframes = [df_RI_1, df_RI_2, df_RI_3, df_RI_4, df_RI_5, df_RI_6]"
   ]
  },
  {
   "cell_type": "code",
   "execution_count": null,
   "metadata": {},
   "outputs": [],
   "source": [
    "# Concatenamos todos los DataFrames en uno solo\n",
    "df_RI_final= pd.concat(dataframes, ignore_index= True)\n",
    "\n",
    "# Muestra del tamaño del DataFrame combinado\n",
    "print(f\"Tamaño del DataFrame combinado: {df_RI_final.shape}\")\n"
   ]
  },
  {
   "cell_type": "code",
   "execution_count": null,
   "metadata": {},
   "outputs": [],
   "source": [
    "df_RI_final.info()"
   ]
  },
  {
   "cell_type": "markdown",
   "metadata": {},
   "source": [
    "#### Eliminamos columnas no necesarias"
   ]
  },
  {
   "cell_type": "code",
   "execution_count": null,
   "metadata": {},
   "outputs": [],
   "source": [
    "#Eliminamos las columnas especificadas del DataFrame\n",
    "columnas_a_eliminar = [\"pics\", \"resp\"]\n",
    "df_RI_final = df_RI_final.drop(columns=columnas_a_eliminar)"
   ]
  },
  {
   "cell_type": "code",
   "execution_count": null,
   "metadata": {},
   "outputs": [],
   "source": [
    "#Verificamos el resultado con las primeras 5 filas\n",
    "df_RI_final.head()"
   ]
  },
  {
   "cell_type": "markdown",
   "metadata": {},
   "source": [
    "### Guardamos el Dataframe de Rhode Island"
   ]
  },
  {
   "cell_type": "code",
   "execution_count": null,
   "metadata": {},
   "outputs": [],
   "source": [
    "## Guardamos el Dataframe en formato Parquet\n",
    "df_RI_final.to_parquet(\"Rhode-Island-reviews.parquet\")"
   ]
  },
  {
   "cell_type": "markdown",
   "metadata": {},
   "source": [
    "## **09.Estado de New York**"
   ]
  },
  {
   "cell_type": "markdown",
   "metadata": {},
   "source": [
    "1. Carga del JSON 1 de New York"
   ]
  },
  {
   "cell_type": "code",
   "execution_count": null,
   "metadata": {},
   "outputs": [],
   "source": [
    "# Ruta del archivo JSON 1 de New York\n",
    "ruta_archivo = r\"C:\\Users\\ADMIN\\Desktop\\Practica PROYECTO FINAL\\review-New_York-20240828T041907Z-001\\review-New_York\\1.json\"\n",
    "\n",
    "# Carga el archivo JSON en un DataFrame de pandas usando lines=True\n",
    "df_NY_1 = pd.read_json(ruta_archivo, lines= True)\n",
    "\n",
    "# Muestra el DataFrame\n",
    "df_NY_1"
   ]
  },
  {
   "cell_type": "markdown",
   "metadata": {},
   "source": [
    "2. Carga del JSON 2 de New York"
   ]
  },
  {
   "cell_type": "code",
   "execution_count": null,
   "metadata": {},
   "outputs": [],
   "source": [
    "# Ruta del archivo JSON 2 de New York\n",
    "ruta_archivo = r\"C:\\Users\\ADMIN\\Desktop\\Practica PROYECTO FINAL\\review-New_York-20240828T041907Z-001\\review-New_York\\2.json\"\n",
    "\n",
    "# Carga el archivo JSON en un DataFrame de pandas usando lines=True\n",
    "df_NY_2 = pd.read_json(ruta_archivo, lines= True)\n",
    "\n",
    "# Muestra el DataFrame\n",
    "df_NY_2"
   ]
  },
  {
   "cell_type": "markdown",
   "metadata": {},
   "source": [
    "3. Carga del JSON 3 de New York"
   ]
  },
  {
   "cell_type": "code",
   "execution_count": null,
   "metadata": {},
   "outputs": [],
   "source": [
    "# Ruta del archivo JSON 3 de New York\n",
    "ruta_archivo = r\"C:\\Users\\ADMIN\\Desktop\\Practica PROYECTO FINAL\\review-New_York-20240828T041907Z-001\\review-New_York\\3.json\"\n",
    "\n",
    "# Carga el archivo JSON en un DataFrame de pandas usando lines=True\n",
    "df_NY_3 = pd.read_json(ruta_archivo, lines= True)\n",
    "\n",
    "# Muestra el DataFrame\n",
    "df_NY_3"
   ]
  },
  {
   "cell_type": "markdown",
   "metadata": {},
   "source": [
    "4. Carga del JSON 4 de New York"
   ]
  },
  {
   "cell_type": "code",
   "execution_count": null,
   "metadata": {},
   "outputs": [],
   "source": [
    "# Ruta del archivo JSON 4 de New York\n",
    "ruta_archivo = r\"C:\\Users\\ADMIN\\Desktop\\Practica PROYECTO FINAL\\review-New_York-20240828T041907Z-001\\review-New_York\\4.json\"\n",
    "\n",
    "# Carga el archivo JSON en un DataFrame de pandas usando lines=True\n",
    "df_NY_4 = pd.read_json(ruta_archivo, lines= True)\n",
    "\n",
    "# Muestra el DataFrame\n",
    "df_NY_4"
   ]
  },
  {
   "cell_type": "markdown",
   "metadata": {},
   "source": [
    "5. Carga del JSON 5 de New York"
   ]
  },
  {
   "cell_type": "code",
   "execution_count": null,
   "metadata": {},
   "outputs": [],
   "source": [
    "# Ruta del archivo JSON 5 de New York\n",
    "ruta_archivo = r\"C:\\Users\\ADMIN\\Desktop\\Practica PROYECTO FINAL\\review-New_York-20240828T041907Z-001\\review-New_York\\5.json\"\n",
    "\n",
    "# Carga el archivo JSON en un DataFrame de pandas usando lines=True\n",
    "df_NY_5 = pd.read_json(ruta_archivo, lines= True)\n",
    "\n",
    "# Muestra el DataFrame\n",
    "df_NY_5"
   ]
  },
  {
   "cell_type": "markdown",
   "metadata": {},
   "source": [
    "6. Carga del JSON 6 de New York"
   ]
  },
  {
   "cell_type": "code",
   "execution_count": null,
   "metadata": {},
   "outputs": [],
   "source": [
    "# Ruta del archivo JSON 6 de New York\n",
    "ruta_archivo = r\"C:\\Users\\ADMIN\\Desktop\\Practica PROYECTO FINAL\\review-New_York-20240828T041907Z-001\\review-New_York\\6.json\"\n",
    "\n",
    "# Carga el archivo JSON en un DataFrame de pandas usando lines=True\n",
    "df_NY_6 = pd.read_json(ruta_archivo, lines= True)\n",
    "\n",
    "# Muestra el DataFrame\n",
    "df_NY_6"
   ]
  },
  {
   "cell_type": "markdown",
   "metadata": {},
   "source": [
    "7. Carga del JSON 7 de New York"
   ]
  },
  {
   "cell_type": "code",
   "execution_count": null,
   "metadata": {},
   "outputs": [],
   "source": [
    "# Ruta del archivo JSON 7 de New York\n",
    "ruta_archivo = r\"C:\\Users\\ADMIN\\Desktop\\Practica PROYECTO FINAL\\review-New_York-20240828T041907Z-001\\review-New_York\\7.json\"\n",
    "\n",
    "# Carga el archivo JSON en un DataFrame de pandas usando lines=True\n",
    "df_NY_7 = pd.read_json(ruta_archivo, lines= True)\n",
    "\n",
    "# Muestra el DataFrame\n",
    "df_NY_7"
   ]
  },
  {
   "cell_type": "markdown",
   "metadata": {},
   "source": [
    "8. Carga del JSON 8 de New York"
   ]
  },
  {
   "cell_type": "code",
   "execution_count": null,
   "metadata": {},
   "outputs": [],
   "source": [
    "# Ruta del archivo JSON 8 de New York\n",
    "ruta_archivo = r\"C:\\Users\\ADMIN\\Desktop\\Practica PROYECTO FINAL\\review-New_York-20240828T041907Z-001\\review-New_York\\8.json\"\n",
    "\n",
    "# Carga el archivo JSON en un DataFrame de pandas usando lines=True\n",
    "df_NY_8= pd.read_json(ruta_archivo, lines= True)\n",
    "\n",
    "# Muestra el DataFrame\n",
    "df_NY_8"
   ]
  },
  {
   "cell_type": "markdown",
   "metadata": {},
   "source": [
    "9. Carga del JSON 9 de New York"
   ]
  },
  {
   "cell_type": "code",
   "execution_count": null,
   "metadata": {},
   "outputs": [],
   "source": [
    "# Ruta del archivo JSON 9 de New York\n",
    "ruta_archivo = r\"C:\\Users\\ADMIN\\Desktop\\Practica PROYECTO FINAL\\review-New_York-20240828T041907Z-001\\review-New_York\\9.json\"\n",
    "\n",
    "# Carga el archivo JSON en un DataFrame de pandas usando lines=True\n",
    "df_NY_9 = pd.read_json(ruta_archivo, lines= True)\n",
    "\n",
    "# Muestra el DataFrame\n",
    "df_NY_9"
   ]
  },
  {
   "cell_type": "markdown",
   "metadata": {},
   "source": [
    "10. Carga del JSON 10 de New York"
   ]
  },
  {
   "cell_type": "code",
   "execution_count": null,
   "metadata": {},
   "outputs": [],
   "source": [
    "# Ruta del archivo JSON 10 de New York\n",
    "ruta_archivo = r\"C:\\Users\\ADMIN\\Desktop\\Practica PROYECTO FINAL\\review-New_York-20240828T041907Z-001\\review-New_York\\10.json\"\n",
    "\n",
    "# Carga el archivo JSON en un DataFrame de pandas usando lines=True\n",
    "df_NY_10 = pd.read_json(ruta_archivo, lines= True)\n",
    "\n",
    "# Muestra el DataFrame\n",
    "df_NY_10"
   ]
  },
  {
   "cell_type": "markdown",
   "metadata": {},
   "source": [
    "11. Carga del JSON 11 de New York"
   ]
  },
  {
   "cell_type": "code",
   "execution_count": null,
   "metadata": {},
   "outputs": [],
   "source": [
    "# Ruta del archivo JSON 11 de New York\n",
    "ruta_archivo = r\"C:\\Users\\ADMIN\\Desktop\\Practica PROYECTO FINAL\\review-New_York-20240828T041907Z-001\\review-New_York\\11.json\"\n",
    "\n",
    "# Carga el archivo JSON en un DataFrame de pandas usando lines=True\n",
    "df_NY_11 = pd.read_json(ruta_archivo, lines= True)\n",
    "\n",
    "# Muestra el DataFrame\n",
    "df_NY_11"
   ]
  },
  {
   "cell_type": "markdown",
   "metadata": {},
   "source": [
    "12. Carga del JSON 12 de New York"
   ]
  },
  {
   "cell_type": "code",
   "execution_count": null,
   "metadata": {},
   "outputs": [],
   "source": [
    "# Ruta del archivo JSON 12 de New York\n",
    "ruta_archivo = r\"C:\\Users\\ADMIN\\Desktop\\Practica PROYECTO FINAL\\review-New_York-20240828T041907Z-001\\review-New_York\\12.json\"\n",
    "\n",
    "# Carga el archivo JSON en un DataFrame de pandas usando lines=True\n",
    "df_NY_12 = pd.read_json(ruta_archivo, lines= True)\n",
    "\n",
    "# Muestra el DataFrame\n",
    "df_NY_12"
   ]
  },
  {
   "cell_type": "markdown",
   "metadata": {},
   "source": [
    "13. Carga del JSON 13 de New York"
   ]
  },
  {
   "cell_type": "code",
   "execution_count": null,
   "metadata": {},
   "outputs": [],
   "source": [
    "# Ruta del archivo JSON 13 de New York\n",
    "ruta_archivo = r\"C:\\Users\\ADMIN\\Desktop\\Practica PROYECTO FINAL\\review-New_York-20240828T041907Z-001\\review-New_York\\13.json\"\n",
    "\n",
    "# Carga el archivo JSON en un DataFrame de pandas usando lines=True\n",
    "df_NY_13 = pd.read_json(ruta_archivo, lines= True)\n",
    "\n",
    "# Muestra el DataFrame\n",
    "df_NY_13"
   ]
  },
  {
   "cell_type": "markdown",
   "metadata": {},
   "source": [
    "14. Carga del JSON 14 de New York"
   ]
  },
  {
   "cell_type": "code",
   "execution_count": null,
   "metadata": {},
   "outputs": [],
   "source": [
    "# Ruta del archivo JSON 14 de New York\n",
    "ruta_archivo = r\"C:\\Users\\ADMIN\\Desktop\\Practica PROYECTO FINAL\\review-New_York-20240828T041907Z-001\\review-New_York\\14.json\"\n",
    "\n",
    "# Carga el archivo JSON en un DataFrame de pandas usando lines=True\n",
    "df_NY_14 = pd.read_json(ruta_archivo, lines= True)\n",
    "\n",
    "# Muestra el DataFrame\n",
    "df_NY_14"
   ]
  },
  {
   "cell_type": "markdown",
   "metadata": {},
   "source": [
    "15. Carga del JSON 15 de New York"
   ]
  },
  {
   "cell_type": "code",
   "execution_count": null,
   "metadata": {},
   "outputs": [],
   "source": [
    "# Ruta del archivo JSON 15 de New York\n",
    "ruta_archivo = r\"C:\\Users\\ADMIN\\Desktop\\Practica PROYECTO FINAL\\review-New_York-20240828T041907Z-001\\review-New_York\\15.json\"\n",
    "\n",
    "# Carga el archivo JSON en un DataFrame de pandas usando lines=True\n",
    "df_NY_15 = pd.read_json(ruta_archivo, lines= True)\n",
    "\n",
    "# Muestra el DataFrame\n",
    "df_NY_15"
   ]
  },
  {
   "cell_type": "markdown",
   "metadata": {},
   "source": [
    "16. Carga del JSON 16 de New York"
   ]
  },
  {
   "cell_type": "code",
   "execution_count": null,
   "metadata": {},
   "outputs": [],
   "source": [
    "# Ruta del archivo JSON 16 de New York\n",
    "ruta_archivo = r\"C:\\Users\\ADMIN\\Desktop\\Practica PROYECTO FINAL\\review-New_York-20240828T041907Z-001\\review-New_York\\16.json\"\n",
    "\n",
    "# Carga el archivo JSON en un DataFrame de pandas usando lines=True\n",
    "df_NY_16 = pd.read_json(ruta_archivo, lines= True)\n",
    "\n",
    "# Muestra el DataFrame\n",
    "df_NY_16"
   ]
  },
  {
   "cell_type": "markdown",
   "metadata": {},
   "source": [
    "17. Carga del JSON 17 de New York"
   ]
  },
  {
   "cell_type": "code",
   "execution_count": null,
   "metadata": {},
   "outputs": [],
   "source": [
    "# Ruta del archivo JSON 17 de New York\n",
    "ruta_archivo = r\"C:\\Users\\ADMIN\\Desktop\\Practica PROYECTO FINAL\\review-New_York-20240828T041907Z-001\\review-New_York\\17.json\"\n",
    "\n",
    "# Carga el archivo JSON en un DataFrame de pandas usando lines=True\n",
    "df_NY_17 = pd.read_json(ruta_archivo, lines= True)\n",
    "\n",
    "# Muestra el DataFrame\n",
    "df_NY_17"
   ]
  },
  {
   "cell_type": "markdown",
   "metadata": {},
   "source": [
    "18. Carga del JSON 18 de New York"
   ]
  },
  {
   "cell_type": "code",
   "execution_count": null,
   "metadata": {},
   "outputs": [],
   "source": [
    "# Ruta del archivo JSON 18 de New York\n",
    "ruta_archivo = r\"C:\\Users\\ADMIN\\Desktop\\Practica PROYECTO FINAL\\review-New_York-20240828T041907Z-001\\review-New_York\\18.json\"\n",
    "\n",
    "# Carga el archivo JSON en un DataFrame de pandas usando lines=True\n",
    "df_NY_18 = pd.read_json(ruta_archivo, lines= True)\n",
    "\n",
    "# Muestra el DataFrame\n",
    "df_NY_18"
   ]
  },
  {
   "cell_type": "markdown",
   "metadata": {},
   "source": [
    "#### Guardamos todos los JSON en un solo archivo"
   ]
  },
  {
   "cell_type": "code",
   "execution_count": null,
   "metadata": {},
   "outputs": [],
   "source": [
    "#Lista de todos los DataFrames\n",
    "dataframes = [df_NY_1, df_NY_2, df_NY_3, df_NY_4, df_NY_5, df_NY_6, df_NY_7, df_NY_8, df_NY_9, df_NY_10, \n",
    "              df_NY_11, df_NY_12, df_NY_13, df_NY_14, df_NY_15, df_NY_16, df_NY_17, df_NY_18]"
   ]
  },
  {
   "cell_type": "code",
   "execution_count": null,
   "metadata": {},
   "outputs": [],
   "source": [
    "# Concatenamos todos los DataFrames en uno solo\n",
    "df_NY_final = pd.concat(dataframes, ignore_index=True)\n",
    "\n",
    "# Mostramos el tamaño del DataFrame \n",
    "print(f\"Tamaño del DataFrame: {df_NY_final.shape}\")"
   ]
  },
  {
   "cell_type": "code",
   "execution_count": null,
   "metadata": {},
   "outputs": [],
   "source": [
    "df_NY_final.info()"
   ]
  },
  {
   "cell_type": "markdown",
   "metadata": {},
   "source": [
    "#### Eliminamos las columnas no necesarias"
   ]
  },
  {
   "cell_type": "code",
   "execution_count": null,
   "metadata": {},
   "outputs": [],
   "source": [
    "# Eliminamos las columnas especificadas del DataFrame\n",
    "columnas_a_eliminar = [\"pics\", \"resp\"]\n",
    "df_NY_final = df_NY_final.drop(columns=columnas_a_eliminar)\n"
   ]
  },
  {
   "cell_type": "code",
   "execution_count": null,
   "metadata": {},
   "outputs": [],
   "source": [
    "# Verificamos el resultado mostrando las primeras filas\n",
    "df_NY_final.head()"
   ]
  },
  {
   "cell_type": "markdown",
   "metadata": {},
   "source": [
    "### Guardamos el Dataframe de New York"
   ]
  },
  {
   "cell_type": "code",
   "execution_count": null,
   "metadata": {},
   "outputs": [],
   "source": [
    "df_NY_final.to_parquet(\"New-York-reviews.parquet\")"
   ]
  },
  {
   "cell_type": "markdown",
   "metadata": {},
   "source": [
    "### **10. Estado de Connecticut**"
   ]
  },
  {
   "cell_type": "markdown",
   "metadata": {},
   "source": [
    "1. Carga del JSON 1 de Connecticut"
   ]
  },
  {
   "cell_type": "code",
   "execution_count": null,
   "metadata": {},
   "outputs": [],
   "source": [
    "# Ruta del archivo JSON 1\n",
    "ruta_archivo = r\"C:\\Users\\ADMIN\\Desktop\\Practica PROYECTO FINAL\\review-Connecticut-20240828T034854Z-001\\review-Connecticut\\1.json\"\n",
    "\n",
    "# Carga el archivo JSON en un DataFrame de pandas usando lines=True\n",
    "df_CO_1 = pd.read_json(ruta_archivo, lines = True)\n",
    "\n",
    "# Muestra del DataFrame\n",
    "df_CO_1"
   ]
  },
  {
   "cell_type": "markdown",
   "metadata": {},
   "source": [
    "2. Carga del JSON 2 de Connecticut"
   ]
  },
  {
   "cell_type": "code",
   "execution_count": null,
   "metadata": {},
   "outputs": [],
   "source": [
    "# Ruta del archivo JSON 2\n",
    "ruta_archivo = r\"C:\\Users\\ADMIN\\Desktop\\Practica PROYECTO FINAL\\review-Connecticut-20240828T034854Z-001\\review-Connecticut\\2.json\"\n",
    "\n",
    "# Carga el archivo JSON en un DataFrame de pandas usando lines=True\n",
    "df_CO_2 = pd.read_json(ruta_archivo, lines = True)\n",
    "\n",
    "# Muestra del DataFrame\n",
    "df_CO_2"
   ]
  },
  {
   "cell_type": "markdown",
   "metadata": {},
   "source": [
    "3. Carga del JSON 3 de Connecticut"
   ]
  },
  {
   "cell_type": "code",
   "execution_count": null,
   "metadata": {},
   "outputs": [],
   "source": [
    "# Ruta del archivo JSON 3\n",
    "ruta_archivo = r\"C:\\Users\\ADMIN\\Desktop\\Practica PROYECTO FINAL\\review-Connecticut-20240828T034854Z-001\\review-Connecticut\\3.json\"\n",
    "\n",
    "# Carga el archivo JSON en un DataFrame de pandas usando lines=True\n",
    "df_CO_3 = pd.read_json(ruta_archivo, lines = True)\n",
    "\n",
    "# Muestra del DataFrame\n",
    "df_CO_3"
   ]
  },
  {
   "cell_type": "markdown",
   "metadata": {},
   "source": [
    "4. Carga del JSON 4 de Connecticut"
   ]
  },
  {
   "cell_type": "code",
   "execution_count": null,
   "metadata": {},
   "outputs": [],
   "source": [
    "# Ruta del archivo JSON 4\n",
    "ruta_archivo = r\"C:\\Users\\ADMIN\\Desktop\\Practica PROYECTO FINAL\\review-Connecticut-20240828T034854Z-001\\review-Connecticut\\4.json\"\n",
    "\n",
    "# Carga el archivo JSON en un DataFrame de pandas usando lines=True\n",
    "df_CO_4 = pd.read_json(ruta_archivo, lines = True)\n",
    "\n",
    "# Muestra del DataFrame\n",
    "df_CO_4"
   ]
  },
  {
   "cell_type": "markdown",
   "metadata": {},
   "source": [
    "5. Carga del JSON 5 de Connecticut"
   ]
  },
  {
   "cell_type": "code",
   "execution_count": null,
   "metadata": {},
   "outputs": [],
   "source": [
    "# Ruta del archivo JSON 5\n",
    "ruta_archivo = r\"C:\\Users\\ADMIN\\Desktop\\Practica PROYECTO FINAL\\review-Connecticut-20240828T034854Z-001\\review-Connecticut\\5.json\"\n",
    "\n",
    "# Carga el archivo JSON en un DataFrame de pandas usando lines=True\n",
    "df_CO_5 = pd.read_json(ruta_archivo, lines = True)\n",
    "\n",
    "# Muestra del DataFrame\n",
    "df_CO_5"
   ]
  },
  {
   "cell_type": "markdown",
   "metadata": {},
   "source": [
    "6. Carga del JSON 6 de Connecticut"
   ]
  },
  {
   "cell_type": "code",
   "execution_count": null,
   "metadata": {},
   "outputs": [],
   "source": [
    "# Ruta del archivo JSON 6\n",
    "ruta_archivo = r\"C:\\Users\\ADMIN\\Desktop\\Practica PROYECTO FINAL\\review-Connecticut-20240828T034854Z-001\\review-Connecticut\\6.json\"\n",
    "\n",
    "# Carga el archivo JSON en un DataFrame de pandas usando lines=True\n",
    "df_CO_6 = pd.read_json(ruta_archivo, lines = True)\n",
    "\n",
    "# Muestra del DataFrame\n",
    "df_CO_6"
   ]
  },
  {
   "cell_type": "markdown",
   "metadata": {},
   "source": [
    "7. Carga del JSON 7 de Connecticut"
   ]
  },
  {
   "cell_type": "code",
   "execution_count": null,
   "metadata": {},
   "outputs": [],
   "source": [
    "# Ruta del archivo JSON 7\n",
    "ruta_archivo = r\"C:\\Users\\ADMIN\\Desktop\\Practica PROYECTO FINAL\\review-Connecticut-20240828T034854Z-001\\review-Connecticut\\7.json\"\n",
    "\n",
    "# Carga el archivo JSON en un DataFrame de pandas usando lines=True\n",
    "df_CO_7 = pd.read_json(ruta_archivo, lines = True)\n",
    "\n",
    "# Muestra del DataFrame\n",
    "df_CO_7"
   ]
  },
  {
   "cell_type": "markdown",
   "metadata": {},
   "source": [
    "8. Carga del JSON 8 de Connecticut"
   ]
  },
  {
   "cell_type": "code",
   "execution_count": null,
   "metadata": {},
   "outputs": [],
   "source": [
    "# Ruta del archivo JSON 8\n",
    "ruta_archivo = r\"C:\\Users\\ADMIN\\Desktop\\Practica PROYECTO FINAL\\review-Connecticut-20240828T034854Z-001\\review-Connecticut\\8.json\"\n",
    "\n",
    "# Carga el archivo JSON en un DataFrame de pandas usando lines=True\n",
    "df_CO_8 = pd.read_json(ruta_archivo, lines = True)\n",
    "\n",
    "# Muestra del DataFrame\n",
    "df_CO_8"
   ]
  },
  {
   "cell_type": "markdown",
   "metadata": {},
   "source": [
    "9. Carga del JSON 9 de Connecticut"
   ]
  },
  {
   "cell_type": "code",
   "execution_count": null,
   "metadata": {},
   "outputs": [],
   "source": [
    "# Ruta del archivo JSON 9\n",
    "ruta_archivo = r\"C:\\Users\\ADMIN\\Desktop\\Practica PROYECTO FINAL\\review-Connecticut-20240828T034854Z-001\\review-Connecticut\\9.json\"\n",
    "\n",
    "# Carga el archivo JSON en un DataFrame de pandas usando lines=True\n",
    "df_CO_9 = pd.read_json(ruta_archivo, lines = True)\n",
    "\n",
    "# Muestra del DataFrame\n",
    "df_CO_9"
   ]
  },
  {
   "cell_type": "markdown",
   "metadata": {},
   "source": [
    "10. Carga del JSON 10 de Connecticut"
   ]
  },
  {
   "cell_type": "code",
   "execution_count": null,
   "metadata": {},
   "outputs": [],
   "source": [
    "# Ruta del archivo JSON 10\n",
    "ruta_archivo = r\"C:\\Users\\ADMIN\\Desktop\\Practica PROYECTO FINAL\\review-Connecticut-20240828T034854Z-001\\review-Connecticut\\10.json\"\n",
    "\n",
    "# Carga el archivo JSON en un DataFrame de pandas usando lines=True\n",
    "df_CO_10 = pd.read_json(ruta_archivo, lines = True)\n",
    "\n",
    "# Muestra del DataFrame\n",
    "df_CO_10"
   ]
  },
  {
   "cell_type": "markdown",
   "metadata": {},
   "source": [
    "11. Carga del JSON 11 de Connecticut"
   ]
  },
  {
   "cell_type": "code",
   "execution_count": null,
   "metadata": {},
   "outputs": [],
   "source": [
    "# Ruta del archivo JSON 11\n",
    "ruta_archivo = r\"C:\\Users\\ADMIN\\Desktop\\Practica PROYECTO FINAL\\review-Connecticut-20240828T034854Z-001\\review-Connecticut\\11.json\"\n",
    "\n",
    "# Carga el archivo JSON en un DataFrame de pandas usando lines=True\n",
    "df_CO_11 = pd.read_json(ruta_archivo, lines = True)\n",
    "\n",
    "# Muestra del DataFrame\n",
    "df_CO_11"
   ]
  },
  {
   "cell_type": "markdown",
   "metadata": {},
   "source": [
    "12. Carga del JSON 12 de Connecticut"
   ]
  },
  {
   "cell_type": "code",
   "execution_count": null,
   "metadata": {},
   "outputs": [],
   "source": [
    "# Ruta del archivo JSON 12\n",
    "ruta_archivo = r\"C:\\Users\\ADMIN\\Desktop\\Practica PROYECTO FINAL\\review-Connecticut-20240828T034854Z-001\\review-Connecticut\\12.json\"\n",
    "\n",
    "# Carga el archivo JSON en un DataFrame de pandas usando lines=True\n",
    "df_CO_12 = pd.read_json(ruta_archivo, lines = True)\n",
    "\n",
    "# Muestra del DataFrame\n",
    "df_CO_12"
   ]
  },
  {
   "cell_type": "markdown",
   "metadata": {},
   "source": [
    "13. Carga del JSON 13 de Connecticut"
   ]
  },
  {
   "cell_type": "code",
   "execution_count": null,
   "metadata": {},
   "outputs": [],
   "source": [
    "# Ruta del archivo JSON 13\n",
    "ruta_archivo = r\"C:\\Users\\ADMIN\\Desktop\\Practica PROYECTO FINAL\\review-Connecticut-20240828T034854Z-001\\review-Connecticut\\13.json\"\n",
    "\n",
    "# Carga el archivo JSON en un DataFrame de pandas usando lines=True\n",
    "df_CO_13 = pd.read_json(ruta_archivo, lines = True)\n",
    "\n",
    "# Muestra del DataFrame\n",
    "df_CO_13"
   ]
  },
  {
   "cell_type": "markdown",
   "metadata": {},
   "source": [
    "14. Carga del JSON 14 de Connecticut"
   ]
  },
  {
   "cell_type": "code",
   "execution_count": null,
   "metadata": {},
   "outputs": [],
   "source": [
    "# Ruta del archivo JSON 14\n",
    "ruta_archivo = r\"C:\\Users\\ADMIN\\Desktop\\Practica PROYECTO FINAL\\review-Connecticut-20240828T034854Z-001\\review-Connecticut\\14.json\"\n",
    "\n",
    "# Carga el archivo JSON en un DataFrame de pandas usando lines=True\n",
    "df_CO_14 = pd.read_json(ruta_archivo, lines = True)\n",
    "\n",
    "# Muestra del DataFrame\n",
    "df_CO_14"
   ]
  },
  {
   "cell_type": "markdown",
   "metadata": {},
   "source": [
    "15. Carga del JSON 15 de Connecticut"
   ]
  },
  {
   "cell_type": "code",
   "execution_count": null,
   "metadata": {},
   "outputs": [],
   "source": [
    "# Ruta del archivo JSON 15\n",
    "ruta_archivo = r\"C:\\Users\\ADMIN\\Desktop\\Practica PROYECTO FINAL\\review-Connecticut-20240828T034854Z-001\\review-Connecticut\\15.json\"\n",
    "\n",
    "# Carga el archivo JSON en un DataFrame de pandas usando lines=True\n",
    "df_CO_15 = pd.read_json(ruta_archivo, lines = True)\n",
    "\n",
    "# Muestra del DataFrame\n",
    "df_CO_15"
   ]
  },
  {
   "cell_type": "markdown",
   "metadata": {},
   "source": [
    "16. Carga del JSON 16 de Connecticut"
   ]
  },
  {
   "cell_type": "code",
   "execution_count": null,
   "metadata": {},
   "outputs": [],
   "source": [
    "# Ruta del archivo JSON 16\n",
    "ruta_archivo = r\"C:\\Users\\ADMIN\\Desktop\\Practica PROYECTO FINAL\\review-Connecticut-20240828T034854Z-001\\review-Connecticut\\16.json\"\n",
    "\n",
    "# Carga el archivo JSON en un DataFrame de pandas usando lines=True\n",
    "df_CO_16 = pd.read_json(ruta_archivo, lines = True)\n",
    "\n",
    "# Muestra del DataFrame\n",
    "df_CO_16"
   ]
  },
  {
   "cell_type": "markdown",
   "metadata": {},
   "source": [
    "17. Carga del JSON 17 de Connecticut"
   ]
  },
  {
   "cell_type": "code",
   "execution_count": null,
   "metadata": {},
   "outputs": [],
   "source": [
    "# Ruta del archivo JSON 17\n",
    "ruta_archivo = r\"C:\\Users\\ADMIN\\Desktop\\Practica PROYECTO FINAL\\review-Connecticut-20240828T034854Z-001\\review-Connecticut\\17.json\"\n",
    "\n",
    "# Carga el archivo JSON en un DataFrame de pandas usando lines=True\n",
    "df_CO_17 = pd.read_json(ruta_archivo, lines = True)\n",
    "\n",
    "# Muestra del DataFrame\n",
    "df_CO_17"
   ]
  },
  {
   "cell_type": "markdown",
   "metadata": {},
   "source": [
    "18. Carga del JSON 18 de Connecticut"
   ]
  },
  {
   "cell_type": "code",
   "execution_count": null,
   "metadata": {},
   "outputs": [],
   "source": [
    "# Ruta del archivo JSON 18\n",
    "ruta_archivo = r\"C:\\Users\\ADMIN\\Desktop\\Practica PROYECTO FINAL\\review-Connecticut-20240828T034854Z-001\\review-Connecticut\\18.json\"\n",
    "\n",
    "# Carga el archivo JSON en un DataFrame de pandas usando lines=True\n",
    "df_CO_18 = pd.read_json(ruta_archivo, lines = True)\n",
    "\n",
    "# Muestra del DataFrame\n",
    "df_CO_18"
   ]
  },
  {
   "cell_type": "markdown",
   "metadata": {},
   "source": [
    "#### Guardamos todos los JSON en un solo archivo"
   ]
  },
  {
   "cell_type": "code",
   "execution_count": null,
   "metadata": {},
   "outputs": [],
   "source": [
    "# Lista de todos los DataFrames\n",
    "dataframes = [df_CO_1, df_CO_2, df_CO_3, df_CO_4, df_CO_5, df_CO_6, df_CO_7, df_CO_8, df_CO_9, df_CO_10,\n",
    "              df_CO_11, df_CO_12, df_CO_13, df_CO_14, df_CO_15, df_CO_16, df_CO_17, df_CO_18]"
   ]
  },
  {
   "cell_type": "code",
   "execution_count": null,
   "metadata": {},
   "outputs": [],
   "source": [
    "# Concatenamos todos los DataFrames en uno solo\n",
    "df_CO_final = pd.concat(dataframes, ignore_index=True)\n",
    "\n",
    "# Mostramos el tamaño del DataFrame \n",
    "print(f\"Tamaño del DataFrame: {df_CO_final.shape}\")"
   ]
  },
  {
   "cell_type": "code",
   "execution_count": null,
   "metadata": {},
   "outputs": [],
   "source": [
    "df_CO_final.info()"
   ]
  },
  {
   "cell_type": "markdown",
   "metadata": {},
   "source": [
    "#### Eliminamos las columnas no necesarias"
   ]
  },
  {
   "cell_type": "code",
   "execution_count": null,
   "metadata": {},
   "outputs": [],
   "source": [
    "# Eliminamos las columnas especificadas del DataFrame\n",
    "columnas_a_eliminar = [\"pics\", \"resp\"]\n",
    "df_CO_final = df_CO_final.drop(columns=columnas_a_eliminar)\n"
   ]
  },
  {
   "cell_type": "code",
   "execution_count": null,
   "metadata": {},
   "outputs": [],
   "source": [
    "# Verificamos el resultado mostrando las primeras filas\n",
    "df_CO_final.head()"
   ]
  },
  {
   "cell_type": "markdown",
   "metadata": {},
   "source": [
    "### Guardamos el Dataframe de Connecticut"
   ]
  },
  {
   "cell_type": "code",
   "execution_count": null,
   "metadata": {},
   "outputs": [],
   "source": [
    "df_CO_final.to_parquet(\"Connecticut-reviews.parquet\")"
   ]
  },
  {
   "cell_type": "code",
   "execution_count": null,
   "metadata": {},
   "outputs": [],
   "source": [
    "# Eliminamos las columnas especificadas del DataFrame\n",
    "columnas_a_eliminar = [\"pics\", \"resp\"]\n",
    "df_CO_final = df_CO_final.drop(columns=columnas_a_eliminar)\n"
   ]
  },
  {
   "cell_type": "code",
   "execution_count": null,
   "metadata": {},
   "outputs": [],
   "source": [
    "# Verificamos el resultado mostrando las primeras filas\n",
    "df_CO_final.head()"
   ]
  },
  {
   "cell_type": "code",
   "execution_count": null,
   "metadata": {},
   "outputs": [],
   "source": [
    "df_CO_final.to_parquet(\"Connecticut-reviews.parquet\")"
   ]
  },
  {
   "cell_type": "markdown",
   "metadata": {},
   "source": [
    "# 11. Delaware\n"
   ]
  },
  {
   "cell_type": "code",
   "execution_count": null,
   "metadata": {},
   "outputs": [],
   "source": [
    "import pandas as pd\n",
    "import glob\n",
    "import os\n",
    "import matplotlib.pyplot as plt\n",
    "from datetime import datetime"
   ]
  },
  {
   "cell_type": "code",
   "execution_count": null,
   "metadata": {},
   "outputs": [],
   "source": [
    "# Definir la ruta del directorio\n",
    "directory = 'Datasets/Google/review-estados/review-Delaware/'\n",
    "\n",
    "# Use glob to get all the json files in the directory\n",
    "json_files = glob.glob(os.path.join(directory, '*.json'))\n",
    "\n",
    "# Crear una lista vacia para almacenar los dataframes\n",
    "dfs = []\n",
    "\n",
    "# Loop sobre los archivos y agregarlos a la lista de DataFrames\n",
    "for file in json_files:\n",
    "    df = pd.read_json(file, lines=True)\n",
    "    dfs.append(df)\n",
    "\n",
    "# Concatenar todos los dataframes en uno\n",
    "df_delaware = pd.concat(dfs, ignore_index=True)\n",
    "\n",
    "# Mostrar las primeras filas del DataFrame\n",
    "df_delaware.head()"
   ]
  },
  {
   "cell_type": "code",
   "execution_count": null,
   "metadata": {},
   "outputs": [],
   "source": [
    "# Chequear el numero total de filas en el dataframe\n",
    "print(f\"Total de filas: {len(df_delaware)}\")"
   ]
  },
  {
   "cell_type": "code",
   "execution_count": null,
   "metadata": {},
   "outputs": [],
   "source": [
    "# Remove the 'pics' and 'resp' columns\n",
    "df_delaware = df_delaware.drop(columns=['pics', 'resp'], errors='ignore')\n",
    "\n",
    "# Display the first few rows of the final DataFrame\n",
    "df_delaware.head()"
   ]
  },
  {
   "cell_type": "code",
   "execution_count": null,
   "metadata": {},
   "outputs": [],
   "source": [
    "# Guardar el DataFrame como archivo Parquet\n",
    "archivo_salida = 'Datasets/Google/review-estados/review-Delaware/review_delaware.parquet'\n",
    "df_delaware.to_parquet(archivo_salida, index=False)\n",
    "\n",
    "print(f\"\\nDataFrame guardado como archivo Parquet: {archivo_salida}\")"
   ]
  },
  {
   "cell_type": "markdown",
   "metadata": {},
   "source": [
    "## 12. New Jersey"
   ]
  },
  {
   "cell_type": "code",
   "execution_count": null,
   "metadata": {},
   "outputs": [],
   "source": [
    "# Definir la ruta del directorio\n",
    "directory = 'Datasets/Google/review-estados/review-New_Jersey/'\n",
    "\n",
    "# Use glob to get all the json files in the directory\n",
    "json_files = glob.glob(os.path.join(directory, '*.json'))\n",
    "\n",
    "# Crear una lista vacia para almacenar los dataframes\n",
    "dfs = []\n",
    "\n",
    "# Loop sobre los archivos y agregarlos a la lista de DataFrames\n",
    "for file in json_files:\n",
    "    df = pd.read_json(file, lines=True)\n",
    "    dfs.append(df)\n",
    "\n",
    "# Concatenar todos los dataframes en uno\n",
    "df_new_jersey = pd.concat(dfs, ignore_index=True)\n",
    "\n",
    "# Mostrar las primeras filas del DataFrame\n",
    "df_new_jersey.head()"
   ]
  },
  {
   "cell_type": "code",
   "execution_count": null,
   "metadata": {},
   "outputs": [],
   "source": [
    "# Chequear el numero total de filas en el dataframe\n",
    "print(f\"Total de filas: {len(df_new_jersey)}\")"
   ]
  },
  {
   "cell_type": "code",
   "execution_count": null,
   "metadata": {},
   "outputs": [],
   "source": [
    "# Remove the 'pics' and 'resp' columns\n",
    "df_new_jersey = df_new_jersey.drop(columns=['pics', 'resp'], errors='ignore')\n",
    "\n",
    "# Display the first few rows of the final DataFrame\n",
    "df_new_jersey.head()"
   ]
  },
  {
   "cell_type": "code",
   "execution_count": null,
   "metadata": {},
   "outputs": [],
   "source": [
    "# Guardar el DataFrame como archivo Parquet\n",
    "archivo_salida = 'Datasets/Google/review-estados/review-New_Jersey/review_new_jersey.parquet'\n",
    "df_new_jersey.to_parquet(archivo_salida, index=False)\n",
    "\n",
    "print(f\"\\nDataFrame guardado como archivo Parquet: {archivo_salida}\")"
   ]
  },
  {
   "cell_type": "markdown",
   "metadata": {},
   "source": [
    "# 13. Maryland"
   ]
  },
  {
   "cell_type": "code",
   "execution_count": null,
   "metadata": {},
   "outputs": [],
   "source": [
    "# Definir la ruta del directorio\n",
    "directory = 'Datasets/Google/review-estados/review-Maryland/'\n",
    "\n",
    "# Use glob to get all the json files in the directory\n",
    "json_files = glob.glob(os.path.join(directory, '*.json'))\n",
    "\n",
    "# Crear una lista vacia para almacenar los dataframes\n",
    "dfs = []\n",
    "\n",
    "# Loop sobre los archivos y agregarlos a la lista de DataFrames\n",
    "for file in json_files:\n",
    "    df = pd.read_json(file, lines=True)\n",
    "    dfs.append(df)\n",
    "\n",
    "# Concatenar todos los dataframes en uno\n",
    "df_maryland = pd.concat(dfs, ignore_index=True)\n",
    "\n",
    "# Mostrar las primeras filas del DataFrame\n",
    "df_maryland.head()"
   ]
  },
  {
   "cell_type": "code",
   "execution_count": null,
   "metadata": {},
   "outputs": [],
   "source": [
    "# Chequear el numero total de filas en el dataframe\n",
    "print(f\"Total de filas: {len(df_maryland)}\")"
   ]
  },
  {
   "cell_type": "code",
   "execution_count": null,
   "metadata": {},
   "outputs": [],
   "source": [
    "# Chequear el numero total de filas en el dataframe\n",
    "print(f\"Total de filas: {len(df_maryland)}\")"
   ]
  },
  {
   "cell_type": "markdown",
   "metadata": {},
   "source": [
    "# 14. Virginia"
   ]
  },
  {
   "cell_type": "code",
   "execution_count": null,
   "metadata": {},
   "outputs": [],
   "source": [
    "# Definir la ruta del directorio\n",
    "directory = 'Datasets/Google/review-estados/review-Virginia/'\n",
    "\n",
    "# Use glob to get all the json files in the directory\n",
    "json_files = glob.glob(os.path.join(directory, '*.json'))\n",
    "\n",
    "# Crear una lista vacia para almacenar los dataframes\n",
    "dfs = []\n",
    "\n",
    "# Loop sobre los archivos y agregarlos a la lista de DataFrames\n",
    "for file in json_files:\n",
    "    df = pd.read_json(file, lines=True)\n",
    "    dfs.append(df)\n",
    "\n",
    "# Concatenar todos los dataframes en uno\n",
    "df_virginia = pd.concat(dfs, ignore_index=True)\n",
    "\n",
    "# Mostrar las primeras filas del DataFrame\n",
    "df_virginia.head()"
   ]
  },
  {
   "cell_type": "code",
   "execution_count": null,
   "metadata": {},
   "outputs": [],
   "source": [
    "# Chequear el numero total de filas en el dataframe\n",
    "print(f\"Total de filas: {len(df_virginia)}\")"
   ]
  },
  {
   "cell_type": "code",
   "execution_count": null,
   "metadata": {},
   "outputs": [],
   "source": [
    "# Remove the 'pics' and 'resp' columns\n",
    "df_virginia = df_virginia.drop(columns=['pics', 'resp'], errors='ignore')\n",
    "\n",
    "# Display the first few rows of the final DataFrame\n",
    "df_virginia.head()"
   ]
  },
  {
   "cell_type": "code",
   "execution_count": null,
   "metadata": {},
   "outputs": [],
   "source": [
    "# Guardar el DataFrame como archivo Parquet\n",
    "archivo_salida = 'Datasets/Google/review-estados/review-Virginia/review_virginia.parquet'\n",
    "df_virginia.to_parquet(archivo_salida, index=False)\n",
    "\n",
    "print(f\"\\nDataFrame guardado como archivo Parquet: {archivo_salida}\")"
   ]
  },
  {
   "cell_type": "markdown",
   "metadata": {},
   "source": [
    "## **2. Carga de datos Yelp**\n",
    "\n",
    "**Descripción de los Datos de Yelp**\n",
    "Para el análisis de la cadena de restaurantes China Garden en la costa este de Estados Unidos, se han recopilado datos detallados de Yelp, una de las plataformas de reseñas de restaurantes más importantes. Estos datos se encuentran distribuidos en cinco archivos distintos, cada uno de los cuales proporciona información relevante para entender el comportamiento del mercado y la percepción de los consumidores.\n",
    "\n",
    "**1. Archivo: business.pkl**\n",
    "\n",
    "El archivo business.pkl contiene información esencial sobre los negocios listados en Yelp, específicamente sobre los restaurantes de interés. Este archivo proporciona datos detallados de cada establecimiento, incluyendo su nombre, dirección, categoría, atributos adicionales (como si ofrece opciones vegetarianas o si tiene estacionamiento), y su ubicación geográfica exacta. Estos datos son fundamentales para realizar un análisis geoespacial, identificar patrones en las ubicaciones de los restaurantes, y comparar características de los competidores dentro del mismo mercado.\n",
    "\n",
    "**2. Archivo: Checkin.json**\n",
    "\n",
    "El archivo Checkin.json proporciona los datos de horarios de reservas y registros de visitas de los usuarios a los restaurantes. Este archivo permite analizar las horas pico de actividad, la popularidad de los restaurantes en diferentes días de la semana, y la frecuencia de visitas de los clientes. Este análisis es crucial para entender los patrones de tráfico y comportamiento de los consumidores, lo que puede ayudar a optimizar los horarios de operación y estrategias de marketing.\n",
    "\n",
    "**3. Archivo: Review.json**\n",
    "\n",
    "El archivo Review.json contiene las reseñas de los clientes que han visitado los restaurantes de interés. Cada reseña incluye información valiosa como la calificación otorgada (de 1 a 5 estrellas), el texto de la reseña, la fecha en que se escribió, y otros atributos que reflejan la experiencia del cliente. Este archivo es fundamental para realizar un análisis de sentimientos y evaluar las opiniones de los consumidores sobre China Garden y sus competidores. Además, permite identificar temas recurrentes en los comentarios de los clientes, puntos fuertes, áreas de mejora, y tendencias emergentes en la percepción del mercado.\n",
    "\n",
    "**4. Archivo: Tip**\n",
    "\n",
    "El archivo Tip contiene una recopilación de recomendaciones o consejos breves que los usuarios han dejado sobre los restaurantes en Yelp. Aunque estos \"tips\" son más cortos que las reseñas tradicionales, a menudo proporcionan insights rápidos y directos sobre lo que los clientes consideran relevante o digno de destacar. Este archivo permite complementar el análisis de reseñas con datos adicionales que pueden ayudar a identificar las expectativas y preferencias de los clientes.\n",
    "\n",
    "**5. Archivo: User**\n",
    "\n",
    "El archivo User proporciona información sobre los usuarios de Yelp que han interactuado con los restaurantes de la cadena y sus competidores. Incluye detalles como el número total de reseñas realizadas por cada usuario, su ubicación, el promedio de calificaciones otorgadas, y otros comportamientos del usuario en la plataforma. Este archivo es clave para identificar clientes leales, entender los perfiles demográficos y de comportamiento de los clientes, y determinar cómo interactúan diferentes grupos de consumidores con los restaurantes de interés.\n",
    "\n",
    "**Proceso de Preparación de los Dato**s\n",
    "Para realizar un análisis integral, se procederá con la limpieza y unificación de los datos de cada archivo:\n",
    "\n",
    "Integración de la información de negocios del archivo business.pkl con los datos de los archivos de reseñas, tips, check-ins y usuarios.\n",
    "Procesamiento de los archivos JSON para extraer insights relevantes sobre la actividad de los clientes, patrones de reserva, y calificaciones.\n",
    "Análisis combinado de los datos de Yelp para identificar oportunidades de mejora y estrategias de crecimiento para \"China Garden\" en la costa este de Estados Unidos.\n",
    "Esta estructura de datos permitirá llevar a cabo un análisis exhaustivo que considere no solo la competencia y el posicionamiento actual de \"China Garden\", sino también las expectativas y percepciones de los clientes en tiempo real."
   ]
  },
  {
   "cell_type": "markdown",
   "metadata": {},
   "source": [
    "### **01. Carga y exportacion a parquet del archivo Bussiness.pkl**"
   ]
  },
  {
   "cell_type": "code",
   "execution_count": null,
   "metadata": {},
   "outputs": [],
   "source": [
    "\n",
    "# Ruta al archivo .pkl\n",
    "ruta_archivo = '/Users/felipeamezquita/Library/Mobile Documents/com~apple~CloudDocs/Documents/HENRY/PROYECTO FINAL/DATA/YELP/business.pkl'\n",
    "\n",
    "# Cargar el archivo .pkl en un DataFrame\n",
    "df = pd.read_pickle(ruta_archivo)\n",
    "\n",
    "# Mostrar las primeras filas del DataFrame para verificar que se haya cargado correctamente\n",
    "print(df.head())"
   ]
  },
  {
   "cell_type": "code",
   "execution_count": null,
   "metadata": {},
   "outputs": [],
   "source": [
    "df"
   ]
  },
  {
   "cell_type": "code",
   "execution_count": null,
   "metadata": {},
   "outputs": [],
   "source": [
    "print(df.columns)"
   ]
  },
  {
   "cell_type": "code",
   "execution_count": null,
   "metadata": {},
   "outputs": [],
   "source": [
    "# Eliminar columnas duplicadas\n",
    "df = df.loc[:, ~df.columns.duplicated()]\n",
    "\n",
    "# Mostrar las columnas después de eliminar duplicados\n",
    "print(df.columns)\n"
   ]
  },
  {
   "cell_type": "code",
   "execution_count": null,
   "metadata": {},
   "outputs": [],
   "source": [
    "df"
   ]
  },
  {
   "cell_type": "code",
   "execution_count": null,
   "metadata": {},
   "outputs": [],
   "source": [
    "# Eliminar las columnas especificadas del DataFrame\n",
    "columnas_a_eliminar = ['address', 'is_open', 'attributes', 'hours']\n",
    "df = df.drop(columns=columnas_a_eliminar)\n",
    "\n",
    "df"
   ]
  },
  {
   "cell_type": "code",
   "execution_count": null,
   "metadata": {},
   "outputs": [],
   "source": [
    "# Lista de estados de la costa este que quieres mantener\n",
    "east_coast_states = ['ME', 'NH', 'MA', 'RI', 'CT', 'NY', 'NJ', 'DE', 'MD', 'VA', 'NC', 'SC', 'GA', 'FL']\n",
    "\n",
    "# Filtrar el DataFrame para eliminar los valores nulos en la columna 'state' \n",
    "# y mantener solo los estados de la costa este\n",
    "df_filtrado = df[df['state'].isin(east_coast_states) & df['state'].notna()]\n",
    "\n",
    "# Mostrar el DataFrame filtrado\n",
    "print(df_filtrado)\n"
   ]
  },
  {
   "cell_type": "code",
   "execution_count": null,
   "metadata": {},
   "outputs": [],
   "source": [
    "# Diccionario de códigos de estado a nombres completos\n",
    "state_names = {\n",
    "    'ME': 'Maine',\n",
    "    'NH': 'New Hampshire',\n",
    "    'MA': 'Massachusetts',\n",
    "    'RI': 'Rhode Island',\n",
    "    'CT': 'Connecticut',\n",
    "    'NY': 'New York',\n",
    "    'NJ': 'New Jersey',\n",
    "    'DE': 'Delaware',\n",
    "    'MD': 'Maryland',\n",
    "    'VA': 'Virginia',\n",
    "    'NC': 'North Carolina',\n",
    "    'SC': 'South Carolina',\n",
    "    'GA': 'Georgia',\n",
    "    'FL': 'Florida'\n",
    "}\n",
    "\n",
    "# Crear la nueva columna 'nombre_estado' utilizando el diccionario y el método .map()\n",
    "df_filtrado['nombre_estado'] = df_filtrado['state'].map(state_names)\n",
    "\n",
    "# Mostrar el DataFrame con la nueva columna\n",
    "df_filtrado\n"
   ]
  },
  {
   "cell_type": "code",
   "execution_count": null,
   "metadata": {},
   "outputs": [],
   "source": [
    "df_filtrado\n"
   ]
  },
  {
   "cell_type": "code",
   "execution_count": null,
   "metadata": {},
   "outputs": [],
   "source": [
    "# Guarda el DataFrame en un archivo Parquet\n",
    "df_filtrado.to_parquet('Business.parquet')"
   ]
  },
  {
   "cell_type": "markdown",
   "metadata": {},
   "source": [
    "### **02. Carga y exportacion a parquet del archivo Checkin.pkl**"
   ]
  },
  {
   "cell_type": "code",
   "execution_count": null,
   "metadata": {},
   "outputs": [],
   "source": [
    "\n",
    "#Ruta de tu archivo JSON 1\n",
    "ruta_archivo = '/Users/felipeamezquita/Library/Mobile Documents/com~apple~CloudDocs/Documents/HENRY/PROYECTO FINAL/DATA/YELP/checkin.json'\n",
    "\n",
    "# Carga el archivo JSON en un DataFrame de pandas usando lines=True\n",
    "df = pd.read_json(ruta_archivo, lines=True)\n",
    "\n",
    "# Muestra el DataFrame\n",
    "df"
   ]
  },
  {
   "cell_type": "code",
   "execution_count": null,
   "metadata": {},
   "outputs": [],
   "source": [
    "# Guarda el DataFrame en un archivo Parquet\n",
    "df.to_parquet('Checkin.parquet')"
   ]
  },
  {
   "cell_type": "markdown",
   "metadata": {},
   "source": [
    "### **03. Carga y exportacion a parquet del archivo review.jsno**"
   ]
  },
  {
   "cell_type": "code",
   "execution_count": null,
   "metadata": {},
   "outputs": [],
   "source": [
    "import pandas as pd\n",
    "import pyarrow as pa\n",
    "import pyarrow.parquet as pq\n",
    "\n",
    "# Especificar el archivo Parquet de salida\n",
    "# El siguiente código sirve para abrir review.json de Yelp, el cual como primer paso lo convierto en un parquet (output.parquet)\n",
    "\n",
    "output_parquet = 'output.parquet'\n",
    "\n",
    "# Leer el archivo JSON en chunks\n",
    "chunksize = 10000  # Tamaño del chunk (puedes ajustarlo según tu memoria disponible)\n",
    "first_chunk = True\n",
    "\n",
    "for chunk in pd.read_json('review.json', lines=True, chunksize=chunksize):\n",
    "    # Convertir el DataFrame en una tabla de Arrow\n",
    "    table = pa.Table.from_pandas(chunk)\n",
    "    \n",
    "    if first_chunk:\n",
    "        # Crear el archivo Parquet y escribir el primer chunk\n",
    "        parquet_writer = pq.ParquetWriter(output_parquet, table.schema)\n",
    "        parquet_writer.write_table(table)\n",
    "        first_chunk = False\n",
    "    else:\n",
    "        # Adjuntar los siguientes chunks al archivo Parquet\n",
    "        parquet_writer.write_table(table)\n",
    "\n",
    "# Cerrar el escritor de Parquet al finalizar\n",
    "parquet_writer.close()\n"
   ]
  },
  {
   "cell_type": "markdown",
   "metadata": {},
   "source": [
    "### Abrir nuevamente el archivo output.parquet como dataframe \"review\""
   ]
  },
  {
   "cell_type": "code",
   "execution_count": null,
   "metadata": {},
   "outputs": [],
   "source": [
    "review = pd.read_parquet(\"output.parquet\")"
   ]
  },
  {
   "cell_type": "code",
   "execution_count": null,
   "metadata": {},
   "outputs": [],
   "source": [
    "review.drop(['useful', 'funny', 'cool'], axis=1, inplace=True)"
   ]
  },
  {
   "cell_type": "code",
   "execution_count": null,
   "metadata": {},
   "outputs": [],
   "source": [
    "review.to_parquet('review-yelp.parquet', index=False)"
   ]
  },
  {
   "cell_type": "markdown",
   "metadata": {},
   "source": [
    "### Abrir nuevamente business.parquet para mergear los 14 estados en el dataframe review"
   ]
  },
  {
   "cell_type": "code",
   "execution_count": null,
   "metadata": {},
   "outputs": [],
   "source": [
    "business = pd.read_parquet(\"Business.parquet\")"
   ]
  },
  {
   "cell_type": "code",
   "execution_count": null,
   "metadata": {},
   "outputs": [],
   "source": [
    "merged_df = pd.merge(business, review, on='business_id', how='inner')"
   ]
  },
  {
   "cell_type": "markdown",
   "metadata": {},
   "source": [
    "### Exportar a parquet reviews-yelp"
   ]
  },
  {
   "cell_type": "code",
   "execution_count": null,
   "metadata": {},
   "outputs": [],
   "source": [
    "merged_df.to_parquet(\"reviews-yelp.parquet\")"
   ]
  },
  {
   "cell_type": "markdown",
   "metadata": {},
   "source": [
    "## Limpieza metadata_google"
   ]
  },
  {
   "cell_type": "code",
   "execution_count": 5,
   "metadata": {},
   "outputs": [
    {
     "data": {
      "text/html": [
       "<div>\n",
       "<style scoped>\n",
       "    .dataframe tbody tr th:only-of-type {\n",
       "        vertical-align: middle;\n",
       "    }\n",
       "\n",
       "    .dataframe tbody tr th {\n",
       "        vertical-align: top;\n",
       "    }\n",
       "\n",
       "    .dataframe thead th {\n",
       "        text-align: right;\n",
       "    }\n",
       "</style>\n",
       "<table border=\"1\" class=\"dataframe\">\n",
       "  <thead>\n",
       "    <tr style=\"text-align: right;\">\n",
       "      <th></th>\n",
       "      <th>name</th>\n",
       "      <th>address</th>\n",
       "      <th>gmap_id</th>\n",
       "      <th>latitude</th>\n",
       "      <th>longitude</th>\n",
       "      <th>category</th>\n",
       "      <th>avg_rating</th>\n",
       "      <th>num_of_reviews</th>\n",
       "      <th>price</th>\n",
       "      <th>hours</th>\n",
       "      <th>estado</th>\n",
       "      <th>nombre_estado</th>\n",
       "      <th>city</th>\n",
       "    </tr>\n",
       "  </thead>\n",
       "  <tbody>\n",
       "    <tr>\n",
       "      <th>0</th>\n",
       "      <td>Porter Pharmacy</td>\n",
       "      <td>Porter Pharmacy, 129 N Second St, Cochran, GA ...</td>\n",
       "      <td>0x88f16e41928ff687:0x883dad4fd048e8f8</td>\n",
       "      <td>32.388300</td>\n",
       "      <td>-83.357100</td>\n",
       "      <td>[Pharmacy]</td>\n",
       "      <td>4.9</td>\n",
       "      <td>16</td>\n",
       "      <td>None</td>\n",
       "      <td>[[Friday, 8AM–6PM], [Saturday, 8AM–12PM], [Sun...</td>\n",
       "      <td>GA</td>\n",
       "      <td>Georgia</td>\n",
       "      <td>Cochran</td>\n",
       "    </tr>\n",
       "    <tr>\n",
       "      <th>14</th>\n",
       "      <td>NTK OUTDOOR</td>\n",
       "      <td>NTK OUTDOOR, 2315 NW 107th Ave #1B18, Miami, F...</td>\n",
       "      <td>0x88d9beb4fe0532c1:0xef0555c169299d6</td>\n",
       "      <td>25.795204</td>\n",
       "      <td>-80.366038</td>\n",
       "      <td>[Corporate office]</td>\n",
       "      <td>5.0</td>\n",
       "      <td>35</td>\n",
       "      <td>None</td>\n",
       "      <td>[[Thursday, 9AM–6PM], [Friday, 9AM–6PM], [Satu...</td>\n",
       "      <td>FL</td>\n",
       "      <td>Florida</td>\n",
       "      <td>Miami</td>\n",
       "    </tr>\n",
       "    <tr>\n",
       "      <th>45</th>\n",
       "      <td>Cruises Inc. - Connie Stewart</td>\n",
       "      <td>Cruises Inc. - Connie Stewart, 6602 52nd Ln, P...</td>\n",
       "      <td>0x88c2e49b79f06c31:0x4ed8c8ce27e926e0</td>\n",
       "      <td>27.832187</td>\n",
       "      <td>-82.704805</td>\n",
       "      <td>[Cruise agency]</td>\n",
       "      <td>5.0</td>\n",
       "      <td>2</td>\n",
       "      <td>None</td>\n",
       "      <td>[[Thursday, 9AM–5PM], [Friday, 9AM–5PM], [Satu...</td>\n",
       "      <td>FL</td>\n",
       "      <td>Florida</td>\n",
       "      <td>Pinellas Park</td>\n",
       "    </tr>\n",
       "  </tbody>\n",
       "</table>\n",
       "</div>"
      ],
      "text/plain": [
       "                             name  \\\n",
       "0                 Porter Pharmacy   \n",
       "14                    NTK OUTDOOR   \n",
       "45  Cruises Inc. - Connie Stewart   \n",
       "\n",
       "                                              address  \\\n",
       "0   Porter Pharmacy, 129 N Second St, Cochran, GA ...   \n",
       "14  NTK OUTDOOR, 2315 NW 107th Ave #1B18, Miami, F...   \n",
       "45  Cruises Inc. - Connie Stewart, 6602 52nd Ln, P...   \n",
       "\n",
       "                                  gmap_id   latitude  longitude  \\\n",
       "0   0x88f16e41928ff687:0x883dad4fd048e8f8  32.388300 -83.357100   \n",
       "14   0x88d9beb4fe0532c1:0xef0555c169299d6  25.795204 -80.366038   \n",
       "45  0x88c2e49b79f06c31:0x4ed8c8ce27e926e0  27.832187 -82.704805   \n",
       "\n",
       "              category  avg_rating  num_of_reviews price  \\\n",
       "0           [Pharmacy]         4.9              16  None   \n",
       "14  [Corporate office]         5.0              35  None   \n",
       "45     [Cruise agency]         5.0               2  None   \n",
       "\n",
       "                                                hours estado nombre_estado  \\\n",
       "0   [[Friday, 8AM–6PM], [Saturday, 8AM–12PM], [Sun...     GA       Georgia   \n",
       "14  [[Thursday, 9AM–6PM], [Friday, 9AM–6PM], [Satu...     FL       Florida   \n",
       "45  [[Thursday, 9AM–5PM], [Friday, 9AM–5PM], [Satu...     FL       Florida   \n",
       "\n",
       "             city  \n",
       "0         Cochran  \n",
       "14          Miami  \n",
       "45  Pinellas Park  "
      ]
     },
     "execution_count": 5,
     "metadata": {},
     "output_type": "execute_result"
    }
   ],
   "source": [
    "df_metadata_google = pd.read_parquet('metadata-sitios-costaeste-estado-ciudad.parquet')\n",
    "df_metadata_google.head(3)"
   ]
  },
  {
   "cell_type": "code",
   "execution_count": 8,
   "metadata": {},
   "outputs": [
    {
     "data": {
      "text/plain": [
       "np.int64(8345)"
      ]
     },
     "execution_count": 8,
     "metadata": {},
     "output_type": "execute_result"
    }
   ],
   "source": [
    "# Chequeo de duplicados en gmap_id\n",
    "df_metadata_google.duplicated('gmap_id').sum()"
   ]
  },
  {
   "cell_type": "code",
   "execution_count": 9,
   "metadata": {},
   "outputs": [
    {
     "name": "stdout",
     "output_type": "stream",
     "text": [
      "gmap_id\n",
      "0x88f16e41928ff687:0x883dad4fd048e8f8    12\n",
      "0x884d0db9065bd815:0xae8443b860eebe8e     2\n",
      "0x89e841975461fb8f:0x16df15574a663326     2\n",
      "0x88f5993c9c7382fd:0xfd57cf3b5826d3b9     2\n",
      "0x88d9beb4fe0532c1:0xef0555c169299d6      2\n",
      "                                         ..\n",
      "0x88d9a4e66e40edf1:0xebbab577da8076fe     2\n",
      "0x88d9aa92d831c45b:0x9b14ae9ded185345     2\n",
      "0x88d9a67325994b17:0xdac6d8d4600fc268     2\n",
      "0x88d9b937c540e7d7:0xc36f9d9593ca9008     2\n",
      "0x4cb29c6a0460a84b:0x243771cbbefd58d9     2\n",
      "Name: count, Length: 8335, dtype: int64\n"
     ]
    }
   ],
   "source": [
    "duplicados = df_metadata_google[df_metadata_google.duplicated(subset='gmap_id', keep=False)]\n",
    "conteo = df_metadata_google['gmap_id'].value_counts()\n",
    "repetidos = conteo[conteo > 1]\n",
    "\n",
    "print(repetidos)\n"
   ]
  },
  {
   "cell_type": "code",
   "execution_count": 10,
   "metadata": {},
   "outputs": [],
   "source": [
    "df_metadata_google = df_metadata_google.drop_duplicates(subset=['gmap_id'])"
   ]
  },
  {
   "cell_type": "code",
   "execution_count": 11,
   "metadata": {},
   "outputs": [
    {
     "data": {
      "text/plain": [
       "np.int64(0)"
      ]
     },
     "execution_count": 11,
     "metadata": {},
     "output_type": "execute_result"
    }
   ],
   "source": [
    "# Chequeo de duplicados en gmap_id\n",
    "df_metadata_google.duplicated('gmap_id').sum()"
   ]
  },
  {
   "cell_type": "code",
   "execution_count": 18,
   "metadata": {},
   "outputs": [
    {
     "data": {
      "text/plain": [
       "name                0\n",
       "address             0\n",
       "gmap_id             0\n",
       "latitude            0\n",
       "longitude           0\n",
       "category            0\n",
       "avg_rating          0\n",
       "num_of_reviews      0\n",
       "estado              0\n",
       "nombre_estado       0\n",
       "city              667\n",
       "dtype: int64"
      ]
     },
     "execution_count": 18,
     "metadata": {},
     "output_type": "execute_result"
    }
   ],
   "source": [
    "df_metadata_google.isnull().sum()"
   ]
  },
  {
   "cell_type": "markdown",
   "metadata": {},
   "source": [
    "Borrar columna price y hours"
   ]
  },
  {
   "cell_type": "code",
   "execution_count": 14,
   "metadata": {},
   "outputs": [],
   "source": [
    "# Eliminar las columnas especificadas del DataFrame\n",
    "columnas_a_eliminar = ['price', 'hours']\n",
    "df_metadata_google = df_metadata_google.drop(columns=columnas_a_eliminar)"
   ]
  },
  {
   "cell_type": "markdown",
   "metadata": {},
   "source": [
    "Eliminar filas con categorias nulas"
   ]
  },
  {
   "cell_type": "code",
   "execution_count": 17,
   "metadata": {},
   "outputs": [],
   "source": [
    "df_metadata_google= df_metadata_google.dropna(subset=['category'])"
   ]
  },
  {
   "cell_type": "markdown",
   "metadata": {},
   "source": [
    "Columna city contiene 667 nulos... ubicar por latitud y longitud ???"
   ]
  },
  {
   "cell_type": "code",
   "execution_count": 19,
   "metadata": {},
   "outputs": [],
   "source": [
    "import pandas as pd\n",
    "import glob\n",
    "import os\n",
    "\n",
    "# Directorio donde se encuentran tus archivos .parquet\n",
    "directorio = \"reviews-estados\"\n",
    "\n",
    "# Lista todos los archivos .parquet en el directorio\n",
    "archivos_parquet = glob.glob(os.path.join(directorio, \"*.parquet\"))\n",
    "\n",
    "# Lee y concatena los archivos\n",
    "df_concatenado = pd.concat([pd.read_parquet(archivo) for archivo in archivos_parquet], ignore_index=True)"
   ]
  },
  {
   "cell_type": "code",
   "execution_count": 20,
   "metadata": {},
   "outputs": [
    {
     "data": {
      "text/html": [
       "<div>\n",
       "<style scoped>\n",
       "    .dataframe tbody tr th:only-of-type {\n",
       "        vertical-align: middle;\n",
       "    }\n",
       "\n",
       "    .dataframe tbody tr th {\n",
       "        vertical-align: top;\n",
       "    }\n",
       "\n",
       "    .dataframe thead th {\n",
       "        text-align: right;\n",
       "    }\n",
       "</style>\n",
       "<table border=\"1\" class=\"dataframe\">\n",
       "  <thead>\n",
       "    <tr style=\"text-align: right;\">\n",
       "      <th></th>\n",
       "      <th>user_id</th>\n",
       "      <th>name</th>\n",
       "      <th>time</th>\n",
       "      <th>rating</th>\n",
       "      <th>text</th>\n",
       "      <th>gmap_id</th>\n",
       "    </tr>\n",
       "  </thead>\n",
       "  <tbody>\n",
       "    <tr>\n",
       "      <th>0</th>\n",
       "      <td>1.140765e+20</td>\n",
       "      <td>Jeff Mccomish</td>\n",
       "      <td>1612059976820</td>\n",
       "      <td>5</td>\n",
       "      <td>Great friendly independent packie</td>\n",
       "      <td>0x89e64b04d274c9d9:0x84d833dcc10ae21d</td>\n",
       "    </tr>\n",
       "    <tr>\n",
       "      <th>1</th>\n",
       "      <td>1.015203e+20</td>\n",
       "      <td>Outlaw PiRu</td>\n",
       "      <td>1544752859553</td>\n",
       "      <td>5</td>\n",
       "      <td>Great Atmosphere and Great Service. Fantastic ...</td>\n",
       "      <td>0x89e64b04d274c9d9:0x84d833dcc10ae21d</td>\n",
       "    </tr>\n",
       "    <tr>\n",
       "      <th>2</th>\n",
       "      <td>1.118002e+20</td>\n",
       "      <td>Hector Acevedo</td>\n",
       "      <td>1564367962353</td>\n",
       "      <td>5</td>\n",
       "      <td>Nice neighborhood store with great sandwiches ...</td>\n",
       "      <td>0x89e64b04d274c9d9:0x84d833dcc10ae21d</td>\n",
       "    </tr>\n",
       "  </tbody>\n",
       "</table>\n",
       "</div>"
      ],
      "text/plain": [
       "        user_id            name           time  rating  \\\n",
       "0  1.140765e+20   Jeff Mccomish  1612059976820       5   \n",
       "1  1.015203e+20     Outlaw PiRu  1544752859553       5   \n",
       "2  1.118002e+20  Hector Acevedo  1564367962353       5   \n",
       "\n",
       "                                                text  \\\n",
       "0                  Great friendly independent packie   \n",
       "1  Great Atmosphere and Great Service. Fantastic ...   \n",
       "2  Nice neighborhood store with great sandwiches ...   \n",
       "\n",
       "                                 gmap_id  \n",
       "0  0x89e64b04d274c9d9:0x84d833dcc10ae21d  \n",
       "1  0x89e64b04d274c9d9:0x84d833dcc10ae21d  \n",
       "2  0x89e64b04d274c9d9:0x84d833dcc10ae21d  "
      ]
     },
     "execution_count": 20,
     "metadata": {},
     "output_type": "execute_result"
    }
   ],
   "source": [
    "df_concatenado.head(3)"
   ]
  },
  {
   "cell_type": "code",
   "execution_count": 21,
   "metadata": {},
   "outputs": [
    {
     "name": "stdout",
     "output_type": "stream",
     "text": [
      "<class 'pandas.core.frame.DataFrame'>\n",
      "RangeIndex: 24598199 entries, 0 to 24598198\n",
      "Data columns (total 6 columns):\n",
      " #   Column   Dtype  \n",
      "---  ------   -----  \n",
      " 0   user_id  float64\n",
      " 1   name     object \n",
      " 2   time     int64  \n",
      " 3   rating   int64  \n",
      " 4   text     object \n",
      " 5   gmap_id  object \n",
      "dtypes: float64(1), int64(2), object(3)\n",
      "memory usage: 1.1+ GB\n"
     ]
    }
   ],
   "source": [
    "df_concatenado.info()"
   ]
  },
  {
   "cell_type": "code",
   "execution_count": 24,
   "metadata": {},
   "outputs": [
    {
     "data": {
      "text/plain": [
       "np.int64(1318671)"
      ]
     },
     "execution_count": 24,
     "metadata": {},
     "output_type": "execute_result"
    }
   ],
   "source": [
    "df_concatenado.duplicated().sum()\n"
   ]
  },
  {
   "cell_type": "code",
   "execution_count": 26,
   "metadata": {},
   "outputs": [],
   "source": [
    "duplicados_concatenado = df_concatenado[df_concatenado.duplicated(keep=False)]"
   ]
  },
  {
   "cell_type": "code",
   "execution_count": 35,
   "metadata": {},
   "outputs": [],
   "source": [
    "df_concatenado.drop_duplicates(inplace=True)"
   ]
  },
  {
   "cell_type": "code",
   "execution_count": 36,
   "metadata": {},
   "outputs": [
    {
     "data": {
      "text/plain": [
       "np.int64(0)"
      ]
     },
     "execution_count": 36,
     "metadata": {},
     "output_type": "execute_result"
    }
   ],
   "source": [
    "df_concatenado.duplicated().sum()\n"
   ]
  },
  {
   "cell_type": "code",
   "execution_count": 37,
   "metadata": {},
   "outputs": [],
   "source": [
    "df_concatenado.to_parquet(\"reviews_googlemap.parquet\")"
   ]
  },
  {
   "cell_type": "code",
   "execution_count": 38,
   "metadata": {},
   "outputs": [],
   "source": [
    "df_metadata_google.to_parquet(\"metadata-2.parquet\")"
   ]
  }
 ],
 "metadata": {
  "kernelspec": {
   "display_name": "Python 3",
   "language": "python",
   "name": "python3"
  },
  "language_info": {
   "codemirror_mode": {
    "name": "ipython",
    "version": 3
   },
   "file_extension": ".py",
   "mimetype": "text/x-python",
   "name": "python",
   "nbconvert_exporter": "python",
   "pygments_lexer": "ipython3",
   "version": "3.11.7"
  }
 },
 "nbformat": 4,
 "nbformat_minor": 2
}
