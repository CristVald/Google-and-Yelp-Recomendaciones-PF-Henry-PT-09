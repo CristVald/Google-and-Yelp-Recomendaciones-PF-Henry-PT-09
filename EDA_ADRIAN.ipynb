{
 "cells": [
  {
   "cell_type": "markdown",
   "metadata": {},
   "source": [
    "# **Introducción al Análisis Exploratorio de Datos (EDA) del Proyecto \"China Garden\"**\n",
    "\n",
    "En un entorno competitivo y dinámico como el mercado de restaurantes en Estados Unidos, el análisis de datos se ha convertido en una herramienta esencial para entender la posición de una marca, anticipar tendencias y tomar decisiones estratégicas fundamentadas. En este proyecto, nuestro objetivo es realizar un análisis exploratorio de datos (EDA) para una reconocida cadena de restaurantes chinos, **China Garden**, con el fin de apoyar su estrategia de expansión en la costa este del país.\n",
    "\n",
    "El EDA proporcionará una base sólida para identificar oportunidades de crecimiento y optimización operativa, analizando tanto datos de desempeño actual como información sobre la competencia. Este análisis también permitirá evaluar factores clave como la satisfacción del cliente, la presencia de mercado, y las ubicaciones óptimas para nuevos restaurantes. \n",
    "\n",
    "#### **Objetivos del Análisis Exploratorio de Datos**\n",
    "\n",
    "Para lograr los objetivos generales del proyecto, nuestro EDA se centrará en los siguientes puntos:\n",
    "\n",
    "1. **Revisión de Tipos de Datos y Descripción de Datasets:**\n",
    "   - Examinar los tipos de datos por columna en cada dataset disponible para asegurar su adecuación al análisis posterior. Se incluirá una descripción detallada de cada dataset, abordando su propósito y relevancia en el contexto del proyecto.\n",
    "\n",
    "2. **Justificación de la Eliminación de Columnas:**\n",
    "   - Analizar y explicar la eliminación de columnas que no aportan valor al análisis o que presentan datos inconsistentes. Esta etapa es fundamental para mejorar la eficiencia del procesamiento de datos y mantener la integridad del análisis.\n",
    "\n",
    "3. **Identificación y Manejo de Valores Nulos:**\n",
    "   - Detectar los valores nulos en los datasets y proponer estrategias adecuadas de manejo, como la imputación de valores basados en la media, mediana o la eliminación de registros, dependiendo de la relevancia y el impacto de los datos faltantes.\n",
    "\n",
    "4. **Detección y Tratamiento de Registros Duplicados:**\n",
    "   - Identificar registros duplicados que puedan sesgar el análisis. Proponer métodos para su tratamiento, como la eliminación de duplicados exactos o el análisis de duplicados parciales para decidir la mejor acción.\n",
    "\n",
    "5. **Análisis Gráfico y Visualización de Datos:**\n",
    "   - Utilizar herramientas como **Matplotlib** y **Seaborn** para realizar análisis gráficos que permitan entender el comportamiento de los datos. Este enfoque incluirá, pero no se limitará a:\n",
    "     - Visualización de la distribución de restaurantes y hoteles en la costa este.\n",
    "     - Cálculo del porcentaje de mercado capturado por los restaurantes de comida china en comparación con otros tipos de restaurantes.\n",
    "     - Identificación de los 10 principales restaurantes de comida china en términos de cantidad, promedio de calificaciones y presencia de mercado.\n",
    "     - Análisis geográfico para entender la ubicación de los restaurantes de \"China Garden\" y su competencia directa.\n",
    "     - Análisis de las zonas con mayor concentración de hoteles para identificar las áreas de mayor interés turístico.\n",
    "     - Cualquier otro análisis pertinente que pueda ofrecer insights sobre el comportamiento del mercado y las oportunidades de expansión.\n",
    "\n",
    "6. **Exportacion a Parquet**\n",
    "\n",
    "Este EDA servirá como el cimiento sobre el cual se basarán todos los análisis futuros, ayudando a identificar patrones y tendencias que orientarán las decisiones estratégicas de \"China Garden\". A través de un enfoque minucioso y detallado, buscaremos proporcionar un conocimiento profundo y detallado del mercado, permitiendo a la marca mejorar su posicionamiento y maximizar su potencial de crecimiento en la costa este de Estados Unidos.\n",
    "\n",
    "### **Empezemos**"
   ]
  },
  {
   "cell_type": "markdown",
   "metadata": {},
   "source": [
    "## **1. Carga de datos Google maps**"
   ]
  },
  {
   "cell_type": "markdown",
   "metadata": {},
   "source": [
    "**Descripción de los Datos de Google Maps**\n",
    "\n",
    "Para este proyecto, se han recopilado datos provenientes de Google Maps, una de las plataformas más utilizadas por los consumidores para compartir opiniones sobre sus experiencias en restaurantes. Estos datos se encuentran organizados en dos carpetas principales, cada una con una estructura específica que facilita el análisis detallado de la información.\n",
    "\n",
    "**1. Carpeta: Metadata Sitios**\n",
    "\n",
    "La carpeta Metadata Sitios contiene información relevante sobre los establecimientos de interés, en este caso, los restaurantes de comida china en la costa este de Estados Unidos. Esta carpeta incluye un total de 11 archivos JSON que deberán ser unificados en un solo archivo consolidado para facilitar su análisis. Cada archivo JSON en esta carpeta proporciona datos específicos sobre las características de los restaurantes, como su nombre, ubicación geográfica, tipo de cocina, horarios de atención, y otros detalles relevantes que permiten identificar y comparar a cada establecimiento dentro del mercado.\n",
    "\n",
    "**2. Carpeta: Review-Estados**\n",
    "\n",
    "La carpeta Review-Estados contiene una colección organizada de reseñas de clientes, separadas por estado, en formato JSON. Dentro de esta carpeta, cada subcarpeta representa un estado de la costa este de Estados Unidos, y a su vez, cada subcarpeta contiene múltiples archivos JSON que recogen las opiniones y calificaciones de los usuarios sobre los restaurantes. Estos archivos de reseñas capturan datos cruciales como la fecha de la reseña, la calificación otorgada, los comentarios detallados de los clientes, y otros atributos relevantes como el número de \"me gusta\" que ha recibido cada reseña."
   ]
  },
  {
   "cell_type": "markdown",
   "metadata": {},
   "source": [
    "**BIBLIOTECAS UTILIZADAS**"
   ]
  },
  {
   "cell_type": "code",
   "execution_count": 3,
   "metadata": {},
   "outputs": [],
   "source": [
    "import pandas as pd\n",
    "import re\n",
    "import glob\n",
    "import os"
   ]
  },
  {
   "cell_type": "markdown",
   "metadata": {},
   "source": [
    "### **1.1 Metadata-Sitios**\n",
    "\n",
    "Carga de archivos .json y concatenados en un mismo Dataframe"
   ]
  },
  {
   "cell_type": "code",
   "execution_count": 4,
   "metadata": {},
   "outputs": [
    {
     "name": "stdout",
     "output_type": "stream",
     "text": [
      "Tamaño del DataFrame Metadata-Sitios combinado: (3025011, 15)\n"
     ]
    }
   ],
   "source": [
    "# Ruta del directorio que contiene los archivos JSON\n",
    "ruta_directorio = './Datasets/Google/metadata-sitios/'\n",
    "\n",
    "# Usa glob para encontrar todos los archivos .json en el directorio\n",
    "archivos_json = glob.glob(os.path.join(ruta_directorio, '*.json'))\n",
    "\n",
    "# Lista para almacenar los DataFrames de cada archivo\n",
    "dfs = []\n",
    "\n",
    "# Itera sobre cada archivo JSON encontrado\n",
    "for archivo in archivos_json:\n",
    "    # Carga el archivo JSON en un DataFrame\n",
    "    df_temp = pd.read_json(archivo, lines=True)\n",
    "    \n",
    "    # Agrega el DataFrame a la lista\n",
    "    dfs.append(df_temp)\n",
    "\n",
    "# Combina todos los DataFrames en uno solo\n",
    "df_final = pd.concat(dfs, ignore_index=True)\n",
    "\n",
    "# Muestra el tamaño del DataFrame combinado\n",
    "print(f\"Tamaño del DataFrame Metadata-Sitios combinado: {df_final.shape}\")"
   ]
  },
  {
   "cell_type": "markdown",
   "metadata": {},
   "source": [
    "### **Eliminar columnas**"
   ]
  },
  {
   "cell_type": "markdown",
   "metadata": {},
   "source": [
    " Se eliminaran las columnas por que sus tipos de datos no son necesarios en nuestri analisis de datos. 'description', 'MISC', 'state', 'relative_results', 'url'"
   ]
  },
  {
   "cell_type": "code",
   "execution_count": 5,
   "metadata": {},
   "outputs": [],
   "source": [
    "# Eliminar las columnas especificadas del DataFrame\n",
    "columnas_a_eliminar = ['description', 'MISC', 'state', 'relative_results', 'url']\n",
    "df_final = df_final.drop(columns=columnas_a_eliminar)"
   ]
  },
  {
   "cell_type": "code",
   "execution_count": 6,
   "metadata": {},
   "outputs": [
    {
     "data": {
      "text/html": [
       "<div>\n",
       "<style scoped>\n",
       "    .dataframe tbody tr th:only-of-type {\n",
       "        vertical-align: middle;\n",
       "    }\n",
       "\n",
       "    .dataframe tbody tr th {\n",
       "        vertical-align: top;\n",
       "    }\n",
       "\n",
       "    .dataframe thead th {\n",
       "        text-align: right;\n",
       "    }\n",
       "</style>\n",
       "<table border=\"1\" class=\"dataframe\">\n",
       "  <thead>\n",
       "    <tr style=\"text-align: right;\">\n",
       "      <th></th>\n",
       "      <th>name</th>\n",
       "      <th>address</th>\n",
       "      <th>gmap_id</th>\n",
       "      <th>latitude</th>\n",
       "      <th>longitude</th>\n",
       "      <th>category</th>\n",
       "      <th>avg_rating</th>\n",
       "      <th>num_of_reviews</th>\n",
       "      <th>price</th>\n",
       "      <th>hours</th>\n",
       "    </tr>\n",
       "  </thead>\n",
       "  <tbody>\n",
       "    <tr>\n",
       "      <th>0</th>\n",
       "      <td>Porter Pharmacy</td>\n",
       "      <td>Porter Pharmacy, 129 N Second St, Cochran, GA ...</td>\n",
       "      <td>0x88f16e41928ff687:0x883dad4fd048e8f8</td>\n",
       "      <td>32.388300</td>\n",
       "      <td>-83.35710</td>\n",
       "      <td>[Pharmacy]</td>\n",
       "      <td>4.9</td>\n",
       "      <td>16</td>\n",
       "      <td>None</td>\n",
       "      <td>[[Friday, 8AM–6PM], [Saturday, 8AM–12PM], [Sun...</td>\n",
       "    </tr>\n",
       "    <tr>\n",
       "      <th>1</th>\n",
       "      <td>City Textile</td>\n",
       "      <td>City Textile, 3001 E Pico Blvd, Los Angeles, C...</td>\n",
       "      <td>0x80c2c98c0e3c16fd:0x29ec8a728764fdf9</td>\n",
       "      <td>34.018891</td>\n",
       "      <td>-118.21529</td>\n",
       "      <td>[Textile exporter]</td>\n",
       "      <td>4.5</td>\n",
       "      <td>6</td>\n",
       "      <td>None</td>\n",
       "      <td>None</td>\n",
       "    </tr>\n",
       "    <tr>\n",
       "      <th>2</th>\n",
       "      <td>San Soo Dang</td>\n",
       "      <td>San Soo Dang, 761 S Vermont Ave, Los Angeles, ...</td>\n",
       "      <td>0x80c2c778e3b73d33:0xbdc58662a4a97d49</td>\n",
       "      <td>34.058092</td>\n",
       "      <td>-118.29213</td>\n",
       "      <td>[Korean restaurant]</td>\n",
       "      <td>4.4</td>\n",
       "      <td>18</td>\n",
       "      <td>None</td>\n",
       "      <td>[[Thursday, 6:30AM–6PM], [Friday, 6:30AM–6PM],...</td>\n",
       "    </tr>\n",
       "  </tbody>\n",
       "</table>\n",
       "</div>"
      ],
      "text/plain": [
       "              name                                            address  \\\n",
       "0  Porter Pharmacy  Porter Pharmacy, 129 N Second St, Cochran, GA ...   \n",
       "1     City Textile  City Textile, 3001 E Pico Blvd, Los Angeles, C...   \n",
       "2     San Soo Dang  San Soo Dang, 761 S Vermont Ave, Los Angeles, ...   \n",
       "\n",
       "                                 gmap_id   latitude  longitude  \\\n",
       "0  0x88f16e41928ff687:0x883dad4fd048e8f8  32.388300  -83.35710   \n",
       "1  0x80c2c98c0e3c16fd:0x29ec8a728764fdf9  34.018891 -118.21529   \n",
       "2  0x80c2c778e3b73d33:0xbdc58662a4a97d49  34.058092 -118.29213   \n",
       "\n",
       "              category  avg_rating  num_of_reviews price  \\\n",
       "0           [Pharmacy]         4.9              16  None   \n",
       "1   [Textile exporter]         4.5               6  None   \n",
       "2  [Korean restaurant]         4.4              18  None   \n",
       "\n",
       "                                               hours  \n",
       "0  [[Friday, 8AM–6PM], [Saturday, 8AM–12PM], [Sun...  \n",
       "1                                               None  \n",
       "2  [[Thursday, 6:30AM–6PM], [Friday, 6:30AM–6PM],...  "
      ]
     },
     "execution_count": 6,
     "metadata": {},
     "output_type": "execute_result"
    }
   ],
   "source": [
    "# Verifica el resultado mostrando las primeras filas\n",
    "df_final.head(3)"
   ]
  },
  {
   "cell_type": "markdown",
   "metadata": {},
   "source": [
    "De acuerdo a la direccion en la columna Address se crea la Columna estado, que nos da el estado del local comercial, se hace por que nuestro dataset contiene todos los comercios del pais, y el analisis sera solo sobre la costa Este del pais. "
   ]
  },
  {
   "cell_type": "code",
   "execution_count": 7,
   "metadata": {},
   "outputs": [
    {
     "data": {
      "text/html": [
       "<div>\n",
       "<style scoped>\n",
       "    .dataframe tbody tr th:only-of-type {\n",
       "        vertical-align: middle;\n",
       "    }\n",
       "\n",
       "    .dataframe tbody tr th {\n",
       "        vertical-align: top;\n",
       "    }\n",
       "\n",
       "    .dataframe thead th {\n",
       "        text-align: right;\n",
       "    }\n",
       "</style>\n",
       "<table border=\"1\" class=\"dataframe\">\n",
       "  <thead>\n",
       "    <tr style=\"text-align: right;\">\n",
       "      <th></th>\n",
       "      <th>address</th>\n",
       "      <th>estado</th>\n",
       "    </tr>\n",
       "  </thead>\n",
       "  <tbody>\n",
       "    <tr>\n",
       "      <th>0</th>\n",
       "      <td>Porter Pharmacy, 129 N Second St, Cochran, GA ...</td>\n",
       "      <td>GA</td>\n",
       "    </tr>\n",
       "    <tr>\n",
       "      <th>1</th>\n",
       "      <td>City Textile, 3001 E Pico Blvd, Los Angeles, C...</td>\n",
       "      <td>CA</td>\n",
       "    </tr>\n",
       "    <tr>\n",
       "      <th>2</th>\n",
       "      <td>San Soo Dang, 761 S Vermont Ave, Los Angeles, ...</td>\n",
       "      <td>CA</td>\n",
       "    </tr>\n",
       "    <tr>\n",
       "      <th>3</th>\n",
       "      <td>Nova Fabrics, 2200 E 11th St, Los Angeles, CA ...</td>\n",
       "      <td>CA</td>\n",
       "    </tr>\n",
       "    <tr>\n",
       "      <th>4</th>\n",
       "      <td>Nobel Textile Co, 719 E 9th St, Los Angeles, C...</td>\n",
       "      <td>CA</td>\n",
       "    </tr>\n",
       "  </tbody>\n",
       "</table>\n",
       "</div>"
      ],
      "text/plain": [
       "                                             address estado\n",
       "0  Porter Pharmacy, 129 N Second St, Cochran, GA ...     GA\n",
       "1  City Textile, 3001 E Pico Blvd, Los Angeles, C...     CA\n",
       "2  San Soo Dang, 761 S Vermont Ave, Los Angeles, ...     CA\n",
       "3  Nova Fabrics, 2200 E 11th St, Los Angeles, CA ...     CA\n",
       "4  Nobel Textile Co, 719 E 9th St, Los Angeles, C...     CA"
      ]
     },
     "execution_count": 7,
     "metadata": {},
     "output_type": "execute_result"
    }
   ],
   "source": [
    "\n",
    "# Usamos una expresión regular para extraer el estado (dos letras antes del código postal)\n",
    "df_final['estado'] = df_final['address'].str.extract(r',\\s*([A-Z]{2})\\s*\\d{5}')\n",
    "\n",
    "# Verifica que la nueva columna 'estado' se ha creado correctamente\n",
    "df_final[['address', 'estado']].head()"
   ]
  },
  {
   "cell_type": "markdown",
   "metadata": {},
   "source": [
    "Se eliminan las filas de los comercios que no estan en la costa este del pais."
   ]
  },
  {
   "cell_type": "code",
   "execution_count": 8,
   "metadata": {},
   "outputs": [],
   "source": [
    "# Lista de los estados que quieres conservar de la costa este\n",
    "estados_deseados = [\n",
    "    'ME',  # Maine\n",
    "    'NH',  # New Hampshire\n",
    "    'MA',  # Massachusetts\n",
    "    'RI',  # Rhode Island\n",
    "    'CT',  # Connecticut\n",
    "    'NY',  # New York\n",
    "    'NJ',  # New Jersey\n",
    "    'DE',  # Delaware\n",
    "    'MD',  # Maryland\n",
    "    'VA',  # Virginia\n",
    "    'NC',  # North Carolina\n",
    "    'SC',  # South Carolina\n",
    "    'GA',  # Georgia\n",
    "    'FL'   # Florida\n",
    "]"
   ]
  },
  {
   "cell_type": "code",
   "execution_count": 9,
   "metadata": {},
   "outputs": [
    {
     "name": "stdout",
     "output_type": "stream",
     "text": [
      "                                              address estado\n",
      "0   Porter Pharmacy, 129 N Second St, Cochran, GA ...     GA\n",
      "14  NTK OUTDOOR, 2315 NW 107th Ave #1B18, Miami, F...     FL\n",
      "45  Cruises Inc. - Connie Stewart, 6602 52nd Ln, P...     FL\n",
      "56  Seminole Family Restaurant, 6864 Seminole Blvd...     FL\n",
      "58  A-Top Insurance, 1009 Brighton Beach Ave, Broo...     NY\n",
      "Tamaño del DataFrame después del filtrado: (946582, 11)\n"
     ]
    }
   ],
   "source": [
    "\n",
    "# Filtrar el DataFrame para que solo queden las filas con los estados deseados\n",
    "df_metadata_ce = df_final[df_final['estado'].isin(estados_deseados)]\n",
    "\n",
    "# Verifica que el filtrado se haya realizado correctamente\n",
    "print(df_metadata_ce[['address', 'estado']].head())\n",
    "print(f\"Tamaño del DataFrame después del filtrado: {df_metadata_ce.shape}\")"
   ]
  },
  {
   "cell_type": "code",
   "execution_count": 10,
   "metadata": {},
   "outputs": [
    {
     "data": {
      "text/html": [
       "<div>\n",
       "<style scoped>\n",
       "    .dataframe tbody tr th:only-of-type {\n",
       "        vertical-align: middle;\n",
       "    }\n",
       "\n",
       "    .dataframe tbody tr th {\n",
       "        vertical-align: top;\n",
       "    }\n",
       "\n",
       "    .dataframe thead th {\n",
       "        text-align: right;\n",
       "    }\n",
       "</style>\n",
       "<table border=\"1\" class=\"dataframe\">\n",
       "  <thead>\n",
       "    <tr style=\"text-align: right;\">\n",
       "      <th></th>\n",
       "      <th>name</th>\n",
       "      <th>address</th>\n",
       "      <th>gmap_id</th>\n",
       "      <th>latitude</th>\n",
       "      <th>longitude</th>\n",
       "      <th>category</th>\n",
       "      <th>avg_rating</th>\n",
       "      <th>num_of_reviews</th>\n",
       "      <th>price</th>\n",
       "      <th>hours</th>\n",
       "      <th>estado</th>\n",
       "    </tr>\n",
       "  </thead>\n",
       "  <tbody>\n",
       "    <tr>\n",
       "      <th>0</th>\n",
       "      <td>Porter Pharmacy</td>\n",
       "      <td>Porter Pharmacy, 129 N Second St, Cochran, GA ...</td>\n",
       "      <td>0x88f16e41928ff687:0x883dad4fd048e8f8</td>\n",
       "      <td>32.388300</td>\n",
       "      <td>-83.357100</td>\n",
       "      <td>[Pharmacy]</td>\n",
       "      <td>4.9</td>\n",
       "      <td>16</td>\n",
       "      <td>None</td>\n",
       "      <td>[[Friday, 8AM–6PM], [Saturday, 8AM–12PM], [Sun...</td>\n",
       "      <td>GA</td>\n",
       "    </tr>\n",
       "    <tr>\n",
       "      <th>14</th>\n",
       "      <td>NTK OUTDOOR</td>\n",
       "      <td>NTK OUTDOOR, 2315 NW 107th Ave #1B18, Miami, F...</td>\n",
       "      <td>0x88d9beb4fe0532c1:0xef0555c169299d6</td>\n",
       "      <td>25.795204</td>\n",
       "      <td>-80.366038</td>\n",
       "      <td>[Corporate office]</td>\n",
       "      <td>5.0</td>\n",
       "      <td>35</td>\n",
       "      <td>None</td>\n",
       "      <td>[[Thursday, 9AM–6PM], [Friday, 9AM–6PM], [Satu...</td>\n",
       "      <td>FL</td>\n",
       "    </tr>\n",
       "    <tr>\n",
       "      <th>45</th>\n",
       "      <td>Cruises Inc. - Connie Stewart</td>\n",
       "      <td>Cruises Inc. - Connie Stewart, 6602 52nd Ln, P...</td>\n",
       "      <td>0x88c2e49b79f06c31:0x4ed8c8ce27e926e0</td>\n",
       "      <td>27.832187</td>\n",
       "      <td>-82.704805</td>\n",
       "      <td>[Cruise agency]</td>\n",
       "      <td>5.0</td>\n",
       "      <td>2</td>\n",
       "      <td>None</td>\n",
       "      <td>[[Thursday, 9AM–5PM], [Friday, 9AM–5PM], [Satu...</td>\n",
       "      <td>FL</td>\n",
       "    </tr>\n",
       "  </tbody>\n",
       "</table>\n",
       "</div>"
      ],
      "text/plain": [
       "                             name  \\\n",
       "0                 Porter Pharmacy   \n",
       "14                    NTK OUTDOOR   \n",
       "45  Cruises Inc. - Connie Stewart   \n",
       "\n",
       "                                              address  \\\n",
       "0   Porter Pharmacy, 129 N Second St, Cochran, GA ...   \n",
       "14  NTK OUTDOOR, 2315 NW 107th Ave #1B18, Miami, F...   \n",
       "45  Cruises Inc. - Connie Stewart, 6602 52nd Ln, P...   \n",
       "\n",
       "                                  gmap_id   latitude  longitude  \\\n",
       "0   0x88f16e41928ff687:0x883dad4fd048e8f8  32.388300 -83.357100   \n",
       "14   0x88d9beb4fe0532c1:0xef0555c169299d6  25.795204 -80.366038   \n",
       "45  0x88c2e49b79f06c31:0x4ed8c8ce27e926e0  27.832187 -82.704805   \n",
       "\n",
       "              category  avg_rating  num_of_reviews price  \\\n",
       "0           [Pharmacy]         4.9              16  None   \n",
       "14  [Corporate office]         5.0              35  None   \n",
       "45     [Cruise agency]         5.0               2  None   \n",
       "\n",
       "                                                hours estado  \n",
       "0   [[Friday, 8AM–6PM], [Saturday, 8AM–12PM], [Sun...     GA  \n",
       "14  [[Thursday, 9AM–6PM], [Friday, 9AM–6PM], [Satu...     FL  \n",
       "45  [[Thursday, 9AM–5PM], [Friday, 9AM–5PM], [Satu...     FL  "
      ]
     },
     "execution_count": 10,
     "metadata": {},
     "output_type": "execute_result"
    }
   ],
   "source": [
    "df_metadata_ce.head(3)"
   ]
  },
  {
   "cell_type": "markdown",
   "metadata": {},
   "source": [
    "Se agraga una nueva columna con el nombre completo del estado"
   ]
  },
  {
   "cell_type": "code",
   "execution_count": 11,
   "metadata": {},
   "outputs": [
    {
     "name": "stdout",
     "output_type": "stream",
     "text": [
      "   estado nombre_estado\n",
      "0      GA       Georgia\n",
      "14     FL       Florida\n",
      "45     FL       Florida\n",
      "56     FL       Florida\n",
      "58     NY      New York\n"
     ]
    },
    {
     "name": "stderr",
     "output_type": "stream",
     "text": [
      "C:\\Users\\54370\\AppData\\Local\\Temp\\ipykernel_12196\\2111716646.py:20: SettingWithCopyWarning: \n",
      "A value is trying to be set on a copy of a slice from a DataFrame.\n",
      "Try using .loc[row_indexer,col_indexer] = value instead\n",
      "\n",
      "See the caveats in the documentation: https://pandas.pydata.org/pandas-docs/stable/user_guide/indexing.html#returning-a-view-versus-a-copy\n",
      "  df_metadata_ce['nombre_estado'] = df_metadata_ce['estado'].map(mapa_estados)\n"
     ]
    }
   ],
   "source": [
    "# Diccionario de mapeo de abreviaturas a nombres completos de estados\n",
    "mapa_estados = {\n",
    "    'ME': 'Maine',\n",
    "    'NH': 'New Hampshire',\n",
    "    'MA': 'Massachusetts',\n",
    "    'RI': 'Rhode Island',\n",
    "    'CT': 'Connecticut',\n",
    "    'NY': 'New York',\n",
    "    'NJ': 'New Jersey',\n",
    "    'DE': 'Delaware',\n",
    "    'MD': 'Maryland',\n",
    "    'VA': 'Virginia',\n",
    "    'NC': 'North Carolina',\n",
    "    'SC': 'South Carolina',\n",
    "    'GA': 'Georgia',\n",
    "    'FL': 'Florida'\n",
    "}\n",
    "\n",
    "# Crear la nueva columna 'nombre_estado' usando el mapeo\n",
    "df_metadata_ce['nombre_estado'] = df_metadata_ce['estado'].map(mapa_estados)\n",
    "\n",
    "# Verifica que la nueva columna se haya creado correctamente\n",
    "print(df_metadata_ce[['estado', 'nombre_estado']].head())\n"
   ]
  },
  {
   "cell_type": "code",
   "execution_count": 12,
   "metadata": {},
   "outputs": [
    {
     "name": "stdout",
     "output_type": "stream",
     "text": [
      "Tamaño del DataFrame combinado: (946582, 12)\n"
     ]
    }
   ],
   "source": [
    "# Muestra el tamaño del DataFrame combinado\n",
    "print(f\"Tamaño del DataFrame combinado: {df_metadata_ce.shape}\")"
   ]
  },
  {
   "cell_type": "markdown",
   "metadata": {},
   "source": [
    "Se exporta el dataframe a parquet para que su tamaño sea menor y su  velocidad de procesamiento sea mayor. "
   ]
  },
  {
   "cell_type": "code",
   "execution_count": 13,
   "metadata": {},
   "outputs": [],
   "source": [
    "# Guarda el DataFrame con la nueva columna en un archivo Parquet\n",
    "df_metadata_ce.to_parquet('Datasets/Google/metadata-sitios/metadata-sitios-costaeste.parquet')\n"
   ]
  },
  {
   "cell_type": "code",
   "execution_count": 14,
   "metadata": {},
   "outputs": [
    {
     "data": {
      "text/html": [
       "<div>\n",
       "<style scoped>\n",
       "    .dataframe tbody tr th:only-of-type {\n",
       "        vertical-align: middle;\n",
       "    }\n",
       "\n",
       "    .dataframe tbody tr th {\n",
       "        vertical-align: top;\n",
       "    }\n",
       "\n",
       "    .dataframe thead th {\n",
       "        text-align: right;\n",
       "    }\n",
       "</style>\n",
       "<table border=\"1\" class=\"dataframe\">\n",
       "  <thead>\n",
       "    <tr style=\"text-align: right;\">\n",
       "      <th></th>\n",
       "      <th>name</th>\n",
       "      <th>address</th>\n",
       "      <th>gmap_id</th>\n",
       "      <th>latitude</th>\n",
       "      <th>longitude</th>\n",
       "      <th>category</th>\n",
       "      <th>avg_rating</th>\n",
       "      <th>num_of_reviews</th>\n",
       "      <th>price</th>\n",
       "      <th>hours</th>\n",
       "      <th>estado</th>\n",
       "      <th>nombre_estado</th>\n",
       "    </tr>\n",
       "  </thead>\n",
       "  <tbody>\n",
       "    <tr>\n",
       "      <th>0</th>\n",
       "      <td>Porter Pharmacy</td>\n",
       "      <td>Porter Pharmacy, 129 N Second St, Cochran, GA ...</td>\n",
       "      <td>0x88f16e41928ff687:0x883dad4fd048e8f8</td>\n",
       "      <td>32.388300</td>\n",
       "      <td>-83.357100</td>\n",
       "      <td>[Pharmacy]</td>\n",
       "      <td>4.9</td>\n",
       "      <td>16</td>\n",
       "      <td>None</td>\n",
       "      <td>[[Friday, 8AM–6PM], [Saturday, 8AM–12PM], [Sun...</td>\n",
       "      <td>GA</td>\n",
       "      <td>Georgia</td>\n",
       "    </tr>\n",
       "    <tr>\n",
       "      <th>14</th>\n",
       "      <td>NTK OUTDOOR</td>\n",
       "      <td>NTK OUTDOOR, 2315 NW 107th Ave #1B18, Miami, F...</td>\n",
       "      <td>0x88d9beb4fe0532c1:0xef0555c169299d6</td>\n",
       "      <td>25.795204</td>\n",
       "      <td>-80.366038</td>\n",
       "      <td>[Corporate office]</td>\n",
       "      <td>5.0</td>\n",
       "      <td>35</td>\n",
       "      <td>None</td>\n",
       "      <td>[[Thursday, 9AM–6PM], [Friday, 9AM–6PM], [Satu...</td>\n",
       "      <td>FL</td>\n",
       "      <td>Florida</td>\n",
       "    </tr>\n",
       "    <tr>\n",
       "      <th>45</th>\n",
       "      <td>Cruises Inc. - Connie Stewart</td>\n",
       "      <td>Cruises Inc. - Connie Stewart, 6602 52nd Ln, P...</td>\n",
       "      <td>0x88c2e49b79f06c31:0x4ed8c8ce27e926e0</td>\n",
       "      <td>27.832187</td>\n",
       "      <td>-82.704805</td>\n",
       "      <td>[Cruise agency]</td>\n",
       "      <td>5.0</td>\n",
       "      <td>2</td>\n",
       "      <td>None</td>\n",
       "      <td>[[Thursday, 9AM–5PM], [Friday, 9AM–5PM], [Satu...</td>\n",
       "      <td>FL</td>\n",
       "      <td>Florida</td>\n",
       "    </tr>\n",
       "  </tbody>\n",
       "</table>\n",
       "</div>"
      ],
      "text/plain": [
       "                             name  \\\n",
       "0                 Porter Pharmacy   \n",
       "14                    NTK OUTDOOR   \n",
       "45  Cruises Inc. - Connie Stewart   \n",
       "\n",
       "                                              address  \\\n",
       "0   Porter Pharmacy, 129 N Second St, Cochran, GA ...   \n",
       "14  NTK OUTDOOR, 2315 NW 107th Ave #1B18, Miami, F...   \n",
       "45  Cruises Inc. - Connie Stewart, 6602 52nd Ln, P...   \n",
       "\n",
       "                                  gmap_id   latitude  longitude  \\\n",
       "0   0x88f16e41928ff687:0x883dad4fd048e8f8  32.388300 -83.357100   \n",
       "14   0x88d9beb4fe0532c1:0xef0555c169299d6  25.795204 -80.366038   \n",
       "45  0x88c2e49b79f06c31:0x4ed8c8ce27e926e0  27.832187 -82.704805   \n",
       "\n",
       "              category  avg_rating  num_of_reviews price  \\\n",
       "0           [Pharmacy]         4.9              16  None   \n",
       "14  [Corporate office]         5.0              35  None   \n",
       "45     [Cruise agency]         5.0               2  None   \n",
       "\n",
       "                                                hours estado nombre_estado  \n",
       "0   [[Friday, 8AM–6PM], [Saturday, 8AM–12PM], [Sun...     GA       Georgia  \n",
       "14  [[Thursday, 9AM–6PM], [Friday, 9AM–6PM], [Satu...     FL       Florida  \n",
       "45  [[Thursday, 9AM–5PM], [Friday, 9AM–5PM], [Satu...     FL       Florida  "
      ]
     },
     "execution_count": 14,
     "metadata": {},
     "output_type": "execute_result"
    }
   ],
   "source": [
    "df_metadata_ce.head(3)"
   ]
  },
  {
   "cell_type": "markdown",
   "metadata": {},
   "source": [
    "Cargo el parquet por que la velocidad de procesamiento aumentara de manera significativa y hacer asi la limpieza de datos que seran utlizados"
   ]
  },
  {
   "cell_type": "code",
   "execution_count": 15,
   "metadata": {},
   "outputs": [
    {
     "data": {
      "text/html": [
       "<div>\n",
       "<style scoped>\n",
       "    .dataframe tbody tr th:only-of-type {\n",
       "        vertical-align: middle;\n",
       "    }\n",
       "\n",
       "    .dataframe tbody tr th {\n",
       "        vertical-align: top;\n",
       "    }\n",
       "\n",
       "    .dataframe thead th {\n",
       "        text-align: right;\n",
       "    }\n",
       "</style>\n",
       "<table border=\"1\" class=\"dataframe\">\n",
       "  <thead>\n",
       "    <tr style=\"text-align: right;\">\n",
       "      <th></th>\n",
       "      <th>name</th>\n",
       "      <th>address</th>\n",
       "      <th>gmap_id</th>\n",
       "      <th>latitude</th>\n",
       "      <th>longitude</th>\n",
       "      <th>category</th>\n",
       "      <th>avg_rating</th>\n",
       "      <th>num_of_reviews</th>\n",
       "      <th>price</th>\n",
       "      <th>hours</th>\n",
       "      <th>estado</th>\n",
       "      <th>nombre_estado</th>\n",
       "    </tr>\n",
       "  </thead>\n",
       "  <tbody>\n",
       "    <tr>\n",
       "      <th>0</th>\n",
       "      <td>Porter Pharmacy</td>\n",
       "      <td>Porter Pharmacy, 129 N Second St, Cochran, GA ...</td>\n",
       "      <td>0x88f16e41928ff687:0x883dad4fd048e8f8</td>\n",
       "      <td>32.388300</td>\n",
       "      <td>-83.357100</td>\n",
       "      <td>[Pharmacy]</td>\n",
       "      <td>4.9</td>\n",
       "      <td>16</td>\n",
       "      <td>None</td>\n",
       "      <td>[[Friday, 8AM–6PM], [Saturday, 8AM–12PM], [Sun...</td>\n",
       "      <td>GA</td>\n",
       "      <td>Georgia</td>\n",
       "    </tr>\n",
       "    <tr>\n",
       "      <th>14</th>\n",
       "      <td>NTK OUTDOOR</td>\n",
       "      <td>NTK OUTDOOR, 2315 NW 107th Ave #1B18, Miami, F...</td>\n",
       "      <td>0x88d9beb4fe0532c1:0xef0555c169299d6</td>\n",
       "      <td>25.795204</td>\n",
       "      <td>-80.366038</td>\n",
       "      <td>[Corporate office]</td>\n",
       "      <td>5.0</td>\n",
       "      <td>35</td>\n",
       "      <td>None</td>\n",
       "      <td>[[Thursday, 9AM–6PM], [Friday, 9AM–6PM], [Satu...</td>\n",
       "      <td>FL</td>\n",
       "      <td>Florida</td>\n",
       "    </tr>\n",
       "    <tr>\n",
       "      <th>45</th>\n",
       "      <td>Cruises Inc. - Connie Stewart</td>\n",
       "      <td>Cruises Inc. - Connie Stewart, 6602 52nd Ln, P...</td>\n",
       "      <td>0x88c2e49b79f06c31:0x4ed8c8ce27e926e0</td>\n",
       "      <td>27.832187</td>\n",
       "      <td>-82.704805</td>\n",
       "      <td>[Cruise agency]</td>\n",
       "      <td>5.0</td>\n",
       "      <td>2</td>\n",
       "      <td>None</td>\n",
       "      <td>[[Thursday, 9AM–5PM], [Friday, 9AM–5PM], [Satu...</td>\n",
       "      <td>FL</td>\n",
       "      <td>Florida</td>\n",
       "    </tr>\n",
       "  </tbody>\n",
       "</table>\n",
       "</div>"
      ],
      "text/plain": [
       "                             name  \\\n",
       "0                 Porter Pharmacy   \n",
       "14                    NTK OUTDOOR   \n",
       "45  Cruises Inc. - Connie Stewart   \n",
       "\n",
       "                                              address  \\\n",
       "0   Porter Pharmacy, 129 N Second St, Cochran, GA ...   \n",
       "14  NTK OUTDOOR, 2315 NW 107th Ave #1B18, Miami, F...   \n",
       "45  Cruises Inc. - Connie Stewart, 6602 52nd Ln, P...   \n",
       "\n",
       "                                  gmap_id   latitude  longitude  \\\n",
       "0   0x88f16e41928ff687:0x883dad4fd048e8f8  32.388300 -83.357100   \n",
       "14   0x88d9beb4fe0532c1:0xef0555c169299d6  25.795204 -80.366038   \n",
       "45  0x88c2e49b79f06c31:0x4ed8c8ce27e926e0  27.832187 -82.704805   \n",
       "\n",
       "              category  avg_rating  num_of_reviews price  \\\n",
       "0           [Pharmacy]         4.9              16  None   \n",
       "14  [Corporate office]         5.0              35  None   \n",
       "45     [Cruise agency]         5.0               2  None   \n",
       "\n",
       "                                                hours estado nombre_estado  \n",
       "0   [[Friday, 8AM–6PM], [Saturday, 8AM–12PM], [Sun...     GA       Georgia  \n",
       "14  [[Thursday, 9AM–6PM], [Friday, 9AM–6PM], [Satu...     FL       Florida  \n",
       "45  [[Thursday, 9AM–5PM], [Friday, 9AM–5PM], [Satu...     FL       Florida  "
      ]
     },
     "execution_count": 15,
     "metadata": {},
     "output_type": "execute_result"
    }
   ],
   "source": [
    "# Especifica la ruta de tu archivo Parquet\n",
    "ruta_archivo = 'Datasets/Google/metadata-sitios/metadata-sitios-costaeste.parquet'\n",
    "\n",
    "# Cargar el archivo Parquet en un DataFrame\n",
    "df = pd.read_parquet(ruta_archivo)\n",
    "\n",
    "# Mostrar las primeras filas del DataFrame\n",
    "df.head(3)\n"
   ]
  },
  {
   "cell_type": "code",
   "execution_count": null,
   "metadata": {},
   "outputs": [],
   "source": [
    "df"
   ]
  },
  {
   "cell_type": "markdown",
   "metadata": {},
   "source": [
    "Se crea la columna ciudad de acuerdo a la columna addres para ser utlizada posteriormente en el analisis de datos"
   ]
  },
  {
   "cell_type": "code",
   "execution_count": 16,
   "metadata": {},
   "outputs": [
    {
     "data": {
      "text/html": [
       "<div>\n",
       "<style scoped>\n",
       "    .dataframe tbody tr th:only-of-type {\n",
       "        vertical-align: middle;\n",
       "    }\n",
       "\n",
       "    .dataframe tbody tr th {\n",
       "        vertical-align: top;\n",
       "    }\n",
       "\n",
       "    .dataframe thead th {\n",
       "        text-align: right;\n",
       "    }\n",
       "</style>\n",
       "<table border=\"1\" class=\"dataframe\">\n",
       "  <thead>\n",
       "    <tr style=\"text-align: right;\">\n",
       "      <th></th>\n",
       "      <th>address</th>\n",
       "      <th>city</th>\n",
       "    </tr>\n",
       "  </thead>\n",
       "  <tbody>\n",
       "    <tr>\n",
       "      <th>0</th>\n",
       "      <td>Porter Pharmacy, 129 N Second St, Cochran, GA ...</td>\n",
       "      <td>Cochran</td>\n",
       "    </tr>\n",
       "    <tr>\n",
       "      <th>14</th>\n",
       "      <td>NTK OUTDOOR, 2315 NW 107th Ave #1B18, Miami, F...</td>\n",
       "      <td>Miami</td>\n",
       "    </tr>\n",
       "    <tr>\n",
       "      <th>45</th>\n",
       "      <td>Cruises Inc. - Connie Stewart, 6602 52nd Ln, P...</td>\n",
       "      <td>Pinellas Park</td>\n",
       "    </tr>\n",
       "    <tr>\n",
       "      <th>56</th>\n",
       "      <td>Seminole Family Restaurant, 6864 Seminole Blvd...</td>\n",
       "      <td>Seminole</td>\n",
       "    </tr>\n",
       "    <tr>\n",
       "      <th>58</th>\n",
       "      <td>A-Top Insurance, 1009 Brighton Beach Ave, Broo...</td>\n",
       "      <td>Brooklyn</td>\n",
       "    </tr>\n",
       "  </tbody>\n",
       "</table>\n",
       "</div>"
      ],
      "text/plain": [
       "                                              address           city\n",
       "0   Porter Pharmacy, 129 N Second St, Cochran, GA ...        Cochran\n",
       "14  NTK OUTDOOR, 2315 NW 107th Ave #1B18, Miami, F...          Miami\n",
       "45  Cruises Inc. - Connie Stewart, 6602 52nd Ln, P...  Pinellas Park\n",
       "56  Seminole Family Restaurant, 6864 Seminole Blvd...       Seminole\n",
       "58  A-Top Insurance, 1009 Brighton Beach Ave, Broo...       Brooklyn"
      ]
     },
     "execution_count": 16,
     "metadata": {},
     "output_type": "execute_result"
    }
   ],
   "source": [
    "\n",
    "# Utilizamos una expresión regular para extraer la ciudad, que se encuentra entre la dirección y el estado\n",
    "df['city'] = df['address'].str.extract(r',\\s*([^,]+),\\s*[A-Z]{2}\\s*\\d{5}')\n",
    "\n",
    "# Mostrar las primeras filas para verificar\n",
    "df[['address', 'city']].head()"
   ]
  },
  {
   "cell_type": "code",
   "execution_count": null,
   "metadata": {},
   "outputs": [],
   "source": [
    "df"
   ]
  },
  {
   "cell_type": "code",
   "execution_count": 17,
   "metadata": {},
   "outputs": [],
   "source": [
    "# Guarda el DataFrame con la nueva columna en un archivo Parquet\n",
    "df.to_parquet('Datasets/Google/metadata-sitios/metadata-sitios-costaeste-estado-ciudad.parquet')"
   ]
  },
  {
   "cell_type": "markdown",
   "metadata": {},
   "source": [
    "# **Creacion de los archivos parquet de Reviews-Estados de Google maps**"
   ]
  },
  {
   "cell_type": "code",
   "execution_count": 24,
   "metadata": {},
   "outputs": [],
   "source": [
    "# Función para procesar la carga de datos\n",
    "def procesar_archivos_json(ruta_directorio, nombre_estado, columnas_a_eliminar=['pics', 'resp']):\n",
    "    # Usa glob para encontrar todos los archivos .json en el directorio\n",
    "    archivos_json = glob.glob(os.path.join(ruta_directorio, '*.json'))\n",
    "    \n",
    "    # Lista para almacenar los DataFrames de cada archivo\n",
    "    dfs = []\n",
    "\n",
    "    # Itera sobre cada archivo JSON encontrado\n",
    "    for archivo in archivos_json:\n",
    "        # Carga el archivo JSON en un DataFrame\n",
    "        df_temp = pd.read_json(archivo, lines=True)\n",
    "        \n",
    "        # Agrega el DataFrame a la lista\n",
    "        dfs.append(df_temp)\n",
    "\n",
    "    # Combina todos los DataFrames en uno solo\n",
    "    df_combinado = pd.concat(dfs, ignore_index=True)\n",
    "\n",
    "    # Muestra el tamaño del DataFrame combinado\n",
    "    print(f\"Tamaño del DataFrame combinado para {nombre_estado}: {df_combinado.shape}\")\n",
    "\n",
    "    # Eliminar las columnas especificadas del DataFrame\n",
    "    df_combinado = df_combinado.drop(columns=columnas_a_eliminar)\n",
    "\n",
    "    # Guarda el DataFrame en un archivo Parquet\n",
    "    ruta_salida = f'Datasets/Google/review-estados/review-estados-parquet/review-{nombre_estado.lower()}.parquet'\n",
    "    df_combinado.to_parquet(ruta_salida)\n",
    "    \n",
    "    print(f\"Archivo Parquet guardado en: {ruta_salida}\")\n",
    "    \n",
    "    return df_combinado"
   ]
  },
  {
   "cell_type": "markdown",
   "metadata": {},
   "source": [
    "### **01. Estado de la Florida**"
   ]
  },
  {
   "cell_type": "code",
   "execution_count": 25,
   "metadata": {},
   "outputs": [
    {
     "name": "stdout",
     "output_type": "stream",
     "text": [
      "Tamaño del DataFrame combinado para Florida: (2850000, 8)\n",
      "Archivo Parquet guardado en: Datasets/Google/review-estados/review-estados-parquet/review-florida.parquet\n"
     ]
    }
   ],
   "source": [
    "df_florida = procesar_archivos_json('./Datasets/Google/review-estados/review-Florida', 'Florida')\n"
   ]
  },
  {
   "cell_type": "markdown",
   "metadata": {},
   "source": [
    "### **02. Estado de Georgia**"
   ]
  },
  {
   "cell_type": "code",
   "execution_count": 26,
   "metadata": {},
   "outputs": [
    {
     "name": "stdout",
     "output_type": "stream",
     "text": [
      "Tamaño del DataFrame combinado para Georgia: (1950000, 8)\n",
      "Archivo Parquet guardado en: Datasets/Google/review-estados/review-estados-parquet/review-georgia.parquet\n"
     ]
    }
   ],
   "source": [
    "df_georgia = procesar_archivos_json('./Datasets/Google/review-estados/review-Georgia', 'Georgia')"
   ]
  },
  {
   "cell_type": "markdown",
   "metadata": {},
   "source": [
    "### **03. Estado de North Carolina**"
   ]
  },
  {
   "cell_type": "code",
   "execution_count": 27,
   "metadata": {},
   "outputs": [
    {
     "name": "stdout",
     "output_type": "stream",
     "text": [
      "Tamaño del DataFrame combinado para North_Carolina: (2250000, 8)\n",
      "Archivo Parquet guardado en: Datasets/Google/review-estados/review-estados-parquet/review-north_carolina.parquet\n"
     ]
    }
   ],
   "source": [
    "df_north_carolina = procesar_archivos_json('./Datasets/Google/review-estados/review-North_Carolina', 'North_Carolina')"
   ]
  },
  {
   "cell_type": "markdown",
   "metadata": {},
   "source": [
    "### **04. Estado de South Carolina**"
   ]
  },
  {
   "cell_type": "code",
   "execution_count": 28,
   "metadata": {},
   "outputs": [
    {
     "name": "stdout",
     "output_type": "stream",
     "text": [
      "Tamaño del DataFrame combinado para South_Carolina: (2100000, 8)\n",
      "Archivo Parquet guardado en: Datasets/Google/review-estados/review-estados-parquet/review-south_carolina.parquet\n"
     ]
    }
   ],
   "source": [
    "df_south_carolina = procesar_archivos_json('./Datasets/Google/review-estados/review-South_Carolina', 'South_Carolina')"
   ]
  },
  {
   "cell_type": "markdown",
   "metadata": {},
   "source": [
    "### **05. Estado de Maine**"
   ]
  },
  {
   "cell_type": "code",
   "execution_count": 29,
   "metadata": {},
   "outputs": [
    {
     "name": "stdout",
     "output_type": "stream",
     "text": [
      "Tamaño del DataFrame combinado para Maine: (1123881, 8)\n",
      "Archivo Parquet guardado en: Datasets/Google/review-estados/review-estados-parquet/review-maine.parquet\n"
     ]
    }
   ],
   "source": [
    "df_maine = procesar_archivos_json('./Datasets/Google/review-estados/review-Maine', 'Maine')"
   ]
  },
  {
   "cell_type": "markdown",
   "metadata": {},
   "source": [
    "### **06. Estado de Massachusetts**"
   ]
  },
  {
   "cell_type": "code",
   "execution_count": 30,
   "metadata": {},
   "outputs": [
    {
     "name": "stdout",
     "output_type": "stream",
     "text": [
      "Tamaño del DataFrame combinado para Massachusetts: (2400000, 8)\n",
      "Archivo Parquet guardado en: Datasets/Google/review-estados/review-estados-parquet/review-massachusetts.parquet\n"
     ]
    }
   ],
   "source": [
    "df_maine = procesar_archivos_json('./Datasets/Google/review-estados/review-Massachusetts', 'Massachusetts')"
   ]
  },
  {
   "cell_type": "markdown",
   "metadata": {},
   "source": [
    "### **07. Estado de New Hampshire**"
   ]
  },
  {
   "cell_type": "code",
   "execution_count": 31,
   "metadata": {},
   "outputs": [
    {
     "name": "stdout",
     "output_type": "stream",
     "text": [
      "Tamaño del DataFrame combinado para New_Hampshire: (1296603, 8)\n",
      "Archivo Parquet guardado en: Datasets/Google/review-estados/review-estados-parquet/review-new_hampshire.parquet\n"
     ]
    }
   ],
   "source": [
    "df_new_hampshire = procesar_archivos_json('./Datasets/Google/review-estados/review-New_Hampshire', 'New_Hampshire')"
   ]
  },
  {
   "cell_type": "markdown",
   "metadata": {},
   "source": [
    "### **08.Estado de Rhode Island**"
   ]
  },
  {
   "cell_type": "code",
   "execution_count": 32,
   "metadata": {},
   "outputs": [
    {
     "name": "stdout",
     "output_type": "stream",
     "text": [
      "Tamaño del DataFrame combinado para Rhode_Island: (890006, 8)\n",
      "Archivo Parquet guardado en: Datasets/Google/review-estados/review-estados-parquet/review-rhode_island.parquet\n"
     ]
    }
   ],
   "source": [
    "df_rhode_island = procesar_archivos_json('./Datasets/Google/review-estados/review-Rhode_Island', 'Rhode_Island')"
   ]
  },
  {
   "cell_type": "markdown",
   "metadata": {},
   "source": [
    "### **09. Estado de New York**"
   ]
  },
  {
   "cell_type": "code",
   "execution_count": 40,
   "metadata": {},
   "outputs": [
    {
     "name": "stdout",
     "output_type": "stream",
     "text": [
      "Tamaño del DataFrame combinado para New_York: (2700000, 8)\n",
      "Archivo Parquet guardado en: Datasets/Google/review-estados/review-estados-parquet/review-new_york.parquet\n"
     ]
    }
   ],
   "source": [
    "df_new_york = procesar_archivos_json('./Datasets/Google/review-estados/review-New_York', 'New_York')"
   ]
  },
  {
   "cell_type": "markdown",
   "metadata": {},
   "source": [
    "### **10. Estado de Connecticut**"
   ]
  },
  {
   "cell_type": "code",
   "execution_count": 34,
   "metadata": {},
   "outputs": [
    {
     "name": "stdout",
     "output_type": "stream",
     "text": [
      "Tamaño del DataFrame combinado para Connecticut: (2680107, 8)\n",
      "Archivo Parquet guardado en: Datasets/Google/review-estados/review-estados-parquet/review-connecticut.parquet\n"
     ]
    }
   ],
   "source": [
    "df_connecticut = procesar_archivos_json('./Datasets/Google/review-estados/review-Connecticut', 'Connecticut')"
   ]
  },
  {
   "cell_type": "markdown",
   "metadata": {},
   "source": [
    "### **11. Estado de Delaware**\n"
   ]
  },
  {
   "cell_type": "code",
   "execution_count": 35,
   "metadata": {},
   "outputs": [
    {
     "name": "stdout",
     "output_type": "stream",
     "text": [
      "Tamaño del DataFrame combinado para Delaware: (905537, 8)\n",
      "Archivo Parquet guardado en: Datasets/Google/review-estados/review-estados-parquet/review-delaware.parquet\n"
     ]
    }
   ],
   "source": [
    "df_delaware = procesar_archivos_json('./Datasets/Google/review-estados/review-Delaware', 'Delaware')"
   ]
  },
  {
   "cell_type": "markdown",
   "metadata": {},
   "source": [
    "### **12. Estado de New Jersey**"
   ]
  },
  {
   "cell_type": "code",
   "execution_count": 36,
   "metadata": {},
   "outputs": [
    {
     "name": "stdout",
     "output_type": "stream",
     "text": [
      "Tamaño del DataFrame combinado para New_Jersey: (1950000, 8)\n",
      "Archivo Parquet guardado en: Datasets/Google/review-estados/review-estados-parquet/review-new_jersey.parquet\n"
     ]
    }
   ],
   "source": [
    "df_new_jersey = procesar_archivos_json('./Datasets/Google/review-estados/review-New_Jersey', 'New_Jersey')"
   ]
  },
  {
   "cell_type": "markdown",
   "metadata": {},
   "source": [
    "### **13. Estado de Maryland**"
   ]
  },
  {
   "cell_type": "code",
   "execution_count": 37,
   "metadata": {},
   "outputs": [
    {
     "name": "stdout",
     "output_type": "stream",
     "text": [
      "Tamaño del DataFrame combinado para Maryland: (2400000, 8)\n",
      "Archivo Parquet guardado en: Datasets/Google/review-estados/review-estados-parquet/review-maryland.parquet\n"
     ]
    }
   ],
   "source": [
    "df_maryland = procesar_archivos_json('./Datasets/Google/review-estados/review-Maryland', 'Maryland')"
   ]
  },
  {
   "cell_type": "markdown",
   "metadata": {},
   "source": [
    "### **14. Estado de Virginia**"
   ]
  },
  {
   "cell_type": "code",
   "execution_count": 38,
   "metadata": {},
   "outputs": [
    {
     "name": "stdout",
     "output_type": "stream",
     "text": [
      "Tamaño del DataFrame combinado para Virginia: (1662059, 8)\n",
      "Archivo Parquet guardado en: Datasets/Google/review-estados/review-estados-parquet/review-virginia.parquet\n"
     ]
    }
   ],
   "source": [
    "df_virginia = procesar_archivos_json('./Datasets/Google/review-estados/review-Virginia', 'Virginia')"
   ]
  },
  {
   "cell_type": "markdown",
   "metadata": {},
   "source": [
    "## **2. Carga de datos Yelp**\n",
    "\n",
    "**Descripción de los Datos de Yelp**\n",
    "Para el análisis de la cadena de restaurantes China Garden en la costa este de Estados Unidos, se han recopilado datos detallados de Yelp, una de las plataformas de reseñas de restaurantes más importantes. Estos datos se encuentran distribuidos en cinco archivos distintos, cada uno de los cuales proporciona información relevante para entender el comportamiento del mercado y la percepción de los consumidores.\n",
    "\n",
    "**1. Archivo: business.pkl**\n",
    "\n",
    "El archivo business.pkl contiene información esencial sobre los negocios listados en Yelp, específicamente sobre los restaurantes de interés. Este archivo proporciona datos detallados de cada establecimiento, incluyendo su nombre, dirección, categoría, atributos adicionales (como si ofrece opciones vegetarianas o si tiene estacionamiento), y su ubicación geográfica exacta. Estos datos son fundamentales para realizar un análisis geoespacial, identificar patrones en las ubicaciones de los restaurantes, y comparar características de los competidores dentro del mismo mercado.\n",
    "\n",
    "**2. Archivo: Checkin.json**\n",
    "\n",
    "El archivo Checkin.json proporciona los datos de horarios de reservas y registros de visitas de los usuarios a los restaurantes. Este archivo permite analizar las horas pico de actividad, la popularidad de los restaurantes en diferentes días de la semana, y la frecuencia de visitas de los clientes. Este análisis es crucial para entender los patrones de tráfico y comportamiento de los consumidores, lo que puede ayudar a optimizar los horarios de operación y estrategias de marketing.\n",
    "\n",
    "**3. Archivo: Review.json**\n",
    "\n",
    "El archivo Review.json contiene las reseñas de los clientes que han visitado los restaurantes de interés. Cada reseña incluye información valiosa como la calificación otorgada (de 1 a 5 estrellas), el texto de la reseña, la fecha en que se escribió, y otros atributos que reflejan la experiencia del cliente. Este archivo es fundamental para realizar un análisis de sentimientos y evaluar las opiniones de los consumidores sobre China Garden y sus competidores. Además, permite identificar temas recurrentes en los comentarios de los clientes, puntos fuertes, áreas de mejora, y tendencias emergentes en la percepción del mercado.\n",
    "\n",
    "**4. Archivo: Tip**\n",
    "\n",
    "El archivo Tip contiene una recopilación de recomendaciones o consejos breves que los usuarios han dejado sobre los restaurantes en Yelp. Aunque estos \"tips\" son más cortos que las reseñas tradicionales, a menudo proporcionan insights rápidos y directos sobre lo que los clientes consideran relevante o digno de destacar. Este archivo permite complementar el análisis de reseñas con datos adicionales que pueden ayudar a identificar las expectativas y preferencias de los clientes.\n",
    "\n",
    "**5. Archivo: User**\n",
    "\n",
    "El archivo User proporciona información sobre los usuarios de Yelp que han interactuado con los restaurantes de la cadena y sus competidores. Incluye detalles como el número total de reseñas realizadas por cada usuario, su ubicación, el promedio de calificaciones otorgadas, y otros comportamientos del usuario en la plataforma. Este archivo es clave para identificar clientes leales, entender los perfiles demográficos y de comportamiento de los clientes, y determinar cómo interactúan diferentes grupos de consumidores con los restaurantes de interés.\n",
    "\n",
    "**Proceso de Preparación de los Dato**s\n",
    "Para realizar un análisis integral, se procederá con la limpieza y unificación de los datos de cada archivo:\n",
    "\n",
    "Integración de la información de negocios del archivo business.pkl con los datos de los archivos de reseñas, tips, check-ins y usuarios.\n",
    "Procesamiento de los archivos JSON para extraer insights relevantes sobre la actividad de los clientes, patrones de reserva, y calificaciones.\n",
    "Análisis combinado de los datos de Yelp para identificar oportunidades de mejora y estrategias de crecimiento para \"China Garden\" en la costa este de Estados Unidos.\n",
    "Esta estructura de datos permitirá llevar a cabo un análisis exhaustivo que considere no solo la competencia y el posicionamiento actual de \"China Garden\", sino también las expectativas y percepciones de los clientes en tiempo real."
   ]
  },
  {
   "cell_type": "markdown",
   "metadata": {},
   "source": [
    "### **01. Carga y exportacion a parquet del archivo Bussiness.pkl**"
   ]
  },
  {
   "cell_type": "code",
   "execution_count": null,
   "metadata": {},
   "outputs": [],
   "source": [
    "\n",
    "# Ruta al archivo .pkl\n",
    "ruta_archivo = '/Users/felipeamezquita/Library/Mobile Documents/com~apple~CloudDocs/Documents/HENRY/PROYECTO FINAL/DATA/YELP/business.pkl'\n",
    "\n",
    "# Cargar el archivo .pkl en un DataFrame\n",
    "df = pd.read_pickle(ruta_archivo)\n",
    "\n",
    "# Mostrar las primeras filas del DataFrame para verificar que se haya cargado correctamente\n",
    "print(df.head())"
   ]
  },
  {
   "cell_type": "code",
   "execution_count": null,
   "metadata": {},
   "outputs": [],
   "source": [
    "df"
   ]
  },
  {
   "cell_type": "code",
   "execution_count": null,
   "metadata": {},
   "outputs": [],
   "source": [
    "print(df.columns)"
   ]
  },
  {
   "cell_type": "code",
   "execution_count": null,
   "metadata": {},
   "outputs": [],
   "source": [
    "# Eliminar columnas duplicadas\n",
    "df = df.loc[:, ~df.columns.duplicated()]\n",
    "\n",
    "# Mostrar las columnas después de eliminar duplicados\n",
    "print(df.columns)\n"
   ]
  },
  {
   "cell_type": "code",
   "execution_count": null,
   "metadata": {},
   "outputs": [],
   "source": [
    "df"
   ]
  },
  {
   "cell_type": "code",
   "execution_count": null,
   "metadata": {},
   "outputs": [],
   "source": [
    "# Eliminar las columnas especificadas del DataFrame\n",
    "columnas_a_eliminar = ['address', 'is_open', 'attributes', 'hours']\n",
    "df = df.drop(columns=columnas_a_eliminar)\n",
    "\n",
    "df"
   ]
  },
  {
   "cell_type": "code",
   "execution_count": null,
   "metadata": {},
   "outputs": [],
   "source": [
    "# Lista de estados de la costa este que quieres mantener\n",
    "east_coast_states = ['ME', 'NH', 'MA', 'RI', 'CT', 'NY', 'NJ', 'DE', 'MD', 'VA', 'NC', 'SC', 'GA', 'FL']\n",
    "\n",
    "# Filtrar el DataFrame para eliminar los valores nulos en la columna 'state' \n",
    "# y mantener solo los estados de la costa este\n",
    "df_filtrado = df[df['state'].isin(east_coast_states) & df['state'].notna()]\n",
    "\n",
    "# Mostrar el DataFrame filtrado\n",
    "print(df_filtrado)\n"
   ]
  },
  {
   "cell_type": "code",
   "execution_count": null,
   "metadata": {},
   "outputs": [],
   "source": [
    "# Diccionario de códigos de estado a nombres completos\n",
    "state_names = {\n",
    "    'ME': 'Maine',\n",
    "    'NH': 'New Hampshire',\n",
    "    'MA': 'Massachusetts',\n",
    "    'RI': 'Rhode Island',\n",
    "    'CT': 'Connecticut',\n",
    "    'NY': 'New York',\n",
    "    'NJ': 'New Jersey',\n",
    "    'DE': 'Delaware',\n",
    "    'MD': 'Maryland',\n",
    "    'VA': 'Virginia',\n",
    "    'NC': 'North Carolina',\n",
    "    'SC': 'South Carolina',\n",
    "    'GA': 'Georgia',\n",
    "    'FL': 'Florida'\n",
    "}\n",
    "\n",
    "# Crear la nueva columna 'nombre_estado' utilizando el diccionario y el método .map()\n",
    "df_filtrado['nombre_estado'] = df_filtrado['state'].map(state_names)\n",
    "\n",
    "# Mostrar el DataFrame con la nueva columna\n",
    "df_filtrado\n"
   ]
  },
  {
   "cell_type": "code",
   "execution_count": null,
   "metadata": {},
   "outputs": [],
   "source": [
    "df_filtrado\n"
   ]
  },
  {
   "cell_type": "code",
   "execution_count": null,
   "metadata": {},
   "outputs": [],
   "source": [
    "# Guarda el DataFrame en un archivo Parquet\n",
    "df_filtrado.to_parquet('Business.parquet')"
   ]
  },
  {
   "cell_type": "markdown",
   "metadata": {},
   "source": [
    "### **02. Carga y exportacion a parquet del archivo Checkin.pkl**"
   ]
  },
  {
   "cell_type": "code",
   "execution_count": null,
   "metadata": {},
   "outputs": [],
   "source": [
    "\n",
    "#Ruta de tu archivo JSON 1\n",
    "ruta_archivo = '/Users/felipeamezquita/Library/Mobile Documents/com~apple~CloudDocs/Documents/HENRY/PROYECTO FINAL/DATA/YELP/checkin.json'\n",
    "\n",
    "# Carga el archivo JSON en un DataFrame de pandas usando lines=True\n",
    "df = pd.read_json(ruta_archivo, lines=True)\n",
    "\n",
    "# Muestra el DataFrame\n",
    "df"
   ]
  },
  {
   "cell_type": "code",
   "execution_count": null,
   "metadata": {},
   "outputs": [],
   "source": [
    "# Guarda el DataFrame en un archivo Parquet\n",
    "df.to_parquet('Checkin.parquet')"
   ]
  },
  {
   "cell_type": "markdown",
   "metadata": {},
   "source": [
    "### **03. Carga y exportacion a parquet del archivo review.jsno**"
   ]
  },
  {
   "cell_type": "code",
   "execution_count": null,
   "metadata": {},
   "outputs": [],
   "source": [
    "import pandas as pd\n",
    "import pyarrow as pa\n",
    "import pyarrow.parquet as pq\n",
    "\n",
    "# Especificar el archivo Parquet de salida\n",
    "# El siguiente código sirve para abrir review.json de Yelp, el cual como primer paso lo convierto en un parquet (output.parquet)\n",
    "\n",
    "output_parquet = 'output.parquet'\n",
    "\n",
    "# Leer el archivo JSON en chunks\n",
    "chunksize = 10000  # Tamaño del chunk (puedes ajustarlo según tu memoria disponible)\n",
    "first_chunk = True\n",
    "\n",
    "for chunk in pd.read_json('review.json', lines=True, chunksize=chunksize):\n",
    "    # Convertir el DataFrame en una tabla de Arrow\n",
    "    table = pa.Table.from_pandas(chunk)\n",
    "    \n",
    "    if first_chunk:\n",
    "        # Crear el archivo Parquet y escribir el primer chunk\n",
    "        parquet_writer = pq.ParquetWriter(output_parquet, table.schema)\n",
    "        parquet_writer.write_table(table)\n",
    "        first_chunk = False\n",
    "    else:\n",
    "        # Adjuntar los siguientes chunks al archivo Parquet\n",
    "        parquet_writer.write_table(table)\n",
    "\n",
    "# Cerrar el escritor de Parquet al finalizar\n",
    "parquet_writer.close()\n"
   ]
  },
  {
   "cell_type": "markdown",
   "metadata": {},
   "source": [
    "### Abrir nuevamente el archivo output.parquet como dataframe \"review\""
   ]
  },
  {
   "cell_type": "code",
   "execution_count": null,
   "metadata": {},
   "outputs": [],
   "source": [
    "review = pd.read_parquet(\"output.parquet\")"
   ]
  },
  {
   "cell_type": "code",
   "execution_count": null,
   "metadata": {},
   "outputs": [],
   "source": [
    "review.drop(['useful', 'funny', 'cool'], axis=1, inplace=True)"
   ]
  },
  {
   "cell_type": "code",
   "execution_count": null,
   "metadata": {},
   "outputs": [],
   "source": [
    "review.to_parquet('review-yelp.parquet', index=False)"
   ]
  },
  {
   "cell_type": "markdown",
   "metadata": {},
   "source": [
    "### Abrir nuevamente business.parquet para mergear los 14 estados en el dataframe review"
   ]
  },
  {
   "cell_type": "code",
   "execution_count": null,
   "metadata": {},
   "outputs": [],
   "source": [
    "business = pd.read_parquet(\"Business.parquet\")"
   ]
  },
  {
   "cell_type": "code",
   "execution_count": null,
   "metadata": {},
   "outputs": [],
   "source": [
    "merged_df = pd.merge(business, review, on='business_id', how='inner')"
   ]
  },
  {
   "cell_type": "markdown",
   "metadata": {},
   "source": [
    "### Exportar a parquet reviews-yelp"
   ]
  },
  {
   "cell_type": "code",
   "execution_count": null,
   "metadata": {},
   "outputs": [],
   "source": [
    "merged_df.to_parquet(\"reviews-yelp.parquet\")"
   ]
  },
  {
   "cell_type": "markdown",
   "metadata": {},
   "source": [
    "## Limpieza metadata_google"
   ]
  },
  {
   "cell_type": "code",
   "execution_count": 41,
   "metadata": {},
   "outputs": [
    {
     "data": {
      "text/html": [
       "<div>\n",
       "<style scoped>\n",
       "    .dataframe tbody tr th:only-of-type {\n",
       "        vertical-align: middle;\n",
       "    }\n",
       "\n",
       "    .dataframe tbody tr th {\n",
       "        vertical-align: top;\n",
       "    }\n",
       "\n",
       "    .dataframe thead th {\n",
       "        text-align: right;\n",
       "    }\n",
       "</style>\n",
       "<table border=\"1\" class=\"dataframe\">\n",
       "  <thead>\n",
       "    <tr style=\"text-align: right;\">\n",
       "      <th></th>\n",
       "      <th>name</th>\n",
       "      <th>address</th>\n",
       "      <th>gmap_id</th>\n",
       "      <th>latitude</th>\n",
       "      <th>longitude</th>\n",
       "      <th>category</th>\n",
       "      <th>avg_rating</th>\n",
       "      <th>num_of_reviews</th>\n",
       "      <th>price</th>\n",
       "      <th>hours</th>\n",
       "      <th>estado</th>\n",
       "      <th>nombre_estado</th>\n",
       "      <th>city</th>\n",
       "    </tr>\n",
       "  </thead>\n",
       "  <tbody>\n",
       "    <tr>\n",
       "      <th>0</th>\n",
       "      <td>Porter Pharmacy</td>\n",
       "      <td>Porter Pharmacy, 129 N Second St, Cochran, GA ...</td>\n",
       "      <td>0x88f16e41928ff687:0x883dad4fd048e8f8</td>\n",
       "      <td>32.388300</td>\n",
       "      <td>-83.357100</td>\n",
       "      <td>[Pharmacy]</td>\n",
       "      <td>4.9</td>\n",
       "      <td>16</td>\n",
       "      <td>None</td>\n",
       "      <td>[[Friday, 8AM–6PM], [Saturday, 8AM–12PM], [Sun...</td>\n",
       "      <td>GA</td>\n",
       "      <td>Georgia</td>\n",
       "      <td>Cochran</td>\n",
       "    </tr>\n",
       "    <tr>\n",
       "      <th>14</th>\n",
       "      <td>NTK OUTDOOR</td>\n",
       "      <td>NTK OUTDOOR, 2315 NW 107th Ave #1B18, Miami, F...</td>\n",
       "      <td>0x88d9beb4fe0532c1:0xef0555c169299d6</td>\n",
       "      <td>25.795204</td>\n",
       "      <td>-80.366038</td>\n",
       "      <td>[Corporate office]</td>\n",
       "      <td>5.0</td>\n",
       "      <td>35</td>\n",
       "      <td>None</td>\n",
       "      <td>[[Thursday, 9AM–6PM], [Friday, 9AM–6PM], [Satu...</td>\n",
       "      <td>FL</td>\n",
       "      <td>Florida</td>\n",
       "      <td>Miami</td>\n",
       "    </tr>\n",
       "    <tr>\n",
       "      <th>45</th>\n",
       "      <td>Cruises Inc. - Connie Stewart</td>\n",
       "      <td>Cruises Inc. - Connie Stewart, 6602 52nd Ln, P...</td>\n",
       "      <td>0x88c2e49b79f06c31:0x4ed8c8ce27e926e0</td>\n",
       "      <td>27.832187</td>\n",
       "      <td>-82.704805</td>\n",
       "      <td>[Cruise agency]</td>\n",
       "      <td>5.0</td>\n",
       "      <td>2</td>\n",
       "      <td>None</td>\n",
       "      <td>[[Thursday, 9AM–5PM], [Friday, 9AM–5PM], [Satu...</td>\n",
       "      <td>FL</td>\n",
       "      <td>Florida</td>\n",
       "      <td>Pinellas Park</td>\n",
       "    </tr>\n",
       "  </tbody>\n",
       "</table>\n",
       "</div>"
      ],
      "text/plain": [
       "                             name  \\\n",
       "0                 Porter Pharmacy   \n",
       "14                    NTK OUTDOOR   \n",
       "45  Cruises Inc. - Connie Stewart   \n",
       "\n",
       "                                              address  \\\n",
       "0   Porter Pharmacy, 129 N Second St, Cochran, GA ...   \n",
       "14  NTK OUTDOOR, 2315 NW 107th Ave #1B18, Miami, F...   \n",
       "45  Cruises Inc. - Connie Stewart, 6602 52nd Ln, P...   \n",
       "\n",
       "                                  gmap_id   latitude  longitude  \\\n",
       "0   0x88f16e41928ff687:0x883dad4fd048e8f8  32.388300 -83.357100   \n",
       "14   0x88d9beb4fe0532c1:0xef0555c169299d6  25.795204 -80.366038   \n",
       "45  0x88c2e49b79f06c31:0x4ed8c8ce27e926e0  27.832187 -82.704805   \n",
       "\n",
       "              category  avg_rating  num_of_reviews price  \\\n",
       "0           [Pharmacy]         4.9              16  None   \n",
       "14  [Corporate office]         5.0              35  None   \n",
       "45     [Cruise agency]         5.0               2  None   \n",
       "\n",
       "                                                hours estado nombre_estado  \\\n",
       "0   [[Friday, 8AM–6PM], [Saturday, 8AM–12PM], [Sun...     GA       Georgia   \n",
       "14  [[Thursday, 9AM–6PM], [Friday, 9AM–6PM], [Satu...     FL       Florida   \n",
       "45  [[Thursday, 9AM–5PM], [Friday, 9AM–5PM], [Satu...     FL       Florida   \n",
       "\n",
       "             city  \n",
       "0         Cochran  \n",
       "14          Miami  \n",
       "45  Pinellas Park  "
      ]
     },
     "execution_count": 41,
     "metadata": {},
     "output_type": "execute_result"
    }
   ],
   "source": [
    "df_metadata_google = pd.read_parquet('Datasets/Google/metadata-sitios/metadata-sitios-costaeste-estado-ciudad.parquet')\n",
    "df_metadata_google.head(3)"
   ]
  },
  {
   "cell_type": "code",
   "execution_count": 42,
   "metadata": {},
   "outputs": [
    {
     "data": {
      "text/plain": [
       "np.int64(8345)"
      ]
     },
     "execution_count": 42,
     "metadata": {},
     "output_type": "execute_result"
    }
   ],
   "source": [
    "# Chequeo de duplicados en gmap_id\n",
    "df_metadata_google.duplicated('gmap_id').sum()"
   ]
  },
  {
   "cell_type": "code",
   "execution_count": 43,
   "metadata": {},
   "outputs": [
    {
     "name": "stdout",
     "output_type": "stream",
     "text": [
      "gmap_id\n",
      "0x88f16e41928ff687:0x883dad4fd048e8f8    12\n",
      "0x884d0db9065bd815:0xae8443b860eebe8e     2\n",
      "0x89e841975461fb8f:0x16df15574a663326     2\n",
      "0x88f5993c9c7382fd:0xfd57cf3b5826d3b9     2\n",
      "0x88d9beb4fe0532c1:0xef0555c169299d6      2\n",
      "                                         ..\n",
      "0x88d9a4e66e40edf1:0xebbab577da8076fe     2\n",
      "0x88d9aa92d831c45b:0x9b14ae9ded185345     2\n",
      "0x88d9a67325994b17:0xdac6d8d4600fc268     2\n",
      "0x88d9b937c540e7d7:0xc36f9d9593ca9008     2\n",
      "0x4cb29c6a0460a84b:0x243771cbbefd58d9     2\n",
      "Name: count, Length: 8335, dtype: int64\n"
     ]
    }
   ],
   "source": [
    "duplicados = df_metadata_google[df_metadata_google.duplicated(subset='gmap_id', keep=False)]\n",
    "conteo = df_metadata_google['gmap_id'].value_counts()\n",
    "repetidos = conteo[conteo > 1]\n",
    "\n",
    "print(repetidos)\n"
   ]
  },
  {
   "cell_type": "code",
   "execution_count": 44,
   "metadata": {},
   "outputs": [],
   "source": [
    "# Eliminar duplicados del DF columna gmap_id\n",
    "df_metadata_google = df_metadata_google.drop_duplicates(subset=['gmap_id'])"
   ]
  },
  {
   "cell_type": "code",
   "execution_count": 45,
   "metadata": {},
   "outputs": [
    {
     "data": {
      "text/plain": [
       "np.int64(0)"
      ]
     },
     "execution_count": 45,
     "metadata": {},
     "output_type": "execute_result"
    }
   ],
   "source": [
    "# Chequeo de duplicados en gmap_id\n",
    "df_metadata_google.duplicated('gmap_id').sum()"
   ]
  },
  {
   "cell_type": "code",
   "execution_count": 46,
   "metadata": {},
   "outputs": [
    {
     "data": {
      "text/plain": [
       "name                   0\n",
       "address                0\n",
       "gmap_id                0\n",
       "latitude               0\n",
       "longitude              0\n",
       "category            5212\n",
       "avg_rating             0\n",
       "num_of_reviews         0\n",
       "price             846698\n",
       "hours             233791\n",
       "estado                 0\n",
       "nombre_estado          0\n",
       "city                 668\n",
       "dtype: int64"
      ]
     },
     "execution_count": 46,
     "metadata": {},
     "output_type": "execute_result"
    }
   ],
   "source": [
    "# Chequeo de datos nulos en el DF\n",
    "df_metadata_google.isnull().sum()"
   ]
  },
  {
   "cell_type": "markdown",
   "metadata": {},
   "source": [
    "Borrar columna price y hours"
   ]
  },
  {
   "cell_type": "code",
   "execution_count": 47,
   "metadata": {},
   "outputs": [],
   "source": [
    "# Eliminar las columnas especificadas del DataFrame\n",
    "columnas_a_eliminar = ['price', 'hours']\n",
    "df_metadata_google = df_metadata_google.drop(columns=columnas_a_eliminar)"
   ]
  },
  {
   "cell_type": "markdown",
   "metadata": {},
   "source": [
    "Eliminar filas con categorias nulas"
   ]
  },
  {
   "cell_type": "code",
   "execution_count": 48,
   "metadata": {},
   "outputs": [],
   "source": [
    "df_metadata_google= df_metadata_google.dropna(subset=['category'])"
   ]
  },
  {
   "cell_type": "markdown",
   "metadata": {},
   "source": [
    "Columna city contiene 667 nulos... ubicar por latitud y longitud ???"
   ]
  },
  {
   "cell_type": "code",
   "execution_count": 49,
   "metadata": {},
   "outputs": [],
   "source": [
    "# Exportar metadata-sitios limpio a parquet\n",
    "df_metadata_google.to_parquet(\"Datasets/Google/metadata-sitios/metadata-limpio.parquet\")"
   ]
  },
  {
   "cell_type": "markdown",
   "metadata": {},
   "source": [
    "### Unificar **review-estados** en un solo Dataframe"
   ]
  },
  {
   "cell_type": "code",
   "execution_count": 51,
   "metadata": {},
   "outputs": [],
   "source": [
    "# Directorio donde se encuentran tus archivos .parquet\n",
    "directorio = \"Datasets/Google/review-estados/review-estados-parquet\"\n",
    "\n",
    "# Lista todos los archivos .parquet en el directorio\n",
    "archivos_parquet = glob.glob(os.path.join(directorio, \"*.parquet\"))\n",
    "\n",
    "# Lee y concatena los archivos\n",
    "df_review_estados = pd.concat([pd.read_parquet(archivo) for archivo in archivos_parquet], ignore_index=True)"
   ]
  },
  {
   "cell_type": "code",
   "execution_count": 52,
   "metadata": {},
   "outputs": [
    {
     "data": {
      "text/html": [
       "<div>\n",
       "<style scoped>\n",
       "    .dataframe tbody tr th:only-of-type {\n",
       "        vertical-align: middle;\n",
       "    }\n",
       "\n",
       "    .dataframe tbody tr th {\n",
       "        vertical-align: top;\n",
       "    }\n",
       "\n",
       "    .dataframe thead th {\n",
       "        text-align: right;\n",
       "    }\n",
       "</style>\n",
       "<table border=\"1\" class=\"dataframe\">\n",
       "  <thead>\n",
       "    <tr style=\"text-align: right;\">\n",
       "      <th></th>\n",
       "      <th>user_id</th>\n",
       "      <th>name</th>\n",
       "      <th>time</th>\n",
       "      <th>rating</th>\n",
       "      <th>text</th>\n",
       "      <th>gmap_id</th>\n",
       "    </tr>\n",
       "  </thead>\n",
       "  <tbody>\n",
       "    <tr>\n",
       "      <th>0</th>\n",
       "      <td>1.140765e+20</td>\n",
       "      <td>Jeff Mccomish</td>\n",
       "      <td>1612059976820</td>\n",
       "      <td>5</td>\n",
       "      <td>Great friendly independent packie</td>\n",
       "      <td>0x89e64b04d274c9d9:0x84d833dcc10ae21d</td>\n",
       "    </tr>\n",
       "    <tr>\n",
       "      <th>1</th>\n",
       "      <td>1.015203e+20</td>\n",
       "      <td>Outlaw PiRu</td>\n",
       "      <td>1544752859553</td>\n",
       "      <td>5</td>\n",
       "      <td>Great Atmosphere and Great Service. Fantastic ...</td>\n",
       "      <td>0x89e64b04d274c9d9:0x84d833dcc10ae21d</td>\n",
       "    </tr>\n",
       "    <tr>\n",
       "      <th>2</th>\n",
       "      <td>1.118002e+20</td>\n",
       "      <td>Hector Acevedo</td>\n",
       "      <td>1564367962353</td>\n",
       "      <td>5</td>\n",
       "      <td>Nice neighborhood store with great sandwiches ...</td>\n",
       "      <td>0x89e64b04d274c9d9:0x84d833dcc10ae21d</td>\n",
       "    </tr>\n",
       "  </tbody>\n",
       "</table>\n",
       "</div>"
      ],
      "text/plain": [
       "        user_id            name           time  rating  \\\n",
       "0  1.140765e+20   Jeff Mccomish  1612059976820       5   \n",
       "1  1.015203e+20     Outlaw PiRu  1544752859553       5   \n",
       "2  1.118002e+20  Hector Acevedo  1564367962353       5   \n",
       "\n",
       "                                                text  \\\n",
       "0                  Great friendly independent packie   \n",
       "1  Great Atmosphere and Great Service. Fantastic ...   \n",
       "2  Nice neighborhood store with great sandwiches ...   \n",
       "\n",
       "                                 gmap_id  \n",
       "0  0x89e64b04d274c9d9:0x84d833dcc10ae21d  \n",
       "1  0x89e64b04d274c9d9:0x84d833dcc10ae21d  \n",
       "2  0x89e64b04d274c9d9:0x84d833dcc10ae21d  "
      ]
     },
     "execution_count": 52,
     "metadata": {},
     "output_type": "execute_result"
    }
   ],
   "source": [
    "df_review_estados.head(3)"
   ]
  },
  {
   "cell_type": "code",
   "execution_count": 53,
   "metadata": {},
   "outputs": [
    {
     "name": "stdout",
     "output_type": "stream",
     "text": [
      "<class 'pandas.core.frame.DataFrame'>\n",
      "RangeIndex: 27158193 entries, 0 to 27158192\n",
      "Data columns (total 6 columns):\n",
      " #   Column   Dtype  \n",
      "---  ------   -----  \n",
      " 0   user_id  float64\n",
      " 1   name     object \n",
      " 2   time     int64  \n",
      " 3   rating   int64  \n",
      " 4   text     object \n",
      " 5   gmap_id  object \n",
      "dtypes: float64(1), int64(2), object(3)\n",
      "memory usage: 1.2+ GB\n"
     ]
    }
   ],
   "source": [
    "df_review_estados.info()"
   ]
  },
  {
   "cell_type": "code",
   "execution_count": 54,
   "metadata": {},
   "outputs": [
    {
     "data": {
      "text/plain": [
       "np.int64(491681)"
      ]
     },
     "execution_count": 54,
     "metadata": {},
     "output_type": "execute_result"
    }
   ],
   "source": [
    "df_review_estados.duplicated().sum()\n"
   ]
  },
  {
   "cell_type": "markdown",
   "metadata": {},
   "source": [
    "# **REVISAR**"
   ]
  },
  {
   "cell_type": "code",
   "execution_count": null,
   "metadata": {},
   "outputs": [],
   "source": [
    "duplicados_concatenado = df_review_estados[df_review_estados.duplicated(keep=False)]"
   ]
  },
  {
   "cell_type": "code",
   "execution_count": null,
   "metadata": {},
   "outputs": [],
   "source": [
    "df_review_estados.drop_duplicates(inplace=True)"
   ]
  },
  {
   "cell_type": "code",
   "execution_count": null,
   "metadata": {},
   "outputs": [],
   "source": [
    "df_review_estados.duplicated().sum()\n"
   ]
  },
  {
   "cell_type": "code",
   "execution_count": null,
   "metadata": {},
   "outputs": [],
   "source": [
    "df_concatenado.to_parquet(\"reviews_googlemap.parquet\")"
   ]
  },
  {
   "cell_type": "code",
   "execution_count": null,
   "metadata": {},
   "outputs": [],
   "source": []
  }
 ],
 "metadata": {
  "kernelspec": {
   "display_name": "Python 3",
   "language": "python",
   "name": "python3"
  },
  "language_info": {
   "codemirror_mode": {
    "name": "ipython",
    "version": 3
   },
   "file_extension": ".py",
   "mimetype": "text/x-python",
   "name": "python",
   "nbconvert_exporter": "python",
   "pygments_lexer": "ipython3",
   "version": "3.11.7"
  }
 },
 "nbformat": 4,
 "nbformat_minor": 2
}
