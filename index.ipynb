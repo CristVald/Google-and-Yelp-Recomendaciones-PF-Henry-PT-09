
{
 "cells": [
  {
   "cell_type": "code",
   "execution_count": null,
   "metadata": {},
   "outputs": [],
   "source": [
    "def prueba ():\n",
    "    return 1 "
   ]
  }
 ],
 "metadata": {
  "kernelspec": {
   "display_name": "Python 3",
   "language": "python",
   "name": "python3"
  },
  "language_info": {
   "name": "python",
   "version": "3.12.3"
  }
 },
 "nbformat": 4,
 "nbformat_minor": 2
}

{"cells":[{"cell_type":"code","execution_count":1,"metadata":{},"outputs":[],"source":["def convert(num):\n","    if num % 2 == 0:\n","        # Es par, convertir a binario\n","        return bin(num)[2:]  # [2:] para quitar el prefijo '0b'\n","    else:\n","        # Es impar, convertir a hexadecimal\n","        return hex(num)[2:]  # [2:] para quitar el prefijo '0x'"]}],"metadata":{"kernelspec":{"display_name":"Python 3","language":"python","name":"python3"},"language_info":{"codemirror_mode":{"name":"ipython","version":3},"file_extension":".py","mimetype":"text/x-python","name":"python","nbconvert_exporter":"python","pygments_lexer":"ipython3","version":"3.11.5"}},"nbformat":4,"nbformat_minor":2}

